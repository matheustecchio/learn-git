{
 "cells": [
  {
   "cell_type": "code",
   "execution_count": 33,
   "id": "336a7d03-e0dc-4da0-8d44-969aba074359",
   "metadata": {
    "tags": []
   },
   "outputs": [
    {
     "data": {
      "text/html": [
       "        <script type=\"text/javascript\">\n",
       "        window.PlotlyConfig = {MathJaxConfig: 'local'};\n",
       "        if (window.MathJax && window.MathJax.Hub && window.MathJax.Hub.Config) {window.MathJax.Hub.Config({SVG: {font: \"STIX-Web\"}});}\n",
       "        if (typeof require !== 'undefined') {\n",
       "        require.undef(\"plotly\");\n",
       "        requirejs.config({\n",
       "            paths: {\n",
       "                'plotly': ['https://cdn.plot.ly/plotly-2.12.1.min']\n",
       "            }\n",
       "        });\n",
       "        require(['plotly'], function(Plotly) {\n",
       "            window._Plotly = Plotly;\n",
       "        });\n",
       "        }\n",
       "        </script>\n",
       "        "
      ]
     },
     "metadata": {},
     "output_type": "display_data"
    }
   ],
   "source": [
    "import pandas as pd\n",
    "import numpy as np\n",
    "%matplotlib inline\n",
    "from plotly import __version__\n",
    "from plotly.offline import download_plotlyjs, init_notebook_mode, plot, iplot\n",
    "import cufflinks as cf\n",
    "cf.go_offline()"
   ]
  },
  {
   "cell_type": "code",
   "execution_count": 13,
   "id": "59757635-4c2a-40e2-b02a-b70703531a7b",
   "metadata": {
    "tags": []
   },
   "outputs": [
    {
     "data": {
      "text/html": [
       "<div>\n",
       "<style scoped>\n",
       "    .dataframe tbody tr th:only-of-type {\n",
       "        vertical-align: middle;\n",
       "    }\n",
       "\n",
       "    .dataframe tbody tr th {\n",
       "        vertical-align: top;\n",
       "    }\n",
       "\n",
       "    .dataframe thead th {\n",
       "        text-align: right;\n",
       "    }\n",
       "</style>\n",
       "<table border=\"1\" class=\"dataframe\">\n",
       "  <thead>\n",
       "    <tr style=\"text-align: right;\">\n",
       "      <th></th>\n",
       "      <th>A</th>\n",
       "      <th>B</th>\n",
       "      <th>C</th>\n",
       "      <th>D</th>\n",
       "    </tr>\n",
       "  </thead>\n",
       "  <tbody>\n",
       "    <tr>\n",
       "      <th>0</th>\n",
       "      <td>-1.689014</td>\n",
       "      <td>0.950277</td>\n",
       "      <td>1.067060</td>\n",
       "      <td>-1.833168</td>\n",
       "    </tr>\n",
       "    <tr>\n",
       "      <th>1</th>\n",
       "      <td>-0.262056</td>\n",
       "      <td>0.272560</td>\n",
       "      <td>-0.308491</td>\n",
       "      <td>0.165940</td>\n",
       "    </tr>\n",
       "    <tr>\n",
       "      <th>2</th>\n",
       "      <td>-1.090518</td>\n",
       "      <td>-1.303102</td>\n",
       "      <td>1.994415</td>\n",
       "      <td>0.940781</td>\n",
       "    </tr>\n",
       "    <tr>\n",
       "      <th>3</th>\n",
       "      <td>-0.275525</td>\n",
       "      <td>-0.093816</td>\n",
       "      <td>0.149158</td>\n",
       "      <td>0.453514</td>\n",
       "    </tr>\n",
       "    <tr>\n",
       "      <th>4</th>\n",
       "      <td>0.918435</td>\n",
       "      <td>-0.742532</td>\n",
       "      <td>-0.223266</td>\n",
       "      <td>-0.712296</td>\n",
       "    </tr>\n",
       "  </tbody>\n",
       "</table>\n",
       "</div>"
      ],
      "text/plain": [
       "          A         B         C         D\n",
       "0 -1.689014  0.950277  1.067060 -1.833168\n",
       "1 -0.262056  0.272560 -0.308491  0.165940\n",
       "2 -1.090518 -1.303102  1.994415  0.940781\n",
       "3 -0.275525 -0.093816  0.149158  0.453514\n",
       "4  0.918435 -0.742532 -0.223266 -0.712296"
      ]
     },
     "execution_count": 13,
     "metadata": {},
     "output_type": "execute_result"
    }
   ],
   "source": [
    "df = pd.DataFrame(np.random.randn(100,4),columns='A B C D'.split())\n",
    "df.head()"
   ]
  },
  {
   "cell_type": "code",
   "execution_count": 12,
   "id": "60aa6797-b648-4f3a-bb1d-944bfaff7b81",
   "metadata": {
    "tags": []
   },
   "outputs": [
    {
     "data": {
      "text/html": [
       "<div>\n",
       "<style scoped>\n",
       "    .dataframe tbody tr th:only-of-type {\n",
       "        vertical-align: middle;\n",
       "    }\n",
       "\n",
       "    .dataframe tbody tr th {\n",
       "        vertical-align: top;\n",
       "    }\n",
       "\n",
       "    .dataframe thead th {\n",
       "        text-align: right;\n",
       "    }\n",
       "</style>\n",
       "<table border=\"1\" class=\"dataframe\">\n",
       "  <thead>\n",
       "    <tr style=\"text-align: right;\">\n",
       "      <th></th>\n",
       "      <th>Category</th>\n",
       "      <th>Values</th>\n",
       "    </tr>\n",
       "  </thead>\n",
       "  <tbody>\n",
       "    <tr>\n",
       "      <th>0</th>\n",
       "      <td>A</td>\n",
       "      <td>32</td>\n",
       "    </tr>\n",
       "    <tr>\n",
       "      <th>1</th>\n",
       "      <td>B</td>\n",
       "      <td>43</td>\n",
       "    </tr>\n",
       "    <tr>\n",
       "      <th>2</th>\n",
       "      <td>C</td>\n",
       "      <td>50</td>\n",
       "    </tr>\n",
       "  </tbody>\n",
       "</table>\n",
       "</div>"
      ],
      "text/plain": [
       "  Category  Values\n",
       "0        A      32\n",
       "1        B      43\n",
       "2        C      50"
      ]
     },
     "execution_count": 12,
     "metadata": {},
     "output_type": "execute_result"
    }
   ],
   "source": [
    "df2 = pd.DataFrame({'Category':['A','B','C'],'Values':[32,43,50]})\n",
    "df2.head()"
   ]
  },
  {
   "cell_type": "code",
   "execution_count": 15,
   "id": "5ce7bdb4-db0e-4037-98ec-16ba75dbe943",
   "metadata": {
    "tags": []
   },
   "outputs": [
    {
     "data": {
      "application/vnd.plotly.v1+json": {
       "config": {
        "linkText": "Export to plot.ly",
        "plotlyServerURL": "https://plot.ly",
        "showLink": true
       },
       "data": [
        {
         "line": {
          "color": "rgba(255, 153, 51, 1.0)",
          "dash": "solid",
          "shape": "linear",
          "width": 1.3
         },
         "marker": {
          "size": 10,
          "symbol": "circle"
         },
         "mode": "markers",
         "name": "B",
         "text": "",
         "type": "scatter",
         "x": [
          -1.689013611401692,
          -0.2620555553672706,
          -1.0905182782420468,
          -0.27552541933586294,
          0.9184354042241115,
          -0.5621818322927444,
          0.1940834769484241,
          -1.2428318810669599,
          1.1565639609098832,
          -0.7159038857835119,
          -1.4930413374875058,
          0.05438291025550391,
          -0.42353875642862443,
          -0.5348416964848348,
          -1.4155827777983954,
          -0.1849577018100514,
          0.7491800969806963,
          -1.0437095654351864,
          -1.1873612124573099,
          -0.7729780915256113,
          0.9496379884482529,
          0.9255701492107496,
          -0.501638433247438,
          -1.1783151959061486,
          -0.8955494409662109,
          1.4698531828563592,
          -1.1436323277550169,
          -1.7681377258450857,
          -0.2565917868314139,
          -0.39606902930789667,
          -0.5941801172680143,
          -0.4788818069438909,
          0.2506288071928819,
          -1.6237488851824275,
          -1.0305842506615535,
          -1.6275540773586008,
          -1.700152886003429,
          -0.372411772027708,
          0.9175915407031102,
          -1.4151591931408238,
          -0.8121806290435302,
          0.06861836826158521,
          -1.6119352099044117,
          -0.7596089449242701,
          -1.943278264794546,
          1.8498176061630773,
          1.175550561682719,
          0.4993858708120641,
          1.247799436365957,
          1.2207392162025483,
          1.5089596071403208,
          -0.6366671612876112,
          0.10731865339405362,
          2.054173334575546,
          0.005711412872327427,
          0.09639871400344464,
          -1.2573488641393633,
          0.5995204980870332,
          0.12312168661167397,
          -0.36020080076376304,
          0.26368325877658566,
          -2.1504215841781438,
          0.5649251993445709,
          -1.547372941339943,
          0.22834474433727533,
          0.806551393045147,
          0.14802656555688293,
          1.5938912289226514,
          -0.07223755226793076,
          -0.9816586144376963,
          -0.6525509152377631,
          -1.8197923548170925,
          -1.726313926184962,
          0.40558752810909987,
          -0.9084548194948895,
          0.7573284474309724,
          0.3202305886007857,
          1.0110403955293228,
          0.7641247132803324,
          -1.0494931766153843,
          0.4549331298008269,
          0.23567629090555364,
          -1.5990946993192952,
          1.1568983286804944,
          -0.5826571879288767,
          1.6841430138604359,
          2.025672191666682,
          -0.12564981184520735,
          0.16693373358090086,
          -0.2288882405142681,
          0.10422741050875683,
          0.6687521083134625,
          -0.43084762285217537,
          -1.051257481300054,
          -0.17197941465855776,
          0.7711145058102191,
          0.27938985909743863,
          -0.9022124330703055,
          0.20086585914909533,
          -0.17090597809922398
         ],
         "y": [
          0.9502773190107969,
          0.272559636190263,
          -1.303101825309437,
          -0.09381558184786237,
          -0.7425319895675278,
          2.273858846399452,
          -0.0076088480932280725,
          1.055256682315736,
          0.48371263591801833,
          -1.2271224720190237,
          -0.1795973735439339,
          1.7263100690006208,
          -0.5999960394304096,
          0.6577097297404475,
          0.2013858793488651,
          0.21087228502570896,
          2.166890962505779,
          -0.7176365037245853,
          0.40286527063326677,
          0.908533645024215,
          -0.21050101484298916,
          -1.825832553714384,
          2.0975043715115915,
          0.3834142416861074,
          -1.7508999820502174,
          -0.1513665375010751,
          -1.671745096865534,
          -0.4022728913515091,
          -1.3676303716071965,
          -0.35084114074231604,
          1.3034917709001963,
          0.5515404381214328,
          2.3164422906696904,
          -0.20870242422817226,
          -1.7702561255131923,
          0.0205654950325439,
          -0.0703189491446735,
          1.3272322978976714,
          0.9185597202151164,
          0.3649069447133627,
          0.7513993430019263,
          0.4831934190904803,
          1.0069628917541271,
          -1.6616820260241512,
          -0.7108490077174401,
          -0.4959114783685054,
          0.6996972950770952,
          -1.5773772007368279,
          -1.150553485913242,
          1.0910272074641403,
          1.7003194924547553,
          0.8245785854839354,
          0.499761576040795,
          -1.4716913520129344,
          -1.2960912976668753,
          -0.10553209291936262,
          -1.851992109143555,
          -2.8675554445649953,
          -0.5578028633591723,
          0.3165737069580277,
          -0.9220963506515208,
          0.6337122906958443,
          0.30268560458542365,
          0.24543636395132995,
          -1.9019941545860948,
          -2.1487428642833186,
          -1.686182701548312,
          -0.774039594781683,
          2.2585904120016704,
          -0.8497090448368394,
          -1.3013139094581112,
          -0.6484716671551605,
          0.768852431511444,
          -1.9070800384087057,
          -0.032498105502017295,
          0.3205036547426345,
          1.1636215769870168,
          1.6842635415056044,
          0.01587583250461618,
          -1.0383160328028351,
          -0.625318310169787,
          0.2685185427535348,
          -0.42416251171391295,
          -2.717013022330864,
          -0.4259548580229847,
          -0.964332526482631,
          1.2982180675989476,
          0.6516125860532216,
          -0.17397116000633142,
          -0.665317923702325,
          -0.7246649245741666,
          -0.7641469483764428,
          -1.4694555427445888,
          0.7100508350291533,
          0.4903984699894906,
          1.144194691984651,
          -0.24328013883315086,
          0.6620100764590426,
          -0.7220685758723306,
          -1.184178736036595
         ]
        }
       ],
       "layout": {
        "autosize": true,
        "dragmode": "zoom",
        "legend": {
         "bgcolor": "#F5F6F9",
         "font": {
          "color": "#4D5663"
         }
        },
        "paper_bgcolor": "#F5F6F9",
        "plot_bgcolor": "#F5F6F9",
        "template": {
         "data": {
          "bar": [
           {
            "error_x": {
             "color": "#2a3f5f"
            },
            "error_y": {
             "color": "#2a3f5f"
            },
            "marker": {
             "line": {
              "color": "#E5ECF6",
              "width": 0.5
             },
             "pattern": {
              "fillmode": "overlay",
              "size": 10,
              "solidity": 0.2
             }
            },
            "type": "bar"
           }
          ],
          "barpolar": [
           {
            "marker": {
             "line": {
              "color": "#E5ECF6",
              "width": 0.5
             },
             "pattern": {
              "fillmode": "overlay",
              "size": 10,
              "solidity": 0.2
             }
            },
            "type": "barpolar"
           }
          ],
          "carpet": [
           {
            "aaxis": {
             "endlinecolor": "#2a3f5f",
             "gridcolor": "white",
             "linecolor": "white",
             "minorgridcolor": "white",
             "startlinecolor": "#2a3f5f"
            },
            "baxis": {
             "endlinecolor": "#2a3f5f",
             "gridcolor": "white",
             "linecolor": "white",
             "minorgridcolor": "white",
             "startlinecolor": "#2a3f5f"
            },
            "type": "carpet"
           }
          ],
          "choropleth": [
           {
            "colorbar": {
             "outlinewidth": 0,
             "ticks": ""
            },
            "type": "choropleth"
           }
          ],
          "contour": [
           {
            "colorbar": {
             "outlinewidth": 0,
             "ticks": ""
            },
            "colorscale": [
             [
              0,
              "#0d0887"
             ],
             [
              0.1111111111111111,
              "#46039f"
             ],
             [
              0.2222222222222222,
              "#7201a8"
             ],
             [
              0.3333333333333333,
              "#9c179e"
             ],
             [
              0.4444444444444444,
              "#bd3786"
             ],
             [
              0.5555555555555556,
              "#d8576b"
             ],
             [
              0.6666666666666666,
              "#ed7953"
             ],
             [
              0.7777777777777778,
              "#fb9f3a"
             ],
             [
              0.8888888888888888,
              "#fdca26"
             ],
             [
              1,
              "#f0f921"
             ]
            ],
            "type": "contour"
           }
          ],
          "contourcarpet": [
           {
            "colorbar": {
             "outlinewidth": 0,
             "ticks": ""
            },
            "type": "contourcarpet"
           }
          ],
          "heatmap": [
           {
            "colorbar": {
             "outlinewidth": 0,
             "ticks": ""
            },
            "colorscale": [
             [
              0,
              "#0d0887"
             ],
             [
              0.1111111111111111,
              "#46039f"
             ],
             [
              0.2222222222222222,
              "#7201a8"
             ],
             [
              0.3333333333333333,
              "#9c179e"
             ],
             [
              0.4444444444444444,
              "#bd3786"
             ],
             [
              0.5555555555555556,
              "#d8576b"
             ],
             [
              0.6666666666666666,
              "#ed7953"
             ],
             [
              0.7777777777777778,
              "#fb9f3a"
             ],
             [
              0.8888888888888888,
              "#fdca26"
             ],
             [
              1,
              "#f0f921"
             ]
            ],
            "type": "heatmap"
           }
          ],
          "heatmapgl": [
           {
            "colorbar": {
             "outlinewidth": 0,
             "ticks": ""
            },
            "colorscale": [
             [
              0,
              "#0d0887"
             ],
             [
              0.1111111111111111,
              "#46039f"
             ],
             [
              0.2222222222222222,
              "#7201a8"
             ],
             [
              0.3333333333333333,
              "#9c179e"
             ],
             [
              0.4444444444444444,
              "#bd3786"
             ],
             [
              0.5555555555555556,
              "#d8576b"
             ],
             [
              0.6666666666666666,
              "#ed7953"
             ],
             [
              0.7777777777777778,
              "#fb9f3a"
             ],
             [
              0.8888888888888888,
              "#fdca26"
             ],
             [
              1,
              "#f0f921"
             ]
            ],
            "type": "heatmapgl"
           }
          ],
          "histogram": [
           {
            "marker": {
             "pattern": {
              "fillmode": "overlay",
              "size": 10,
              "solidity": 0.2
             }
            },
            "type": "histogram"
           }
          ],
          "histogram2d": [
           {
            "colorbar": {
             "outlinewidth": 0,
             "ticks": ""
            },
            "colorscale": [
             [
              0,
              "#0d0887"
             ],
             [
              0.1111111111111111,
              "#46039f"
             ],
             [
              0.2222222222222222,
              "#7201a8"
             ],
             [
              0.3333333333333333,
              "#9c179e"
             ],
             [
              0.4444444444444444,
              "#bd3786"
             ],
             [
              0.5555555555555556,
              "#d8576b"
             ],
             [
              0.6666666666666666,
              "#ed7953"
             ],
             [
              0.7777777777777778,
              "#fb9f3a"
             ],
             [
              0.8888888888888888,
              "#fdca26"
             ],
             [
              1,
              "#f0f921"
             ]
            ],
            "type": "histogram2d"
           }
          ],
          "histogram2dcontour": [
           {
            "colorbar": {
             "outlinewidth": 0,
             "ticks": ""
            },
            "colorscale": [
             [
              0,
              "#0d0887"
             ],
             [
              0.1111111111111111,
              "#46039f"
             ],
             [
              0.2222222222222222,
              "#7201a8"
             ],
             [
              0.3333333333333333,
              "#9c179e"
             ],
             [
              0.4444444444444444,
              "#bd3786"
             ],
             [
              0.5555555555555556,
              "#d8576b"
             ],
             [
              0.6666666666666666,
              "#ed7953"
             ],
             [
              0.7777777777777778,
              "#fb9f3a"
             ],
             [
              0.8888888888888888,
              "#fdca26"
             ],
             [
              1,
              "#f0f921"
             ]
            ],
            "type": "histogram2dcontour"
           }
          ],
          "mesh3d": [
           {
            "colorbar": {
             "outlinewidth": 0,
             "ticks": ""
            },
            "type": "mesh3d"
           }
          ],
          "parcoords": [
           {
            "line": {
             "colorbar": {
              "outlinewidth": 0,
              "ticks": ""
             }
            },
            "type": "parcoords"
           }
          ],
          "pie": [
           {
            "automargin": true,
            "type": "pie"
           }
          ],
          "scatter": [
           {
            "fillpattern": {
             "fillmode": "overlay",
             "size": 10,
             "solidity": 0.2
            },
            "type": "scatter"
           }
          ],
          "scatter3d": [
           {
            "line": {
             "colorbar": {
              "outlinewidth": 0,
              "ticks": ""
             }
            },
            "marker": {
             "colorbar": {
              "outlinewidth": 0,
              "ticks": ""
             }
            },
            "type": "scatter3d"
           }
          ],
          "scattercarpet": [
           {
            "marker": {
             "colorbar": {
              "outlinewidth": 0,
              "ticks": ""
             }
            },
            "type": "scattercarpet"
           }
          ],
          "scattergeo": [
           {
            "marker": {
             "colorbar": {
              "outlinewidth": 0,
              "ticks": ""
             }
            },
            "type": "scattergeo"
           }
          ],
          "scattergl": [
           {
            "marker": {
             "colorbar": {
              "outlinewidth": 0,
              "ticks": ""
             }
            },
            "type": "scattergl"
           }
          ],
          "scattermapbox": [
           {
            "marker": {
             "colorbar": {
              "outlinewidth": 0,
              "ticks": ""
             }
            },
            "type": "scattermapbox"
           }
          ],
          "scatterpolar": [
           {
            "marker": {
             "colorbar": {
              "outlinewidth": 0,
              "ticks": ""
             }
            },
            "type": "scatterpolar"
           }
          ],
          "scatterpolargl": [
           {
            "marker": {
             "colorbar": {
              "outlinewidth": 0,
              "ticks": ""
             }
            },
            "type": "scatterpolargl"
           }
          ],
          "scatterternary": [
           {
            "marker": {
             "colorbar": {
              "outlinewidth": 0,
              "ticks": ""
             }
            },
            "type": "scatterternary"
           }
          ],
          "surface": [
           {
            "colorbar": {
             "outlinewidth": 0,
             "ticks": ""
            },
            "colorscale": [
             [
              0,
              "#0d0887"
             ],
             [
              0.1111111111111111,
              "#46039f"
             ],
             [
              0.2222222222222222,
              "#7201a8"
             ],
             [
              0.3333333333333333,
              "#9c179e"
             ],
             [
              0.4444444444444444,
              "#bd3786"
             ],
             [
              0.5555555555555556,
              "#d8576b"
             ],
             [
              0.6666666666666666,
              "#ed7953"
             ],
             [
              0.7777777777777778,
              "#fb9f3a"
             ],
             [
              0.8888888888888888,
              "#fdca26"
             ],
             [
              1,
              "#f0f921"
             ]
            ],
            "type": "surface"
           }
          ],
          "table": [
           {
            "cells": {
             "fill": {
              "color": "#EBF0F8"
             },
             "line": {
              "color": "white"
             }
            },
            "header": {
             "fill": {
              "color": "#C8D4E3"
             },
             "line": {
              "color": "white"
             }
            },
            "type": "table"
           }
          ]
         },
         "layout": {
          "annotationdefaults": {
           "arrowcolor": "#2a3f5f",
           "arrowhead": 0,
           "arrowwidth": 1
          },
          "autotypenumbers": "strict",
          "coloraxis": {
           "colorbar": {
            "outlinewidth": 0,
            "ticks": ""
           }
          },
          "colorscale": {
           "diverging": [
            [
             0,
             "#8e0152"
            ],
            [
             0.1,
             "#c51b7d"
            ],
            [
             0.2,
             "#de77ae"
            ],
            [
             0.3,
             "#f1b6da"
            ],
            [
             0.4,
             "#fde0ef"
            ],
            [
             0.5,
             "#f7f7f7"
            ],
            [
             0.6,
             "#e6f5d0"
            ],
            [
             0.7,
             "#b8e186"
            ],
            [
             0.8,
             "#7fbc41"
            ],
            [
             0.9,
             "#4d9221"
            ],
            [
             1,
             "#276419"
            ]
           ],
           "sequential": [
            [
             0,
             "#0d0887"
            ],
            [
             0.1111111111111111,
             "#46039f"
            ],
            [
             0.2222222222222222,
             "#7201a8"
            ],
            [
             0.3333333333333333,
             "#9c179e"
            ],
            [
             0.4444444444444444,
             "#bd3786"
            ],
            [
             0.5555555555555556,
             "#d8576b"
            ],
            [
             0.6666666666666666,
             "#ed7953"
            ],
            [
             0.7777777777777778,
             "#fb9f3a"
            ],
            [
             0.8888888888888888,
             "#fdca26"
            ],
            [
             1,
             "#f0f921"
            ]
           ],
           "sequentialminus": [
            [
             0,
             "#0d0887"
            ],
            [
             0.1111111111111111,
             "#46039f"
            ],
            [
             0.2222222222222222,
             "#7201a8"
            ],
            [
             0.3333333333333333,
             "#9c179e"
            ],
            [
             0.4444444444444444,
             "#bd3786"
            ],
            [
             0.5555555555555556,
             "#d8576b"
            ],
            [
             0.6666666666666666,
             "#ed7953"
            ],
            [
             0.7777777777777778,
             "#fb9f3a"
            ],
            [
             0.8888888888888888,
             "#fdca26"
            ],
            [
             1,
             "#f0f921"
            ]
           ]
          },
          "colorway": [
           "#636efa",
           "#EF553B",
           "#00cc96",
           "#ab63fa",
           "#FFA15A",
           "#19d3f3",
           "#FF6692",
           "#B6E880",
           "#FF97FF",
           "#FECB52"
          ],
          "font": {
           "color": "#2a3f5f"
          },
          "geo": {
           "bgcolor": "white",
           "lakecolor": "white",
           "landcolor": "#E5ECF6",
           "showlakes": true,
           "showland": true,
           "subunitcolor": "white"
          },
          "hoverlabel": {
           "align": "left"
          },
          "hovermode": "closest",
          "mapbox": {
           "style": "light"
          },
          "paper_bgcolor": "white",
          "plot_bgcolor": "#E5ECF6",
          "polar": {
           "angularaxis": {
            "gridcolor": "white",
            "linecolor": "white",
            "ticks": ""
           },
           "bgcolor": "#E5ECF6",
           "radialaxis": {
            "gridcolor": "white",
            "linecolor": "white",
            "ticks": ""
           }
          },
          "scene": {
           "xaxis": {
            "backgroundcolor": "#E5ECF6",
            "gridcolor": "white",
            "gridwidth": 2,
            "linecolor": "white",
            "showbackground": true,
            "ticks": "",
            "zerolinecolor": "white"
           },
           "yaxis": {
            "backgroundcolor": "#E5ECF6",
            "gridcolor": "white",
            "gridwidth": 2,
            "linecolor": "white",
            "showbackground": true,
            "ticks": "",
            "zerolinecolor": "white"
           },
           "zaxis": {
            "backgroundcolor": "#E5ECF6",
            "gridcolor": "white",
            "gridwidth": 2,
            "linecolor": "white",
            "showbackground": true,
            "ticks": "",
            "zerolinecolor": "white"
           }
          },
          "shapedefaults": {
           "line": {
            "color": "#2a3f5f"
           }
          },
          "ternary": {
           "aaxis": {
            "gridcolor": "white",
            "linecolor": "white",
            "ticks": ""
           },
           "baxis": {
            "gridcolor": "white",
            "linecolor": "white",
            "ticks": ""
           },
           "bgcolor": "#E5ECF6",
           "caxis": {
            "gridcolor": "white",
            "linecolor": "white",
            "ticks": ""
           }
          },
          "title": {
           "x": 0.05
          },
          "xaxis": {
           "automargin": true,
           "gridcolor": "white",
           "linecolor": "white",
           "ticks": "",
           "title": {
            "standoff": 15
           },
           "zerolinecolor": "white",
           "zerolinewidth": 2
          },
          "yaxis": {
           "automargin": true,
           "gridcolor": "white",
           "linecolor": "white",
           "ticks": "",
           "title": {
            "standoff": 15
           },
           "zerolinecolor": "white",
           "zerolinewidth": 2
          }
         }
        },
        "title": {
         "font": {
          "color": "#4D5663"
         }
        },
        "xaxis": {
         "autorange": true,
         "gridcolor": "#E1E5ED",
         "range": [
          -2.4748582798380427,
          2.378610030235445
         ],
         "showgrid": true,
         "tickfont": {
          "color": "#4D5663"
         },
         "title": {
          "font": {
           "color": "#4D5663"
          },
          "text": ""
         },
         "type": "linear",
         "zerolinecolor": "#E1E5ED"
        },
        "yaxis": {
         "autorange": true,
         "gridcolor": "#E1E5ED",
         "range": [
          -3.3963578891290687,
          2.8452447352337638
         ],
         "showgrid": true,
         "tickfont": {
          "color": "#4D5663"
         },
         "title": {
          "font": {
           "color": "#4D5663"
          },
          "text": ""
         },
         "type": "linear",
         "zerolinecolor": "#E1E5ED"
        }
       }
      },
      "image/png": "[encoded data removed]",
      "text/html": [
       "<div>                            <div id=\"f3fa11b0-54c0-4b07-b579-bf1bdd738cc9\" class=\"plotly-graph-div\" style=\"height:525px; width:100%;\"></div>            <script type=\"text/javascript\">                require([\"plotly\"], function(Plotly) {                    window.PLOTLYENV=window.PLOTLYENV || {};\n",
       "                    window.PLOTLYENV.BASE_URL='https://plot.ly';                                    if (document.getElementById(\"f3fa11b0-54c0-4b07-b579-bf1bdd738cc9\")) {                    Plotly.newPlot(                        \"f3fa11b0-54c0-4b07-b579-bf1bdd738cc9\",                        [{\"line\":{\"color\":\"rgba(255, 153, 51, 1.0)\",\"dash\":\"solid\",\"shape\":\"linear\",\"width\":1.3},\"marker\":{\"size\":10,\"symbol\":\"circle\"},\"mode\":\"markers\",\"name\":\"B\",\"text\":\"\",\"x\":[-1.689013611401692,-0.2620555553672706,-1.0905182782420468,-0.27552541933586294,0.9184354042241115,-0.5621818322927444,0.1940834769484241,-1.2428318810669599,1.1565639609098832,-0.7159038857835119,-1.4930413374875058,0.05438291025550391,-0.42353875642862443,-0.5348416964848348,-1.4155827777983954,-0.1849577018100514,0.7491800969806963,-1.0437095654351864,-1.1873612124573099,-0.7729780915256113,0.9496379884482529,0.9255701492107496,-0.501638433247438,-1.1783151959061486,-0.8955494409662109,1.4698531828563592,-1.1436323277550169,-1.7681377258450857,-0.2565917868314139,-0.39606902930789667,-0.5941801172680143,-0.4788818069438909,0.2506288071928819,-1.6237488851824275,-1.0305842506615535,-1.6275540773586008,-1.700152886003429,-0.372411772027708,0.9175915407031102,-1.4151591931408238,-0.8121806290435302,0.06861836826158521,-1.6119352099044117,-0.7596089449242701,-1.943278264794546,1.8498176061630773,1.175550561682719,0.4993858708120641,1.247799436365957,1.2207392162025483,1.5089596071403208,-0.6366671612876112,0.10731865339405362,2.054173334575546,0.005711412872327427,0.09639871400344464,-1.2573488641393633,0.5995204980870332,0.12312168661167397,-0.36020080076376304,0.26368325877658566,-2.1504215841781438,0.5649251993445709,-1.547372941339943,0.22834474433727533,0.806551393045147,0.14802656555688293,1.5938912289226514,-0.07223755226793076,-0.9816586144376963,-0.6525509152377631,-1.8197923548170925,-1.726313926184962,0.40558752810909987,-0.9084548194948895,0.7573284474309724,0.3202305886007857,1.0110403955293228,0.7641247132803324,-1.0494931766153843,0.4549331298008269,0.23567629090555364,-1.5990946993192952,1.1568983286804944,-0.5826571879288767,1.6841430138604359,2.025672191666682,-0.12564981184520735,0.16693373358090086,-0.2288882405142681,0.10422741050875683,0.6687521083134625,-0.43084762285217537,-1.051257481300054,-0.17197941465855776,0.7711145058102191,0.27938985909743863,-0.9022124330703055,0.20086585914909533,-0.17090597809922398],\"y\":[0.9502773190107969,0.272559636190263,-1.303101825309437,-0.09381558184786237,-0.7425319895675278,2.273858846399452,-0.0076088480932280725,1.055256682315736,0.48371263591801833,-1.2271224720190237,-0.1795973735439339,1.7263100690006208,-0.5999960394304096,0.6577097297404475,0.2013858793488651,0.21087228502570896,2.166890962505779,-0.7176365037245853,0.40286527063326677,0.908533645024215,-0.21050101484298916,-1.825832553714384,2.0975043715115915,0.3834142416861074,-1.7508999820502174,-0.1513665375010751,-1.671745096865534,-0.4022728913515091,-1.3676303716071965,-0.35084114074231604,1.3034917709001963,0.5515404381214328,2.3164422906696904,-0.20870242422817226,-1.7702561255131923,0.0205654950325439,-0.0703189491446735,1.3272322978976714,0.9185597202151164,0.3649069447133627,0.7513993430019263,0.4831934190904803,1.0069628917541271,-1.6616820260241512,-0.7108490077174401,-0.4959114783685054,0.6996972950770952,-1.5773772007368279,-1.150553485913242,1.0910272074641403,1.7003194924547553,0.8245785854839354,0.499761576040795,-1.4716913520129344,-1.2960912976668753,-0.10553209291936262,-1.851992109143555,-2.8675554445649953,-0.5578028633591723,0.3165737069580277,-0.9220963506515208,0.6337122906958443,0.30268560458542365,0.24543636395132995,-1.9019941545860948,-2.1487428642833186,-1.686182701548312,-0.774039594781683,2.2585904120016704,-0.8497090448368394,-1.3013139094581112,-0.6484716671551605,0.768852431511444,-1.9070800384087057,-0.032498105502017295,0.3205036547426345,1.1636215769870168,1.6842635415056044,0.01587583250461618,-1.0383160328028351,-0.625318310169787,0.2685185427535348,-0.42416251171391295,-2.717013022330864,-0.4259548580229847,-0.964332526482631,1.2982180675989476,0.6516125860532216,-0.17397116000633142,-0.665317923702325,-0.7246649245741666,-0.7641469483764428,-1.4694555427445888,0.7100508350291533,0.4903984699894906,1.144194691984651,-0.24328013883315086,0.6620100764590426,-0.7220685758723306,-1.184178736036595],\"type\":\"scatter\"}],                        {\"legend\":{\"bgcolor\":\"#F5F6F9\",\"font\":{\"color\":\"#4D5663\"}},\"paper_bgcolor\":\"#F5F6F9\",\"plot_bgcolor\":\"#F5F6F9\",\"template\":{\"data\":{\"barpolar\":[{\"marker\":{\"line\":{\"color\":\"#E5ECF6\",\"width\":0.5},\"pattern\":{\"fillmode\":\"overlay\",\"size\":10,\"solidity\":0.2}},\"type\":\"barpolar\"}],\"bar\":[{\"error_x\":{\"color\":\"#2a3f5f\"},\"error_y\":{\"color\":\"#2a3f5f\"},\"marker\":{\"line\":{\"color\":\"#E5ECF6\",\"width\":0.5},\"pattern\":{\"fillmode\":\"overlay\",\"size\":10,\"solidity\":0.2}},\"type\":\"bar\"}],\"carpet\":[{\"aaxis\":{\"endlinecolor\":\"#2a3f5f\",\"gridcolor\":\"white\",\"linecolor\":\"white\",\"minorgridcolor\":\"white\",\"startlinecolor\":\"#2a3f5f\"},\"baxis\":{\"endlinecolor\":\"#2a3f5f\",\"gridcolor\":\"white\",\"linecolor\":\"white\",\"minorgridcolor\":\"white\",\"startlinecolor\":\"#2a3f5f\"},\"type\":\"carpet\"}],\"choropleth\":[{\"colorbar\":{\"outlinewidth\":0,\"ticks\":\"\"},\"type\":\"choropleth\"}],\"contourcarpet\":[{\"colorbar\":{\"outlinewidth\":0,\"ticks\":\"\"},\"type\":\"contourcarpet\"}],\"contour\":[{\"colorbar\":{\"outlinewidth\":0,\"ticks\":\"\"},\"colorscale\":[[0.0,\"#0d0887\"],[0.1111111111111111,\"#46039f\"],[0.2222222222222222,\"#7201a8\"],[0.3333333333333333,\"#9c179e\"],[0.4444444444444444,\"#bd3786\"],[0.5555555555555556,\"#d8576b\"],[0.6666666666666666,\"#ed7953\"],[0.7777777777777778,\"#fb9f3a\"],[0.8888888888888888,\"#fdca26\"],[1.0,\"#f0f921\"]],\"type\":\"contour\"}],\"heatmapgl\":[{\"colorbar\":{\"outlinewidth\":0,\"ticks\":\"\"},\"colorscale\":[[0.0,\"#0d0887\"],[0.1111111111111111,\"#46039f\"],[0.2222222222222222,\"#7201a8\"],[0.3333333333333333,\"#9c179e\"],[0.4444444444444444,\"#bd3786\"],[0.5555555555555556,\"#d8576b\"],[0.6666666666666666,\"#ed7953\"],[0.7777777777777778,\"#fb9f3a\"],[0.8888888888888888,\"#fdca26\"],[1.0,\"#f0f921\"]],\"type\":\"heatmapgl\"}],\"heatmap\":[{\"colorbar\":{\"outlinewidth\":0,\"ticks\":\"\"},\"colorscale\":[[0.0,\"#0d0887\"],[0.1111111111111111,\"#46039f\"],[0.2222222222222222,\"#7201a8\"],[0.3333333333333333,\"#9c179e\"],[0.4444444444444444,\"#bd3786\"],[0.5555555555555556,\"#d8576b\"],[0.6666666666666666,\"#ed7953\"],[0.7777777777777778,\"#fb9f3a\"],[0.8888888888888888,\"#fdca26\"],[1.0,\"#f0f921\"]],\"type\":\"heatmap\"}],\"histogram2dcontour\":[{\"colorbar\":{\"outlinewidth\":0,\"ticks\":\"\"},\"colorscale\":[[0.0,\"#0d0887\"],[0.1111111111111111,\"#46039f\"],[0.2222222222222222,\"#7201a8\"],[0.3333333333333333,\"#9c179e\"],[0.4444444444444444,\"#bd3786\"],[0.5555555555555556,\"#d8576b\"],[0.6666666666666666,\"#ed7953\"],[0.7777777777777778,\"#fb9f3a\"],[0.8888888888888888,\"#fdca26\"],[1.0,\"#f0f921\"]],\"type\":\"histogram2dcontour\"}],\"histogram2d\":[{\"colorbar\":{\"outlinewidth\":0,\"ticks\":\"\"},\"colorscale\":[[0.0,\"#0d0887\"],[0.1111111111111111,\"#46039f\"],[0.2222222222222222,\"#7201a8\"],[0.3333333333333333,\"#9c179e\"],[0.4444444444444444,\"#bd3786\"],[0.5555555555555556,\"#d8576b\"],[0.6666666666666666,\"#ed7953\"],[0.7777777777777778,\"#fb9f3a\"],[0.8888888888888888,\"#fdca26\"],[1.0,\"#f0f921\"]],\"type\":\"histogram2d\"}],\"histogram\":[{\"marker\":{\"pattern\":{\"fillmode\":\"overlay\",\"size\":10,\"solidity\":0.2}},\"type\":\"histogram\"}],\"mesh3d\":[{\"colorbar\":{\"outlinewidth\":0,\"ticks\":\"\"},\"type\":\"mesh3d\"}],\"parcoords\":[{\"line\":{\"colorbar\":{\"outlinewidth\":0,\"ticks\":\"\"}},\"type\":\"parcoords\"}],\"pie\":[{\"automargin\":true,\"type\":\"pie\"}],\"scatter3d\":[{\"line\":{\"colorbar\":{\"outlinewidth\":0,\"ticks\":\"\"}},\"marker\":{\"colorbar\":{\"outlinewidth\":0,\"ticks\":\"\"}},\"type\":\"scatter3d\"}],\"scattercarpet\":[{\"marker\":{\"colorbar\":{\"outlinewidth\":0,\"ticks\":\"\"}},\"type\":\"scattercarpet\"}],\"scattergeo\":[{\"marker\":{\"colorbar\":{\"outlinewidth\":0,\"ticks\":\"\"}},\"type\":\"scattergeo\"}],\"scattergl\":[{\"marker\":{\"colorbar\":{\"outlinewidth\":0,\"ticks\":\"\"}},\"type\":\"scattergl\"}],\"scattermapbox\":[{\"marker\":{\"colorbar\":{\"outlinewidth\":0,\"ticks\":\"\"}},\"type\":\"scattermapbox\"}],\"scatterpolargl\":[{\"marker\":{\"colorbar\":{\"outlinewidth\":0,\"ticks\":\"\"}},\"type\":\"scatterpolargl\"}],\"scatterpolar\":[{\"marker\":{\"colorbar\":{\"outlinewidth\":0,\"ticks\":\"\"}},\"type\":\"scatterpolar\"}],\"scatter\":[{\"fillpattern\":{\"fillmode\":\"overlay\",\"size\":10,\"solidity\":0.2},\"type\":\"scatter\"}],\"scatterternary\":[{\"marker\":{\"colorbar\":{\"outlinewidth\":0,\"ticks\":\"\"}},\"type\":\"scatterternary\"}],\"surface\":[{\"colorbar\":{\"outlinewidth\":0,\"ticks\":\"\"},\"colorscale\":[[0.0,\"#0d0887\"],[0.1111111111111111,\"#46039f\"],[0.2222222222222222,\"#7201a8\"],[0.3333333333333333,\"#9c179e\"],[0.4444444444444444,\"#bd3786\"],[0.5555555555555556,\"#d8576b\"],[0.6666666666666666,\"#ed7953\"],[0.7777777777777778,\"#fb9f3a\"],[0.8888888888888888,\"#fdca26\"],[1.0,\"#f0f921\"]],\"type\":\"surface\"}],\"table\":[{\"cells\":{\"fill\":{\"color\":\"#EBF0F8\"},\"line\":{\"color\":\"white\"}},\"header\":{\"fill\":{\"color\":\"#C8D4E3\"},\"line\":{\"color\":\"white\"}},\"type\":\"table\"}]},\"layout\":{\"annotationdefaults\":{\"arrowcolor\":\"#2a3f5f\",\"arrowhead\":0,\"arrowwidth\":1},\"autotypenumbers\":\"strict\",\"coloraxis\":{\"colorbar\":{\"outlinewidth\":0,\"ticks\":\"\"}},\"colorscale\":{\"diverging\":[[0,\"#8e0152\"],[0.1,\"#c51b7d\"],[0.2,\"#de77ae\"],[0.3,\"#f1b6da\"],[0.4,\"#fde0ef\"],[0.5,\"#f7f7f7\"],[0.6,\"#e6f5d0\"],[0.7,\"#b8e186\"],[0.8,\"#7fbc41\"],[0.9,\"#4d9221\"],[1,\"#276419\"]],\"sequential\":[[0.0,\"#0d0887\"],[0.1111111111111111,\"#46039f\"],[0.2222222222222222,\"#7201a8\"],[0.3333333333333333,\"#9c179e\"],[0.4444444444444444,\"#bd3786\"],[0.5555555555555556,\"#d8576b\"],[0.6666666666666666,\"#ed7953\"],[0.7777777777777778,\"#fb9f3a\"],[0.8888888888888888,\"#fdca26\"],[1.0,\"#f0f921\"]],\"sequentialminus\":[[0.0,\"#0d0887\"],[0.1111111111111111,\"#46039f\"],[0.2222222222222222,\"#7201a8\"],[0.3333333333333333,\"#9c179e\"],[0.4444444444444444,\"#bd3786\"],[0.5555555555555556,\"#d8576b\"],[0.6666666666666666,\"#ed7953\"],[0.7777777777777778,\"#fb9f3a\"],[0.8888888888888888,\"#fdca26\"],[1.0,\"#f0f921\"]]},\"colorway\":[\"#636efa\",\"#EF553B\",\"#00cc96\",\"#ab63fa\",\"#FFA15A\",\"#19d3f3\",\"#FF6692\",\"#B6E880\",\"#FF97FF\",\"#FECB52\"],\"font\":{\"color\":\"#2a3f5f\"},\"geo\":{\"bgcolor\":\"white\",\"lakecolor\":\"white\",\"landcolor\":\"#E5ECF6\",\"showlakes\":true,\"showland\":true,\"subunitcolor\":\"white\"},\"hoverlabel\":{\"align\":\"left\"},\"hovermode\":\"closest\",\"mapbox\":{\"style\":\"light\"},\"paper_bgcolor\":\"white\",\"plot_bgcolor\":\"#E5ECF6\",\"polar\":{\"angularaxis\":{\"gridcolor\":\"white\",\"linecolor\":\"white\",\"ticks\":\"\"},\"bgcolor\":\"#E5ECF6\",\"radialaxis\":{\"gridcolor\":\"white\",\"linecolor\":\"white\",\"ticks\":\"\"}},\"scene\":{\"xaxis\":{\"backgroundcolor\":\"#E5ECF6\",\"gridcolor\":\"white\",\"gridwidth\":2,\"linecolor\":\"white\",\"showbackground\":true,\"ticks\":\"\",\"zerolinecolor\":\"white\"},\"yaxis\":{\"backgroundcolor\":\"#E5ECF6\",\"gridcolor\":\"white\",\"gridwidth\":2,\"linecolor\":\"white\",\"showbackground\":true,\"ticks\":\"\",\"zerolinecolor\":\"white\"},\"zaxis\":{\"backgroundcolor\":\"#E5ECF6\",\"gridcolor\":\"white\",\"gridwidth\":2,\"linecolor\":\"white\",\"showbackground\":true,\"ticks\":\"\",\"zerolinecolor\":\"white\"}},\"shapedefaults\":{\"line\":{\"color\":\"#2a3f5f\"}},\"ternary\":{\"aaxis\":{\"gridcolor\":\"white\",\"linecolor\":\"white\",\"ticks\":\"\"},\"baxis\":{\"gridcolor\":\"white\",\"linecolor\":\"white\",\"ticks\":\"\"},\"bgcolor\":\"#E5ECF6\",\"caxis\":{\"gridcolor\":\"white\",\"linecolor\":\"white\",\"ticks\":\"\"}},\"title\":{\"x\":0.05},\"xaxis\":{\"automargin\":true,\"gridcolor\":\"white\",\"linecolor\":\"white\",\"ticks\":\"\",\"title\":{\"standoff\":15},\"zerolinecolor\":\"white\",\"zerolinewidth\":2},\"yaxis\":{\"automargin\":true,\"gridcolor\":\"white\",\"linecolor\":\"white\",\"ticks\":\"\",\"title\":{\"standoff\":15},\"zerolinecolor\":\"white\",\"zerolinewidth\":2}}},\"title\":{\"font\":{\"color\":\"#4D5663\"}},\"xaxis\":{\"gridcolor\":\"#E1E5ED\",\"showgrid\":true,\"tickfont\":{\"color\":\"#4D5663\"},\"title\":{\"font\":{\"color\":\"#4D5663\"},\"text\":\"\"},\"zerolinecolor\":\"#E1E5ED\"},\"yaxis\":{\"gridcolor\":\"#E1E5ED\",\"showgrid\":true,\"tickfont\":{\"color\":\"#4D5663\"},\"title\":{\"font\":{\"color\":\"#4D5663\"},\"text\":\"\"},\"zerolinecolor\":\"#E1E5ED\"}},                        {\"showLink\": true, \"linkText\": \"Export to plot.ly\", \"plotlyServerURL\": \"https://plot.ly\", \"responsive\": true}                    ).then(function(){\n",
       "                            \n",
       "var gd = document.getElementById('f3fa11b0-54c0-4b07-b579-bf1bdd738cc9');\n",
       "var x = new MutationObserver(function (mutations, observer) {{\n",
       "        var display = window.getComputedStyle(gd).display;\n",
       "        if (!display || display === 'none') {{\n",
       "            console.log([gd, 'removed!']);\n",
       "            Plotly.purge(gd);\n",
       "            observer.disconnect();\n",
       "        }}\n",
       "}});\n",
       "\n",
       "// Listen for the removal of the full notebook cells\n",
       "var notebookContainer = gd.closest('#notebook-container');\n",
       "if (notebookContainer) {{\n",
       "    x.observe(notebookContainer, {childList: true});\n",
       "}}\n",
       "\n",
       "// Listen for the clearing of the current output cell\n",
       "var outputEl = gd.closest('.output');\n",
       "if (outputEl) {{\n",
       "    x.observe(outputEl, {childList: true});\n",
       "}}\n",
       "\n",
       "                        })                };                });            </script>        </div>"
      ]
     },
     "metadata": {},
     "output_type": "display_data"
    }
   ],
   "source": [
    "df.iplot(kind='scatter',x='A',y='B',mode='markers',size=10)"
   ]
  },
  {
   "cell_type": "code",
   "execution_count": 16,
   "id": "710e6d59-6579-41f8-b5d0-09b79eed7a83",
   "metadata": {
    "tags": []
   },
   "outputs": [
    {
     "data": {
      "application/vnd.plotly.v1+json": {
       "config": {
        "linkText": "Export to plot.ly",
        "plotlyServerURL": "https://plot.ly",
        "showLink": true
       },
       "data": [
        {
         "marker": {
          "color": "rgba(255, 153, 51, 0.6)",
          "line": {
           "color": "rgba(255, 153, 51, 1.0)",
           "width": 1
          }
         },
         "name": "Values",
         "orientation": "v",
         "text": "",
         "type": "bar",
         "x": [
          "A",
          "B",
          "C"
         ],
         "y": [
          32,
          43,
          50
         ]
        }
       ],
       "layout": {
        "autosize": true,
        "legend": {
         "bgcolor": "#F5F6F9",
         "font": {
          "color": "#4D5663"
         }
        },
        "paper_bgcolor": "#F5F6F9",
        "plot_bgcolor": "#F5F6F9",
        "template": {
         "data": {
          "bar": [
           {
            "error_x": {
             "color": "#2a3f5f"
            },
            "error_y": {
             "color": "#2a3f5f"
            },
            "marker": {
             "line": {
              "color": "#E5ECF6",
              "width": 0.5
             },
             "pattern": {
              "fillmode": "overlay",
              "size": 10,
              "solidity": 0.2
             }
            },
            "type": "bar"
           }
          ],
          "barpolar": [
           {
            "marker": {
             "line": {
              "color": "#E5ECF6",
              "width": 0.5
             },
             "pattern": {
              "fillmode": "overlay",
              "size": 10,
              "solidity": 0.2
             }
            },
            "type": "barpolar"
           }
          ],
          "carpet": [
           {
            "aaxis": {
             "endlinecolor": "#2a3f5f",
             "gridcolor": "white",
             "linecolor": "white",
             "minorgridcolor": "white",
             "startlinecolor": "#2a3f5f"
            },
            "baxis": {
             "endlinecolor": "#2a3f5f",
             "gridcolor": "white",
             "linecolor": "white",
             "minorgridcolor": "white",
             "startlinecolor": "#2a3f5f"
            },
            "type": "carpet"
           }
          ],
          "choropleth": [
           {
            "colorbar": {
             "outlinewidth": 0,
             "ticks": ""
            },
            "type": "choropleth"
           }
          ],
          "contour": [
           {
            "colorbar": {
             "outlinewidth": 0,
             "ticks": ""
            },
            "colorscale": [
             [
              0,
              "#0d0887"
             ],
             [
              0.1111111111111111,
              "#46039f"
             ],
             [
              0.2222222222222222,
              "#7201a8"
             ],
             [
              0.3333333333333333,
              "#9c179e"
             ],
             [
              0.4444444444444444,
              "#bd3786"
             ],
             [
              0.5555555555555556,
              "#d8576b"
             ],
             [
              0.6666666666666666,
              "#ed7953"
             ],
             [
              0.7777777777777778,
              "#fb9f3a"
             ],
             [
              0.8888888888888888,
              "#fdca26"
             ],
             [
              1,
              "#f0f921"
             ]
            ],
            "type": "contour"
           }
          ],
          "contourcarpet": [
           {
            "colorbar": {
             "outlinewidth": 0,
             "ticks": ""
            },
            "type": "contourcarpet"
           }
          ],
          "heatmap": [
           {
            "colorbar": {
             "outlinewidth": 0,
             "ticks": ""
            },
            "colorscale": [
             [
              0,
              "#0d0887"
             ],
             [
              0.1111111111111111,
              "#46039f"
             ],
             [
              0.2222222222222222,
              "#7201a8"
             ],
             [
              0.3333333333333333,
              "#9c179e"
             ],
             [
              0.4444444444444444,
              "#bd3786"
             ],
             [
              0.5555555555555556,
              "#d8576b"
             ],
             [
              0.6666666666666666,
              "#ed7953"
             ],
             [
              0.7777777777777778,
              "#fb9f3a"
             ],
             [
              0.8888888888888888,
              "#fdca26"
             ],
             [
              1,
              "#f0f921"
             ]
            ],
            "type": "heatmap"
           }
          ],
          "heatmapgl": [
           {
            "colorbar": {
             "outlinewidth": 0,
             "ticks": ""
            },
            "colorscale": [
             [
              0,
              "#0d0887"
             ],
             [
              0.1111111111111111,
              "#46039f"
             ],
             [
              0.2222222222222222,
              "#7201a8"
             ],
             [
              0.3333333333333333,
              "#9c179e"
             ],
             [
              0.4444444444444444,
              "#bd3786"
             ],
             [
              0.5555555555555556,
              "#d8576b"
             ],
             [
              0.6666666666666666,
              "#ed7953"
             ],
             [
              0.7777777777777778,
              "#fb9f3a"
             ],
             [
              0.8888888888888888,
              "#fdca26"
             ],
             [
              1,
              "#f0f921"
             ]
            ],
            "type": "heatmapgl"
           }
          ],
          "histogram": [
           {
            "marker": {
             "pattern": {
              "fillmode": "overlay",
              "size": 10,
              "solidity": 0.2
             }
            },
            "type": "histogram"
           }
          ],
          "histogram2d": [
           {
            "colorbar": {
             "outlinewidth": 0,
             "ticks": ""
            },
            "colorscale": [
             [
              0,
              "#0d0887"
             ],
             [
              0.1111111111111111,
              "#46039f"
             ],
             [
              0.2222222222222222,
              "#7201a8"
             ],
             [
              0.3333333333333333,
              "#9c179e"
             ],
             [
              0.4444444444444444,
              "#bd3786"
             ],
             [
              0.5555555555555556,
              "#d8576b"
             ],
             [
              0.6666666666666666,
              "#ed7953"
             ],
             [
              0.7777777777777778,
              "#fb9f3a"
             ],
             [
              0.8888888888888888,
              "#fdca26"
             ],
             [
              1,
              "#f0f921"
             ]
            ],
            "type": "histogram2d"
           }
          ],
          "histogram2dcontour": [
           {
            "colorbar": {
             "outlinewidth": 0,
             "ticks": ""
            },
            "colorscale": [
             [
              0,
              "#0d0887"
             ],
             [
              0.1111111111111111,
              "#46039f"
             ],
             [
              0.2222222222222222,
              "#7201a8"
             ],
             [
              0.3333333333333333,
              "#9c179e"
             ],
             [
              0.4444444444444444,
              "#bd3786"
             ],
             [
              0.5555555555555556,
              "#d8576b"
             ],
             [
              0.6666666666666666,
              "#ed7953"
             ],
             [
              0.7777777777777778,
              "#fb9f3a"
             ],
             [
              0.8888888888888888,
              "#fdca26"
             ],
             [
              1,
              "#f0f921"
             ]
            ],
            "type": "histogram2dcontour"
           }
          ],
          "mesh3d": [
           {
            "colorbar": {
             "outlinewidth": 0,
             "ticks": ""
            },
            "type": "mesh3d"
           }
          ],
          "parcoords": [
           {
            "line": {
             "colorbar": {
              "outlinewidth": 0,
              "ticks": ""
             }
            },
            "type": "parcoords"
           }
          ],
          "pie": [
           {
            "automargin": true,
            "type": "pie"
           }
          ],
          "scatter": [
           {
            "fillpattern": {
             "fillmode": "overlay",
             "size": 10,
             "solidity": 0.2
            },
            "type": "scatter"
           }
          ],
          "scatter3d": [
           {
            "line": {
             "colorbar": {
              "outlinewidth": 0,
              "ticks": ""
             }
            },
            "marker": {
             "colorbar": {
              "outlinewidth": 0,
              "ticks": ""
             }
            },
            "type": "scatter3d"
           }
          ],
          "scattercarpet": [
           {
            "marker": {
             "colorbar": {
              "outlinewidth": 0,
              "ticks": ""
             }
            },
            "type": "scattercarpet"
           }
          ],
          "scattergeo": [
           {
            "marker": {
             "colorbar": {
              "outlinewidth": 0,
              "ticks": ""
             }
            },
            "type": "scattergeo"
           }
          ],
          "scattergl": [
           {
            "marker": {
             "colorbar": {
              "outlinewidth": 0,
              "ticks": ""
             }
            },
            "type": "scattergl"
           }
          ],
          "scattermapbox": [
           {
            "marker": {
             "colorbar": {
              "outlinewidth": 0,
              "ticks": ""
             }
            },
            "type": "scattermapbox"
           }
          ],
          "scatterpolar": [
           {
            "marker": {
             "colorbar": {
              "outlinewidth": 0,
              "ticks": ""
             }
            },
            "type": "scatterpolar"
           }
          ],
          "scatterpolargl": [
           {
            "marker": {
             "colorbar": {
              "outlinewidth": 0,
              "ticks": ""
             }
            },
            "type": "scatterpolargl"
           }
          ],
          "scatterternary": [
           {
            "marker": {
             "colorbar": {
              "outlinewidth": 0,
              "ticks": ""
             }
            },
            "type": "scatterternary"
           }
          ],
          "surface": [
           {
            "colorbar": {
             "outlinewidth": 0,
             "ticks": ""
            },
            "colorscale": [
             [
              0,
              "#0d0887"
             ],
             [
              0.1111111111111111,
              "#46039f"
             ],
             [
              0.2222222222222222,
              "#7201a8"
             ],
             [
              0.3333333333333333,
              "#9c179e"
             ],
             [
              0.4444444444444444,
              "#bd3786"
             ],
             [
              0.5555555555555556,
              "#d8576b"
             ],
             [
              0.6666666666666666,
              "#ed7953"
             ],
             [
              0.7777777777777778,
              "#fb9f3a"
             ],
             [
              0.8888888888888888,
              "#fdca26"
             ],
             [
              1,
              "#f0f921"
             ]
            ],
            "type": "surface"
           }
          ],
          "table": [
           {
            "cells": {
             "fill": {
              "color": "#EBF0F8"
             },
             "line": {
              "color": "white"
             }
            },
            "header": {
             "fill": {
              "color": "#C8D4E3"
             },
             "line": {
              "color": "white"
             }
            },
            "type": "table"
           }
          ]
         },
         "layout": {
          "annotationdefaults": {
           "arrowcolor": "#2a3f5f",
           "arrowhead": 0,
           "arrowwidth": 1
          },
          "autotypenumbers": "strict",
          "coloraxis": {
           "colorbar": {
            "outlinewidth": 0,
            "ticks": ""
           }
          },
          "colorscale": {
           "diverging": [
            [
             0,
             "#8e0152"
            ],
            [
             0.1,
             "#c51b7d"
            ],
            [
             0.2,
             "#de77ae"
            ],
            [
             0.3,
             "#f1b6da"
            ],
            [
             0.4,
             "#fde0ef"
            ],
            [
             0.5,
             "#f7f7f7"
            ],
            [
             0.6,
             "#e6f5d0"
            ],
            [
             0.7,
             "#b8e186"
            ],
            [
             0.8,
             "#7fbc41"
            ],
            [
             0.9,
             "#4d9221"
            ],
            [
             1,
             "#276419"
            ]
           ],
           "sequential": [
            [
             0,
             "#0d0887"
            ],
            [
             0.1111111111111111,
             "#46039f"
            ],
            [
             0.2222222222222222,
             "#7201a8"
            ],
            [
             0.3333333333333333,
             "#9c179e"
            ],
            [
             0.4444444444444444,
             "#bd3786"
            ],
            [
             0.5555555555555556,
             "#d8576b"
            ],
            [
             0.6666666666666666,
             "#ed7953"
            ],
            [
             0.7777777777777778,
             "#fb9f3a"
            ],
            [
             0.8888888888888888,
             "#fdca26"
            ],
            [
             1,
             "#f0f921"
            ]
           ],
           "sequentialminus": [
            [
             0,
             "#0d0887"
            ],
            [
             0.1111111111111111,
             "#46039f"
            ],
            [
             0.2222222222222222,
             "#7201a8"
            ],
            [
             0.3333333333333333,
             "#9c179e"
            ],
            [
             0.4444444444444444,
             "#bd3786"
            ],
            [
             0.5555555555555556,
             "#d8576b"
            ],
            [
             0.6666666666666666,
             "#ed7953"
            ],
            [
             0.7777777777777778,
             "#fb9f3a"
            ],
            [
             0.8888888888888888,
             "#fdca26"
            ],
            [
             1,
             "#f0f921"
            ]
           ]
          },
          "colorway": [
           "#636efa",
           "#EF553B",
           "#00cc96",
           "#ab63fa",
           "#FFA15A",
           "#19d3f3",
           "#FF6692",
           "#B6E880",
           "#FF97FF",
           "#FECB52"
          ],
          "font": {
           "color": "#2a3f5f"
          },
          "geo": {
           "bgcolor": "white",
           "lakecolor": "white",
           "landcolor": "#E5ECF6",
           "showlakes": true,
           "showland": true,
           "subunitcolor": "white"
          },
          "hoverlabel": {
           "align": "left"
          },
          "hovermode": "closest",
          "mapbox": {
           "style": "light"
          },
          "paper_bgcolor": "white",
          "plot_bgcolor": "#E5ECF6",
          "polar": {
           "angularaxis": {
            "gridcolor": "white",
            "linecolor": "white",
            "ticks": ""
           },
           "bgcolor": "#E5ECF6",
           "radialaxis": {
            "gridcolor": "white",
            "linecolor": "white",
            "ticks": ""
           }
          },
          "scene": {
           "xaxis": {
            "backgroundcolor": "#E5ECF6",
            "gridcolor": "white",
            "gridwidth": 2,
            "linecolor": "white",
            "showbackground": true,
            "ticks": "",
            "zerolinecolor": "white"
           },
           "yaxis": {
            "backgroundcolor": "#E5ECF6",
            "gridcolor": "white",
            "gridwidth": 2,
            "linecolor": "white",
            "showbackground": true,
            "ticks": "",
            "zerolinecolor": "white"
           },
           "zaxis": {
            "backgroundcolor": "#E5ECF6",
            "gridcolor": "white",
            "gridwidth": 2,
            "linecolor": "white",
            "showbackground": true,
            "ticks": "",
            "zerolinecolor": "white"
           }
          },
          "shapedefaults": {
           "line": {
            "color": "#2a3f5f"
           }
          },
          "ternary": {
           "aaxis": {
            "gridcolor": "white",
            "linecolor": "white",
            "ticks": ""
           },
           "baxis": {
            "gridcolor": "white",
            "linecolor": "white",
            "ticks": ""
           },
           "bgcolor": "#E5ECF6",
           "caxis": {
            "gridcolor": "white",
            "linecolor": "white",
            "ticks": ""
           }
          },
          "title": {
           "x": 0.05
          },
          "xaxis": {
           "automargin": true,
           "gridcolor": "white",
           "linecolor": "white",
           "ticks": "",
           "title": {
            "standoff": 15
           },
           "zerolinecolor": "white",
           "zerolinewidth": 2
          },
          "yaxis": {
           "automargin": true,
           "gridcolor": "white",
           "linecolor": "white",
           "ticks": "",
           "title": {
            "standoff": 15
           },
           "zerolinecolor": "white",
           "zerolinewidth": 2
          }
         }
        },
        "title": {
         "font": {
          "color": "#4D5663"
         }
        },
        "xaxis": {
         "autorange": true,
         "gridcolor": "#E1E5ED",
         "range": [
          -0.5,
          2.5
         ],
         "showgrid": true,
         "tickfont": {
          "color": "#4D5663"
         },
         "title": {
          "font": {
           "color": "#4D5663"
          },
          "text": ""
         },
         "type": "category",
         "zerolinecolor": "#E1E5ED"
        },
        "yaxis": {
         "autorange": true,
         "gridcolor": "#E1E5ED",
         "range": [
          0,
          52.63157894736842
         ],
         "showgrid": true,
         "tickfont": {
          "color": "#4D5663"
         },
         "title": {
          "font": {
           "color": "#4D5663"
          },
          "text": ""
         },
         "type": "linear",
         "zerolinecolor": "#E1E5ED"
        }
       }
      },
      "image/png": "[encoded data removed]",
      "text/html": [
       "<div>                            <div id=\"2327b74c-d698-4e83-81e6-2b57ceb5e0a3\" class=\"plotly-graph-div\" style=\"height:525px; width:100%;\"></div>            <script type=\"text/javascript\">                require([\"plotly\"], function(Plotly) {                    window.PLOTLYENV=window.PLOTLYENV || {};\n",
       "                    window.PLOTLYENV.BASE_URL='https://plot.ly';                                    if (document.getElementById(\"2327b74c-d698-4e83-81e6-2b57ceb5e0a3\")) {                    Plotly.newPlot(                        \"2327b74c-d698-4e83-81e6-2b57ceb5e0a3\",                        [{\"marker\":{\"color\":\"rgba(255, 153, 51, 0.6)\",\"line\":{\"color\":\"rgba(255, 153, 51, 1.0)\",\"width\":1}},\"name\":\"Values\",\"orientation\":\"v\",\"text\":\"\",\"x\":[\"A\",\"B\",\"C\"],\"y\":[32,43,50],\"type\":\"bar\"}],                        {\"legend\":{\"bgcolor\":\"#F5F6F9\",\"font\":{\"color\":\"#4D5663\"}},\"paper_bgcolor\":\"#F5F6F9\",\"plot_bgcolor\":\"#F5F6F9\",\"template\":{\"data\":{\"barpolar\":[{\"marker\":{\"line\":{\"color\":\"#E5ECF6\",\"width\":0.5},\"pattern\":{\"fillmode\":\"overlay\",\"size\":10,\"solidity\":0.2}},\"type\":\"barpolar\"}],\"bar\":[{\"error_x\":{\"color\":\"#2a3f5f\"},\"error_y\":{\"color\":\"#2a3f5f\"},\"marker\":{\"line\":{\"color\":\"#E5ECF6\",\"width\":0.5},\"pattern\":{\"fillmode\":\"overlay\",\"size\":10,\"solidity\":0.2}},\"type\":\"bar\"}],\"carpet\":[{\"aaxis\":{\"endlinecolor\":\"#2a3f5f\",\"gridcolor\":\"white\",\"linecolor\":\"white\",\"minorgridcolor\":\"white\",\"startlinecolor\":\"#2a3f5f\"},\"baxis\":{\"endlinecolor\":\"#2a3f5f\",\"gridcolor\":\"white\",\"linecolor\":\"white\",\"minorgridcolor\":\"white\",\"startlinecolor\":\"#2a3f5f\"},\"type\":\"carpet\"}],\"choropleth\":[{\"colorbar\":{\"outlinewidth\":0,\"ticks\":\"\"},\"type\":\"choropleth\"}],\"contourcarpet\":[{\"colorbar\":{\"outlinewidth\":0,\"ticks\":\"\"},\"type\":\"contourcarpet\"}],\"contour\":[{\"colorbar\":{\"outlinewidth\":0,\"ticks\":\"\"},\"colorscale\":[[0.0,\"#0d0887\"],[0.1111111111111111,\"#46039f\"],[0.2222222222222222,\"#7201a8\"],[0.3333333333333333,\"#9c179e\"],[0.4444444444444444,\"#bd3786\"],[0.5555555555555556,\"#d8576b\"],[0.6666666666666666,\"#ed7953\"],[0.7777777777777778,\"#fb9f3a\"],[0.8888888888888888,\"#fdca26\"],[1.0,\"#f0f921\"]],\"type\":\"contour\"}],\"heatmapgl\":[{\"colorbar\":{\"outlinewidth\":0,\"ticks\":\"\"},\"colorscale\":[[0.0,\"#0d0887\"],[0.1111111111111111,\"#46039f\"],[0.2222222222222222,\"#7201a8\"],[0.3333333333333333,\"#9c179e\"],[0.4444444444444444,\"#bd3786\"],[0.5555555555555556,\"#d8576b\"],[0.6666666666666666,\"#ed7953\"],[0.7777777777777778,\"#fb9f3a\"],[0.8888888888888888,\"#fdca26\"],[1.0,\"#f0f921\"]],\"type\":\"heatmapgl\"}],\"heatmap\":[{\"colorbar\":{\"outlinewidth\":0,\"ticks\":\"\"},\"colorscale\":[[0.0,\"#0d0887\"],[0.1111111111111111,\"#46039f\"],[0.2222222222222222,\"#7201a8\"],[0.3333333333333333,\"#9c179e\"],[0.4444444444444444,\"#bd3786\"],[0.5555555555555556,\"#d8576b\"],[0.6666666666666666,\"#ed7953\"],[0.7777777777777778,\"#fb9f3a\"],[0.8888888888888888,\"#fdca26\"],[1.0,\"#f0f921\"]],\"type\":\"heatmap\"}],\"histogram2dcontour\":[{\"colorbar\":{\"outlinewidth\":0,\"ticks\":\"\"},\"colorscale\":[[0.0,\"#0d0887\"],[0.1111111111111111,\"#46039f\"],[0.2222222222222222,\"#7201a8\"],[0.3333333333333333,\"#9c179e\"],[0.4444444444444444,\"#bd3786\"],[0.5555555555555556,\"#d8576b\"],[0.6666666666666666,\"#ed7953\"],[0.7777777777777778,\"#fb9f3a\"],[0.8888888888888888,\"#fdca26\"],[1.0,\"#f0f921\"]],\"type\":\"histogram2dcontour\"}],\"histogram2d\":[{\"colorbar\":{\"outlinewidth\":0,\"ticks\":\"\"},\"colorscale\":[[0.0,\"#0d0887\"],[0.1111111111111111,\"#46039f\"],[0.2222222222222222,\"#7201a8\"],[0.3333333333333333,\"#9c179e\"],[0.4444444444444444,\"#bd3786\"],[0.5555555555555556,\"#d8576b\"],[0.6666666666666666,\"#ed7953\"],[0.7777777777777778,\"#fb9f3a\"],[0.8888888888888888,\"#fdca26\"],[1.0,\"#f0f921\"]],\"type\":\"histogram2d\"}],\"histogram\":[{\"marker\":{\"pattern\":{\"fillmode\":\"overlay\",\"size\":10,\"solidity\":0.2}},\"type\":\"histogram\"}],\"mesh3d\":[{\"colorbar\":{\"outlinewidth\":0,\"ticks\":\"\"},\"type\":\"mesh3d\"}],\"parcoords\":[{\"line\":{\"colorbar\":{\"outlinewidth\":0,\"ticks\":\"\"}},\"type\":\"parcoords\"}],\"pie\":[{\"automargin\":true,\"type\":\"pie\"}],\"scatter3d\":[{\"line\":{\"colorbar\":{\"outlinewidth\":0,\"ticks\":\"\"}},\"marker\":{\"colorbar\":{\"outlinewidth\":0,\"ticks\":\"\"}},\"type\":\"scatter3d\"}],\"scattercarpet\":[{\"marker\":{\"colorbar\":{\"outlinewidth\":0,\"ticks\":\"\"}},\"type\":\"scattercarpet\"}],\"scattergeo\":[{\"marker\":{\"colorbar\":{\"outlinewidth\":0,\"ticks\":\"\"}},\"type\":\"scattergeo\"}],\"scattergl\":[{\"marker\":{\"colorbar\":{\"outlinewidth\":0,\"ticks\":\"\"}},\"type\":\"scattergl\"}],\"scattermapbox\":[{\"marker\":{\"colorbar\":{\"outlinewidth\":0,\"ticks\":\"\"}},\"type\":\"scattermapbox\"}],\"scatterpolargl\":[{\"marker\":{\"colorbar\":{\"outlinewidth\":0,\"ticks\":\"\"}},\"type\":\"scatterpolargl\"}],\"scatterpolar\":[{\"marker\":{\"colorbar\":{\"outlinewidth\":0,\"ticks\":\"\"}},\"type\":\"scatterpolar\"}],\"scatter\":[{\"fillpattern\":{\"fillmode\":\"overlay\",\"size\":10,\"solidity\":0.2},\"type\":\"scatter\"}],\"scatterternary\":[{\"marker\":{\"colorbar\":{\"outlinewidth\":0,\"ticks\":\"\"}},\"type\":\"scatterternary\"}],\"surface\":[{\"colorbar\":{\"outlinewidth\":0,\"ticks\":\"\"},\"colorscale\":[[0.0,\"#0d0887\"],[0.1111111111111111,\"#46039f\"],[0.2222222222222222,\"#7201a8\"],[0.3333333333333333,\"#9c179e\"],[0.4444444444444444,\"#bd3786\"],[0.5555555555555556,\"#d8576b\"],[0.6666666666666666,\"#ed7953\"],[0.7777777777777778,\"#fb9f3a\"],[0.8888888888888888,\"#fdca26\"],[1.0,\"#f0f921\"]],\"type\":\"surface\"}],\"table\":[{\"cells\":{\"fill\":{\"color\":\"#EBF0F8\"},\"line\":{\"color\":\"white\"}},\"header\":{\"fill\":{\"color\":\"#C8D4E3\"},\"line\":{\"color\":\"white\"}},\"type\":\"table\"}]},\"layout\":{\"annotationdefaults\":{\"arrowcolor\":\"#2a3f5f\",\"arrowhead\":0,\"arrowwidth\":1},\"autotypenumbers\":\"strict\",\"coloraxis\":{\"colorbar\":{\"outlinewidth\":0,\"ticks\":\"\"}},\"colorscale\":{\"diverging\":[[0,\"#8e0152\"],[0.1,\"#c51b7d\"],[0.2,\"#de77ae\"],[0.3,\"#f1b6da\"],[0.4,\"#fde0ef\"],[0.5,\"#f7f7f7\"],[0.6,\"#e6f5d0\"],[0.7,\"#b8e186\"],[0.8,\"#7fbc41\"],[0.9,\"#4d9221\"],[1,\"#276419\"]],\"sequential\":[[0.0,\"#0d0887\"],[0.1111111111111111,\"#46039f\"],[0.2222222222222222,\"#7201a8\"],[0.3333333333333333,\"#9c179e\"],[0.4444444444444444,\"#bd3786\"],[0.5555555555555556,\"#d8576b\"],[0.6666666666666666,\"#ed7953\"],[0.7777777777777778,\"#fb9f3a\"],[0.8888888888888888,\"#fdca26\"],[1.0,\"#f0f921\"]],\"sequentialminus\":[[0.0,\"#0d0887\"],[0.1111111111111111,\"#46039f\"],[0.2222222222222222,\"#7201a8\"],[0.3333333333333333,\"#9c179e\"],[0.4444444444444444,\"#bd3786\"],[0.5555555555555556,\"#d8576b\"],[0.6666666666666666,\"#ed7953\"],[0.7777777777777778,\"#fb9f3a\"],[0.8888888888888888,\"#fdca26\"],[1.0,\"#f0f921\"]]},\"colorway\":[\"#636efa\",\"#EF553B\",\"#00cc96\",\"#ab63fa\",\"#FFA15A\",\"#19d3f3\",\"#FF6692\",\"#B6E880\",\"#FF97FF\",\"#FECB52\"],\"font\":{\"color\":\"#2a3f5f\"},\"geo\":{\"bgcolor\":\"white\",\"lakecolor\":\"white\",\"landcolor\":\"#E5ECF6\",\"showlakes\":true,\"showland\":true,\"subunitcolor\":\"white\"},\"hoverlabel\":{\"align\":\"left\"},\"hovermode\":\"closest\",\"mapbox\":{\"style\":\"light\"},\"paper_bgcolor\":\"white\",\"plot_bgcolor\":\"#E5ECF6\",\"polar\":{\"angularaxis\":{\"gridcolor\":\"white\",\"linecolor\":\"white\",\"ticks\":\"\"},\"bgcolor\":\"#E5ECF6\",\"radialaxis\":{\"gridcolor\":\"white\",\"linecolor\":\"white\",\"ticks\":\"\"}},\"scene\":{\"xaxis\":{\"backgroundcolor\":\"#E5ECF6\",\"gridcolor\":\"white\",\"gridwidth\":2,\"linecolor\":\"white\",\"showbackground\":true,\"ticks\":\"\",\"zerolinecolor\":\"white\"},\"yaxis\":{\"backgroundcolor\":\"#E5ECF6\",\"gridcolor\":\"white\",\"gridwidth\":2,\"linecolor\":\"white\",\"showbackground\":true,\"ticks\":\"\",\"zerolinecolor\":\"white\"},\"zaxis\":{\"backgroundcolor\":\"#E5ECF6\",\"gridcolor\":\"white\",\"gridwidth\":2,\"linecolor\":\"white\",\"showbackground\":true,\"ticks\":\"\",\"zerolinecolor\":\"white\"}},\"shapedefaults\":{\"line\":{\"color\":\"#2a3f5f\"}},\"ternary\":{\"aaxis\":{\"gridcolor\":\"white\",\"linecolor\":\"white\",\"ticks\":\"\"},\"baxis\":{\"gridcolor\":\"white\",\"linecolor\":\"white\",\"ticks\":\"\"},\"bgcolor\":\"#E5ECF6\",\"caxis\":{\"gridcolor\":\"white\",\"linecolor\":\"white\",\"ticks\":\"\"}},\"title\":{\"x\":0.05},\"xaxis\":{\"automargin\":true,\"gridcolor\":\"white\",\"linecolor\":\"white\",\"ticks\":\"\",\"title\":{\"standoff\":15},\"zerolinecolor\":\"white\",\"zerolinewidth\":2},\"yaxis\":{\"automargin\":true,\"gridcolor\":\"white\",\"linecolor\":\"white\",\"ticks\":\"\",\"title\":{\"standoff\":15},\"zerolinecolor\":\"white\",\"zerolinewidth\":2}}},\"title\":{\"font\":{\"color\":\"#4D5663\"}},\"xaxis\":{\"gridcolor\":\"#E1E5ED\",\"showgrid\":true,\"tickfont\":{\"color\":\"#4D5663\"},\"title\":{\"font\":{\"color\":\"#4D5663\"},\"text\":\"\"},\"zerolinecolor\":\"#E1E5ED\"},\"yaxis\":{\"gridcolor\":\"#E1E5ED\",\"showgrid\":true,\"tickfont\":{\"color\":\"#4D5663\"},\"title\":{\"font\":{\"color\":\"#4D5663\"},\"text\":\"\"},\"zerolinecolor\":\"#E1E5ED\"}},                        {\"showLink\": true, \"linkText\": \"Export to plot.ly\", \"plotlyServerURL\": \"https://plot.ly\", \"responsive\": true}                    ).then(function(){\n",
       "                            \n",
       "var gd = document.getElementById('2327b74c-d698-4e83-81e6-2b57ceb5e0a3');\n",
       "var x = new MutationObserver(function (mutations, observer) {{\n",
       "        var display = window.getComputedStyle(gd).display;\n",
       "        if (!display || display === 'none') {{\n",
       "            console.log([gd, 'removed!']);\n",
       "            Plotly.purge(gd);\n",
       "            observer.disconnect();\n",
       "        }}\n",
       "}});\n",
       "\n",
       "// Listen for the removal of the full notebook cells\n",
       "var notebookContainer = gd.closest('#notebook-container');\n",
       "if (notebookContainer) {{\n",
       "    x.observe(notebookContainer, {childList: true});\n",
       "}}\n",
       "\n",
       "// Listen for the clearing of the current output cell\n",
       "var outputEl = gd.closest('.output');\n",
       "if (outputEl) {{\n",
       "    x.observe(outputEl, {childList: true});\n",
       "}}\n",
       "\n",
       "                        })                };                });            </script>        </div>"
      ]
     },
     "metadata": {},
     "output_type": "display_data"
    }
   ],
   "source": [
    "df2.iplot(kind='bar',x='Category',y='Values')"
   ]
  },
  {
   "cell_type": "code",
   "execution_count": 17,
   "id": "5f45d741-4680-47a3-9617-aeb7ac28fb54",
   "metadata": {
    "tags": []
   },
   "outputs": [
    {
     "data": {
      "application/vnd.plotly.v1+json": {
       "config": {
        "linkText": "Export to plot.ly",
        "plotlyServerURL": "https://plot.ly",
        "showLink": true
       },
       "data": [
        {
         "marker": {
          "color": "rgba(255, 153, 51, 0.6)",
          "line": {
           "color": "rgba(255, 153, 51, 1.0)",
           "width": 1
          }
         },
         "name": "None",
         "orientation": "v",
         "text": "",
         "type": "bar",
         "x": [
          "A",
          "B",
          "C",
          "D"
         ],
         "y": [
          100,
          100,
          100,
          100
         ]
        }
       ],
       "layout": {
        "autosize": true,
        "legend": {
         "bgcolor": "#F5F6F9",
         "font": {
          "color": "#4D5663"
         }
        },
        "paper_bgcolor": "#F5F6F9",
        "plot_bgcolor": "#F5F6F9",
        "template": {
         "data": {
          "bar": [
           {
            "error_x": {
             "color": "#2a3f5f"
            },
            "error_y": {
             "color": "#2a3f5f"
            },
            "marker": {
             "line": {
              "color": "#E5ECF6",
              "width": 0.5
             },
             "pattern": {
              "fillmode": "overlay",
              "size": 10,
              "solidity": 0.2
             }
            },
            "type": "bar"
           }
          ],
          "barpolar": [
           {
            "marker": {
             "line": {
              "color": "#E5ECF6",
              "width": 0.5
             },
             "pattern": {
              "fillmode": "overlay",
              "size": 10,
              "solidity": 0.2
             }
            },
            "type": "barpolar"
           }
          ],
          "carpet": [
           {
            "aaxis": {
             "endlinecolor": "#2a3f5f",
             "gridcolor": "white",
             "linecolor": "white",
             "minorgridcolor": "white",
             "startlinecolor": "#2a3f5f"
            },
            "baxis": {
             "endlinecolor": "#2a3f5f",
             "gridcolor": "white",
             "linecolor": "white",
             "minorgridcolor": "white",
             "startlinecolor": "#2a3f5f"
            },
            "type": "carpet"
           }
          ],
          "choropleth": [
           {
            "colorbar": {
             "outlinewidth": 0,
             "ticks": ""
            },
            "type": "choropleth"
           }
          ],
          "contour": [
           {
            "colorbar": {
             "outlinewidth": 0,
             "ticks": ""
            },
            "colorscale": [
             [
              0,
              "#0d0887"
             ],
             [
              0.1111111111111111,
              "#46039f"
             ],
             [
              0.2222222222222222,
              "#7201a8"
             ],
             [
              0.3333333333333333,
              "#9c179e"
             ],
             [
              0.4444444444444444,
              "#bd3786"
             ],
             [
              0.5555555555555556,
              "#d8576b"
             ],
             [
              0.6666666666666666,
              "#ed7953"
             ],
             [
              0.7777777777777778,
              "#fb9f3a"
             ],
             [
              0.8888888888888888,
              "#fdca26"
             ],
             [
              1,
              "#f0f921"
             ]
            ],
            "type": "contour"
           }
          ],
          "contourcarpet": [
           {
            "colorbar": {
             "outlinewidth": 0,
             "ticks": ""
            },
            "type": "contourcarpet"
           }
          ],
          "heatmap": [
           {
            "colorbar": {
             "outlinewidth": 0,
             "ticks": ""
            },
            "colorscale": [
             [
              0,
              "#0d0887"
             ],
             [
              0.1111111111111111,
              "#46039f"
             ],
             [
              0.2222222222222222,
              "#7201a8"
             ],
             [
              0.3333333333333333,
              "#9c179e"
             ],
             [
              0.4444444444444444,
              "#bd3786"
             ],
             [
              0.5555555555555556,
              "#d8576b"
             ],
             [
              0.6666666666666666,
              "#ed7953"
             ],
             [
              0.7777777777777778,
              "#fb9f3a"
             ],
             [
              0.8888888888888888,
              "#fdca26"
             ],
             [
              1,
              "#f0f921"
             ]
            ],
            "type": "heatmap"
           }
          ],
          "heatmapgl": [
           {
            "colorbar": {
             "outlinewidth": 0,
             "ticks": ""
            },
            "colorscale": [
             [
              0,
              "#0d0887"
             ],
             [
              0.1111111111111111,
              "#46039f"
             ],
             [
              0.2222222222222222,
              "#7201a8"
             ],
             [
              0.3333333333333333,
              "#9c179e"
             ],
             [
              0.4444444444444444,
              "#bd3786"
             ],
             [
              0.5555555555555556,
              "#d8576b"
             ],
             [
              0.6666666666666666,
              "#ed7953"
             ],
             [
              0.7777777777777778,
              "#fb9f3a"
             ],
             [
              0.8888888888888888,
              "#fdca26"
             ],
             [
              1,
              "#f0f921"
             ]
            ],
            "type": "heatmapgl"
           }
          ],
          "histogram": [
           {
            "marker": {
             "pattern": {
              "fillmode": "overlay",
              "size": 10,
              "solidity": 0.2
             }
            },
            "type": "histogram"
           }
          ],
          "histogram2d": [
           {
            "colorbar": {
             "outlinewidth": 0,
             "ticks": ""
            },
            "colorscale": [
             [
              0,
              "#0d0887"
             ],
             [
              0.1111111111111111,
              "#46039f"
             ],
             [
              0.2222222222222222,
              "#7201a8"
             ],
             [
              0.3333333333333333,
              "#9c179e"
             ],
             [
              0.4444444444444444,
              "#bd3786"
             ],
             [
              0.5555555555555556,
              "#d8576b"
             ],
             [
              0.6666666666666666,
              "#ed7953"
             ],
             [
              0.7777777777777778,
              "#fb9f3a"
             ],
             [
              0.8888888888888888,
              "#fdca26"
             ],
             [
              1,
              "#f0f921"
             ]
            ],
            "type": "histogram2d"
           }
          ],
          "histogram2dcontour": [
           {
            "colorbar": {
             "outlinewidth": 0,
             "ticks": ""
            },
            "colorscale": [
             [
              0,
              "#0d0887"
             ],
             [
              0.1111111111111111,
              "#46039f"
             ],
             [
              0.2222222222222222,
              "#7201a8"
             ],
             [
              0.3333333333333333,
              "#9c179e"
             ],
             [
              0.4444444444444444,
              "#bd3786"
             ],
             [
              0.5555555555555556,
              "#d8576b"
             ],
             [
              0.6666666666666666,
              "#ed7953"
             ],
             [
              0.7777777777777778,
              "#fb9f3a"
             ],
             [
              0.8888888888888888,
              "#fdca26"
             ],
             [
              1,
              "#f0f921"
             ]
            ],
            "type": "histogram2dcontour"
           }
          ],
          "mesh3d": [
           {
            "colorbar": {
             "outlinewidth": 0,
             "ticks": ""
            },
            "type": "mesh3d"
           }
          ],
          "parcoords": [
           {
            "line": {
             "colorbar": {
              "outlinewidth": 0,
              "ticks": ""
             }
            },
            "type": "parcoords"
           }
          ],
          "pie": [
           {
            "automargin": true,
            "type": "pie"
           }
          ],
          "scatter": [
           {
            "fillpattern": {
             "fillmode": "overlay",
             "size": 10,
             "solidity": 0.2
            },
            "type": "scatter"
           }
          ],
          "scatter3d": [
           {
            "line": {
             "colorbar": {
              "outlinewidth": 0,
              "ticks": ""
             }
            },
            "marker": {
             "colorbar": {
              "outlinewidth": 0,
              "ticks": ""
             }
            },
            "type": "scatter3d"
           }
          ],
          "scattercarpet": [
           {
            "marker": {
             "colorbar": {
              "outlinewidth": 0,
              "ticks": ""
             }
            },
            "type": "scattercarpet"
           }
          ],
          "scattergeo": [
           {
            "marker": {
             "colorbar": {
              "outlinewidth": 0,
              "ticks": ""
             }
            },
            "type": "scattergeo"
           }
          ],
          "scattergl": [
           {
            "marker": {
             "colorbar": {
              "outlinewidth": 0,
              "ticks": ""
             }
            },
            "type": "scattergl"
           }
          ],
          "scattermapbox": [
           {
            "marker": {
             "colorbar": {
              "outlinewidth": 0,
              "ticks": ""
             }
            },
            "type": "scattermapbox"
           }
          ],
          "scatterpolar": [
           {
            "marker": {
             "colorbar": {
              "outlinewidth": 0,
              "ticks": ""
             }
            },
            "type": "scatterpolar"
           }
          ],
          "scatterpolargl": [
           {
            "marker": {
             "colorbar": {
              "outlinewidth": 0,
              "ticks": ""
             }
            },
            "type": "scatterpolargl"
           }
          ],
          "scatterternary": [
           {
            "marker": {
             "colorbar": {
              "outlinewidth": 0,
              "ticks": ""
             }
            },
            "type": "scatterternary"
           }
          ],
          "surface": [
           {
            "colorbar": {
             "outlinewidth": 0,
             "ticks": ""
            },
            "colorscale": [
             [
              0,
              "#0d0887"
             ],
             [
              0.1111111111111111,
              "#46039f"
             ],
             [
              0.2222222222222222,
              "#7201a8"
             ],
             [
              0.3333333333333333,
              "#9c179e"
             ],
             [
              0.4444444444444444,
              "#bd3786"
             ],
             [
              0.5555555555555556,
              "#d8576b"
             ],
             [
              0.6666666666666666,
              "#ed7953"
             ],
             [
              0.7777777777777778,
              "#fb9f3a"
             ],
             [
              0.8888888888888888,
              "#fdca26"
             ],
             [
              1,
              "#f0f921"
             ]
            ],
            "type": "surface"
           }
          ],
          "table": [
           {
            "cells": {
             "fill": {
              "color": "#EBF0F8"
             },
             "line": {
              "color": "white"
             }
            },
            "header": {
             "fill": {
              "color": "#C8D4E3"
             },
             "line": {
              "color": "white"
             }
            },
            "type": "table"
           }
          ]
         },
         "layout": {
          "annotationdefaults": {
           "arrowcolor": "#2a3f5f",
           "arrowhead": 0,
           "arrowwidth": 1
          },
          "autotypenumbers": "strict",
          "coloraxis": {
           "colorbar": {
            "outlinewidth": 0,
            "ticks": ""
           }
          },
          "colorscale": {
           "diverging": [
            [
             0,
             "#8e0152"
            ],
            [
             0.1,
             "#c51b7d"
            ],
            [
             0.2,
             "#de77ae"
            ],
            [
             0.3,
             "#f1b6da"
            ],
            [
             0.4,
             "#fde0ef"
            ],
            [
             0.5,
             "#f7f7f7"
            ],
            [
             0.6,
             "#e6f5d0"
            ],
            [
             0.7,
             "#b8e186"
            ],
            [
             0.8,
             "#7fbc41"
            ],
            [
             0.9,
             "#4d9221"
            ],
            [
             1,
             "#276419"
            ]
           ],
           "sequential": [
            [
             0,
             "#0d0887"
            ],
            [
             0.1111111111111111,
             "#46039f"
            ],
            [
             0.2222222222222222,
             "#7201a8"
            ],
            [
             0.3333333333333333,
             "#9c179e"
            ],
            [
             0.4444444444444444,
             "#bd3786"
            ],
            [
             0.5555555555555556,
             "#d8576b"
            ],
            [
             0.6666666666666666,
             "#ed7953"
            ],
            [
             0.7777777777777778,
             "#fb9f3a"
            ],
            [
             0.8888888888888888,
             "#fdca26"
            ],
            [
             1,
             "#f0f921"
            ]
           ],
           "sequentialminus": [
            [
             0,
             "#0d0887"
            ],
            [
             0.1111111111111111,
             "#46039f"
            ],
            [
             0.2222222222222222,
             "#7201a8"
            ],
            [
             0.3333333333333333,
             "#9c179e"
            ],
            [
             0.4444444444444444,
             "#bd3786"
            ],
            [
             0.5555555555555556,
             "#d8576b"
            ],
            [
             0.6666666666666666,
             "#ed7953"
            ],
            [
             0.7777777777777778,
             "#fb9f3a"
            ],
            [
             0.8888888888888888,
             "#fdca26"
            ],
            [
             1,
             "#f0f921"
            ]
           ]
          },
          "colorway": [
           "#636efa",
           "#EF553B",
           "#00cc96",
           "#ab63fa",
           "#FFA15A",
           "#19d3f3",
           "#FF6692",
           "#B6E880",
           "#FF97FF",
           "#FECB52"
          ],
          "font": {
           "color": "#2a3f5f"
          },
          "geo": {
           "bgcolor": "white",
           "lakecolor": "white",
           "landcolor": "#E5ECF6",
           "showlakes": true,
           "showland": true,
           "subunitcolor": "white"
          },
          "hoverlabel": {
           "align": "left"
          },
          "hovermode": "closest",
          "mapbox": {
           "style": "light"
          },
          "paper_bgcolor": "white",
          "plot_bgcolor": "#E5ECF6",
          "polar": {
           "angularaxis": {
            "gridcolor": "white",
            "linecolor": "white",
            "ticks": ""
           },
           "bgcolor": "#E5ECF6",
           "radialaxis": {
            "gridcolor": "white",
            "linecolor": "white",
            "ticks": ""
           }
          },
          "scene": {
           "xaxis": {
            "backgroundcolor": "#E5ECF6",
            "gridcolor": "white",
            "gridwidth": 2,
            "linecolor": "white",
            "showbackground": true,
            "ticks": "",
            "zerolinecolor": "white"
           },
           "yaxis": {
            "backgroundcolor": "#E5ECF6",
            "gridcolor": "white",
            "gridwidth": 2,
            "linecolor": "white",
            "showbackground": true,
            "ticks": "",
            "zerolinecolor": "white"
           },
           "zaxis": {
            "backgroundcolor": "#E5ECF6",
            "gridcolor": "white",
            "gridwidth": 2,
            "linecolor": "white",
            "showbackground": true,
            "ticks": "",
            "zerolinecolor": "white"
           }
          },
          "shapedefaults": {
           "line": {
            "color": "#2a3f5f"
           }
          },
          "ternary": {
           "aaxis": {
            "gridcolor": "white",
            "linecolor": "white",
            "ticks": ""
           },
           "baxis": {
            "gridcolor": "white",
            "linecolor": "white",
            "ticks": ""
           },
           "bgcolor": "#E5ECF6",
           "caxis": {
            "gridcolor": "white",
            "linecolor": "white",
            "ticks": ""
           }
          },
          "title": {
           "x": 0.05
          },
          "xaxis": {
           "automargin": true,
           "gridcolor": "white",
           "linecolor": "white",
           "ticks": "",
           "title": {
            "standoff": 15
           },
           "zerolinecolor": "white",
           "zerolinewidth": 2
          },
          "yaxis": {
           "automargin": true,
           "gridcolor": "white",
           "linecolor": "white",
           "ticks": "",
           "title": {
            "standoff": 15
           },
           "zerolinecolor": "white",
           "zerolinewidth": 2
          }
         }
        },
        "title": {
         "font": {
          "color": "#4D5663"
         }
        },
        "xaxis": {
         "autorange": true,
         "gridcolor": "#E1E5ED",
         "range": [
          -0.5,
          3.5
         ],
         "showgrid": true,
         "tickfont": {
          "color": "#4D5663"
         },
         "title": {
          "font": {
           "color": "#4D5663"
          },
          "text": ""
         },
         "type": "category",
         "zerolinecolor": "#E1E5ED"
        },
        "yaxis": {
         "autorange": true,
         "gridcolor": "#E1E5ED",
         "range": [
          0,
          105.26315789473684
         ],
         "showgrid": true,
         "tickfont": {
          "color": "#4D5663"
         },
         "title": {
          "font": {
           "color": "#4D5663"
          },
          "text": ""
         },
         "type": "linear",
         "zerolinecolor": "#E1E5ED"
        }
       }
      },
      "image/png": "[encoded data removed]",
      "text/html": [
       "<div>                            <div id=\"52bd24b7-b1ee-4af9-909f-9613b2bae73d\" class=\"plotly-graph-div\" style=\"height:525px; width:100%;\"></div>            <script type=\"text/javascript\">                require([\"plotly\"], function(Plotly) {                    window.PLOTLYENV=window.PLOTLYENV || {};\n",
       "                    window.PLOTLYENV.BASE_URL='https://plot.ly';                                    if (document.getElementById(\"52bd24b7-b1ee-4af9-909f-9613b2bae73d\")) {                    Plotly.newPlot(                        \"52bd24b7-b1ee-4af9-909f-9613b2bae73d\",                        [{\"marker\":{\"color\":\"rgba(255, 153, 51, 0.6)\",\"line\":{\"color\":\"rgba(255, 153, 51, 1.0)\",\"width\":1}},\"name\":\"None\",\"orientation\":\"v\",\"text\":\"\",\"x\":[\"A\",\"B\",\"C\",\"D\"],\"y\":[100,100,100,100],\"type\":\"bar\"}],                        {\"legend\":{\"bgcolor\":\"#F5F6F9\",\"font\":{\"color\":\"#4D5663\"}},\"paper_bgcolor\":\"#F5F6F9\",\"plot_bgcolor\":\"#F5F6F9\",\"template\":{\"data\":{\"barpolar\":[{\"marker\":{\"line\":{\"color\":\"#E5ECF6\",\"width\":0.5},\"pattern\":{\"fillmode\":\"overlay\",\"size\":10,\"solidity\":0.2}},\"type\":\"barpolar\"}],\"bar\":[{\"error_x\":{\"color\":\"#2a3f5f\"},\"error_y\":{\"color\":\"#2a3f5f\"},\"marker\":{\"line\":{\"color\":\"#E5ECF6\",\"width\":0.5},\"pattern\":{\"fillmode\":\"overlay\",\"size\":10,\"solidity\":0.2}},\"type\":\"bar\"}],\"carpet\":[{\"aaxis\":{\"endlinecolor\":\"#2a3f5f\",\"gridcolor\":\"white\",\"linecolor\":\"white\",\"minorgridcolor\":\"white\",\"startlinecolor\":\"#2a3f5f\"},\"baxis\":{\"endlinecolor\":\"#2a3f5f\",\"gridcolor\":\"white\",\"linecolor\":\"white\",\"minorgridcolor\":\"white\",\"startlinecolor\":\"#2a3f5f\"},\"type\":\"carpet\"}],\"choropleth\":[{\"colorbar\":{\"outlinewidth\":0,\"ticks\":\"\"},\"type\":\"choropleth\"}],\"contourcarpet\":[{\"colorbar\":{\"outlinewidth\":0,\"ticks\":\"\"},\"type\":\"contourcarpet\"}],\"contour\":[{\"colorbar\":{\"outlinewidth\":0,\"ticks\":\"\"},\"colorscale\":[[0.0,\"#0d0887\"],[0.1111111111111111,\"#46039f\"],[0.2222222222222222,\"#7201a8\"],[0.3333333333333333,\"#9c179e\"],[0.4444444444444444,\"#bd3786\"],[0.5555555555555556,\"#d8576b\"],[0.6666666666666666,\"#ed7953\"],[0.7777777777777778,\"#fb9f3a\"],[0.8888888888888888,\"#fdca26\"],[1.0,\"#f0f921\"]],\"type\":\"contour\"}],\"heatmapgl\":[{\"colorbar\":{\"outlinewidth\":0,\"ticks\":\"\"},\"colorscale\":[[0.0,\"#0d0887\"],[0.1111111111111111,\"#46039f\"],[0.2222222222222222,\"#7201a8\"],[0.3333333333333333,\"#9c179e\"],[0.4444444444444444,\"#bd3786\"],[0.5555555555555556,\"#d8576b\"],[0.6666666666666666,\"#ed7953\"],[0.7777777777777778,\"#fb9f3a\"],[0.8888888888888888,\"#fdca26\"],[1.0,\"#f0f921\"]],\"type\":\"heatmapgl\"}],\"heatmap\":[{\"colorbar\":{\"outlinewidth\":0,\"ticks\":\"\"},\"colorscale\":[[0.0,\"#0d0887\"],[0.1111111111111111,\"#46039f\"],[0.2222222222222222,\"#7201a8\"],[0.3333333333333333,\"#9c179e\"],[0.4444444444444444,\"#bd3786\"],[0.5555555555555556,\"#d8576b\"],[0.6666666666666666,\"#ed7953\"],[0.7777777777777778,\"#fb9f3a\"],[0.8888888888888888,\"#fdca26\"],[1.0,\"#f0f921\"]],\"type\":\"heatmap\"}],\"histogram2dcontour\":[{\"colorbar\":{\"outlinewidth\":0,\"ticks\":\"\"},\"colorscale\":[[0.0,\"#0d0887\"],[0.1111111111111111,\"#46039f\"],[0.2222222222222222,\"#7201a8\"],[0.3333333333333333,\"#9c179e\"],[0.4444444444444444,\"#bd3786\"],[0.5555555555555556,\"#d8576b\"],[0.6666666666666666,\"#ed7953\"],[0.7777777777777778,\"#fb9f3a\"],[0.8888888888888888,\"#fdca26\"],[1.0,\"#f0f921\"]],\"type\":\"histogram2dcontour\"}],\"histogram2d\":[{\"colorbar\":{\"outlinewidth\":0,\"ticks\":\"\"},\"colorscale\":[[0.0,\"#0d0887\"],[0.1111111111111111,\"#46039f\"],[0.2222222222222222,\"#7201a8\"],[0.3333333333333333,\"#9c179e\"],[0.4444444444444444,\"#bd3786\"],[0.5555555555555556,\"#d8576b\"],[0.6666666666666666,\"#ed7953\"],[0.7777777777777778,\"#fb9f3a\"],[0.8888888888888888,\"#fdca26\"],[1.0,\"#f0f921\"]],\"type\":\"histogram2d\"}],\"histogram\":[{\"marker\":{\"pattern\":{\"fillmode\":\"overlay\",\"size\":10,\"solidity\":0.2}},\"type\":\"histogram\"}],\"mesh3d\":[{\"colorbar\":{\"outlinewidth\":0,\"ticks\":\"\"},\"type\":\"mesh3d\"}],\"parcoords\":[{\"line\":{\"colorbar\":{\"outlinewidth\":0,\"ticks\":\"\"}},\"type\":\"parcoords\"}],\"pie\":[{\"automargin\":true,\"type\":\"pie\"}],\"scatter3d\":[{\"line\":{\"colorbar\":{\"outlinewidth\":0,\"ticks\":\"\"}},\"marker\":{\"colorbar\":{\"outlinewidth\":0,\"ticks\":\"\"}},\"type\":\"scatter3d\"}],\"scattercarpet\":[{\"marker\":{\"colorbar\":{\"outlinewidth\":0,\"ticks\":\"\"}},\"type\":\"scattercarpet\"}],\"scattergeo\":[{\"marker\":{\"colorbar\":{\"outlinewidth\":0,\"ticks\":\"\"}},\"type\":\"scattergeo\"}],\"scattergl\":[{\"marker\":{\"colorbar\":{\"outlinewidth\":0,\"ticks\":\"\"}},\"type\":\"scattergl\"}],\"scattermapbox\":[{\"marker\":{\"colorbar\":{\"outlinewidth\":0,\"ticks\":\"\"}},\"type\":\"scattermapbox\"}],\"scatterpolargl\":[{\"marker\":{\"colorbar\":{\"outlinewidth\":0,\"ticks\":\"\"}},\"type\":\"scatterpolargl\"}],\"scatterpolar\":[{\"marker\":{\"colorbar\":{\"outlinewidth\":0,\"ticks\":\"\"}},\"type\":\"scatterpolar\"}],\"scatter\":[{\"fillpattern\":{\"fillmode\":\"overlay\",\"size\":10,\"solidity\":0.2},\"type\":\"scatter\"}],\"scatterternary\":[{\"marker\":{\"colorbar\":{\"outlinewidth\":0,\"ticks\":\"\"}},\"type\":\"scatterternary\"}],\"surface\":[{\"colorbar\":{\"outlinewidth\":0,\"ticks\":\"\"},\"colorscale\":[[0.0,\"#0d0887\"],[0.1111111111111111,\"#46039f\"],[0.2222222222222222,\"#7201a8\"],[0.3333333333333333,\"#9c179e\"],[0.4444444444444444,\"#bd3786\"],[0.5555555555555556,\"#d8576b\"],[0.6666666666666666,\"#ed7953\"],[0.7777777777777778,\"#fb9f3a\"],[0.8888888888888888,\"#fdca26\"],[1.0,\"#f0f921\"]],\"type\":\"surface\"}],\"table\":[{\"cells\":{\"fill\":{\"color\":\"#EBF0F8\"},\"line\":{\"color\":\"white\"}},\"header\":{\"fill\":{\"color\":\"#C8D4E3\"},\"line\":{\"color\":\"white\"}},\"type\":\"table\"}]},\"layout\":{\"annotationdefaults\":{\"arrowcolor\":\"#2a3f5f\",\"arrowhead\":0,\"arrowwidth\":1},\"autotypenumbers\":\"strict\",\"coloraxis\":{\"colorbar\":{\"outlinewidth\":0,\"ticks\":\"\"}},\"colorscale\":{\"diverging\":[[0,\"#8e0152\"],[0.1,\"#c51b7d\"],[0.2,\"#de77ae\"],[0.3,\"#f1b6da\"],[0.4,\"#fde0ef\"],[0.5,\"#f7f7f7\"],[0.6,\"#e6f5d0\"],[0.7,\"#b8e186\"],[0.8,\"#7fbc41\"],[0.9,\"#4d9221\"],[1,\"#276419\"]],\"sequential\":[[0.0,\"#0d0887\"],[0.1111111111111111,\"#46039f\"],[0.2222222222222222,\"#7201a8\"],[0.3333333333333333,\"#9c179e\"],[0.4444444444444444,\"#bd3786\"],[0.5555555555555556,\"#d8576b\"],[0.6666666666666666,\"#ed7953\"],[0.7777777777777778,\"#fb9f3a\"],[0.8888888888888888,\"#fdca26\"],[1.0,\"#f0f921\"]],\"sequentialminus\":[[0.0,\"#0d0887\"],[0.1111111111111111,\"#46039f\"],[0.2222222222222222,\"#7201a8\"],[0.3333333333333333,\"#9c179e\"],[0.4444444444444444,\"#bd3786\"],[0.5555555555555556,\"#d8576b\"],[0.6666666666666666,\"#ed7953\"],[0.7777777777777778,\"#fb9f3a\"],[0.8888888888888888,\"#fdca26\"],[1.0,\"#f0f921\"]]},\"colorway\":[\"#636efa\",\"#EF553B\",\"#00cc96\",\"#ab63fa\",\"#FFA15A\",\"#19d3f3\",\"#FF6692\",\"#B6E880\",\"#FF97FF\",\"#FECB52\"],\"font\":{\"color\":\"#2a3f5f\"},\"geo\":{\"bgcolor\":\"white\",\"lakecolor\":\"white\",\"landcolor\":\"#E5ECF6\",\"showlakes\":true,\"showland\":true,\"subunitcolor\":\"white\"},\"hoverlabel\":{\"align\":\"left\"},\"hovermode\":\"closest\",\"mapbox\":{\"style\":\"light\"},\"paper_bgcolor\":\"white\",\"plot_bgcolor\":\"#E5ECF6\",\"polar\":{\"angularaxis\":{\"gridcolor\":\"white\",\"linecolor\":\"white\",\"ticks\":\"\"},\"bgcolor\":\"#E5ECF6\",\"radialaxis\":{\"gridcolor\":\"white\",\"linecolor\":\"white\",\"ticks\":\"\"}},\"scene\":{\"xaxis\":{\"backgroundcolor\":\"#E5ECF6\",\"gridcolor\":\"white\",\"gridwidth\":2,\"linecolor\":\"white\",\"showbackground\":true,\"ticks\":\"\",\"zerolinecolor\":\"white\"},\"yaxis\":{\"backgroundcolor\":\"#E5ECF6\",\"gridcolor\":\"white\",\"gridwidth\":2,\"linecolor\":\"white\",\"showbackground\":true,\"ticks\":\"\",\"zerolinecolor\":\"white\"},\"zaxis\":{\"backgroundcolor\":\"#E5ECF6\",\"gridcolor\":\"white\",\"gridwidth\":2,\"linecolor\":\"white\",\"showbackground\":true,\"ticks\":\"\",\"zerolinecolor\":\"white\"}},\"shapedefaults\":{\"line\":{\"color\":\"#2a3f5f\"}},\"ternary\":{\"aaxis\":{\"gridcolor\":\"white\",\"linecolor\":\"white\",\"ticks\":\"\"},\"baxis\":{\"gridcolor\":\"white\",\"linecolor\":\"white\",\"ticks\":\"\"},\"bgcolor\":\"#E5ECF6\",\"caxis\":{\"gridcolor\":\"white\",\"linecolor\":\"white\",\"ticks\":\"\"}},\"title\":{\"x\":0.05},\"xaxis\":{\"automargin\":true,\"gridcolor\":\"white\",\"linecolor\":\"white\",\"ticks\":\"\",\"title\":{\"standoff\":15},\"zerolinecolor\":\"white\",\"zerolinewidth\":2},\"yaxis\":{\"automargin\":true,\"gridcolor\":\"white\",\"linecolor\":\"white\",\"ticks\":\"\",\"title\":{\"standoff\":15},\"zerolinecolor\":\"white\",\"zerolinewidth\":2}}},\"title\":{\"font\":{\"color\":\"#4D5663\"}},\"xaxis\":{\"gridcolor\":\"#E1E5ED\",\"showgrid\":true,\"tickfont\":{\"color\":\"#4D5663\"},\"title\":{\"font\":{\"color\":\"#4D5663\"},\"text\":\"\"},\"zerolinecolor\":\"#E1E5ED\"},\"yaxis\":{\"gridcolor\":\"#E1E5ED\",\"showgrid\":true,\"tickfont\":{\"color\":\"#4D5663\"},\"title\":{\"font\":{\"color\":\"#4D5663\"},\"text\":\"\"},\"zerolinecolor\":\"#E1E5ED\"}},                        {\"showLink\": true, \"linkText\": \"Export to plot.ly\", \"plotlyServerURL\": \"https://plot.ly\", \"responsive\": true}                    ).then(function(){\n",
       "                            \n",
       "var gd = document.getElementById('52bd24b7-b1ee-4af9-909f-9613b2bae73d');\n",
       "var x = new MutationObserver(function (mutations, observer) {{\n",
       "        var display = window.getComputedStyle(gd).display;\n",
       "        if (!display || display === 'none') {{\n",
       "            console.log([gd, 'removed!']);\n",
       "            Plotly.purge(gd);\n",
       "            observer.disconnect();\n",
       "        }}\n",
       "}});\n",
       "\n",
       "// Listen for the removal of the full notebook cells\n",
       "var notebookContainer = gd.closest('#notebook-container');\n",
       "if (notebookContainer) {{\n",
       "    x.observe(notebookContainer, {childList: true});\n",
       "}}\n",
       "\n",
       "// Listen for the clearing of the current output cell\n",
       "var outputEl = gd.closest('.output');\n",
       "if (outputEl) {{\n",
       "    x.observe(outputEl, {childList: true});\n",
       "}}\n",
       "\n",
       "                        })                };                });            </script>        </div>"
      ]
     },
     "metadata": {},
     "output_type": "display_data"
    }
   ],
   "source": [
    "df.count().iplot(kind='bar')"
   ]
  },
  {
   "cell_type": "code",
   "execution_count": 18,
   "id": "dad6a759-ea7f-41ce-b60f-16adaa961c1f",
   "metadata": {
    "tags": []
   },
   "outputs": [
    {
     "data": {
      "application/vnd.plotly.v1+json": {
       "config": {
        "linkText": "Export to plot.ly",
        "plotlyServerURL": "https://plot.ly",
        "showLink": true
       },
       "data": [
        {
         "boxpoints": false,
         "line": {
          "width": 1.3
         },
         "marker": {
          "color": "rgba(255, 153, 51, 1.0)"
         },
         "name": "A",
         "orientation": "v",
         "type": "box",
         "y": [
          -1.689013611401692,
          -0.2620555553672706,
          -1.0905182782420468,
          -0.27552541933586294,
          0.9184354042241115,
          -0.5621818322927444,
          0.1940834769484241,
          -1.2428318810669599,
          1.1565639609098832,
          -0.7159038857835119,
          -1.4930413374875058,
          0.05438291025550391,
          -0.42353875642862443,
          -0.5348416964848348,
          -1.4155827777983954,
          -0.1849577018100514,
          0.7491800969806963,
          -1.0437095654351864,
          -1.1873612124573099,
          -0.7729780915256113,
          0.9496379884482529,
          0.9255701492107496,
          -0.501638433247438,
          -1.1783151959061486,
          -0.8955494409662109,
          1.4698531828563592,
          -1.1436323277550169,
          -1.7681377258450857,
          -0.2565917868314139,
          -0.39606902930789667,
          -0.5941801172680143,
          -0.4788818069438909,
          0.2506288071928819,
          -1.6237488851824275,
          -1.0305842506615535,
          -1.6275540773586008,
          -1.700152886003429,
          -0.372411772027708,
          0.9175915407031102,
          -1.4151591931408238,
          -0.8121806290435302,
          0.06861836826158521,
          -1.6119352099044117,
          -0.7596089449242701,
          -1.943278264794546,
          1.8498176061630773,
          1.175550561682719,
          0.4993858708120641,
          1.247799436365957,
          1.2207392162025483,
          1.5089596071403208,
          -0.6366671612876112,
          0.10731865339405362,
          2.054173334575546,
          0.005711412872327427,
          0.09639871400344464,
          -1.2573488641393633,
          0.5995204980870332,
          0.12312168661167397,
          -0.36020080076376304,
          0.26368325877658566,
          -2.1504215841781438,
          0.5649251993445709,
          -1.547372941339943,
          0.22834474433727533,
          0.806551393045147,
          0.14802656555688293,
          1.5938912289226514,
          -0.07223755226793076,
          -0.9816586144376963,
          -0.6525509152377631,
          -1.8197923548170925,
          -1.726313926184962,
          0.40558752810909987,
          -0.9084548194948895,
          0.7573284474309724,
          0.3202305886007857,
          1.0110403955293228,
          0.7641247132803324,
          -1.0494931766153843,
          0.4549331298008269,
          0.23567629090555364,
          -1.5990946993192952,
          1.1568983286804944,
          -0.5826571879288767,
          1.6841430138604359,
          2.025672191666682,
          -0.12564981184520735,
          0.16693373358090086,
          -0.2288882405142681,
          0.10422741050875683,
          0.6687521083134625,
          -0.43084762285217537,
          -1.051257481300054,
          -0.17197941465855776,
          0.7711145058102191,
          0.27938985909743863,
          -0.9022124330703055,
          0.20086585914909533,
          -0.17090597809922398
         ]
        },
        {
         "boxpoints": false,
         "line": {
          "width": 1.3
         },
         "marker": {
          "color": "rgba(55, 128, 191, 1.0)"
         },
         "name": "B",
         "orientation": "v",
         "type": "box",
         "y": [
          0.9502773190107969,
          0.272559636190263,
          -1.303101825309437,
          -0.09381558184786237,
          -0.7425319895675278,
          2.273858846399452,
          -0.0076088480932280725,
          1.055256682315736,
          0.48371263591801833,
          -1.2271224720190237,
          -0.1795973735439339,
          1.7263100690006208,
          -0.5999960394304096,
          0.6577097297404475,
          0.2013858793488651,
          0.21087228502570896,
          2.166890962505779,
          -0.7176365037245853,
          0.40286527063326677,
          0.908533645024215,
          -0.21050101484298916,
          -1.825832553714384,
          2.0975043715115915,
          0.3834142416861074,
          -1.7508999820502174,
          -0.1513665375010751,
          -1.671745096865534,
          -0.4022728913515091,
          -1.3676303716071965,
          -0.35084114074231604,
          1.3034917709001963,
          0.5515404381214328,
          2.3164422906696904,
          -0.20870242422817226,
          -1.7702561255131923,
          0.0205654950325439,
          -0.0703189491446735,
          1.3272322978976714,
          0.9185597202151164,
          0.3649069447133627,
          0.7513993430019263,
          0.4831934190904803,
          1.0069628917541271,
          -1.6616820260241512,
          -0.7108490077174401,
          -0.4959114783685054,
          0.6996972950770952,
          -1.5773772007368279,
          -1.150553485913242,
          1.0910272074641403,
          1.7003194924547553,
          0.8245785854839354,
          0.499761576040795,
          -1.4716913520129344,
          -1.2960912976668753,
          -0.10553209291936262,
          -1.851992109143555,
          -2.8675554445649953,
          -0.5578028633591723,
          0.3165737069580277,
          -0.9220963506515208,
          0.6337122906958443,
          0.30268560458542365,
          0.24543636395132995,
          -1.9019941545860948,
          -2.1487428642833186,
          -1.686182701548312,
          -0.774039594781683,
          2.2585904120016704,
          -0.8497090448368394,
          -1.3013139094581112,
          -0.6484716671551605,
          0.768852431511444,
          -1.9070800384087057,
          -0.032498105502017295,
          0.3205036547426345,
          1.1636215769870168,
          1.6842635415056044,
          0.01587583250461618,
          -1.0383160328028351,
          -0.625318310169787,
          0.2685185427535348,
          -0.42416251171391295,
          -2.717013022330864,
          -0.4259548580229847,
          -0.964332526482631,
          1.2982180675989476,
          0.6516125860532216,
          -0.17397116000633142,
          -0.665317923702325,
          -0.7246649245741666,
          -0.7641469483764428,
          -1.4694555427445888,
          0.7100508350291533,
          0.4903984699894906,
          1.144194691984651,
          -0.24328013883315086,
          0.6620100764590426,
          -0.7220685758723306,
          -1.184178736036595
         ]
        },
        {
         "boxpoints": false,
         "line": {
          "width": 1.3
         },
         "marker": {
          "color": "rgba(50, 171, 96, 1.0)"
         },
         "name": "C",
         "orientation": "v",
         "type": "box",
         "y": [
          1.0670596524816254,
          -0.30849062766826324,
          1.9944148697374593,
          0.14915773742989255,
          -0.22326632471896346,
          0.14783621212973516,
          -0.557136075262289,
          0.4208500801291917,
          1.038529240244335,
          -0.5836433583351291,
          0.02441495164410823,
          1.2089166064958705,
          -0.020760810922184812,
          -0.5648535667540748,
          -0.9011580899089295,
          0.08833366733331804,
          -0.993473639184813,
          -0.0962506946332271,
          1.1264755691841442,
          -0.3768311123048374,
          0.0898598689432183,
          1.2803105440393818,
          0.8623428880653546,
          -0.6574208122407675,
          -0.8355385250383953,
          -1.9974775867336272,
          0.8830106021213442,
          -0.36973487388376275,
          1.4659159144927045,
          0.42336041391720675,
          2.5603864620217016,
          -0.6880219400424132,
          -1.821088527601304,
          1.718673662801342,
          0.6721064326294207,
          -2.071482319795598,
          -0.0484920892275812,
          -1.2461394692985932,
          0.7489957022297827,
          0.5529629024974215,
          -2.03311310929843,
          0.01045803210099,
          0.1284306716366202,
          0.8308584521530431,
          -0.1522650587124568,
          -0.037680763710975465,
          -0.6666447203751162,
          -1.0467122466262393,
          0.0526620843553781,
          1.1938719912802396,
          0.4687287934924064,
          0.6190221887084402,
          -0.4393526339157279,
          -2.61364910718607,
          -0.06569086747521852,
          0.26259072784325516,
          -1.0217296508516522,
          0.3758143344672426,
          -0.9489799808200903,
          -0.27875655929918275,
          0.1637522499745189,
          -0.31929106361861104,
          -0.12488079300412282,
          -0.3982936196520458,
          -0.6112320236607485,
          -0.5953921004145888,
          -0.6028385860225983,
          -0.6664984937079161,
          0.6534124923453138,
          -0.26871990718477895,
          -0.6532024412579176,
          -1.328577102490758,
          0.5856460907762044,
          0.055458781298802065,
          0.004216611253562115,
          0.23359366955912206,
          1.342589059582487,
          -0.2656565659896192,
          -0.3355528217121,
          -0.6609428675991866,
          -0.6153565721218555,
          -1.2945403943127998,
          -0.24725946753637443,
          -0.4451124062824498,
          0.875178088562618,
          0.6811223647983086,
          -1.3874413592054038,
          -0.6818786973363528,
          1.4067044433323492,
          0.6642496916135224,
          -0.5795411917257935,
          -2.034417823679477,
          0.938049850338298,
          0.9025115753787057,
          -0.8921933940521692,
          -0.36056364335531543,
          0.5933685059440186,
          -0.8957891275190988,
          1.1663036979132806,
          0.018018137656288923
         ]
        },
        {
         "boxpoints": false,
         "line": {
          "width": 1.3
         },
         "marker": {
          "color": "rgba(128, 0, 128, 1.0)"
         },
         "name": "D",
         "orientation": "v",
         "type": "box",
         "y": [
          -1.8331680263704933,
          0.16594000677289453,
          0.9407809065584676,
          0.45351362519107635,
          -0.7122960862246221,
          -1.1540846477446114,
          0.03882816503439271,
          -1.0121067904883196,
          -0.28980739261944954,
          0.04406142266687603,
          -0.974027584882389,
          -0.10987384530309902,
          -0.045560084586197376,
          -0.9161595766624676,
          -0.8393392112726112,
          -1.5526025414070426,
          0.477086072684738,
          -0.13027939016404358,
          0.1216393414286856,
          0.4639576762788007,
          -0.27275894412400953,
          -1.7616005373770647,
          0.8249095855118894,
          -0.5328398516316064,
          0.9928394375801604,
          -0.0002649893921787394,
          0.4245643110011101,
          0.7237784712300664,
          -0.4184962851856109,
          1.5033391755793761,
          -0.3908071554514109,
          0.14614947750287421,
          0.3954647572143869,
          -0.17947229175245927,
          0.9967270248663036,
          -0.07617501330146617,
          -0.4148635485704284,
          -1.3130633196993866,
          2.1398755769366233,
          -0.7789329696823386,
          -0.4040872655362111,
          0.2816284513848978,
          -1.1829791338637683,
          0.22832289892780605,
          0.745714462830363,
          -1.3837989575532685,
          0.3998447518445543,
          -0.3959656178272657,
          -0.20920829279068978,
          0.862096596558899,
          -0.5130955804842601,
          0.6455975160658015,
          -0.8581979662946349,
          1.400223527351921,
          -1.4425909638877439,
          0.6829193577689148,
          0.026893903993907165,
          1.138675898260476,
          0.6237099249787496,
          -0.028900017807215423,
          -1.17730556557372,
          -0.6190312006454065,
          -0.5368543669796532,
          2.735585972707408,
          -1.1508342503961335,
          0.7652898887954792,
          -1.355544504661904,
          -0.11523929785241409,
          -0.9904843546323995,
          0.9763601918759133,
          -0.3228954974227774,
          0.3535850741902665,
          1.064897314034679,
          -1.005435771840754,
          1.9042468853240038,
          -0.5879586435665264,
          -1.225648227385583,
          -0.4376454864607781,
          -0.06807248171109306,
          -0.6381079440933566,
          0.3217214571432425,
          -1.2644767111128723,
          0.29979812840087583,
          -0.8614109908341414,
          -1.0087152282266134,
          0.35461193046226164,
          0.9030399087797852,
          -0.660933816552147,
          1.5170181504179212,
          -0.2420638618990673,
          0.5760363527720042,
          1.4433458260577132,
          1.394405932843069,
          -0.18557482070816925,
          -1.543226152308316,
          1.0028222362206056,
          1.705509565286719,
          0.04623972962883744,
          0.6327636786803752,
          -0.8773778151892596
         ]
        }
       ],
       "layout": {
        "autosize": true,
        "legend": {
         "bgcolor": "#F5F6F9",
         "font": {
          "color": "#4D5663"
         }
        },
        "paper_bgcolor": "#F5F6F9",
        "plot_bgcolor": "#F5F6F9",
        "template": {
         "data": {
          "bar": [
           {
            "error_x": {
             "color": "#2a3f5f"
            },
            "error_y": {
             "color": "#2a3f5f"
            },
            "marker": {
             "line": {
              "color": "#E5ECF6",
              "width": 0.5
             },
             "pattern": {
              "fillmode": "overlay",
              "size": 10,
              "solidity": 0.2
             }
            },
            "type": "bar"
           }
          ],
          "barpolar": [
           {
            "marker": {
             "line": {
              "color": "#E5ECF6",
              "width": 0.5
             },
             "pattern": {
              "fillmode": "overlay",
              "size": 10,
              "solidity": 0.2
             }
            },
            "type": "barpolar"
           }
          ],
          "carpet": [
           {
            "aaxis": {
             "endlinecolor": "#2a3f5f",
             "gridcolor": "white",
             "linecolor": "white",
             "minorgridcolor": "white",
             "startlinecolor": "#2a3f5f"
            },
            "baxis": {
             "endlinecolor": "#2a3f5f",
             "gridcolor": "white",
             "linecolor": "white",
             "minorgridcolor": "white",
             "startlinecolor": "#2a3f5f"
            },
            "type": "carpet"
           }
          ],
          "choropleth": [
           {
            "colorbar": {
             "outlinewidth": 0,
             "ticks": ""
            },
            "type": "choropleth"
           }
          ],
          "contour": [
           {
            "colorbar": {
             "outlinewidth": 0,
             "ticks": ""
            },
            "colorscale": [
             [
              0,
              "#0d0887"
             ],
             [
              0.1111111111111111,
              "#46039f"
             ],
             [
              0.2222222222222222,
              "#7201a8"
             ],
             [
              0.3333333333333333,
              "#9c179e"
             ],
             [
              0.4444444444444444,
              "#bd3786"
             ],
             [
              0.5555555555555556,
              "#d8576b"
             ],
             [
              0.6666666666666666,
              "#ed7953"
             ],
             [
              0.7777777777777778,
              "#fb9f3a"
             ],
             [
              0.8888888888888888,
              "#fdca26"
             ],
             [
              1,
              "#f0f921"
             ]
            ],
            "type": "contour"
           }
          ],
          "contourcarpet": [
           {
            "colorbar": {
             "outlinewidth": 0,
             "ticks": ""
            },
            "type": "contourcarpet"
           }
          ],
          "heatmap": [
           {
            "colorbar": {
             "outlinewidth": 0,
             "ticks": ""
            },
            "colorscale": [
             [
              0,
              "#0d0887"
             ],
             [
              0.1111111111111111,
              "#46039f"
             ],
             [
              0.2222222222222222,
              "#7201a8"
             ],
             [
              0.3333333333333333,
              "#9c179e"
             ],
             [
              0.4444444444444444,
              "#bd3786"
             ],
             [
              0.5555555555555556,
              "#d8576b"
             ],
             [
              0.6666666666666666,
              "#ed7953"
             ],
             [
              0.7777777777777778,
              "#fb9f3a"
             ],
             [
              0.8888888888888888,
              "#fdca26"
             ],
             [
              1,
              "#f0f921"
             ]
            ],
            "type": "heatmap"
           }
          ],
          "heatmapgl": [
           {
            "colorbar": {
             "outlinewidth": 0,
             "ticks": ""
            },
            "colorscale": [
             [
              0,
              "#0d0887"
             ],
             [
              0.1111111111111111,
              "#46039f"
             ],
             [
              0.2222222222222222,
              "#7201a8"
             ],
             [
              0.3333333333333333,
              "#9c179e"
             ],
             [
              0.4444444444444444,
              "#bd3786"
             ],
             [
              0.5555555555555556,
              "#d8576b"
             ],
             [
              0.6666666666666666,
              "#ed7953"
             ],
             [
              0.7777777777777778,
              "#fb9f3a"
             ],
             [
              0.8888888888888888,
              "#fdca26"
             ],
             [
              1,
              "#f0f921"
             ]
            ],
            "type": "heatmapgl"
           }
          ],
          "histogram": [
           {
            "marker": {
             "pattern": {
              "fillmode": "overlay",
              "size": 10,
              "solidity": 0.2
             }
            },
            "type": "histogram"
           }
          ],
          "histogram2d": [
           {
            "colorbar": {
             "outlinewidth": 0,
             "ticks": ""
            },
            "colorscale": [
             [
              0,
              "#0d0887"
             ],
             [
              0.1111111111111111,
              "#46039f"
             ],
             [
              0.2222222222222222,
              "#7201a8"
             ],
             [
              0.3333333333333333,
              "#9c179e"
             ],
             [
              0.4444444444444444,
              "#bd3786"
             ],
             [
              0.5555555555555556,
              "#d8576b"
             ],
             [
              0.6666666666666666,
              "#ed7953"
             ],
             [
              0.7777777777777778,
              "#fb9f3a"
             ],
             [
              0.8888888888888888,
              "#fdca26"
             ],
             [
              1,
              "#f0f921"
             ]
            ],
            "type": "histogram2d"
           }
          ],
          "histogram2dcontour": [
           {
            "colorbar": {
             "outlinewidth": 0,
             "ticks": ""
            },
            "colorscale": [
             [
              0,
              "#0d0887"
             ],
             [
              0.1111111111111111,
              "#46039f"
             ],
             [
              0.2222222222222222,
              "#7201a8"
             ],
             [
              0.3333333333333333,
              "#9c179e"
             ],
             [
              0.4444444444444444,
              "#bd3786"
             ],
             [
              0.5555555555555556,
              "#d8576b"
             ],
             [
              0.6666666666666666,
              "#ed7953"
             ],
             [
              0.7777777777777778,
              "#fb9f3a"
             ],
             [
              0.8888888888888888,
              "#fdca26"
             ],
             [
              1,
              "#f0f921"
             ]
            ],
            "type": "histogram2dcontour"
           }
          ],
          "mesh3d": [
           {
            "colorbar": {
             "outlinewidth": 0,
             "ticks": ""
            },
            "type": "mesh3d"
           }
          ],
          "parcoords": [
           {
            "line": {
             "colorbar": {
              "outlinewidth": 0,
              "ticks": ""
             }
            },
            "type": "parcoords"
           }
          ],
          "pie": [
           {
            "automargin": true,
            "type": "pie"
           }
          ],
          "scatter": [
           {
            "fillpattern": {
             "fillmode": "overlay",
             "size": 10,
             "solidity": 0.2
            },
            "type": "scatter"
           }
          ],
          "scatter3d": [
           {
            "line": {
             "colorbar": {
              "outlinewidth": 0,
              "ticks": ""
             }
            },
            "marker": {
             "colorbar": {
              "outlinewidth": 0,
              "ticks": ""
             }
            },
            "type": "scatter3d"
           }
          ],
          "scattercarpet": [
           {
            "marker": {
             "colorbar": {
              "outlinewidth": 0,
              "ticks": ""
             }
            },
            "type": "scattercarpet"
           }
          ],
          "scattergeo": [
           {
            "marker": {
             "colorbar": {
              "outlinewidth": 0,
              "ticks": ""
             }
            },
            "type": "scattergeo"
           }
          ],
          "scattergl": [
           {
            "marker": {
             "colorbar": {
              "outlinewidth": 0,
              "ticks": ""
             }
            },
            "type": "scattergl"
           }
          ],
          "scattermapbox": [
           {
            "marker": {
             "colorbar": {
              "outlinewidth": 0,
              "ticks": ""
             }
            },
            "type": "scattermapbox"
           }
          ],
          "scatterpolar": [
           {
            "marker": {
             "colorbar": {
              "outlinewidth": 0,
              "ticks": ""
             }
            },
            "type": "scatterpolar"
           }
          ],
          "scatterpolargl": [
           {
            "marker": {
             "colorbar": {
              "outlinewidth": 0,
              "ticks": ""
             }
            },
            "type": "scatterpolargl"
           }
          ],
          "scatterternary": [
           {
            "marker": {
             "colorbar": {
              "outlinewidth": 0,
              "ticks": ""
             }
            },
            "type": "scatterternary"
           }
          ],
          "surface": [
           {
            "colorbar": {
             "outlinewidth": 0,
             "ticks": ""
            },
            "colorscale": [
             [
              0,
              "#0d0887"
             ],
             [
              0.1111111111111111,
              "#46039f"
             ],
             [
              0.2222222222222222,
              "#7201a8"
             ],
             [
              0.3333333333333333,
              "#9c179e"
             ],
             [
              0.4444444444444444,
              "#bd3786"
             ],
             [
              0.5555555555555556,
              "#d8576b"
             ],
             [
              0.6666666666666666,
              "#ed7953"
             ],
             [
              0.7777777777777778,
              "#fb9f3a"
             ],
             [
              0.8888888888888888,
              "#fdca26"
             ],
             [
              1,
              "#f0f921"
             ]
            ],
            "type": "surface"
           }
          ],
          "table": [
           {
            "cells": {
             "fill": {
              "color": "#EBF0F8"
             },
             "line": {
              "color": "white"
             }
            },
            "header": {
             "fill": {
              "color": "#C8D4E3"
             },
             "line": {
              "color": "white"
             }
            },
            "type": "table"
           }
          ]
         },
         "layout": {
          "annotationdefaults": {
           "arrowcolor": "#2a3f5f",
           "arrowhead": 0,
           "arrowwidth": 1
          },
          "autotypenumbers": "strict",
          "coloraxis": {
           "colorbar": {
            "outlinewidth": 0,
            "ticks": ""
           }
          },
          "colorscale": {
           "diverging": [
            [
             0,
             "#8e0152"
            ],
            [
             0.1,
             "#c51b7d"
            ],
            [
             0.2,
             "#de77ae"
            ],
            [
             0.3,
             "#f1b6da"
            ],
            [
             0.4,
             "#fde0ef"
            ],
            [
             0.5,
             "#f7f7f7"
            ],
            [
             0.6,
             "#e6f5d0"
            ],
            [
             0.7,
             "#b8e186"
            ],
            [
             0.8,
             "#7fbc41"
            ],
            [
             0.9,
             "#4d9221"
            ],
            [
             1,
             "#276419"
            ]
           ],
           "sequential": [
            [
             0,
             "#0d0887"
            ],
            [
             0.1111111111111111,
             "#46039f"
            ],
            [
             0.2222222222222222,
             "#7201a8"
            ],
            [
             0.3333333333333333,
             "#9c179e"
            ],
            [
             0.4444444444444444,
             "#bd3786"
            ],
            [
             0.5555555555555556,
             "#d8576b"
            ],
            [
             0.6666666666666666,
             "#ed7953"
            ],
            [
             0.7777777777777778,
             "#fb9f3a"
            ],
            [
             0.8888888888888888,
             "#fdca26"
            ],
            [
             1,
             "#f0f921"
            ]
           ],
           "sequentialminus": [
            [
             0,
             "#0d0887"
            ],
            [
             0.1111111111111111,
             "#46039f"
            ],
            [
             0.2222222222222222,
             "#7201a8"
            ],
            [
             0.3333333333333333,
             "#9c179e"
            ],
            [
             0.4444444444444444,
             "#bd3786"
            ],
            [
             0.5555555555555556,
             "#d8576b"
            ],
            [
             0.6666666666666666,
             "#ed7953"
            ],
            [
             0.7777777777777778,
             "#fb9f3a"
            ],
            [
             0.8888888888888888,
             "#fdca26"
            ],
            [
             1,
             "#f0f921"
            ]
           ]
          },
          "colorway": [
           "#636efa",
           "#EF553B",
           "#00cc96",
           "#ab63fa",
           "#FFA15A",
           "#19d3f3",
           "#FF6692",
           "#B6E880",
           "#FF97FF",
           "#FECB52"
          ],
          "font": {
           "color": "#2a3f5f"
          },
          "geo": {
           "bgcolor": "white",
           "lakecolor": "white",
           "landcolor": "#E5ECF6",
           "showlakes": true,
           "showland": true,
           "subunitcolor": "white"
          },
          "hoverlabel": {
           "align": "left"
          },
          "hovermode": "closest",
          "mapbox": {
           "style": "light"
          },
          "paper_bgcolor": "white",
          "plot_bgcolor": "#E5ECF6",
          "polar": {
           "angularaxis": {
            "gridcolor": "white",
            "linecolor": "white",
            "ticks": ""
           },
           "bgcolor": "#E5ECF6",
           "radialaxis": {
            "gridcolor": "white",
            "linecolor": "white",
            "ticks": ""
           }
          },
          "scene": {
           "xaxis": {
            "backgroundcolor": "#E5ECF6",
            "gridcolor": "white",
            "gridwidth": 2,
            "linecolor": "white",
            "showbackground": true,
            "ticks": "",
            "zerolinecolor": "white"
           },
           "yaxis": {
            "backgroundcolor": "#E5ECF6",
            "gridcolor": "white",
            "gridwidth": 2,
            "linecolor": "white",
            "showbackground": true,
            "ticks": "",
            "zerolinecolor": "white"
           },
           "zaxis": {
            "backgroundcolor": "#E5ECF6",
            "gridcolor": "white",
            "gridwidth": 2,
            "linecolor": "white",
            "showbackground": true,
            "ticks": "",
            "zerolinecolor": "white"
           }
          },
          "shapedefaults": {
           "line": {
            "color": "#2a3f5f"
           }
          },
          "ternary": {
           "aaxis": {
            "gridcolor": "white",
            "linecolor": "white",
            "ticks": ""
           },
           "baxis": {
            "gridcolor": "white",
            "linecolor": "white",
            "ticks": ""
           },
           "bgcolor": "#E5ECF6",
           "caxis": {
            "gridcolor": "white",
            "linecolor": "white",
            "ticks": ""
           }
          },
          "title": {
           "x": 0.05
          },
          "xaxis": {
           "automargin": true,
           "gridcolor": "white",
           "linecolor": "white",
           "ticks": "",
           "title": {
            "standoff": 15
           },
           "zerolinecolor": "white",
           "zerolinewidth": 2
          },
          "yaxis": {
           "automargin": true,
           "gridcolor": "white",
           "linecolor": "white",
           "ticks": "",
           "title": {
            "standoff": 15
           },
           "zerolinecolor": "white",
           "zerolinewidth": 2
          }
         }
        },
        "title": {
         "font": {
          "color": "#4D5663"
         }
        },
        "xaxis": {
         "autorange": true,
         "gridcolor": "#E1E5ED",
         "range": [
          -0.5,
          3.5
         ],
         "showgrid": true,
         "tickfont": {
          "color": "#4D5663"
         },
         "title": {
          "font": {
           "color": "#4D5663"
          },
          "text": ""
         },
         "type": "category",
         "zerolinecolor": "#E1E5ED"
        },
        "yaxis": {
         "autorange": true,
         "gridcolor": "#E1E5ED",
         "range": [
          -3.1788410788579067,
          3.0468716070003192
         ],
         "showgrid": true,
         "tickfont": {
          "color": "#4D5663"
         },
         "title": {
          "font": {
           "color": "#4D5663"
          },
          "text": ""
         },
         "type": "linear",
         "zerolinecolor": "#E1E5ED"
        }
       }
      },
      "image/png": "[encoded data removed]",
      "text/html": [
       "<div>                            <div id=\"1ed69e50-192f-4ccf-908c-e9bdea9773a6\" class=\"plotly-graph-div\" style=\"height:525px; width:100%;\"></div>            <script type=\"text/javascript\">                require([\"plotly\"], function(Plotly) {                    window.PLOTLYENV=window.PLOTLYENV || {};\n",
       "                    window.PLOTLYENV.BASE_URL='https://plot.ly';                                    if (document.getElementById(\"1ed69e50-192f-4ccf-908c-e9bdea9773a6\")) {                    Plotly.newPlot(                        \"1ed69e50-192f-4ccf-908c-e9bdea9773a6\",                        [{\"boxpoints\":false,\"line\":{\"width\":1.3},\"marker\":{\"color\":\"rgba(255, 153, 51, 1.0)\"},\"name\":\"A\",\"orientation\":\"v\",\"y\":[-1.689013611401692,-0.2620555553672706,-1.0905182782420468,-0.27552541933586294,0.9184354042241115,-0.5621818322927444,0.1940834769484241,-1.2428318810669599,1.1565639609098832,-0.7159038857835119,-1.4930413374875058,0.05438291025550391,-0.42353875642862443,-0.5348416964848348,-1.4155827777983954,-0.1849577018100514,0.7491800969806963,-1.0437095654351864,-1.1873612124573099,-0.7729780915256113,0.9496379884482529,0.9255701492107496,-0.501638433247438,-1.1783151959061486,-0.8955494409662109,1.4698531828563592,-1.1436323277550169,-1.7681377258450857,-0.2565917868314139,-0.39606902930789667,-0.5941801172680143,-0.4788818069438909,0.2506288071928819,-1.6237488851824275,-1.0305842506615535,-1.6275540773586008,-1.700152886003429,-0.372411772027708,0.9175915407031102,-1.4151591931408238,-0.8121806290435302,0.06861836826158521,-1.6119352099044117,-0.7596089449242701,-1.943278264794546,1.8498176061630773,1.175550561682719,0.4993858708120641,1.247799436365957,1.2207392162025483,1.5089596071403208,-0.6366671612876112,0.10731865339405362,2.054173334575546,0.005711412872327427,0.09639871400344464,-1.2573488641393633,0.5995204980870332,0.12312168661167397,-0.36020080076376304,0.26368325877658566,-2.1504215841781438,0.5649251993445709,-1.547372941339943,0.22834474433727533,0.806551393045147,0.14802656555688293,1.5938912289226514,-0.07223755226793076,-0.9816586144376963,-0.6525509152377631,-1.8197923548170925,-1.726313926184962,0.40558752810909987,-0.9084548194948895,0.7573284474309724,0.3202305886007857,1.0110403955293228,0.7641247132803324,-1.0494931766153843,0.4549331298008269,0.23567629090555364,-1.5990946993192952,1.1568983286804944,-0.5826571879288767,1.6841430138604359,2.025672191666682,-0.12564981184520735,0.16693373358090086,-0.2288882405142681,0.10422741050875683,0.6687521083134625,-0.43084762285217537,-1.051257481300054,-0.17197941465855776,0.7711145058102191,0.27938985909743863,-0.9022124330703055,0.20086585914909533,-0.17090597809922398],\"type\":\"box\"},{\"boxpoints\":false,\"line\":{\"width\":1.3},\"marker\":{\"color\":\"rgba(55, 128, 191, 1.0)\"},\"name\":\"B\",\"orientation\":\"v\",\"y\":[0.9502773190107969,0.272559636190263,-1.303101825309437,-0.09381558184786237,-0.7425319895675278,2.273858846399452,-0.0076088480932280725,1.055256682315736,0.48371263591801833,-1.2271224720190237,-0.1795973735439339,1.7263100690006208,-0.5999960394304096,0.6577097297404475,0.2013858793488651,0.21087228502570896,2.166890962505779,-0.7176365037245853,0.40286527063326677,0.908533645024215,-0.21050101484298916,-1.825832553714384,2.0975043715115915,0.3834142416861074,-1.7508999820502174,-0.1513665375010751,-1.671745096865534,-0.4022728913515091,-1.3676303716071965,-0.35084114074231604,1.3034917709001963,0.5515404381214328,2.3164422906696904,-0.20870242422817226,-1.7702561255131923,0.0205654950325439,-0.0703189491446735,1.3272322978976714,0.9185597202151164,0.3649069447133627,0.7513993430019263,0.4831934190904803,1.0069628917541271,-1.6616820260241512,-0.7108490077174401,-0.4959114783685054,0.6996972950770952,-1.5773772007368279,-1.150553485913242,1.0910272074641403,1.7003194924547553,0.8245785854839354,0.499761576040795,-1.4716913520129344,-1.2960912976668753,-0.10553209291936262,-1.851992109143555,-2.8675554445649953,-0.5578028633591723,0.3165737069580277,-0.9220963506515208,0.6337122906958443,0.30268560458542365,0.24543636395132995,-1.9019941545860948,-2.1487428642833186,-1.686182701548312,-0.774039594781683,2.2585904120016704,-0.8497090448368394,-1.3013139094581112,-0.6484716671551605,0.768852431511444,-1.9070800384087057,-0.032498105502017295,0.3205036547426345,1.1636215769870168,1.6842635415056044,0.01587583250461618,-1.0383160328028351,-0.625318310169787,0.2685185427535348,-0.42416251171391295,-2.717013022330864,-0.4259548580229847,-0.964332526482631,1.2982180675989476,0.6516125860532216,-0.17397116000633142,-0.665317923702325,-0.7246649245741666,-0.7641469483764428,-1.4694555427445888,0.7100508350291533,0.4903984699894906,1.144194691984651,-0.24328013883315086,0.6620100764590426,-0.7220685758723306,-1.184178736036595],\"type\":\"box\"},{\"boxpoints\":false,\"line\":{\"width\":1.3},\"marker\":{\"color\":\"rgba(50, 171, 96, 1.0)\"},\"name\":\"C\",\"orientation\":\"v\",\"y\":[1.0670596524816254,-0.30849062766826324,1.9944148697374593,0.14915773742989255,-0.22326632471896346,0.14783621212973516,-0.557136075262289,0.4208500801291917,1.038529240244335,-0.5836433583351291,0.02441495164410823,1.2089166064958705,-0.020760810922184812,-0.5648535667540748,-0.9011580899089295,0.08833366733331804,-0.993473639184813,-0.0962506946332271,1.1264755691841442,-0.3768311123048374,0.0898598689432183,1.2803105440393818,0.8623428880653546,-0.6574208122407675,-0.8355385250383953,-1.9974775867336272,0.8830106021213442,-0.36973487388376275,1.4659159144927045,0.42336041391720675,2.5603864620217016,-0.6880219400424132,-1.821088527601304,1.718673662801342,0.6721064326294207,-2.071482319795598,-0.0484920892275812,-1.2461394692985932,0.7489957022297827,0.5529629024974215,-2.03311310929843,0.01045803210099,0.1284306716366202,0.8308584521530431,-0.1522650587124568,-0.037680763710975465,-0.6666447203751162,-1.0467122466262393,0.0526620843553781,1.1938719912802396,0.4687287934924064,0.6190221887084402,-0.4393526339157279,-2.61364910718607,-0.06569086747521852,0.26259072784325516,-1.0217296508516522,0.3758143344672426,-0.9489799808200903,-0.27875655929918275,0.1637522499745189,-0.31929106361861104,-0.12488079300412282,-0.3982936196520458,-0.6112320236607485,-0.5953921004145888,-0.6028385860225983,-0.6664984937079161,0.6534124923453138,-0.26871990718477895,-0.6532024412579176,-1.328577102490758,0.5856460907762044,0.055458781298802065,0.004216611253562115,0.23359366955912206,1.342589059582487,-0.2656565659896192,-0.3355528217121,-0.6609428675991866,-0.6153565721218555,-1.2945403943127998,-0.24725946753637443,-0.4451124062824498,0.875178088562618,0.6811223647983086,-1.3874413592054038,-0.6818786973363528,1.4067044433323492,0.6642496916135224,-0.5795411917257935,-2.034417823679477,0.938049850338298,0.9025115753787057,-0.8921933940521692,-0.36056364335531543,0.5933685059440186,-0.8957891275190988,1.1663036979132806,0.018018137656288923],\"type\":\"box\"},{\"boxpoints\":false,\"line\":{\"width\":1.3},\"marker\":{\"color\":\"rgba(128, 0, 128, 1.0)\"},\"name\":\"D\",\"orientation\":\"v\",\"y\":[-1.8331680263704933,0.16594000677289453,0.9407809065584676,0.45351362519107635,-0.7122960862246221,-1.1540846477446114,0.03882816503439271,-1.0121067904883196,-0.28980739261944954,0.04406142266687603,-0.974027584882389,-0.10987384530309902,-0.045560084586197376,-0.9161595766624676,-0.8393392112726112,-1.5526025414070426,0.477086072684738,-0.13027939016404358,0.1216393414286856,0.4639576762788007,-0.27275894412400953,-1.7616005373770647,0.8249095855118894,-0.5328398516316064,0.9928394375801604,-0.0002649893921787394,0.4245643110011101,0.7237784712300664,-0.4184962851856109,1.5033391755793761,-0.3908071554514109,0.14614947750287421,0.3954647572143869,-0.17947229175245927,0.9967270248663036,-0.07617501330146617,-0.4148635485704284,-1.3130633196993866,2.1398755769366233,-0.7789329696823386,-0.4040872655362111,0.2816284513848978,-1.1829791338637683,0.22832289892780605,0.745714462830363,-1.3837989575532685,0.3998447518445543,-0.3959656178272657,-0.20920829279068978,0.862096596558899,-0.5130955804842601,0.6455975160658015,-0.8581979662946349,1.400223527351921,-1.4425909638877439,0.6829193577689148,0.026893903993907165,1.138675898260476,0.6237099249787496,-0.028900017807215423,-1.17730556557372,-0.6190312006454065,-0.5368543669796532,2.735585972707408,-1.1508342503961335,0.7652898887954792,-1.355544504661904,-0.11523929785241409,-0.9904843546323995,0.9763601918759133,-0.3228954974227774,0.3535850741902665,1.064897314034679,-1.005435771840754,1.9042468853240038,-0.5879586435665264,-1.225648227385583,-0.4376454864607781,-0.06807248171109306,-0.6381079440933566,0.3217214571432425,-1.2644767111128723,0.29979812840087583,-0.8614109908341414,-1.0087152282266134,0.35461193046226164,0.9030399087797852,-0.660933816552147,1.5170181504179212,-0.2420638618990673,0.5760363527720042,1.4433458260577132,1.394405932843069,-0.18557482070816925,-1.543226152308316,1.0028222362206056,1.705509565286719,0.04623972962883744,0.6327636786803752,-0.8773778151892596],\"type\":\"box\"}],                        {\"legend\":{\"bgcolor\":\"#F5F6F9\",\"font\":{\"color\":\"#4D5663\"}},\"paper_bgcolor\":\"#F5F6F9\",\"plot_bgcolor\":\"#F5F6F9\",\"template\":{\"data\":{\"barpolar\":[{\"marker\":{\"line\":{\"color\":\"#E5ECF6\",\"width\":0.5},\"pattern\":{\"fillmode\":\"overlay\",\"size\":10,\"solidity\":0.2}},\"type\":\"barpolar\"}],\"bar\":[{\"error_x\":{\"color\":\"#2a3f5f\"},\"error_y\":{\"color\":\"#2a3f5f\"},\"marker\":{\"line\":{\"color\":\"#E5ECF6\",\"width\":0.5},\"pattern\":{\"fillmode\":\"overlay\",\"size\":10,\"solidity\":0.2}},\"type\":\"bar\"}],\"carpet\":[{\"aaxis\":{\"endlinecolor\":\"#2a3f5f\",\"gridcolor\":\"white\",\"linecolor\":\"white\",\"minorgridcolor\":\"white\",\"startlinecolor\":\"#2a3f5f\"},\"baxis\":{\"endlinecolor\":\"#2a3f5f\",\"gridcolor\":\"white\",\"linecolor\":\"white\",\"minorgridcolor\":\"white\",\"startlinecolor\":\"#2a3f5f\"},\"type\":\"carpet\"}],\"choropleth\":[{\"colorbar\":{\"outlinewidth\":0,\"ticks\":\"\"},\"type\":\"choropleth\"}],\"contourcarpet\":[{\"colorbar\":{\"outlinewidth\":0,\"ticks\":\"\"},\"type\":\"contourcarpet\"}],\"contour\":[{\"colorbar\":{\"outlinewidth\":0,\"ticks\":\"\"},\"colorscale\":[[0.0,\"#0d0887\"],[0.1111111111111111,\"#46039f\"],[0.2222222222222222,\"#7201a8\"],[0.3333333333333333,\"#9c179e\"],[0.4444444444444444,\"#bd3786\"],[0.5555555555555556,\"#d8576b\"],[0.6666666666666666,\"#ed7953\"],[0.7777777777777778,\"#fb9f3a\"],[0.8888888888888888,\"#fdca26\"],[1.0,\"#f0f921\"]],\"type\":\"contour\"}],\"heatmapgl\":[{\"colorbar\":{\"outlinewidth\":0,\"ticks\":\"\"},\"colorscale\":[[0.0,\"#0d0887\"],[0.1111111111111111,\"#46039f\"],[0.2222222222222222,\"#7201a8\"],[0.3333333333333333,\"#9c179e\"],[0.4444444444444444,\"#bd3786\"],[0.5555555555555556,\"#d8576b\"],[0.6666666666666666,\"#ed7953\"],[0.7777777777777778,\"#fb9f3a\"],[0.8888888888888888,\"#fdca26\"],[1.0,\"#f0f921\"]],\"type\":\"heatmapgl\"}],\"heatmap\":[{\"colorbar\":{\"outlinewidth\":0,\"ticks\":\"\"},\"colorscale\":[[0.0,\"#0d0887\"],[0.1111111111111111,\"#46039f\"],[0.2222222222222222,\"#7201a8\"],[0.3333333333333333,\"#9c179e\"],[0.4444444444444444,\"#bd3786\"],[0.5555555555555556,\"#d8576b\"],[0.6666666666666666,\"#ed7953\"],[0.7777777777777778,\"#fb9f3a\"],[0.8888888888888888,\"#fdca26\"],[1.0,\"#f0f921\"]],\"type\":\"heatmap\"}],\"histogram2dcontour\":[{\"colorbar\":{\"outlinewidth\":0,\"ticks\":\"\"},\"colorscale\":[[0.0,\"#0d0887\"],[0.1111111111111111,\"#46039f\"],[0.2222222222222222,\"#7201a8\"],[0.3333333333333333,\"#9c179e\"],[0.4444444444444444,\"#bd3786\"],[0.5555555555555556,\"#d8576b\"],[0.6666666666666666,\"#ed7953\"],[0.7777777777777778,\"#fb9f3a\"],[0.8888888888888888,\"#fdca26\"],[1.0,\"#f0f921\"]],\"type\":\"histogram2dcontour\"}],\"histogram2d\":[{\"colorbar\":{\"outlinewidth\":0,\"ticks\":\"\"},\"colorscale\":[[0.0,\"#0d0887\"],[0.1111111111111111,\"#46039f\"],[0.2222222222222222,\"#7201a8\"],[0.3333333333333333,\"#9c179e\"],[0.4444444444444444,\"#bd3786\"],[0.5555555555555556,\"#d8576b\"],[0.6666666666666666,\"#ed7953\"],[0.7777777777777778,\"#fb9f3a\"],[0.8888888888888888,\"#fdca26\"],[1.0,\"#f0f921\"]],\"type\":\"histogram2d\"}],\"histogram\":[{\"marker\":{\"pattern\":{\"fillmode\":\"overlay\",\"size\":10,\"solidity\":0.2}},\"type\":\"histogram\"}],\"mesh3d\":[{\"colorbar\":{\"outlinewidth\":0,\"ticks\":\"\"},\"type\":\"mesh3d\"}],\"parcoords\":[{\"line\":{\"colorbar\":{\"outlinewidth\":0,\"ticks\":\"\"}},\"type\":\"parcoords\"}],\"pie\":[{\"automargin\":true,\"type\":\"pie\"}],\"scatter3d\":[{\"line\":{\"colorbar\":{\"outlinewidth\":0,\"ticks\":\"\"}},\"marker\":{\"colorbar\":{\"outlinewidth\":0,\"ticks\":\"\"}},\"type\":\"scatter3d\"}],\"scattercarpet\":[{\"marker\":{\"colorbar\":{\"outlinewidth\":0,\"ticks\":\"\"}},\"type\":\"scattercarpet\"}],\"scattergeo\":[{\"marker\":{\"colorbar\":{\"outlinewidth\":0,\"ticks\":\"\"}},\"type\":\"scattergeo\"}],\"scattergl\":[{\"marker\":{\"colorbar\":{\"outlinewidth\":0,\"ticks\":\"\"}},\"type\":\"scattergl\"}],\"scattermapbox\":[{\"marker\":{\"colorbar\":{\"outlinewidth\":0,\"ticks\":\"\"}},\"type\":\"scattermapbox\"}],\"scatterpolargl\":[{\"marker\":{\"colorbar\":{\"outlinewidth\":0,\"ticks\":\"\"}},\"type\":\"scatterpolargl\"}],\"scatterpolar\":[{\"marker\":{\"colorbar\":{\"outlinewidth\":0,\"ticks\":\"\"}},\"type\":\"scatterpolar\"}],\"scatter\":[{\"fillpattern\":{\"fillmode\":\"overlay\",\"size\":10,\"solidity\":0.2},\"type\":\"scatter\"}],\"scatterternary\":[{\"marker\":{\"colorbar\":{\"outlinewidth\":0,\"ticks\":\"\"}},\"type\":\"scatterternary\"}],\"surface\":[{\"colorbar\":{\"outlinewidth\":0,\"ticks\":\"\"},\"colorscale\":[[0.0,\"#0d0887\"],[0.1111111111111111,\"#46039f\"],[0.2222222222222222,\"#7201a8\"],[0.3333333333333333,\"#9c179e\"],[0.4444444444444444,\"#bd3786\"],[0.5555555555555556,\"#d8576b\"],[0.6666666666666666,\"#ed7953\"],[0.7777777777777778,\"#fb9f3a\"],[0.8888888888888888,\"#fdca26\"],[1.0,\"#f0f921\"]],\"type\":\"surface\"}],\"table\":[{\"cells\":{\"fill\":{\"color\":\"#EBF0F8\"},\"line\":{\"color\":\"white\"}},\"header\":{\"fill\":{\"color\":\"#C8D4E3\"},\"line\":{\"color\":\"white\"}},\"type\":\"table\"}]},\"layout\":{\"annotationdefaults\":{\"arrowcolor\":\"#2a3f5f\",\"arrowhead\":0,\"arrowwidth\":1},\"autotypenumbers\":\"strict\",\"coloraxis\":{\"colorbar\":{\"outlinewidth\":0,\"ticks\":\"\"}},\"colorscale\":{\"diverging\":[[0,\"#8e0152\"],[0.1,\"#c51b7d\"],[0.2,\"#de77ae\"],[0.3,\"#f1b6da\"],[0.4,\"#fde0ef\"],[0.5,\"#f7f7f7\"],[0.6,\"#e6f5d0\"],[0.7,\"#b8e186\"],[0.8,\"#7fbc41\"],[0.9,\"#4d9221\"],[1,\"#276419\"]],\"sequential\":[[0.0,\"#0d0887\"],[0.1111111111111111,\"#46039f\"],[0.2222222222222222,\"#7201a8\"],[0.3333333333333333,\"#9c179e\"],[0.4444444444444444,\"#bd3786\"],[0.5555555555555556,\"#d8576b\"],[0.6666666666666666,\"#ed7953\"],[0.7777777777777778,\"#fb9f3a\"],[0.8888888888888888,\"#fdca26\"],[1.0,\"#f0f921\"]],\"sequentialminus\":[[0.0,\"#0d0887\"],[0.1111111111111111,\"#46039f\"],[0.2222222222222222,\"#7201a8\"],[0.3333333333333333,\"#9c179e\"],[0.4444444444444444,\"#bd3786\"],[0.5555555555555556,\"#d8576b\"],[0.6666666666666666,\"#ed7953\"],[0.7777777777777778,\"#fb9f3a\"],[0.8888888888888888,\"#fdca26\"],[1.0,\"#f0f921\"]]},\"colorway\":[\"#636efa\",\"#EF553B\",\"#00cc96\",\"#ab63fa\",\"#FFA15A\",\"#19d3f3\",\"#FF6692\",\"#B6E880\",\"#FF97FF\",\"#FECB52\"],\"font\":{\"color\":\"#2a3f5f\"},\"geo\":{\"bgcolor\":\"white\",\"lakecolor\":\"white\",\"landcolor\":\"#E5ECF6\",\"showlakes\":true,\"showland\":true,\"subunitcolor\":\"white\"},\"hoverlabel\":{\"align\":\"left\"},\"hovermode\":\"closest\",\"mapbox\":{\"style\":\"light\"},\"paper_bgcolor\":\"white\",\"plot_bgcolor\":\"#E5ECF6\",\"polar\":{\"angularaxis\":{\"gridcolor\":\"white\",\"linecolor\":\"white\",\"ticks\":\"\"},\"bgcolor\":\"#E5ECF6\",\"radialaxis\":{\"gridcolor\":\"white\",\"linecolor\":\"white\",\"ticks\":\"\"}},\"scene\":{\"xaxis\":{\"backgroundcolor\":\"#E5ECF6\",\"gridcolor\":\"white\",\"gridwidth\":2,\"linecolor\":\"white\",\"showbackground\":true,\"ticks\":\"\",\"zerolinecolor\":\"white\"},\"yaxis\":{\"backgroundcolor\":\"#E5ECF6\",\"gridcolor\":\"white\",\"gridwidth\":2,\"linecolor\":\"white\",\"showbackground\":true,\"ticks\":\"\",\"zerolinecolor\":\"white\"},\"zaxis\":{\"backgroundcolor\":\"#E5ECF6\",\"gridcolor\":\"white\",\"gridwidth\":2,\"linecolor\":\"white\",\"showbackground\":true,\"ticks\":\"\",\"zerolinecolor\":\"white\"}},\"shapedefaults\":{\"line\":{\"color\":\"#2a3f5f\"}},\"ternary\":{\"aaxis\":{\"gridcolor\":\"white\",\"linecolor\":\"white\",\"ticks\":\"\"},\"baxis\":{\"gridcolor\":\"white\",\"linecolor\":\"white\",\"ticks\":\"\"},\"bgcolor\":\"#E5ECF6\",\"caxis\":{\"gridcolor\":\"white\",\"linecolor\":\"white\",\"ticks\":\"\"}},\"title\":{\"x\":0.05},\"xaxis\":{\"automargin\":true,\"gridcolor\":\"white\",\"linecolor\":\"white\",\"ticks\":\"\",\"title\":{\"standoff\":15},\"zerolinecolor\":\"white\",\"zerolinewidth\":2},\"yaxis\":{\"automargin\":true,\"gridcolor\":\"white\",\"linecolor\":\"white\",\"ticks\":\"\",\"title\":{\"standoff\":15},\"zerolinecolor\":\"white\",\"zerolinewidth\":2}}},\"title\":{\"font\":{\"color\":\"#4D5663\"}},\"xaxis\":{\"gridcolor\":\"#E1E5ED\",\"showgrid\":true,\"tickfont\":{\"color\":\"#4D5663\"},\"title\":{\"font\":{\"color\":\"#4D5663\"},\"text\":\"\"},\"zerolinecolor\":\"#E1E5ED\"},\"yaxis\":{\"gridcolor\":\"#E1E5ED\",\"showgrid\":true,\"tickfont\":{\"color\":\"#4D5663\"},\"title\":{\"font\":{\"color\":\"#4D5663\"},\"text\":\"\"},\"zerolinecolor\":\"#E1E5ED\"}},                        {\"showLink\": true, \"linkText\": \"Export to plot.ly\", \"plotlyServerURL\": \"https://plot.ly\", \"responsive\": true}                    ).then(function(){\n",
       "                            \n",
       "var gd = document.getElementById('1ed69e50-192f-4ccf-908c-e9bdea9773a6');\n",
       "var x = new MutationObserver(function (mutations, observer) {{\n",
       "        var display = window.getComputedStyle(gd).display;\n",
       "        if (!display || display === 'none') {{\n",
       "            console.log([gd, 'removed!']);\n",
       "            Plotly.purge(gd);\n",
       "            observer.disconnect();\n",
       "        }}\n",
       "}});\n",
       "\n",
       "// Listen for the removal of the full notebook cells\n",
       "var notebookContainer = gd.closest('#notebook-container');\n",
       "if (notebookContainer) {{\n",
       "    x.observe(notebookContainer, {childList: true});\n",
       "}}\n",
       "\n",
       "// Listen for the clearing of the current output cell\n",
       "var outputEl = gd.closest('.output');\n",
       "if (outputEl) {{\n",
       "    x.observe(outputEl, {childList: true});\n",
       "}}\n",
       "\n",
       "                        })                };                });            </script>        </div>"
      ]
     },
     "metadata": {},
     "output_type": "display_data"
    }
   ],
   "source": [
    "df.iplot(kind='box')"
   ]
  },
  {
   "cell_type": "code",
   "execution_count": 27,
   "id": "94cc85cc-0ee6-4824-83c1-f282d6496245",
   "metadata": {
    "tags": []
   },
   "outputs": [
    {
     "data": {
      "application/vnd.plotly.v1+json": {
       "config": {
        "linkText": "Export to plot.ly",
        "plotlyServerURL": "https://plot.ly",
        "showLink": true
       },
       "data": [
        {
         "colorscale": [
          [
           0,
           "rgb(165,0,38)"
          ],
          [
           0.1,
           "rgb(215,48,39)"
          ],
          [
           0.2,
           "rgb(244,109,67)"
          ],
          [
           0.3,
           "rgb(253,174,97)"
          ],
          [
           0.4,
           "rgb(254,224,144)"
          ],
          [
           0.5,
           "rgb(255,255,191)"
          ],
          [
           0.6,
           "rgb(224,243,248)"
          ],
          [
           0.7,
           "rgb(171,217,233)"
          ],
          [
           0.8,
           "rgb(116,173,209)"
          ],
          [
           0.9,
           "rgb(69,117,180)"
          ],
          [
           1,
           "rgb(49,54,149)"
          ]
         ],
         "type": "surface",
         "x": [
          0,
          1,
          2,
          3,
          4
         ],
         "y": [
          "x",
          "y",
          "z"
         ],
         "z": [
          [
           1,
           2,
           3,
           4,
           5
          ],
          [
           10,
           20,
           30,
           20,
           10
          ],
          [
           5,
           4,
           3,
           2,
           1
          ]
         ]
        }
       ],
       "layout": {
        "autosize": true,
        "dragmode": "zoom",
        "legend": {
         "bgcolor": "#F5F6F9",
         "font": {
          "color": "#4D5663"
         }
        },
        "paper_bgcolor": "#F5F6F9",
        "plot_bgcolor": "#F5F6F9",
        "scene": {
         "aspectmode": "auto",
         "aspectratio": {
          "x": 1,
          "y": 1,
          "z": 1
         },
         "camera": {
          "center": {
           "x": -0.12949967586103509,
           "y": -0.17791228114996613,
           "z": -0.09109903503015193
          },
          "eye": {
           "x": -1.7607997174739238,
           "y": 1.3604005720634609,
           "z": 1.3375740501234779
          },
          "projection": {
           "type": "perspective"
          },
          "up": {
           "x": 0,
           "y": 0,
           "z": 1
          }
         },
         "dragmode": "turntable"
        },
        "template": {
         "data": {
          "bar": [
           {
            "error_x": {
             "color": "#2a3f5f"
            },
            "error_y": {
             "color": "#2a3f5f"
            },
            "marker": {
             "line": {
              "color": "#E5ECF6",
              "width": 0.5
             },
             "pattern": {
              "fillmode": "overlay",
              "size": 10,
              "solidity": 0.2
             }
            },
            "type": "bar"
           }
          ],
          "barpolar": [
           {
            "marker": {
             "line": {
              "color": "#E5ECF6",
              "width": 0.5
             },
             "pattern": {
              "fillmode": "overlay",
              "size": 10,
              "solidity": 0.2
             }
            },
            "type": "barpolar"
           }
          ],
          "carpet": [
           {
            "aaxis": {
             "endlinecolor": "#2a3f5f",
             "gridcolor": "white",
             "linecolor": "white",
             "minorgridcolor": "white",
             "startlinecolor": "#2a3f5f"
            },
            "baxis": {
             "endlinecolor": "#2a3f5f",
             "gridcolor": "white",
             "linecolor": "white",
             "minorgridcolor": "white",
             "startlinecolor": "#2a3f5f"
            },
            "type": "carpet"
           }
          ],
          "choropleth": [
           {
            "colorbar": {
             "outlinewidth": 0,
             "ticks": ""
            },
            "type": "choropleth"
           }
          ],
          "contour": [
           {
            "colorbar": {
             "outlinewidth": 0,
             "ticks": ""
            },
            "colorscale": [
             [
              0,
              "#0d0887"
             ],
             [
              0.1111111111111111,
              "#46039f"
             ],
             [
              0.2222222222222222,
              "#7201a8"
             ],
             [
              0.3333333333333333,
              "#9c179e"
             ],
             [
              0.4444444444444444,
              "#bd3786"
             ],
             [
              0.5555555555555556,
              "#d8576b"
             ],
             [
              0.6666666666666666,
              "#ed7953"
             ],
             [
              0.7777777777777778,
              "#fb9f3a"
             ],
             [
              0.8888888888888888,
              "#fdca26"
             ],
             [
              1,
              "#f0f921"
             ]
            ],
            "type": "contour"
           }
          ],
          "contourcarpet": [
           {
            "colorbar": {
             "outlinewidth": 0,
             "ticks": ""
            },
            "type": "contourcarpet"
           }
          ],
          "heatmap": [
           {
            "colorbar": {
             "outlinewidth": 0,
             "ticks": ""
            },
            "colorscale": [
             [
              0,
              "#0d0887"
             ],
             [
              0.1111111111111111,
              "#46039f"
             ],
             [
              0.2222222222222222,
              "#7201a8"
             ],
             [
              0.3333333333333333,
              "#9c179e"
             ],
             [
              0.4444444444444444,
              "#bd3786"
             ],
             [
              0.5555555555555556,
              "#d8576b"
             ],
             [
              0.6666666666666666,
              "#ed7953"
             ],
             [
              0.7777777777777778,
              "#fb9f3a"
             ],
             [
              0.8888888888888888,
              "#fdca26"
             ],
             [
              1,
              "#f0f921"
             ]
            ],
            "type": "heatmap"
           }
          ],
          "heatmapgl": [
           {
            "colorbar": {
             "outlinewidth": 0,
             "ticks": ""
            },
            "colorscale": [
             [
              0,
              "#0d0887"
             ],
             [
              0.1111111111111111,
              "#46039f"
             ],
             [
              0.2222222222222222,
              "#7201a8"
             ],
             [
              0.3333333333333333,
              "#9c179e"
             ],
             [
              0.4444444444444444,
              "#bd3786"
             ],
             [
              0.5555555555555556,
              "#d8576b"
             ],
             [
              0.6666666666666666,
              "#ed7953"
             ],
             [
              0.7777777777777778,
              "#fb9f3a"
             ],
             [
              0.8888888888888888,
              "#fdca26"
             ],
             [
              1,
              "#f0f921"
             ]
            ],
            "type": "heatmapgl"
           }
          ],
          "histogram": [
           {
            "marker": {
             "pattern": {
              "fillmode": "overlay",
              "size": 10,
              "solidity": 0.2
             }
            },
            "type": "histogram"
           }
          ],
          "histogram2d": [
           {
            "colorbar": {
             "outlinewidth": 0,
             "ticks": ""
            },
            "colorscale": [
             [
              0,
              "#0d0887"
             ],
             [
              0.1111111111111111,
              "#46039f"
             ],
             [
              0.2222222222222222,
              "#7201a8"
             ],
             [
              0.3333333333333333,
              "#9c179e"
             ],
             [
              0.4444444444444444,
              "#bd3786"
             ],
             [
              0.5555555555555556,
              "#d8576b"
             ],
             [
              0.6666666666666666,
              "#ed7953"
             ],
             [
              0.7777777777777778,
              "#fb9f3a"
             ],
             [
              0.8888888888888888,
              "#fdca26"
             ],
             [
              1,
              "#f0f921"
             ]
            ],
            "type": "histogram2d"
           }
          ],
          "histogram2dcontour": [
           {
            "colorbar": {
             "outlinewidth": 0,
             "ticks": ""
            },
            "colorscale": [
             [
              0,
              "#0d0887"
             ],
             [
              0.1111111111111111,
              "#46039f"
             ],
             [
              0.2222222222222222,
              "#7201a8"
             ],
             [
              0.3333333333333333,
              "#9c179e"
             ],
             [
              0.4444444444444444,
              "#bd3786"
             ],
             [
              0.5555555555555556,
              "#d8576b"
             ],
             [
              0.6666666666666666,
              "#ed7953"
             ],
             [
              0.7777777777777778,
              "#fb9f3a"
             ],
             [
              0.8888888888888888,
              "#fdca26"
             ],
             [
              1,
              "#f0f921"
             ]
            ],
            "type": "histogram2dcontour"
           }
          ],
          "mesh3d": [
           {
            "colorbar": {
             "outlinewidth": 0,
             "ticks": ""
            },
            "type": "mesh3d"
           }
          ],
          "parcoords": [
           {
            "line": {
             "colorbar": {
              "outlinewidth": 0,
              "ticks": ""
             }
            },
            "type": "parcoords"
           }
          ],
          "pie": [
           {
            "automargin": true,
            "type": "pie"
           }
          ],
          "scatter": [
           {
            "fillpattern": {
             "fillmode": "overlay",
             "size": 10,
             "solidity": 0.2
            },
            "type": "scatter"
           }
          ],
          "scatter3d": [
           {
            "line": {
             "colorbar": {
              "outlinewidth": 0,
              "ticks": ""
             }
            },
            "marker": {
             "colorbar": {
              "outlinewidth": 0,
              "ticks": ""
             }
            },
            "type": "scatter3d"
           }
          ],
          "scattercarpet": [
           {
            "marker": {
             "colorbar": {
              "outlinewidth": 0,
              "ticks": ""
             }
            },
            "type": "scattercarpet"
           }
          ],
          "scattergeo": [
           {
            "marker": {
             "colorbar": {
              "outlinewidth": 0,
              "ticks": ""
             }
            },
            "type": "scattergeo"
           }
          ],
          "scattergl": [
           {
            "marker": {
             "colorbar": {
              "outlinewidth": 0,
              "ticks": ""
             }
            },
            "type": "scattergl"
           }
          ],
          "scattermapbox": [
           {
            "marker": {
             "colorbar": {
              "outlinewidth": 0,
              "ticks": ""
             }
            },
            "type": "scattermapbox"
           }
          ],
          "scatterpolar": [
           {
            "marker": {
             "colorbar": {
              "outlinewidth": 0,
              "ticks": ""
             }
            },
            "type": "scatterpolar"
           }
          ],
          "scatterpolargl": [
           {
            "marker": {
             "colorbar": {
              "outlinewidth": 0,
              "ticks": ""
             }
            },
            "type": "scatterpolargl"
           }
          ],
          "scatterternary": [
           {
            "marker": {
             "colorbar": {
              "outlinewidth": 0,
              "ticks": ""
             }
            },
            "type": "scatterternary"
           }
          ],
          "surface": [
           {
            "colorbar": {
             "outlinewidth": 0,
             "ticks": ""
            },
            "colorscale": [
             [
              0,
              "#0d0887"
             ],
             [
              0.1111111111111111,
              "#46039f"
             ],
             [
              0.2222222222222222,
              "#7201a8"
             ],
             [
              0.3333333333333333,
              "#9c179e"
             ],
             [
              0.4444444444444444,
              "#bd3786"
             ],
             [
              0.5555555555555556,
              "#d8576b"
             ],
             [
              0.6666666666666666,
              "#ed7953"
             ],
             [
              0.7777777777777778,
              "#fb9f3a"
             ],
             [
              0.8888888888888888,
              "#fdca26"
             ],
             [
              1,
              "#f0f921"
             ]
            ],
            "type": "surface"
           }
          ],
          "table": [
           {
            "cells": {
             "fill": {
              "color": "#EBF0F8"
             },
             "line": {
              "color": "white"
             }
            },
            "header": {
             "fill": {
              "color": "#C8D4E3"
             },
             "line": {
              "color": "white"
             }
            },
            "type": "table"
           }
          ]
         },
         "layout": {
          "annotationdefaults": {
           "arrowcolor": "#2a3f5f",
           "arrowhead": 0,
           "arrowwidth": 1
          },
          "autotypenumbers": "strict",
          "coloraxis": {
           "colorbar": {
            "outlinewidth": 0,
            "ticks": ""
           }
          },
          "colorscale": {
           "diverging": [
            [
             0,
             "#8e0152"
            ],
            [
             0.1,
             "#c51b7d"
            ],
            [
             0.2,
             "#de77ae"
            ],
            [
             0.3,
             "#f1b6da"
            ],
            [
             0.4,
             "#fde0ef"
            ],
            [
             0.5,
             "#f7f7f7"
            ],
            [
             0.6,
             "#e6f5d0"
            ],
            [
             0.7,
             "#b8e186"
            ],
            [
             0.8,
             "#7fbc41"
            ],
            [
             0.9,
             "#4d9221"
            ],
            [
             1,
             "#276419"
            ]
           ],
           "sequential": [
            [
             0,
             "#0d0887"
            ],
            [
             0.1111111111111111,
             "#46039f"
            ],
            [
             0.2222222222222222,
             "#7201a8"
            ],
            [
             0.3333333333333333,
             "#9c179e"
            ],
            [
             0.4444444444444444,
             "#bd3786"
            ],
            [
             0.5555555555555556,
             "#d8576b"
            ],
            [
             0.6666666666666666,
             "#ed7953"
            ],
            [
             0.7777777777777778,
             "#fb9f3a"
            ],
            [
             0.8888888888888888,
             "#fdca26"
            ],
            [
             1,
             "#f0f921"
            ]
           ],
           "sequentialminus": [
            [
             0,
             "#0d0887"
            ],
            [
             0.1111111111111111,
             "#46039f"
            ],
            [
             0.2222222222222222,
             "#7201a8"
            ],
            [
             0.3333333333333333,
             "#9c179e"
            ],
            [
             0.4444444444444444,
             "#bd3786"
            ],
            [
             0.5555555555555556,
             "#d8576b"
            ],
            [
             0.6666666666666666,
             "#ed7953"
            ],
            [
             0.7777777777777778,
             "#fb9f3a"
            ],
            [
             0.8888888888888888,
             "#fdca26"
            ],
            [
             1,
             "#f0f921"
            ]
           ]
          },
          "colorway": [
           "#636efa",
           "#EF553B",
           "#00cc96",
           "#ab63fa",
           "#FFA15A",
           "#19d3f3",
           "#FF6692",
           "#B6E880",
           "#FF97FF",
           "#FECB52"
          ],
          "font": {
           "color": "#2a3f5f"
          },
          "geo": {
           "bgcolor": "white",
           "lakecolor": "white",
           "landcolor": "#E5ECF6",
           "showlakes": true,
           "showland": true,
           "subunitcolor": "white"
          },
          "hoverlabel": {
           "align": "left"
          },
          "hovermode": "closest",
          "mapbox": {
           "style": "light"
          },
          "paper_bgcolor": "white",
          "plot_bgcolor": "#E5ECF6",
          "polar": {
           "angularaxis": {
            "gridcolor": "white",
            "linecolor": "white",
            "ticks": ""
           },
           "bgcolor": "#E5ECF6",
           "radialaxis": {
            "gridcolor": "white",
            "linecolor": "white",
            "ticks": ""
           }
          },
          "scene": {
           "xaxis": {
            "backgroundcolor": "#E5ECF6",
            "gridcolor": "white",
            "gridwidth": 2,
            "linecolor": "white",
            "showbackground": true,
            "ticks": "",
            "zerolinecolor": "white"
           },
           "yaxis": {
            "backgroundcolor": "#E5ECF6",
            "gridcolor": "white",
            "gridwidth": 2,
            "linecolor": "white",
            "showbackground": true,
            "ticks": "",
            "zerolinecolor": "white"
           },
           "zaxis": {
            "backgroundcolor": "#E5ECF6",
            "gridcolor": "white",
            "gridwidth": 2,
            "linecolor": "white",
            "showbackground": true,
            "ticks": "",
            "zerolinecolor": "white"
           }
          },
          "shapedefaults": {
           "line": {
            "color": "#2a3f5f"
           }
          },
          "ternary": {
           "aaxis": {
            "gridcolor": "white",
            "linecolor": "white",
            "ticks": ""
           },
           "baxis": {
            "gridcolor": "white",
            "linecolor": "white",
            "ticks": ""
           },
           "bgcolor": "#E5ECF6",
           "caxis": {
            "gridcolor": "white",
            "linecolor": "white",
            "ticks": ""
           }
          },
          "title": {
           "x": 0.05
          },
          "xaxis": {
           "automargin": true,
           "gridcolor": "white",
           "linecolor": "white",
           "ticks": "",
           "title": {
            "standoff": 15
           },
           "zerolinecolor": "white",
           "zerolinewidth": 2
          },
          "yaxis": {
           "automargin": true,
           "gridcolor": "white",
           "linecolor": "white",
           "ticks": "",
           "title": {
            "standoff": 15
           },
           "zerolinecolor": "white",
           "zerolinewidth": 2
          }
         }
        },
        "title": {
         "font": {
          "color": "#4D5663"
         }
        },
        "xaxis": {
         "gridcolor": "#E1E5ED",
         "showgrid": true,
         "tickfont": {
          "color": "#4D5663"
         },
         "title": {
          "font": {
           "color": "#4D5663"
          },
          "text": ""
         },
         "zerolinecolor": "#E1E5ED"
        },
        "yaxis": {
         "gridcolor": "#E1E5ED",
         "showgrid": true,
         "tickfont": {
          "color": "#4D5663"
         },
         "title": {
          "font": {
           "color": "#4D5663"
          },
          "text": ""
         },
         "zerolinecolor": "#E1E5ED"
        }
       }
      },
      "image/png": "[encoded data removed]",
      "text/html": [
       "<div>                            <div id=\"8fcb9897-dad2-41ed-ba3c-aff6d86cc74c\" class=\"plotly-graph-div\" style=\"height:525px; width:100%;\"></div>            <script type=\"text/javascript\">                require([\"plotly\"], function(Plotly) {                    window.PLOTLYENV=window.PLOTLYENV || {};\n",
       "                    window.PLOTLYENV.BASE_URL='https://plot.ly';                                    if (document.getElementById(\"8fcb9897-dad2-41ed-ba3c-aff6d86cc74c\")) {                    Plotly.newPlot(                        \"8fcb9897-dad2-41ed-ba3c-aff6d86cc74c\",                        [{\"colorscale\":[[0.0,\"rgb(165,0,38)\"],[0.1,\"rgb(215,48,39)\"],[0.2,\"rgb(244,109,67)\"],[0.3,\"rgb(253,174,97)\"],[0.4,\"rgb(254,224,144)\"],[0.5,\"rgb(255,255,191)\"],[0.6,\"rgb(224,243,248)\"],[0.7,\"rgb(171,217,233)\"],[0.8,\"rgb(116,173,209)\"],[0.9,\"rgb(69,117,180)\"],[1.0,\"rgb(49,54,149)\"]],\"x\":[0,1,2,3,4],\"y\":[\"x\",\"y\",\"z\"],\"z\":[[1,2,3,4,5],[10,20,30,20,10],[5,4,3,2,1]],\"type\":\"surface\"}],                        {\"legend\":{\"bgcolor\":\"#F5F6F9\",\"font\":{\"color\":\"#4D5663\"}},\"paper_bgcolor\":\"#F5F6F9\",\"plot_bgcolor\":\"#F5F6F9\",\"template\":{\"data\":{\"barpolar\":[{\"marker\":{\"line\":{\"color\":\"#E5ECF6\",\"width\":0.5},\"pattern\":{\"fillmode\":\"overlay\",\"size\":10,\"solidity\":0.2}},\"type\":\"barpolar\"}],\"bar\":[{\"error_x\":{\"color\":\"#2a3f5f\"},\"error_y\":{\"color\":\"#2a3f5f\"},\"marker\":{\"line\":{\"color\":\"#E5ECF6\",\"width\":0.5},\"pattern\":{\"fillmode\":\"overlay\",\"size\":10,\"solidity\":0.2}},\"type\":\"bar\"}],\"carpet\":[{\"aaxis\":{\"endlinecolor\":\"#2a3f5f\",\"gridcolor\":\"white\",\"linecolor\":\"white\",\"minorgridcolor\":\"white\",\"startlinecolor\":\"#2a3f5f\"},\"baxis\":{\"endlinecolor\":\"#2a3f5f\",\"gridcolor\":\"white\",\"linecolor\":\"white\",\"minorgridcolor\":\"white\",\"startlinecolor\":\"#2a3f5f\"},\"type\":\"carpet\"}],\"choropleth\":[{\"colorbar\":{\"outlinewidth\":0,\"ticks\":\"\"},\"type\":\"choropleth\"}],\"contourcarpet\":[{\"colorbar\":{\"outlinewidth\":0,\"ticks\":\"\"},\"type\":\"contourcarpet\"}],\"contour\":[{\"colorbar\":{\"outlinewidth\":0,\"ticks\":\"\"},\"colorscale\":[[0.0,\"#0d0887\"],[0.1111111111111111,\"#46039f\"],[0.2222222222222222,\"#7201a8\"],[0.3333333333333333,\"#9c179e\"],[0.4444444444444444,\"#bd3786\"],[0.5555555555555556,\"#d8576b\"],[0.6666666666666666,\"#ed7953\"],[0.7777777777777778,\"#fb9f3a\"],[0.8888888888888888,\"#fdca26\"],[1.0,\"#f0f921\"]],\"type\":\"contour\"}],\"heatmapgl\":[{\"colorbar\":{\"outlinewidth\":0,\"ticks\":\"\"},\"colorscale\":[[0.0,\"#0d0887\"],[0.1111111111111111,\"#46039f\"],[0.2222222222222222,\"#7201a8\"],[0.3333333333333333,\"#9c179e\"],[0.4444444444444444,\"#bd3786\"],[0.5555555555555556,\"#d8576b\"],[0.6666666666666666,\"#ed7953\"],[0.7777777777777778,\"#fb9f3a\"],[0.8888888888888888,\"#fdca26\"],[1.0,\"#f0f921\"]],\"type\":\"heatmapgl\"}],\"heatmap\":[{\"colorbar\":{\"outlinewidth\":0,\"ticks\":\"\"},\"colorscale\":[[0.0,\"#0d0887\"],[0.1111111111111111,\"#46039f\"],[0.2222222222222222,\"#7201a8\"],[0.3333333333333333,\"#9c179e\"],[0.4444444444444444,\"#bd3786\"],[0.5555555555555556,\"#d8576b\"],[0.6666666666666666,\"#ed7953\"],[0.7777777777777778,\"#fb9f3a\"],[0.8888888888888888,\"#fdca26\"],[1.0,\"#f0f921\"]],\"type\":\"heatmap\"}],\"histogram2dcontour\":[{\"colorbar\":{\"outlinewidth\":0,\"ticks\":\"\"},\"colorscale\":[[0.0,\"#0d0887\"],[0.1111111111111111,\"#46039f\"],[0.2222222222222222,\"#7201a8\"],[0.3333333333333333,\"#9c179e\"],[0.4444444444444444,\"#bd3786\"],[0.5555555555555556,\"#d8576b\"],[0.6666666666666666,\"#ed7953\"],[0.7777777777777778,\"#fb9f3a\"],[0.8888888888888888,\"#fdca26\"],[1.0,\"#f0f921\"]],\"type\":\"histogram2dcontour\"}],\"histogram2d\":[{\"colorbar\":{\"outlinewidth\":0,\"ticks\":\"\"},\"colorscale\":[[0.0,\"#0d0887\"],[0.1111111111111111,\"#46039f\"],[0.2222222222222222,\"#7201a8\"],[0.3333333333333333,\"#9c179e\"],[0.4444444444444444,\"#bd3786\"],[0.5555555555555556,\"#d8576b\"],[0.6666666666666666,\"#ed7953\"],[0.7777777777777778,\"#fb9f3a\"],[0.8888888888888888,\"#fdca26\"],[1.0,\"#f0f921\"]],\"type\":\"histogram2d\"}],\"histogram\":[{\"marker\":{\"pattern\":{\"fillmode\":\"overlay\",\"size\":10,\"solidity\":0.2}},\"type\":\"histogram\"}],\"mesh3d\":[{\"colorbar\":{\"outlinewidth\":0,\"ticks\":\"\"},\"type\":\"mesh3d\"}],\"parcoords\":[{\"line\":{\"colorbar\":{\"outlinewidth\":0,\"ticks\":\"\"}},\"type\":\"parcoords\"}],\"pie\":[{\"automargin\":true,\"type\":\"pie\"}],\"scatter3d\":[{\"line\":{\"colorbar\":{\"outlinewidth\":0,\"ticks\":\"\"}},\"marker\":{\"colorbar\":{\"outlinewidth\":0,\"ticks\":\"\"}},\"type\":\"scatter3d\"}],\"scattercarpet\":[{\"marker\":{\"colorbar\":{\"outlinewidth\":0,\"ticks\":\"\"}},\"type\":\"scattercarpet\"}],\"scattergeo\":[{\"marker\":{\"colorbar\":{\"outlinewidth\":0,\"ticks\":\"\"}},\"type\":\"scattergeo\"}],\"scattergl\":[{\"marker\":{\"colorbar\":{\"outlinewidth\":0,\"ticks\":\"\"}},\"type\":\"scattergl\"}],\"scattermapbox\":[{\"marker\":{\"colorbar\":{\"outlinewidth\":0,\"ticks\":\"\"}},\"type\":\"scattermapbox\"}],\"scatterpolargl\":[{\"marker\":{\"colorbar\":{\"outlinewidth\":0,\"ticks\":\"\"}},\"type\":\"scatterpolargl\"}],\"scatterpolar\":[{\"marker\":{\"colorbar\":{\"outlinewidth\":0,\"ticks\":\"\"}},\"type\":\"scatterpolar\"}],\"scatter\":[{\"fillpattern\":{\"fillmode\":\"overlay\",\"size\":10,\"solidity\":0.2},\"type\":\"scatter\"}],\"scatterternary\":[{\"marker\":{\"colorbar\":{\"outlinewidth\":0,\"ticks\":\"\"}},\"type\":\"scatterternary\"}],\"surface\":[{\"colorbar\":{\"outlinewidth\":0,\"ticks\":\"\"},\"colorscale\":[[0.0,\"#0d0887\"],[0.1111111111111111,\"#46039f\"],[0.2222222222222222,\"#7201a8\"],[0.3333333333333333,\"#9c179e\"],[0.4444444444444444,\"#bd3786\"],[0.5555555555555556,\"#d8576b\"],[0.6666666666666666,\"#ed7953\"],[0.7777777777777778,\"#fb9f3a\"],[0.8888888888888888,\"#fdca26\"],[1.0,\"#f0f921\"]],\"type\":\"surface\"}],\"table\":[{\"cells\":{\"fill\":{\"color\":\"#EBF0F8\"},\"line\":{\"color\":\"white\"}},\"header\":{\"fill\":{\"color\":\"#C8D4E3\"},\"line\":{\"color\":\"white\"}},\"type\":\"table\"}]},\"layout\":{\"annotationdefaults\":{\"arrowcolor\":\"#2a3f5f\",\"arrowhead\":0,\"arrowwidth\":1},\"autotypenumbers\":\"strict\",\"coloraxis\":{\"colorbar\":{\"outlinewidth\":0,\"ticks\":\"\"}},\"colorscale\":{\"diverging\":[[0,\"#8e0152\"],[0.1,\"#c51b7d\"],[0.2,\"#de77ae\"],[0.3,\"#f1b6da\"],[0.4,\"#fde0ef\"],[0.5,\"#f7f7f7\"],[0.6,\"#e6f5d0\"],[0.7,\"#b8e186\"],[0.8,\"#7fbc41\"],[0.9,\"#4d9221\"],[1,\"#276419\"]],\"sequential\":[[0.0,\"#0d0887\"],[0.1111111111111111,\"#46039f\"],[0.2222222222222222,\"#7201a8\"],[0.3333333333333333,\"#9c179e\"],[0.4444444444444444,\"#bd3786\"],[0.5555555555555556,\"#d8576b\"],[0.6666666666666666,\"#ed7953\"],[0.7777777777777778,\"#fb9f3a\"],[0.8888888888888888,\"#fdca26\"],[1.0,\"#f0f921\"]],\"sequentialminus\":[[0.0,\"#0d0887\"],[0.1111111111111111,\"#46039f\"],[0.2222222222222222,\"#7201a8\"],[0.3333333333333333,\"#9c179e\"],[0.4444444444444444,\"#bd3786\"],[0.5555555555555556,\"#d8576b\"],[0.6666666666666666,\"#ed7953\"],[0.7777777777777778,\"#fb9f3a\"],[0.8888888888888888,\"#fdca26\"],[1.0,\"#f0f921\"]]},\"colorway\":[\"#636efa\",\"#EF553B\",\"#00cc96\",\"#ab63fa\",\"#FFA15A\",\"#19d3f3\",\"#FF6692\",\"#B6E880\",\"#FF97FF\",\"#FECB52\"],\"font\":{\"color\":\"#2a3f5f\"},\"geo\":{\"bgcolor\":\"white\",\"lakecolor\":\"white\",\"landcolor\":\"#E5ECF6\",\"showlakes\":true,\"showland\":true,\"subunitcolor\":\"white\"},\"hoverlabel\":{\"align\":\"left\"},\"hovermode\":\"closest\",\"mapbox\":{\"style\":\"light\"},\"paper_bgcolor\":\"white\",\"plot_bgcolor\":\"#E5ECF6\",\"polar\":{\"angularaxis\":{\"gridcolor\":\"white\",\"linecolor\":\"white\",\"ticks\":\"\"},\"bgcolor\":\"#E5ECF6\",\"radialaxis\":{\"gridcolor\":\"white\",\"linecolor\":\"white\",\"ticks\":\"\"}},\"scene\":{\"xaxis\":{\"backgroundcolor\":\"#E5ECF6\",\"gridcolor\":\"white\",\"gridwidth\":2,\"linecolor\":\"white\",\"showbackground\":true,\"ticks\":\"\",\"zerolinecolor\":\"white\"},\"yaxis\":{\"backgroundcolor\":\"#E5ECF6\",\"gridcolor\":\"white\",\"gridwidth\":2,\"linecolor\":\"white\",\"showbackground\":true,\"ticks\":\"\",\"zerolinecolor\":\"white\"},\"zaxis\":{\"backgroundcolor\":\"#E5ECF6\",\"gridcolor\":\"white\",\"gridwidth\":2,\"linecolor\":\"white\",\"showbackground\":true,\"ticks\":\"\",\"zerolinecolor\":\"white\"}},\"shapedefaults\":{\"line\":{\"color\":\"#2a3f5f\"}},\"ternary\":{\"aaxis\":{\"gridcolor\":\"white\",\"linecolor\":\"white\",\"ticks\":\"\"},\"baxis\":{\"gridcolor\":\"white\",\"linecolor\":\"white\",\"ticks\":\"\"},\"bgcolor\":\"#E5ECF6\",\"caxis\":{\"gridcolor\":\"white\",\"linecolor\":\"white\",\"ticks\":\"\"}},\"title\":{\"x\":0.05},\"xaxis\":{\"automargin\":true,\"gridcolor\":\"white\",\"linecolor\":\"white\",\"ticks\":\"\",\"title\":{\"standoff\":15},\"zerolinecolor\":\"white\",\"zerolinewidth\":2},\"yaxis\":{\"automargin\":true,\"gridcolor\":\"white\",\"linecolor\":\"white\",\"ticks\":\"\",\"title\":{\"standoff\":15},\"zerolinecolor\":\"white\",\"zerolinewidth\":2}}},\"title\":{\"font\":{\"color\":\"#4D5663\"}},\"xaxis\":{\"gridcolor\":\"#E1E5ED\",\"showgrid\":true,\"tickfont\":{\"color\":\"#4D5663\"},\"title\":{\"font\":{\"color\":\"#4D5663\"},\"text\":\"\"},\"zerolinecolor\":\"#E1E5ED\"},\"yaxis\":{\"gridcolor\":\"#E1E5ED\",\"showgrid\":true,\"tickfont\":{\"color\":\"#4D5663\"},\"title\":{\"font\":{\"color\":\"#4D5663\"},\"text\":\"\"},\"zerolinecolor\":\"#E1E5ED\"}},                        {\"showLink\": true, \"linkText\": \"Export to plot.ly\", \"plotlyServerURL\": \"https://plot.ly\", \"responsive\": true}                    ).then(function(){\n",
       "                            \n",
       "var gd = document.getElementById('8fcb9897-dad2-41ed-ba3c-aff6d86cc74c');\n",
       "var x = new MutationObserver(function (mutations, observer) {{\n",
       "        var display = window.getComputedStyle(gd).display;\n",
       "        if (!display || display === 'none') {{\n",
       "            console.log([gd, 'removed!']);\n",
       "            Plotly.purge(gd);\n",
       "            observer.disconnect();\n",
       "        }}\n",
       "}});\n",
       "\n",
       "// Listen for the removal of the full notebook cells\n",
       "var notebookContainer = gd.closest('#notebook-container');\n",
       "if (notebookContainer) {{\n",
       "    x.observe(notebookContainer, {childList: true});\n",
       "}}\n",
       "\n",
       "// Listen for the clearing of the current output cell\n",
       "var outputEl = gd.closest('.output');\n",
       "if (outputEl) {{\n",
       "    x.observe(outputEl, {childList: true});\n",
       "}}\n",
       "\n",
       "                        })                };                });            </script>        </div>"
      ]
     },
     "metadata": {},
     "output_type": "display_data"
    }
   ],
   "source": [
    "df3 = pd.DataFrame({'x':[1,2,3,4,5],'y':[10,20,30,20,10],'z':[5,4,3,2,1]})\n",
    "df3.iplot(kind='surface',colorscale='rdylbu')"
   ]
  },
  {
   "cell_type": "code",
   "execution_count": 34,
   "id": "0fea02db-1c28-4352-af53-1d510bcad75c",
   "metadata": {
    "tags": []
   },
   "outputs": [
    {
     "data": {
      "application/vnd.plotly.v1+json": {
       "config": {
        "linkText": "Export to plot.ly",
        "plotlyServerURL": "https://plot.ly",
        "showLink": true
       },
       "data": [
        {
         "histfunc": "count",
         "histnorm": "",
         "marker": {
          "color": "rgba(255, 153, 51, 1.0)",
          "line": {
           "color": "#4D5663",
           "width": 1.3
          }
         },
         "name": "A",
         "nbinsx": 30,
         "opacity": 0.8,
         "orientation": "v",
         "type": "histogram",
         "x": [
          -1.689013611401692,
          -0.2620555553672706,
          -1.0905182782420468,
          -0.27552541933586294,
          0.9184354042241115,
          -0.5621818322927444,
          0.1940834769484241,
          -1.2428318810669599,
          1.1565639609098832,
          -0.7159038857835119,
          -1.4930413374875058,
          0.05438291025550391,
          -0.42353875642862443,
          -0.5348416964848348,
          -1.4155827777983954,
          -0.1849577018100514,
          0.7491800969806963,
          -1.0437095654351864,
          -1.1873612124573099,
          -0.7729780915256113,
          0.9496379884482529,
          0.9255701492107496,
          -0.501638433247438,
          -1.1783151959061486,
          -0.8955494409662109,
          1.4698531828563592,
          -1.1436323277550169,
          -1.7681377258450857,
          -0.2565917868314139,
          -0.39606902930789667,
          -0.5941801172680143,
          -0.4788818069438909,
          0.2506288071928819,
          -1.6237488851824275,
          -1.0305842506615535,
          -1.6275540773586008,
          -1.700152886003429,
          -0.372411772027708,
          0.9175915407031102,
          -1.4151591931408238,
          -0.8121806290435302,
          0.06861836826158521,
          -1.6119352099044117,
          -0.7596089449242701,
          -1.943278264794546,
          1.8498176061630773,
          1.175550561682719,
          0.4993858708120641,
          1.247799436365957,
          1.2207392162025483,
          1.5089596071403208,
          -0.6366671612876112,
          0.10731865339405362,
          2.054173334575546,
          0.005711412872327427,
          0.09639871400344464,
          -1.2573488641393633,
          0.5995204980870332,
          0.12312168661167397,
          -0.36020080076376304,
          0.26368325877658566,
          -2.1504215841781438,
          0.5649251993445709,
          -1.547372941339943,
          0.22834474433727533,
          0.806551393045147,
          0.14802656555688293,
          1.5938912289226514,
          -0.07223755226793076,
          -0.9816586144376963,
          -0.6525509152377631,
          -1.8197923548170925,
          -1.726313926184962,
          0.40558752810909987,
          -0.9084548194948895,
          0.7573284474309724,
          0.3202305886007857,
          1.0110403955293228,
          0.7641247132803324,
          -1.0494931766153843,
          0.4549331298008269,
          0.23567629090555364,
          -1.5990946993192952,
          1.1568983286804944,
          -0.5826571879288767,
          1.6841430138604359,
          2.025672191666682,
          -0.12564981184520735,
          0.16693373358090086,
          -0.2288882405142681,
          0.10422741050875683,
          0.6687521083134625,
          -0.43084762285217537,
          -1.051257481300054,
          -0.17197941465855776,
          0.7711145058102191,
          0.27938985909743863,
          -0.9022124330703055,
          0.20086585914909533,
          -0.17090597809922398
         ]
        },
        {
         "histfunc": "count",
         "histnorm": "",
         "marker": {
          "color": "rgba(55, 128, 191, 1.0)",
          "line": {
           "color": "#4D5663",
           "width": 1.3
          }
         },
         "name": "B",
         "nbinsx": 30,
         "opacity": 0.8,
         "orientation": "v",
         "type": "histogram",
         "x": [
          0.9502773190107969,
          0.272559636190263,
          -1.303101825309437,
          -0.09381558184786237,
          -0.7425319895675278,
          2.273858846399452,
          -0.0076088480932280725,
          1.055256682315736,
          0.48371263591801833,
          -1.2271224720190237,
          -0.1795973735439339,
          1.7263100690006208,
          -0.5999960394304096,
          0.6577097297404475,
          0.2013858793488651,
          0.21087228502570896,
          2.166890962505779,
          -0.7176365037245853,
          0.40286527063326677,
          0.908533645024215,
          -0.21050101484298916,
          -1.825832553714384,
          2.0975043715115915,
          0.3834142416861074,
          -1.7508999820502174,
          -0.1513665375010751,
          -1.671745096865534,
          -0.4022728913515091,
          -1.3676303716071965,
          -0.35084114074231604,
          1.3034917709001963,
          0.5515404381214328,
          2.3164422906696904,
          -0.20870242422817226,
          -1.7702561255131923,
          0.0205654950325439,
          -0.0703189491446735,
          1.3272322978976714,
          0.9185597202151164,
          0.3649069447133627,
          0.7513993430019263,
          0.4831934190904803,
          1.0069628917541271,
          -1.6616820260241512,
          -0.7108490077174401,
          -0.4959114783685054,
          0.6996972950770952,
          -1.5773772007368279,
          -1.150553485913242,
          1.0910272074641403,
          1.7003194924547553,
          0.8245785854839354,
          0.499761576040795,
          -1.4716913520129344,
          -1.2960912976668753,
          -0.10553209291936262,
          -1.851992109143555,
          -2.8675554445649953,
          -0.5578028633591723,
          0.3165737069580277,
          -0.9220963506515208,
          0.6337122906958443,
          0.30268560458542365,
          0.24543636395132995,
          -1.9019941545860948,
          -2.1487428642833186,
          -1.686182701548312,
          -0.774039594781683,
          2.2585904120016704,
          -0.8497090448368394,
          -1.3013139094581112,
          -0.6484716671551605,
          0.768852431511444,
          -1.9070800384087057,
          -0.032498105502017295,
          0.3205036547426345,
          1.1636215769870168,
          1.6842635415056044,
          0.01587583250461618,
          -1.0383160328028351,
          -0.625318310169787,
          0.2685185427535348,
          -0.42416251171391295,
          -2.717013022330864,
          -0.4259548580229847,
          -0.964332526482631,
          1.2982180675989476,
          0.6516125860532216,
          -0.17397116000633142,
          -0.665317923702325,
          -0.7246649245741666,
          -0.7641469483764428,
          -1.4694555427445888,
          0.7100508350291533,
          0.4903984699894906,
          1.144194691984651,
          -0.24328013883315086,
          0.6620100764590426,
          -0.7220685758723306,
          -1.184178736036595
         ]
        }
       ],
       "layout": {
        "autosize": true,
        "barmode": "overlay",
        "legend": {
         "bgcolor": "#F5F6F9",
         "font": {
          "color": "#4D5663"
         }
        },
        "paper_bgcolor": "#F5F6F9",
        "plot_bgcolor": "#F5F6F9",
        "template": {
         "data": {
          "bar": [
           {
            "error_x": {
             "color": "#2a3f5f"
            },
            "error_y": {
             "color": "#2a3f5f"
            },
            "marker": {
             "line": {
              "color": "#E5ECF6",
              "width": 0.5
             },
             "pattern": {
              "fillmode": "overlay",
              "size": 10,
              "solidity": 0.2
             }
            },
            "type": "bar"
           }
          ],
          "barpolar": [
           {
            "marker": {
             "line": {
              "color": "#E5ECF6",
              "width": 0.5
             },
             "pattern": {
              "fillmode": "overlay",
              "size": 10,
              "solidity": 0.2
             }
            },
            "type": "barpolar"
           }
          ],
          "carpet": [
           {
            "aaxis": {
             "endlinecolor": "#2a3f5f",
             "gridcolor": "white",
             "linecolor": "white",
             "minorgridcolor": "white",
             "startlinecolor": "#2a3f5f"
            },
            "baxis": {
             "endlinecolor": "#2a3f5f",
             "gridcolor": "white",
             "linecolor": "white",
             "minorgridcolor": "white",
             "startlinecolor": "#2a3f5f"
            },
            "type": "carpet"
           }
          ],
          "choropleth": [
           {
            "colorbar": {
             "outlinewidth": 0,
             "ticks": ""
            },
            "type": "choropleth"
           }
          ],
          "contour": [
           {
            "colorbar": {
             "outlinewidth": 0,
             "ticks": ""
            },
            "colorscale": [
             [
              0,
              "#0d0887"
             ],
             [
              0.1111111111111111,
              "#46039f"
             ],
             [
              0.2222222222222222,
              "#7201a8"
             ],
             [
              0.3333333333333333,
              "#9c179e"
             ],
             [
              0.4444444444444444,
              "#bd3786"
             ],
             [
              0.5555555555555556,
              "#d8576b"
             ],
             [
              0.6666666666666666,
              "#ed7953"
             ],
             [
              0.7777777777777778,
              "#fb9f3a"
             ],
             [
              0.8888888888888888,
              "#fdca26"
             ],
             [
              1,
              "#f0f921"
             ]
            ],
            "type": "contour"
           }
          ],
          "contourcarpet": [
           {
            "colorbar": {
             "outlinewidth": 0,
             "ticks": ""
            },
            "type": "contourcarpet"
           }
          ],
          "heatmap": [
           {
            "colorbar": {
             "outlinewidth": 0,
             "ticks": ""
            },
            "colorscale": [
             [
              0,
              "#0d0887"
             ],
             [
              0.1111111111111111,
              "#46039f"
             ],
             [
              0.2222222222222222,
              "#7201a8"
             ],
             [
              0.3333333333333333,
              "#9c179e"
             ],
             [
              0.4444444444444444,
              "#bd3786"
             ],
             [
              0.5555555555555556,
              "#d8576b"
             ],
             [
              0.6666666666666666,
              "#ed7953"
             ],
             [
              0.7777777777777778,
              "#fb9f3a"
             ],
             [
              0.8888888888888888,
              "#fdca26"
             ],
             [
              1,
              "#f0f921"
             ]
            ],
            "type": "heatmap"
           }
          ],
          "heatmapgl": [
           {
            "colorbar": {
             "outlinewidth": 0,
             "ticks": ""
            },
            "colorscale": [
             [
              0,
              "#0d0887"
             ],
             [
              0.1111111111111111,
              "#46039f"
             ],
             [
              0.2222222222222222,
              "#7201a8"
             ],
             [
              0.3333333333333333,
              "#9c179e"
             ],
             [
              0.4444444444444444,
              "#bd3786"
             ],
             [
              0.5555555555555556,
              "#d8576b"
             ],
             [
              0.6666666666666666,
              "#ed7953"
             ],
             [
              0.7777777777777778,
              "#fb9f3a"
             ],
             [
              0.8888888888888888,
              "#fdca26"
             ],
             [
              1,
              "#f0f921"
             ]
            ],
            "type": "heatmapgl"
           }
          ],
          "histogram": [
           {
            "marker": {
             "pattern": {
              "fillmode": "overlay",
              "size": 10,
              "solidity": 0.2
             }
            },
            "type": "histogram"
           }
          ],
          "histogram2d": [
           {
            "colorbar": {
             "outlinewidth": 0,
             "ticks": ""
            },
            "colorscale": [
             [
              0,
              "#0d0887"
             ],
             [
              0.1111111111111111,
              "#46039f"
             ],
             [
              0.2222222222222222,
              "#7201a8"
             ],
             [
              0.3333333333333333,
              "#9c179e"
             ],
             [
              0.4444444444444444,
              "#bd3786"
             ],
             [
              0.5555555555555556,
              "#d8576b"
             ],
             [
              0.6666666666666666,
              "#ed7953"
             ],
             [
              0.7777777777777778,
              "#fb9f3a"
             ],
             [
              0.8888888888888888,
              "#fdca26"
             ],
             [
              1,
              "#f0f921"
             ]
            ],
            "type": "histogram2d"
           }
          ],
          "histogram2dcontour": [
           {
            "colorbar": {
             "outlinewidth": 0,
             "ticks": ""
            },
            "colorscale": [
             [
              0,
              "#0d0887"
             ],
             [
              0.1111111111111111,
              "#46039f"
             ],
             [
              0.2222222222222222,
              "#7201a8"
             ],
             [
              0.3333333333333333,
              "#9c179e"
             ],
             [
              0.4444444444444444,
              "#bd3786"
             ],
             [
              0.5555555555555556,
              "#d8576b"
             ],
             [
              0.6666666666666666,
              "#ed7953"
             ],
             [
              0.7777777777777778,
              "#fb9f3a"
             ],
             [
              0.8888888888888888,
              "#fdca26"
             ],
             [
              1,
              "#f0f921"
             ]
            ],
            "type": "histogram2dcontour"
           }
          ],
          "mesh3d": [
           {
            "colorbar": {
             "outlinewidth": 0,
             "ticks": ""
            },
            "type": "mesh3d"
           }
          ],
          "parcoords": [
           {
            "line": {
             "colorbar": {
              "outlinewidth": 0,
              "ticks": ""
             }
            },
            "type": "parcoords"
           }
          ],
          "pie": [
           {
            "automargin": true,
            "type": "pie"
           }
          ],
          "scatter": [
           {
            "fillpattern": {
             "fillmode": "overlay",
             "size": 10,
             "solidity": 0.2
            },
            "type": "scatter"
           }
          ],
          "scatter3d": [
           {
            "line": {
             "colorbar": {
              "outlinewidth": 0,
              "ticks": ""
             }
            },
            "marker": {
             "colorbar": {
              "outlinewidth": 0,
              "ticks": ""
             }
            },
            "type": "scatter3d"
           }
          ],
          "scattercarpet": [
           {
            "marker": {
             "colorbar": {
              "outlinewidth": 0,
              "ticks": ""
             }
            },
            "type": "scattercarpet"
           }
          ],
          "scattergeo": [
           {
            "marker": {
             "colorbar": {
              "outlinewidth": 0,
              "ticks": ""
             }
            },
            "type": "scattergeo"
           }
          ],
          "scattergl": [
           {
            "marker": {
             "colorbar": {
              "outlinewidth": 0,
              "ticks": ""
             }
            },
            "type": "scattergl"
           }
          ],
          "scattermapbox": [
           {
            "marker": {
             "colorbar": {
              "outlinewidth": 0,
              "ticks": ""
             }
            },
            "type": "scattermapbox"
           }
          ],
          "scatterpolar": [
           {
            "marker": {
             "colorbar": {
              "outlinewidth": 0,
              "ticks": ""
             }
            },
            "type": "scatterpolar"
           }
          ],
          "scatterpolargl": [
           {
            "marker": {
             "colorbar": {
              "outlinewidth": 0,
              "ticks": ""
             }
            },
            "type": "scatterpolargl"
           }
          ],
          "scatterternary": [
           {
            "marker": {
             "colorbar": {
              "outlinewidth": 0,
              "ticks": ""
             }
            },
            "type": "scatterternary"
           }
          ],
          "surface": [
           {
            "colorbar": {
             "outlinewidth": 0,
             "ticks": ""
            },
            "colorscale": [
             [
              0,
              "#0d0887"
             ],
             [
              0.1111111111111111,
              "#46039f"
             ],
             [
              0.2222222222222222,
              "#7201a8"
             ],
             [
              0.3333333333333333,
              "#9c179e"
             ],
             [
              0.4444444444444444,
              "#bd3786"
             ],
             [
              0.5555555555555556,
              "#d8576b"
             ],
             [
              0.6666666666666666,
              "#ed7953"
             ],
             [
              0.7777777777777778,
              "#fb9f3a"
             ],
             [
              0.8888888888888888,
              "#fdca26"
             ],
             [
              1,
              "#f0f921"
             ]
            ],
            "type": "surface"
           }
          ],
          "table": [
           {
            "cells": {
             "fill": {
              "color": "#EBF0F8"
             },
             "line": {
              "color": "white"
             }
            },
            "header": {
             "fill": {
              "color": "#C8D4E3"
             },
             "line": {
              "color": "white"
             }
            },
            "type": "table"
           }
          ]
         },
         "layout": {
          "annotationdefaults": {
           "arrowcolor": "#2a3f5f",
           "arrowhead": 0,
           "arrowwidth": 1
          },
          "autotypenumbers": "strict",
          "coloraxis": {
           "colorbar": {
            "outlinewidth": 0,
            "ticks": ""
           }
          },
          "colorscale": {
           "diverging": [
            [
             0,
             "#8e0152"
            ],
            [
             0.1,
             "#c51b7d"
            ],
            [
             0.2,
             "#de77ae"
            ],
            [
             0.3,
             "#f1b6da"
            ],
            [
             0.4,
             "#fde0ef"
            ],
            [
             0.5,
             "#f7f7f7"
            ],
            [
             0.6,
             "#e6f5d0"
            ],
            [
             0.7,
             "#b8e186"
            ],
            [
             0.8,
             "#7fbc41"
            ],
            [
             0.9,
             "#4d9221"
            ],
            [
             1,
             "#276419"
            ]
           ],
           "sequential": [
            [
             0,
             "#0d0887"
            ],
            [
             0.1111111111111111,
             "#46039f"
            ],
            [
             0.2222222222222222,
             "#7201a8"
            ],
            [
             0.3333333333333333,
             "#9c179e"
            ],
            [
             0.4444444444444444,
             "#bd3786"
            ],
            [
             0.5555555555555556,
             "#d8576b"
            ],
            [
             0.6666666666666666,
             "#ed7953"
            ],
            [
             0.7777777777777778,
             "#fb9f3a"
            ],
            [
             0.8888888888888888,
             "#fdca26"
            ],
            [
             1,
             "#f0f921"
            ]
           ],
           "sequentialminus": [
            [
             0,
             "#0d0887"
            ],
            [
             0.1111111111111111,
             "#46039f"
            ],
            [
             0.2222222222222222,
             "#7201a8"
            ],
            [
             0.3333333333333333,
             "#9c179e"
            ],
            [
             0.4444444444444444,
             "#bd3786"
            ],
            [
             0.5555555555555556,
             "#d8576b"
            ],
            [
             0.6666666666666666,
             "#ed7953"
            ],
            [
             0.7777777777777778,
             "#fb9f3a"
            ],
            [
             0.8888888888888888,
             "#fdca26"
            ],
            [
             1,
             "#f0f921"
            ]
           ]
          },
          "colorway": [
           "#636efa",
           "#EF553B",
           "#00cc96",
           "#ab63fa",
           "#FFA15A",
           "#19d3f3",
           "#FF6692",
           "#B6E880",
           "#FF97FF",
           "#FECB52"
          ],
          "font": {
           "color": "#2a3f5f"
          },
          "geo": {
           "bgcolor": "white",
           "lakecolor": "white",
           "landcolor": "#E5ECF6",
           "showlakes": true,
           "showland": true,
           "subunitcolor": "white"
          },
          "hoverlabel": {
           "align": "left"
          },
          "hovermode": "closest",
          "mapbox": {
           "style": "light"
          },
          "paper_bgcolor": "white",
          "plot_bgcolor": "#E5ECF6",
          "polar": {
           "angularaxis": {
            "gridcolor": "white",
            "linecolor": "white",
            "ticks": ""
           },
           "bgcolor": "#E5ECF6",
           "radialaxis": {
            "gridcolor": "white",
            "linecolor": "white",
            "ticks": ""
           }
          },
          "scene": {
           "xaxis": {
            "backgroundcolor": "#E5ECF6",
            "gridcolor": "white",
            "gridwidth": 2,
            "linecolor": "white",
            "showbackground": true,
            "ticks": "",
            "zerolinecolor": "white"
           },
           "yaxis": {
            "backgroundcolor": "#E5ECF6",
            "gridcolor": "white",
            "gridwidth": 2,
            "linecolor": "white",
            "showbackground": true,
            "ticks": "",
            "zerolinecolor": "white"
           },
           "zaxis": {
            "backgroundcolor": "#E5ECF6",
            "gridcolor": "white",
            "gridwidth": 2,
            "linecolor": "white",
            "showbackground": true,
            "ticks": "",
            "zerolinecolor": "white"
           }
          },
          "shapedefaults": {
           "line": {
            "color": "#2a3f5f"
           }
          },
          "ternary": {
           "aaxis": {
            "gridcolor": "white",
            "linecolor": "white",
            "ticks": ""
           },
           "baxis": {
            "gridcolor": "white",
            "linecolor": "white",
            "ticks": ""
           },
           "bgcolor": "#E5ECF6",
           "caxis": {
            "gridcolor": "white",
            "linecolor": "white",
            "ticks": ""
           }
          },
          "title": {
           "x": 0.05
          },
          "xaxis": {
           "automargin": true,
           "gridcolor": "white",
           "linecolor": "white",
           "ticks": "",
           "title": {
            "standoff": 15
           },
           "zerolinecolor": "white",
           "zerolinewidth": 2
          },
          "yaxis": {
           "automargin": true,
           "gridcolor": "white",
           "linecolor": "white",
           "ticks": "",
           "title": {
            "standoff": 15
           },
           "zerolinecolor": "white",
           "zerolinewidth": 2
          }
         }
        },
        "title": {
         "font": {
          "color": "#4D5663"
         }
        },
        "xaxis": {
         "autorange": true,
         "gridcolor": "#E1E5ED",
         "range": [
          -3,
          2.399999999999999
         ],
         "showgrid": true,
         "tickfont": {
          "color": "#4D5663"
         },
         "title": {
          "font": {
           "color": "#4D5663"
          },
          "text": ""
         },
         "type": "linear",
         "zerolinecolor": "#E1E5ED"
        },
        "yaxis": {
         "autorange": true,
         "gridcolor": "#E1E5ED",
         "range": [
          0,
          10.526315789473685
         ],
         "showgrid": true,
         "tickfont": {
          "color": "#4D5663"
         },
         "title": {
          "font": {
           "color": "#4D5663"
          },
          "text": ""
         },
         "zerolinecolor": "#E1E5ED"
        }
       }
      },
      "image/png": "[encoded data removed]",
      "text/html": [
       "<div>                            <div id=\"fc62e08c-74bf-4f56-af8f-39c09c3b1a12\" class=\"plotly-graph-div\" style=\"height:525px; width:100%;\"></div>            <script type=\"text/javascript\">                require([\"plotly\"], function(Plotly) {                    window.PLOTLYENV=window.PLOTLYENV || {};\n",
       "                    window.PLOTLYENV.BASE_URL='https://plot.ly';                                    if (document.getElementById(\"fc62e08c-74bf-4f56-af8f-39c09c3b1a12\")) {                    Plotly.newPlot(                        \"fc62e08c-74bf-4f56-af8f-39c09c3b1a12\",                        [{\"histfunc\":\"count\",\"histnorm\":\"\",\"marker\":{\"color\":\"rgba(255, 153, 51, 1.0)\",\"line\":{\"color\":\"#4D5663\",\"width\":1.3}},\"name\":\"A\",\"nbinsx\":30,\"opacity\":0.8,\"orientation\":\"v\",\"x\":[-1.689013611401692,-0.2620555553672706,-1.0905182782420468,-0.27552541933586294,0.9184354042241115,-0.5621818322927444,0.1940834769484241,-1.2428318810669599,1.1565639609098832,-0.7159038857835119,-1.4930413374875058,0.05438291025550391,-0.42353875642862443,-0.5348416964848348,-1.4155827777983954,-0.1849577018100514,0.7491800969806963,-1.0437095654351864,-1.1873612124573099,-0.7729780915256113,0.9496379884482529,0.9255701492107496,-0.501638433247438,-1.1783151959061486,-0.8955494409662109,1.4698531828563592,-1.1436323277550169,-1.7681377258450857,-0.2565917868314139,-0.39606902930789667,-0.5941801172680143,-0.4788818069438909,0.2506288071928819,-1.6237488851824275,-1.0305842506615535,-1.6275540773586008,-1.700152886003429,-0.372411772027708,0.9175915407031102,-1.4151591931408238,-0.8121806290435302,0.06861836826158521,-1.6119352099044117,-0.7596089449242701,-1.943278264794546,1.8498176061630773,1.175550561682719,0.4993858708120641,1.247799436365957,1.2207392162025483,1.5089596071403208,-0.6366671612876112,0.10731865339405362,2.054173334575546,0.005711412872327427,0.09639871400344464,-1.2573488641393633,0.5995204980870332,0.12312168661167397,-0.36020080076376304,0.26368325877658566,-2.1504215841781438,0.5649251993445709,-1.547372941339943,0.22834474433727533,0.806551393045147,0.14802656555688293,1.5938912289226514,-0.07223755226793076,-0.9816586144376963,-0.6525509152377631,-1.8197923548170925,-1.726313926184962,0.40558752810909987,-0.9084548194948895,0.7573284474309724,0.3202305886007857,1.0110403955293228,0.7641247132803324,-1.0494931766153843,0.4549331298008269,0.23567629090555364,-1.5990946993192952,1.1568983286804944,-0.5826571879288767,1.6841430138604359,2.025672191666682,-0.12564981184520735,0.16693373358090086,-0.2288882405142681,0.10422741050875683,0.6687521083134625,-0.43084762285217537,-1.051257481300054,-0.17197941465855776,0.7711145058102191,0.27938985909743863,-0.9022124330703055,0.20086585914909533,-0.17090597809922398],\"type\":\"histogram\"},{\"histfunc\":\"count\",\"histnorm\":\"\",\"marker\":{\"color\":\"rgba(55, 128, 191, 1.0)\",\"line\":{\"color\":\"#4D5663\",\"width\":1.3}},\"name\":\"B\",\"nbinsx\":30,\"opacity\":0.8,\"orientation\":\"v\",\"x\":[0.9502773190107969,0.272559636190263,-1.303101825309437,-0.09381558184786237,-0.7425319895675278,2.273858846399452,-0.0076088480932280725,1.055256682315736,0.48371263591801833,-1.2271224720190237,-0.1795973735439339,1.7263100690006208,-0.5999960394304096,0.6577097297404475,0.2013858793488651,0.21087228502570896,2.166890962505779,-0.7176365037245853,0.40286527063326677,0.908533645024215,-0.21050101484298916,-1.825832553714384,2.0975043715115915,0.3834142416861074,-1.7508999820502174,-0.1513665375010751,-1.671745096865534,-0.4022728913515091,-1.3676303716071965,-0.35084114074231604,1.3034917709001963,0.5515404381214328,2.3164422906696904,-0.20870242422817226,-1.7702561255131923,0.0205654950325439,-0.0703189491446735,1.3272322978976714,0.9185597202151164,0.3649069447133627,0.7513993430019263,0.4831934190904803,1.0069628917541271,-1.6616820260241512,-0.7108490077174401,-0.4959114783685054,0.6996972950770952,-1.5773772007368279,-1.150553485913242,1.0910272074641403,1.7003194924547553,0.8245785854839354,0.499761576040795,-1.4716913520129344,-1.2960912976668753,-0.10553209291936262,-1.851992109143555,-2.8675554445649953,-0.5578028633591723,0.3165737069580277,-0.9220963506515208,0.6337122906958443,0.30268560458542365,0.24543636395132995,-1.9019941545860948,-2.1487428642833186,-1.686182701548312,-0.774039594781683,2.2585904120016704,-0.8497090448368394,-1.3013139094581112,-0.6484716671551605,0.768852431511444,-1.9070800384087057,-0.032498105502017295,0.3205036547426345,1.1636215769870168,1.6842635415056044,0.01587583250461618,-1.0383160328028351,-0.625318310169787,0.2685185427535348,-0.42416251171391295,-2.717013022330864,-0.4259548580229847,-0.964332526482631,1.2982180675989476,0.6516125860532216,-0.17397116000633142,-0.665317923702325,-0.7246649245741666,-0.7641469483764428,-1.4694555427445888,0.7100508350291533,0.4903984699894906,1.144194691984651,-0.24328013883315086,0.6620100764590426,-0.7220685758723306,-1.184178736036595],\"type\":\"histogram\"}],                        {\"barmode\":\"overlay\",\"legend\":{\"bgcolor\":\"#F5F6F9\",\"font\":{\"color\":\"#4D5663\"}},\"paper_bgcolor\":\"#F5F6F9\",\"plot_bgcolor\":\"#F5F6F9\",\"template\":{\"data\":{\"barpolar\":[{\"marker\":{\"line\":{\"color\":\"#E5ECF6\",\"width\":0.5},\"pattern\":{\"fillmode\":\"overlay\",\"size\":10,\"solidity\":0.2}},\"type\":\"barpolar\"}],\"bar\":[{\"error_x\":{\"color\":\"#2a3f5f\"},\"error_y\":{\"color\":\"#2a3f5f\"},\"marker\":{\"line\":{\"color\":\"#E5ECF6\",\"width\":0.5},\"pattern\":{\"fillmode\":\"overlay\",\"size\":10,\"solidity\":0.2}},\"type\":\"bar\"}],\"carpet\":[{\"aaxis\":{\"endlinecolor\":\"#2a3f5f\",\"gridcolor\":\"white\",\"linecolor\":\"white\",\"minorgridcolor\":\"white\",\"startlinecolor\":\"#2a3f5f\"},\"baxis\":{\"endlinecolor\":\"#2a3f5f\",\"gridcolor\":\"white\",\"linecolor\":\"white\",\"minorgridcolor\":\"white\",\"startlinecolor\":\"#2a3f5f\"},\"type\":\"carpet\"}],\"choropleth\":[{\"colorbar\":{\"outlinewidth\":0,\"ticks\":\"\"},\"type\":\"choropleth\"}],\"contourcarpet\":[{\"colorbar\":{\"outlinewidth\":0,\"ticks\":\"\"},\"type\":\"contourcarpet\"}],\"contour\":[{\"colorbar\":{\"outlinewidth\":0,\"ticks\":\"\"},\"colorscale\":[[0.0,\"#0d0887\"],[0.1111111111111111,\"#46039f\"],[0.2222222222222222,\"#7201a8\"],[0.3333333333333333,\"#9c179e\"],[0.4444444444444444,\"#bd3786\"],[0.5555555555555556,\"#d8576b\"],[0.6666666666666666,\"#ed7953\"],[0.7777777777777778,\"#fb9f3a\"],[0.8888888888888888,\"#fdca26\"],[1.0,\"#f0f921\"]],\"type\":\"contour\"}],\"heatmapgl\":[{\"colorbar\":{\"outlinewidth\":0,\"ticks\":\"\"},\"colorscale\":[[0.0,\"#0d0887\"],[0.1111111111111111,\"#46039f\"],[0.2222222222222222,\"#7201a8\"],[0.3333333333333333,\"#9c179e\"],[0.4444444444444444,\"#bd3786\"],[0.5555555555555556,\"#d8576b\"],[0.6666666666666666,\"#ed7953\"],[0.7777777777777778,\"#fb9f3a\"],[0.8888888888888888,\"#fdca26\"],[1.0,\"#f0f921\"]],\"type\":\"heatmapgl\"}],\"heatmap\":[{\"colorbar\":{\"outlinewidth\":0,\"ticks\":\"\"},\"colorscale\":[[0.0,\"#0d0887\"],[0.1111111111111111,\"#46039f\"],[0.2222222222222222,\"#7201a8\"],[0.3333333333333333,\"#9c179e\"],[0.4444444444444444,\"#bd3786\"],[0.5555555555555556,\"#d8576b\"],[0.6666666666666666,\"#ed7953\"],[0.7777777777777778,\"#fb9f3a\"],[0.8888888888888888,\"#fdca26\"],[1.0,\"#f0f921\"]],\"type\":\"heatmap\"}],\"histogram2dcontour\":[{\"colorbar\":{\"outlinewidth\":0,\"ticks\":\"\"},\"colorscale\":[[0.0,\"#0d0887\"],[0.1111111111111111,\"#46039f\"],[0.2222222222222222,\"#7201a8\"],[0.3333333333333333,\"#9c179e\"],[0.4444444444444444,\"#bd3786\"],[0.5555555555555556,\"#d8576b\"],[0.6666666666666666,\"#ed7953\"],[0.7777777777777778,\"#fb9f3a\"],[0.8888888888888888,\"#fdca26\"],[1.0,\"#f0f921\"]],\"type\":\"histogram2dcontour\"}],\"histogram2d\":[{\"colorbar\":{\"outlinewidth\":0,\"ticks\":\"\"},\"colorscale\":[[0.0,\"#0d0887\"],[0.1111111111111111,\"#46039f\"],[0.2222222222222222,\"#7201a8\"],[0.3333333333333333,\"#9c179e\"],[0.4444444444444444,\"#bd3786\"],[0.5555555555555556,\"#d8576b\"],[0.6666666666666666,\"#ed7953\"],[0.7777777777777778,\"#fb9f3a\"],[0.8888888888888888,\"#fdca26\"],[1.0,\"#f0f921\"]],\"type\":\"histogram2d\"}],\"histogram\":[{\"marker\":{\"pattern\":{\"fillmode\":\"overlay\",\"size\":10,\"solidity\":0.2}},\"type\":\"histogram\"}],\"mesh3d\":[{\"colorbar\":{\"outlinewidth\":0,\"ticks\":\"\"},\"type\":\"mesh3d\"}],\"parcoords\":[{\"line\":{\"colorbar\":{\"outlinewidth\":0,\"ticks\":\"\"}},\"type\":\"parcoords\"}],\"pie\":[{\"automargin\":true,\"type\":\"pie\"}],\"scatter3d\":[{\"line\":{\"colorbar\":{\"outlinewidth\":0,\"ticks\":\"\"}},\"marker\":{\"colorbar\":{\"outlinewidth\":0,\"ticks\":\"\"}},\"type\":\"scatter3d\"}],\"scattercarpet\":[{\"marker\":{\"colorbar\":{\"outlinewidth\":0,\"ticks\":\"\"}},\"type\":\"scattercarpet\"}],\"scattergeo\":[{\"marker\":{\"colorbar\":{\"outlinewidth\":0,\"ticks\":\"\"}},\"type\":\"scattergeo\"}],\"scattergl\":[{\"marker\":{\"colorbar\":{\"outlinewidth\":0,\"ticks\":\"\"}},\"type\":\"scattergl\"}],\"scattermapbox\":[{\"marker\":{\"colorbar\":{\"outlinewidth\":0,\"ticks\":\"\"}},\"type\":\"scattermapbox\"}],\"scatterpolargl\":[{\"marker\":{\"colorbar\":{\"outlinewidth\":0,\"ticks\":\"\"}},\"type\":\"scatterpolargl\"}],\"scatterpolar\":[{\"marker\":{\"colorbar\":{\"outlinewidth\":0,\"ticks\":\"\"}},\"type\":\"scatterpolar\"}],\"scatter\":[{\"fillpattern\":{\"fillmode\":\"overlay\",\"size\":10,\"solidity\":0.2},\"type\":\"scatter\"}],\"scatterternary\":[{\"marker\":{\"colorbar\":{\"outlinewidth\":0,\"ticks\":\"\"}},\"type\":\"scatterternary\"}],\"surface\":[{\"colorbar\":{\"outlinewidth\":0,\"ticks\":\"\"},\"colorscale\":[[0.0,\"#0d0887\"],[0.1111111111111111,\"#46039f\"],[0.2222222222222222,\"#7201a8\"],[0.3333333333333333,\"#9c179e\"],[0.4444444444444444,\"#bd3786\"],[0.5555555555555556,\"#d8576b\"],[0.6666666666666666,\"#ed7953\"],[0.7777777777777778,\"#fb9f3a\"],[0.8888888888888888,\"#fdca26\"],[1.0,\"#f0f921\"]],\"type\":\"surface\"}],\"table\":[{\"cells\":{\"fill\":{\"color\":\"#EBF0F8\"},\"line\":{\"color\":\"white\"}},\"header\":{\"fill\":{\"color\":\"#C8D4E3\"},\"line\":{\"color\":\"white\"}},\"type\":\"table\"}]},\"layout\":{\"annotationdefaults\":{\"arrowcolor\":\"#2a3f5f\",\"arrowhead\":0,\"arrowwidth\":1},\"autotypenumbers\":\"strict\",\"coloraxis\":{\"colorbar\":{\"outlinewidth\":0,\"ticks\":\"\"}},\"colorscale\":{\"diverging\":[[0,\"#8e0152\"],[0.1,\"#c51b7d\"],[0.2,\"#de77ae\"],[0.3,\"#f1b6da\"],[0.4,\"#fde0ef\"],[0.5,\"#f7f7f7\"],[0.6,\"#e6f5d0\"],[0.7,\"#b8e186\"],[0.8,\"#7fbc41\"],[0.9,\"#4d9221\"],[1,\"#276419\"]],\"sequential\":[[0.0,\"#0d0887\"],[0.1111111111111111,\"#46039f\"],[0.2222222222222222,\"#7201a8\"],[0.3333333333333333,\"#9c179e\"],[0.4444444444444444,\"#bd3786\"],[0.5555555555555556,\"#d8576b\"],[0.6666666666666666,\"#ed7953\"],[0.7777777777777778,\"#fb9f3a\"],[0.8888888888888888,\"#fdca26\"],[1.0,\"#f0f921\"]],\"sequentialminus\":[[0.0,\"#0d0887\"],[0.1111111111111111,\"#46039f\"],[0.2222222222222222,\"#7201a8\"],[0.3333333333333333,\"#9c179e\"],[0.4444444444444444,\"#bd3786\"],[0.5555555555555556,\"#d8576b\"],[0.6666666666666666,\"#ed7953\"],[0.7777777777777778,\"#fb9f3a\"],[0.8888888888888888,\"#fdca26\"],[1.0,\"#f0f921\"]]},\"colorway\":[\"#636efa\",\"#EF553B\",\"#00cc96\",\"#ab63fa\",\"#FFA15A\",\"#19d3f3\",\"#FF6692\",\"#B6E880\",\"#FF97FF\",\"#FECB52\"],\"font\":{\"color\":\"#2a3f5f\"},\"geo\":{\"bgcolor\":\"white\",\"lakecolor\":\"white\",\"landcolor\":\"#E5ECF6\",\"showlakes\":true,\"showland\":true,\"subunitcolor\":\"white\"},\"hoverlabel\":{\"align\":\"left\"},\"hovermode\":\"closest\",\"mapbox\":{\"style\":\"light\"},\"paper_bgcolor\":\"white\",\"plot_bgcolor\":\"#E5ECF6\",\"polar\":{\"angularaxis\":{\"gridcolor\":\"white\",\"linecolor\":\"white\",\"ticks\":\"\"},\"bgcolor\":\"#E5ECF6\",\"radialaxis\":{\"gridcolor\":\"white\",\"linecolor\":\"white\",\"ticks\":\"\"}},\"scene\":{\"xaxis\":{\"backgroundcolor\":\"#E5ECF6\",\"gridcolor\":\"white\",\"gridwidth\":2,\"linecolor\":\"white\",\"showbackground\":true,\"ticks\":\"\",\"zerolinecolor\":\"white\"},\"yaxis\":{\"backgroundcolor\":\"#E5ECF6\",\"gridcolor\":\"white\",\"gridwidth\":2,\"linecolor\":\"white\",\"showbackground\":true,\"ticks\":\"\",\"zerolinecolor\":\"white\"},\"zaxis\":{\"backgroundcolor\":\"#E5ECF6\",\"gridcolor\":\"white\",\"gridwidth\":2,\"linecolor\":\"white\",\"showbackground\":true,\"ticks\":\"\",\"zerolinecolor\":\"white\"}},\"shapedefaults\":{\"line\":{\"color\":\"#2a3f5f\"}},\"ternary\":{\"aaxis\":{\"gridcolor\":\"white\",\"linecolor\":\"white\",\"ticks\":\"\"},\"baxis\":{\"gridcolor\":\"white\",\"linecolor\":\"white\",\"ticks\":\"\"},\"bgcolor\":\"#E5ECF6\",\"caxis\":{\"gridcolor\":\"white\",\"linecolor\":\"white\",\"ticks\":\"\"}},\"title\":{\"x\":0.05},\"xaxis\":{\"automargin\":true,\"gridcolor\":\"white\",\"linecolor\":\"white\",\"ticks\":\"\",\"title\":{\"standoff\":15},\"zerolinecolor\":\"white\",\"zerolinewidth\":2},\"yaxis\":{\"automargin\":true,\"gridcolor\":\"white\",\"linecolor\":\"white\",\"ticks\":\"\",\"title\":{\"standoff\":15},\"zerolinecolor\":\"white\",\"zerolinewidth\":2}}},\"title\":{\"font\":{\"color\":\"#4D5663\"}},\"xaxis\":{\"gridcolor\":\"#E1E5ED\",\"showgrid\":true,\"tickfont\":{\"color\":\"#4D5663\"},\"title\":{\"font\":{\"color\":\"#4D5663\"},\"text\":\"\"},\"zerolinecolor\":\"#E1E5ED\"},\"yaxis\":{\"gridcolor\":\"#E1E5ED\",\"showgrid\":true,\"tickfont\":{\"color\":\"#4D5663\"},\"title\":{\"font\":{\"color\":\"#4D5663\"},\"text\":\"\"},\"zerolinecolor\":\"#E1E5ED\"}},                        {\"showLink\": true, \"linkText\": \"Export to plot.ly\", \"plotlyServerURL\": \"https://plot.ly\", \"responsive\": true}                    ).then(function(){\n",
       "                            \n",
       "var gd = document.getElementById('fc62e08c-74bf-4f56-af8f-39c09c3b1a12');\n",
       "var x = new MutationObserver(function (mutations, observer) {{\n",
       "        var display = window.getComputedStyle(gd).display;\n",
       "        if (!display || display === 'none') {{\n",
       "            console.log([gd, 'removed!']);\n",
       "            Plotly.purge(gd);\n",
       "            observer.disconnect();\n",
       "        }}\n",
       "}});\n",
       "\n",
       "// Listen for the removal of the full notebook cells\n",
       "var notebookContainer = gd.closest('#notebook-container');\n",
       "if (notebookContainer) {{\n",
       "    x.observe(notebookContainer, {childList: true});\n",
       "}}\n",
       "\n",
       "// Listen for the clearing of the current output cell\n",
       "var outputEl = gd.closest('.output');\n",
       "if (outputEl) {{\n",
       "    x.observe(outputEl, {childList: true});\n",
       "}}\n",
       "\n",
       "                        })                };                });            </script>        </div>"
      ]
     },
     "metadata": {},
     "output_type": "display_data"
    }
   ],
   "source": [
    "df[['A','B']].iplot(kind='hist',bins=30)"
   ]
  },
  {
   "cell_type": "code",
   "execution_count": 31,
   "id": "e9a89268-12b6-4c30-99ee-ead8f78b745d",
   "metadata": {
    "tags": []
   },
   "outputs": [
    {
     "data": {
      "application/vnd.plotly.v1+json": {
       "config": {
        "linkText": "Export to plot.ly",
        "plotlyServerURL": "https://plot.ly",
        "showLink": true
       },
       "data": [
        {
         "marker": {
          "color": [
           "rgb(255, 153, 51)",
           "rgb(55, 128, 191)",
           "rgb(50, 171, 96)",
           "rgb(128, 0, 128)",
           "rgb(219, 64, 82)",
           "rgb(0, 128, 128)",
           "rgb(255, 255, 51)",
           "rgb(128, 128, 0)",
           "rgb(251, 128, 114)",
           "rgb(128, 177, 211)"
          ],
          "line": {
           "width": 1.3
          },
          "size": [
           83,
           56,
           101,
           65,
           58,
           65,
           51,
           70,
           82,
           51,
           62,
           85,
           62,
           51,
           45,
           64,
           43,
           60,
           84,
           55,
           64,
           87,
           79,
           49,
           46,
           23,
           79,
           55,
           90,
           70,
           112,
           49,
           27,
           95,
           75,
           22,
           61,
           38,
           76,
           73,
           23,
           62,
           64,
           78,
           59,
           61,
           49,
           42,
           63,
           85,
           71,
           74,
           54,
           12,
           61,
           67,
           42,
           69,
           44,
           57,
           65,
           56,
           60,
           54,
           50,
           51,
           50,
           49,
           75,
           57,
           49,
           36,
           73,
           63,
           62,
           67,
           88,
           57,
           56,
           49,
           50,
           37,
           57,
           53,
           79,
           75,
           35,
           49,
           89,
           75,
           51,
           23,
           80,
           79,
           45,
           55,
           73,
           45,
           85,
           62
          ],
          "symbol": "circle"
         },
         "mode": "markers",
         "text": "",
         "type": "scatter",
         "x": [
          -1.689013611401692,
          -0.2620555553672706,
          -1.0905182782420468,
          -0.27552541933586294,
          0.9184354042241115,
          -0.5621818322927444,
          0.1940834769484241,
          -1.2428318810669599,
          1.1565639609098832,
          -0.7159038857835119,
          -1.4930413374875058,
          0.05438291025550391,
          -0.42353875642862443,
          -0.5348416964848348,
          -1.4155827777983954,
          -0.1849577018100514,
          0.7491800969806963,
          -1.0437095654351864,
          -1.1873612124573099,
          -0.7729780915256113,
          0.9496379884482529,
          0.9255701492107496,
          -0.501638433247438,
          -1.1783151959061486,
          -0.8955494409662109,
          1.4698531828563592,
          -1.1436323277550169,
          -1.7681377258450857,
          -0.2565917868314139,
          -0.39606902930789667,
          -0.5941801172680143,
          -0.4788818069438909,
          0.2506288071928819,
          -1.6237488851824275,
          -1.0305842506615535,
          -1.6275540773586008,
          -1.700152886003429,
          -0.372411772027708,
          0.9175915407031102,
          -1.4151591931408238,
          -0.8121806290435302,
          0.06861836826158521,
          -1.6119352099044117,
          -0.7596089449242701,
          -1.943278264794546,
          1.8498176061630773,
          1.175550561682719,
          0.4993858708120641,
          1.247799436365957,
          1.2207392162025483,
          1.5089596071403208,
          -0.6366671612876112,
          0.10731865339405362,
          2.054173334575546,
          0.005711412872327427,
          0.09639871400344464,
          -1.2573488641393633,
          0.5995204980870332,
          0.12312168661167397,
          -0.36020080076376304,
          0.26368325877658566,
          -2.1504215841781438,
          0.5649251993445709,
          -1.547372941339943,
          0.22834474433727533,
          0.806551393045147,
          0.14802656555688293,
          1.5938912289226514,
          -0.07223755226793076,
          -0.9816586144376963,
          -0.6525509152377631,
          -1.8197923548170925,
          -1.726313926184962,
          0.40558752810909987,
          -0.9084548194948895,
          0.7573284474309724,
          0.3202305886007857,
          1.0110403955293228,
          0.7641247132803324,
          -1.0494931766153843,
          0.4549331298008269,
          0.23567629090555364,
          -1.5990946993192952,
          1.1568983286804944,
          -0.5826571879288767,
          1.6841430138604359,
          2.025672191666682,
          -0.12564981184520735,
          0.16693373358090086,
          -0.2288882405142681,
          0.10422741050875683,
          0.6687521083134625,
          -0.43084762285217537,
          -1.051257481300054,
          -0.17197941465855776,
          0.7711145058102191,
          0.27938985909743863,
          -0.9022124330703055,
          0.20086585914909533,
          -0.17090597809922398
         ],
         "y": [
          0.9502773190107969,
          0.272559636190263,
          -1.303101825309437,
          -0.09381558184786237,
          -0.7425319895675278,
          2.273858846399452,
          -0.0076088480932280725,
          1.055256682315736,
          0.48371263591801833,
          -1.2271224720190237,
          -0.1795973735439339,
          1.7263100690006208,
          -0.5999960394304096,
          0.6577097297404475,
          0.2013858793488651,
          0.21087228502570896,
          2.166890962505779,
          -0.7176365037245853,
          0.40286527063326677,
          0.908533645024215,
          -0.21050101484298916,
          -1.825832553714384,
          2.0975043715115915,
          0.3834142416861074,
          -1.7508999820502174,
          -0.1513665375010751,
          -1.671745096865534,
          -0.4022728913515091,
          -1.3676303716071965,
          -0.35084114074231604,
          1.3034917709001963,
          0.5515404381214328,
          2.3164422906696904,
          -0.20870242422817226,
          -1.7702561255131923,
          0.0205654950325439,
          -0.0703189491446735,
          1.3272322978976714,
          0.9185597202151164,
          0.3649069447133627,
          0.7513993430019263,
          0.4831934190904803,
          1.0069628917541271,
          -1.6616820260241512,
          -0.7108490077174401,
          -0.4959114783685054,
          0.6996972950770952,
          -1.5773772007368279,
          -1.150553485913242,
          1.0910272074641403,
          1.7003194924547553,
          0.8245785854839354,
          0.499761576040795,
          -1.4716913520129344,
          -1.2960912976668753,
          -0.10553209291936262,
          -1.851992109143555,
          -2.8675554445649953,
          -0.5578028633591723,
          0.3165737069580277,
          -0.9220963506515208,
          0.6337122906958443,
          0.30268560458542365,
          0.24543636395132995,
          -1.9019941545860948,
          -2.1487428642833186,
          -1.686182701548312,
          -0.774039594781683,
          2.2585904120016704,
          -0.8497090448368394,
          -1.3013139094581112,
          -0.6484716671551605,
          0.768852431511444,
          -1.9070800384087057,
          -0.032498105502017295,
          0.3205036547426345,
          1.1636215769870168,
          1.6842635415056044,
          0.01587583250461618,
          -1.0383160328028351,
          -0.625318310169787,
          0.2685185427535348,
          -0.42416251171391295,
          -2.717013022330864,
          -0.4259548580229847,
          -0.964332526482631,
          1.2982180675989476,
          0.6516125860532216,
          -0.17397116000633142,
          -0.665317923702325,
          -0.7246649245741666,
          -0.7641469483764428,
          -1.4694555427445888,
          0.7100508350291533,
          0.4903984699894906,
          1.144194691984651,
          -0.24328013883315086,
          0.6620100764590426,
          -0.7220685758723306,
          -1.184178736036595
         ]
        }
       ],
       "layout": {
        "autosize": true,
        "legend": {
         "bgcolor": "#F5F6F9",
         "font": {
          "color": "#4D5663"
         }
        },
        "paper_bgcolor": "#F5F6F9",
        "plot_bgcolor": "#F5F6F9",
        "template": {
         "data": {
          "bar": [
           {
            "error_x": {
             "color": "#2a3f5f"
            },
            "error_y": {
             "color": "#2a3f5f"
            },
            "marker": {
             "line": {
              "color": "#E5ECF6",
              "width": 0.5
             },
             "pattern": {
              "fillmode": "overlay",
              "size": 10,
              "solidity": 0.2
             }
            },
            "type": "bar"
           }
          ],
          "barpolar": [
           {
            "marker": {
             "line": {
              "color": "#E5ECF6",
              "width": 0.5
             },
             "pattern": {
              "fillmode": "overlay",
              "size": 10,
              "solidity": 0.2
             }
            },
            "type": "barpolar"
           }
          ],
          "carpet": [
           {
            "aaxis": {
             "endlinecolor": "#2a3f5f",
             "gridcolor": "white",
             "linecolor": "white",
             "minorgridcolor": "white",
             "startlinecolor": "#2a3f5f"
            },
            "baxis": {
             "endlinecolor": "#2a3f5f",
             "gridcolor": "white",
             "linecolor": "white",
             "minorgridcolor": "white",
             "startlinecolor": "#2a3f5f"
            },
            "type": "carpet"
           }
          ],
          "choropleth": [
           {
            "colorbar": {
             "outlinewidth": 0,
             "ticks": ""
            },
            "type": "choropleth"
           }
          ],
          "contour": [
           {
            "colorbar": {
             "outlinewidth": 0,
             "ticks": ""
            },
            "colorscale": [
             [
              0,
              "#0d0887"
             ],
             [
              0.1111111111111111,
              "#46039f"
             ],
             [
              0.2222222222222222,
              "#7201a8"
             ],
             [
              0.3333333333333333,
              "#9c179e"
             ],
             [
              0.4444444444444444,
              "#bd3786"
             ],
             [
              0.5555555555555556,
              "#d8576b"
             ],
             [
              0.6666666666666666,
              "#ed7953"
             ],
             [
              0.7777777777777778,
              "#fb9f3a"
             ],
             [
              0.8888888888888888,
              "#fdca26"
             ],
             [
              1,
              "#f0f921"
             ]
            ],
            "type": "contour"
           }
          ],
          "contourcarpet": [
           {
            "colorbar": {
             "outlinewidth": 0,
             "ticks": ""
            },
            "type": "contourcarpet"
           }
          ],
          "heatmap": [
           {
            "colorbar": {
             "outlinewidth": 0,
             "ticks": ""
            },
            "colorscale": [
             [
              0,
              "#0d0887"
             ],
             [
              0.1111111111111111,
              "#46039f"
             ],
             [
              0.2222222222222222,
              "#7201a8"
             ],
             [
              0.3333333333333333,
              "#9c179e"
             ],
             [
              0.4444444444444444,
              "#bd3786"
             ],
             [
              0.5555555555555556,
              "#d8576b"
             ],
             [
              0.6666666666666666,
              "#ed7953"
             ],
             [
              0.7777777777777778,
              "#fb9f3a"
             ],
             [
              0.8888888888888888,
              "#fdca26"
             ],
             [
              1,
              "#f0f921"
             ]
            ],
            "type": "heatmap"
           }
          ],
          "heatmapgl": [
           {
            "colorbar": {
             "outlinewidth": 0,
             "ticks": ""
            },
            "colorscale": [
             [
              0,
              "#0d0887"
             ],
             [
              0.1111111111111111,
              "#46039f"
             ],
             [
              0.2222222222222222,
              "#7201a8"
             ],
             [
              0.3333333333333333,
              "#9c179e"
             ],
             [
              0.4444444444444444,
              "#bd3786"
             ],
             [
              0.5555555555555556,
              "#d8576b"
             ],
             [
              0.6666666666666666,
              "#ed7953"
             ],
             [
              0.7777777777777778,
              "#fb9f3a"
             ],
             [
              0.8888888888888888,
              "#fdca26"
             ],
             [
              1,
              "#f0f921"
             ]
            ],
            "type": "heatmapgl"
           }
          ],
          "histogram": [
           {
            "marker": {
             "pattern": {
              "fillmode": "overlay",
              "size": 10,
              "solidity": 0.2
             }
            },
            "type": "histogram"
           }
          ],
          "histogram2d": [
           {
            "colorbar": {
             "outlinewidth": 0,
             "ticks": ""
            },
            "colorscale": [
             [
              0,
              "#0d0887"
             ],
             [
              0.1111111111111111,
              "#46039f"
             ],
             [
              0.2222222222222222,
              "#7201a8"
             ],
             [
              0.3333333333333333,
              "#9c179e"
             ],
             [
              0.4444444444444444,
              "#bd3786"
             ],
             [
              0.5555555555555556,
              "#d8576b"
             ],
             [
              0.6666666666666666,
              "#ed7953"
             ],
             [
              0.7777777777777778,
              "#fb9f3a"
             ],
             [
              0.8888888888888888,
              "#fdca26"
             ],
             [
              1,
              "#f0f921"
             ]
            ],
            "type": "histogram2d"
           }
          ],
          "histogram2dcontour": [
           {
            "colorbar": {
             "outlinewidth": 0,
             "ticks": ""
            },
            "colorscale": [
             [
              0,
              "#0d0887"
             ],
             [
              0.1111111111111111,
              "#46039f"
             ],
             [
              0.2222222222222222,
              "#7201a8"
             ],
             [
              0.3333333333333333,
              "#9c179e"
             ],
             [
              0.4444444444444444,
              "#bd3786"
             ],
             [
              0.5555555555555556,
              "#d8576b"
             ],
             [
              0.6666666666666666,
              "#ed7953"
             ],
             [
              0.7777777777777778,
              "#fb9f3a"
             ],
             [
              0.8888888888888888,
              "#fdca26"
             ],
             [
              1,
              "#f0f921"
             ]
            ],
            "type": "histogram2dcontour"
           }
          ],
          "mesh3d": [
           {
            "colorbar": {
             "outlinewidth": 0,
             "ticks": ""
            },
            "type": "mesh3d"
           }
          ],
          "parcoords": [
           {
            "line": {
             "colorbar": {
              "outlinewidth": 0,
              "ticks": ""
             }
            },
            "type": "parcoords"
           }
          ],
          "pie": [
           {
            "automargin": true,
            "type": "pie"
           }
          ],
          "scatter": [
           {
            "fillpattern": {
             "fillmode": "overlay",
             "size": 10,
             "solidity": 0.2
            },
            "type": "scatter"
           }
          ],
          "scatter3d": [
           {
            "line": {
             "colorbar": {
              "outlinewidth": 0,
              "ticks": ""
             }
            },
            "marker": {
             "colorbar": {
              "outlinewidth": 0,
              "ticks": ""
             }
            },
            "type": "scatter3d"
           }
          ],
          "scattercarpet": [
           {
            "marker": {
             "colorbar": {
              "outlinewidth": 0,
              "ticks": ""
             }
            },
            "type": "scattercarpet"
           }
          ],
          "scattergeo": [
           {
            "marker": {
             "colorbar": {
              "outlinewidth": 0,
              "ticks": ""
             }
            },
            "type": "scattergeo"
           }
          ],
          "scattergl": [
           {
            "marker": {
             "colorbar": {
              "outlinewidth": 0,
              "ticks": ""
             }
            },
            "type": "scattergl"
           }
          ],
          "scattermapbox": [
           {
            "marker": {
             "colorbar": {
              "outlinewidth": 0,
              "ticks": ""
             }
            },
            "type": "scattermapbox"
           }
          ],
          "scatterpolar": [
           {
            "marker": {
             "colorbar": {
              "outlinewidth": 0,
              "ticks": ""
             }
            },
            "type": "scatterpolar"
           }
          ],
          "scatterpolargl": [
           {
            "marker": {
             "colorbar": {
              "outlinewidth": 0,
              "ticks": ""
             }
            },
            "type": "scatterpolargl"
           }
          ],
          "scatterternary": [
           {
            "marker": {
             "colorbar": {
              "outlinewidth": 0,
              "ticks": ""
             }
            },
            "type": "scatterternary"
           }
          ],
          "surface": [
           {
            "colorbar": {
             "outlinewidth": 0,
             "ticks": ""
            },
            "colorscale": [
             [
              0,
              "#0d0887"
             ],
             [
              0.1111111111111111,
              "#46039f"
             ],
             [
              0.2222222222222222,
              "#7201a8"
             ],
             [
              0.3333333333333333,
              "#9c179e"
             ],
             [
              0.4444444444444444,
              "#bd3786"
             ],
             [
              0.5555555555555556,
              "#d8576b"
             ],
             [
              0.6666666666666666,
              "#ed7953"
             ],
             [
              0.7777777777777778,
              "#fb9f3a"
             ],
             [
              0.8888888888888888,
              "#fdca26"
             ],
             [
              1,
              "#f0f921"
             ]
            ],
            "type": "surface"
           }
          ],
          "table": [
           {
            "cells": {
             "fill": {
              "color": "#EBF0F8"
             },
             "line": {
              "color": "white"
             }
            },
            "header": {
             "fill": {
              "color": "#C8D4E3"
             },
             "line": {
              "color": "white"
             }
            },
            "type": "table"
           }
          ]
         },
         "layout": {
          "annotationdefaults": {
           "arrowcolor": "#2a3f5f",
           "arrowhead": 0,
           "arrowwidth": 1
          },
          "autotypenumbers": "strict",
          "coloraxis": {
           "colorbar": {
            "outlinewidth": 0,
            "ticks": ""
           }
          },
          "colorscale": {
           "diverging": [
            [
             0,
             "#8e0152"
            ],
            [
             0.1,
             "#c51b7d"
            ],
            [
             0.2,
             "#de77ae"
            ],
            [
             0.3,
             "#f1b6da"
            ],
            [
             0.4,
             "#fde0ef"
            ],
            [
             0.5,
             "#f7f7f7"
            ],
            [
             0.6,
             "#e6f5d0"
            ],
            [
             0.7,
             "#b8e186"
            ],
            [
             0.8,
             "#7fbc41"
            ],
            [
             0.9,
             "#4d9221"
            ],
            [
             1,
             "#276419"
            ]
           ],
           "sequential": [
            [
             0,
             "#0d0887"
            ],
            [
             0.1111111111111111,
             "#46039f"
            ],
            [
             0.2222222222222222,
             "#7201a8"
            ],
            [
             0.3333333333333333,
             "#9c179e"
            ],
            [
             0.4444444444444444,
             "#bd3786"
            ],
            [
             0.5555555555555556,
             "#d8576b"
            ],
            [
             0.6666666666666666,
             "#ed7953"
            ],
            [
             0.7777777777777778,
             "#fb9f3a"
            ],
            [
             0.8888888888888888,
             "#fdca26"
            ],
            [
             1,
             "#f0f921"
            ]
           ],
           "sequentialminus": [
            [
             0,
             "#0d0887"
            ],
            [
             0.1111111111111111,
             "#46039f"
            ],
            [
             0.2222222222222222,
             "#7201a8"
            ],
            [
             0.3333333333333333,
             "#9c179e"
            ],
            [
             0.4444444444444444,
             "#bd3786"
            ],
            [
             0.5555555555555556,
             "#d8576b"
            ],
            [
             0.6666666666666666,
             "#ed7953"
            ],
            [
             0.7777777777777778,
             "#fb9f3a"
            ],
            [
             0.8888888888888888,
             "#fdca26"
            ],
            [
             1,
             "#f0f921"
            ]
           ]
          },
          "colorway": [
           "#636efa",
           "#EF553B",
           "#00cc96",
           "#ab63fa",
           "#FFA15A",
           "#19d3f3",
           "#FF6692",
           "#B6E880",
           "#FF97FF",
           "#FECB52"
          ],
          "font": {
           "color": "#2a3f5f"
          },
          "geo": {
           "bgcolor": "white",
           "lakecolor": "white",
           "landcolor": "#E5ECF6",
           "showlakes": true,
           "showland": true,
           "subunitcolor": "white"
          },
          "hoverlabel": {
           "align": "left"
          },
          "hovermode": "closest",
          "mapbox": {
           "style": "light"
          },
          "paper_bgcolor": "white",
          "plot_bgcolor": "#E5ECF6",
          "polar": {
           "angularaxis": {
            "gridcolor": "white",
            "linecolor": "white",
            "ticks": ""
           },
           "bgcolor": "#E5ECF6",
           "radialaxis": {
            "gridcolor": "white",
            "linecolor": "white",
            "ticks": ""
           }
          },
          "scene": {
           "xaxis": {
            "backgroundcolor": "#E5ECF6",
            "gridcolor": "white",
            "gridwidth": 2,
            "linecolor": "white",
            "showbackground": true,
            "ticks": "",
            "zerolinecolor": "white"
           },
           "yaxis": {
            "backgroundcolor": "#E5ECF6",
            "gridcolor": "white",
            "gridwidth": 2,
            "linecolor": "white",
            "showbackground": true,
            "ticks": "",
            "zerolinecolor": "white"
           },
           "zaxis": {
            "backgroundcolor": "#E5ECF6",
            "gridcolor": "white",
            "gridwidth": 2,
            "linecolor": "white",
            "showbackground": true,
            "ticks": "",
            "zerolinecolor": "white"
           }
          },
          "shapedefaults": {
           "line": {
            "color": "#2a3f5f"
           }
          },
          "ternary": {
           "aaxis": {
            "gridcolor": "white",
            "linecolor": "white",
            "ticks": ""
           },
           "baxis": {
            "gridcolor": "white",
            "linecolor": "white",
            "ticks": ""
           },
           "bgcolor": "#E5ECF6",
           "caxis": {
            "gridcolor": "white",
            "linecolor": "white",
            "ticks": ""
           }
          },
          "title": {
           "x": 0.05
          },
          "xaxis": {
           "automargin": true,
           "gridcolor": "white",
           "linecolor": "white",
           "ticks": "",
           "title": {
            "standoff": 15
           },
           "zerolinecolor": "white",
           "zerolinewidth": 2
          },
          "yaxis": {
           "automargin": true,
           "gridcolor": "white",
           "linecolor": "white",
           "ticks": "",
           "title": {
            "standoff": 15
           },
           "zerolinecolor": "white",
           "zerolinewidth": 2
          }
         }
        },
        "title": {
         "font": {
          "color": "#4D5663"
         }
        },
        "xaxis": {
         "autorange": true,
         "gridcolor": "#E1E5ED",
         "range": [
          -2.971868458467368,
          2.719201389549478
         ],
         "showgrid": true,
         "tickfont": {
          "color": "#4D5663"
         },
         "title": {
          "font": {
           "color": "#4D5663"
          },
          "text": ""
         },
         "type": "linear",
         "zerolinecolor": "#E1E5ED"
        },
        "yaxis": {
         "autorange": true,
         "gridcolor": "#E1E5ED",
         "range": [
          -7.813943838352547,
          8.434951306850362
         ],
         "showgrid": true,
         "tickfont": {
          "color": "#4D5663"
         },
         "title": {
          "font": {
           "color": "#4D5663"
          },
          "text": ""
         },
         "type": "linear",
         "zerolinecolor": "#E1E5ED"
        }
       }
      },
      "image/png": "[encoded data removed]",
      "text/html": [
       "<div>                            <div id=\"5778f2c9-cb8f-4bd8-bc62-24e903053c6e\" class=\"plotly-graph-div\" style=\"height:525px; width:100%;\"></div>            <script type=\"text/javascript\">                require([\"plotly\"], function(Plotly) {                    window.PLOTLYENV=window.PLOTLYENV || {};\n",
       "                    window.PLOTLYENV.BASE_URL='https://plot.ly';                                    if (document.getElementById(\"5778f2c9-cb8f-4bd8-bc62-24e903053c6e\")) {                    Plotly.newPlot(                        \"5778f2c9-cb8f-4bd8-bc62-24e903053c6e\",                        [{\"marker\":{\"color\":[\"rgb(255, 153, 51)\",\"rgb(55, 128, 191)\",\"rgb(50, 171, 96)\",\"rgb(128, 0, 128)\",\"rgb(219, 64, 82)\",\"rgb(0, 128, 128)\",\"rgb(255, 255, 51)\",\"rgb(128, 128, 0)\",\"rgb(251, 128, 114)\",\"rgb(128, 177, 211)\"],\"line\":{\"width\":1.3},\"size\":[83,56,101,65,58,65,51,70,82,51,62,85,62,51,45,64,43,60,84,55,64,87,79,49,46,23,79,55,90,70,112,49,27,95,75,22,61,38,76,73,23,62,64,78,59,61,49,42,63,85,71,74,54,12,61,67,42,69,44,57,65,56,60,54,50,51,50,49,75,57,49,36,73,63,62,67,88,57,56,49,50,37,57,53,79,75,35,49,89,75,51,23,80,79,45,55,73,45,85,62],\"symbol\":\"circle\"},\"mode\":\"markers\",\"text\":\"\",\"x\":[-1.689013611401692,-0.2620555553672706,-1.0905182782420468,-0.27552541933586294,0.9184354042241115,-0.5621818322927444,0.1940834769484241,-1.2428318810669599,1.1565639609098832,-0.7159038857835119,-1.4930413374875058,0.05438291025550391,-0.42353875642862443,-0.5348416964848348,-1.4155827777983954,-0.1849577018100514,0.7491800969806963,-1.0437095654351864,-1.1873612124573099,-0.7729780915256113,0.9496379884482529,0.9255701492107496,-0.501638433247438,-1.1783151959061486,-0.8955494409662109,1.4698531828563592,-1.1436323277550169,-1.7681377258450857,-0.2565917868314139,-0.39606902930789667,-0.5941801172680143,-0.4788818069438909,0.2506288071928819,-1.6237488851824275,-1.0305842506615535,-1.6275540773586008,-1.700152886003429,-0.372411772027708,0.9175915407031102,-1.4151591931408238,-0.8121806290435302,0.06861836826158521,-1.6119352099044117,-0.7596089449242701,-1.943278264794546,1.8498176061630773,1.175550561682719,0.4993858708120641,1.247799436365957,1.2207392162025483,1.5089596071403208,-0.6366671612876112,0.10731865339405362,2.054173334575546,0.005711412872327427,0.09639871400344464,-1.2573488641393633,0.5995204980870332,0.12312168661167397,-0.36020080076376304,0.26368325877658566,-2.1504215841781438,0.5649251993445709,-1.547372941339943,0.22834474433727533,0.806551393045147,0.14802656555688293,1.5938912289226514,-0.07223755226793076,-0.9816586144376963,-0.6525509152377631,-1.8197923548170925,-1.726313926184962,0.40558752810909987,-0.9084548194948895,0.7573284474309724,0.3202305886007857,1.0110403955293228,0.7641247132803324,-1.0494931766153843,0.4549331298008269,0.23567629090555364,-1.5990946993192952,1.1568983286804944,-0.5826571879288767,1.6841430138604359,2.025672191666682,-0.12564981184520735,0.16693373358090086,-0.2288882405142681,0.10422741050875683,0.6687521083134625,-0.43084762285217537,-1.051257481300054,-0.17197941465855776,0.7711145058102191,0.27938985909743863,-0.9022124330703055,0.20086585914909533,-0.17090597809922398],\"y\":[0.9502773190107969,0.272559636190263,-1.303101825309437,-0.09381558184786237,-0.7425319895675278,2.273858846399452,-0.0076088480932280725,1.055256682315736,0.48371263591801833,-1.2271224720190237,-0.1795973735439339,1.7263100690006208,-0.5999960394304096,0.6577097297404475,0.2013858793488651,0.21087228502570896,2.166890962505779,-0.7176365037245853,0.40286527063326677,0.908533645024215,-0.21050101484298916,-1.825832553714384,2.0975043715115915,0.3834142416861074,-1.7508999820502174,-0.1513665375010751,-1.671745096865534,-0.4022728913515091,-1.3676303716071965,-0.35084114074231604,1.3034917709001963,0.5515404381214328,2.3164422906696904,-0.20870242422817226,-1.7702561255131923,0.0205654950325439,-0.0703189491446735,1.3272322978976714,0.9185597202151164,0.3649069447133627,0.7513993430019263,0.4831934190904803,1.0069628917541271,-1.6616820260241512,-0.7108490077174401,-0.4959114783685054,0.6996972950770952,-1.5773772007368279,-1.150553485913242,1.0910272074641403,1.7003194924547553,0.8245785854839354,0.499761576040795,-1.4716913520129344,-1.2960912976668753,-0.10553209291936262,-1.851992109143555,-2.8675554445649953,-0.5578028633591723,0.3165737069580277,-0.9220963506515208,0.6337122906958443,0.30268560458542365,0.24543636395132995,-1.9019941545860948,-2.1487428642833186,-1.686182701548312,-0.774039594781683,2.2585904120016704,-0.8497090448368394,-1.3013139094581112,-0.6484716671551605,0.768852431511444,-1.9070800384087057,-0.032498105502017295,0.3205036547426345,1.1636215769870168,1.6842635415056044,0.01587583250461618,-1.0383160328028351,-0.625318310169787,0.2685185427535348,-0.42416251171391295,-2.717013022330864,-0.4259548580229847,-0.964332526482631,1.2982180675989476,0.6516125860532216,-0.17397116000633142,-0.665317923702325,-0.7246649245741666,-0.7641469483764428,-1.4694555427445888,0.7100508350291533,0.4903984699894906,1.144194691984651,-0.24328013883315086,0.6620100764590426,-0.7220685758723306,-1.184178736036595],\"type\":\"scatter\"}],                        {\"legend\":{\"bgcolor\":\"#F5F6F9\",\"font\":{\"color\":\"#4D5663\"}},\"paper_bgcolor\":\"#F5F6F9\",\"plot_bgcolor\":\"#F5F6F9\",\"template\":{\"data\":{\"barpolar\":[{\"marker\":{\"line\":{\"color\":\"#E5ECF6\",\"width\":0.5},\"pattern\":{\"fillmode\":\"overlay\",\"size\":10,\"solidity\":0.2}},\"type\":\"barpolar\"}],\"bar\":[{\"error_x\":{\"color\":\"#2a3f5f\"},\"error_y\":{\"color\":\"#2a3f5f\"},\"marker\":{\"line\":{\"color\":\"#E5ECF6\",\"width\":0.5},\"pattern\":{\"fillmode\":\"overlay\",\"size\":10,\"solidity\":0.2}},\"type\":\"bar\"}],\"carpet\":[{\"aaxis\":{\"endlinecolor\":\"#2a3f5f\",\"gridcolor\":\"white\",\"linecolor\":\"white\",\"minorgridcolor\":\"white\",\"startlinecolor\":\"#2a3f5f\"},\"baxis\":{\"endlinecolor\":\"#2a3f5f\",\"gridcolor\":\"white\",\"linecolor\":\"white\",\"minorgridcolor\":\"white\",\"startlinecolor\":\"#2a3f5f\"},\"type\":\"carpet\"}],\"choropleth\":[{\"colorbar\":{\"outlinewidth\":0,\"ticks\":\"\"},\"type\":\"choropleth\"}],\"contourcarpet\":[{\"colorbar\":{\"outlinewidth\":0,\"ticks\":\"\"},\"type\":\"contourcarpet\"}],\"contour\":[{\"colorbar\":{\"outlinewidth\":0,\"ticks\":\"\"},\"colorscale\":[[0.0,\"#0d0887\"],[0.1111111111111111,\"#46039f\"],[0.2222222222222222,\"#7201a8\"],[0.3333333333333333,\"#9c179e\"],[0.4444444444444444,\"#bd3786\"],[0.5555555555555556,\"#d8576b\"],[0.6666666666666666,\"#ed7953\"],[0.7777777777777778,\"#fb9f3a\"],[0.8888888888888888,\"#fdca26\"],[1.0,\"#f0f921\"]],\"type\":\"contour\"}],\"heatmapgl\":[{\"colorbar\":{\"outlinewidth\":0,\"ticks\":\"\"},\"colorscale\":[[0.0,\"#0d0887\"],[0.1111111111111111,\"#46039f\"],[0.2222222222222222,\"#7201a8\"],[0.3333333333333333,\"#9c179e\"],[0.4444444444444444,\"#bd3786\"],[0.5555555555555556,\"#d8576b\"],[0.6666666666666666,\"#ed7953\"],[0.7777777777777778,\"#fb9f3a\"],[0.8888888888888888,\"#fdca26\"],[1.0,\"#f0f921\"]],\"type\":\"heatmapgl\"}],\"heatmap\":[{\"colorbar\":{\"outlinewidth\":0,\"ticks\":\"\"},\"colorscale\":[[0.0,\"#0d0887\"],[0.1111111111111111,\"#46039f\"],[0.2222222222222222,\"#7201a8\"],[0.3333333333333333,\"#9c179e\"],[0.4444444444444444,\"#bd3786\"],[0.5555555555555556,\"#d8576b\"],[0.6666666666666666,\"#ed7953\"],[0.7777777777777778,\"#fb9f3a\"],[0.8888888888888888,\"#fdca26\"],[1.0,\"#f0f921\"]],\"type\":\"heatmap\"}],\"histogram2dcontour\":[{\"colorbar\":{\"outlinewidth\":0,\"ticks\":\"\"},\"colorscale\":[[0.0,\"#0d0887\"],[0.1111111111111111,\"#46039f\"],[0.2222222222222222,\"#7201a8\"],[0.3333333333333333,\"#9c179e\"],[0.4444444444444444,\"#bd3786\"],[0.5555555555555556,\"#d8576b\"],[0.6666666666666666,\"#ed7953\"],[0.7777777777777778,\"#fb9f3a\"],[0.8888888888888888,\"#fdca26\"],[1.0,\"#f0f921\"]],\"type\":\"histogram2dcontour\"}],\"histogram2d\":[{\"colorbar\":{\"outlinewidth\":0,\"ticks\":\"\"},\"colorscale\":[[0.0,\"#0d0887\"],[0.1111111111111111,\"#46039f\"],[0.2222222222222222,\"#7201a8\"],[0.3333333333333333,\"#9c179e\"],[0.4444444444444444,\"#bd3786\"],[0.5555555555555556,\"#d8576b\"],[0.6666666666666666,\"#ed7953\"],[0.7777777777777778,\"#fb9f3a\"],[0.8888888888888888,\"#fdca26\"],[1.0,\"#f0f921\"]],\"type\":\"histogram2d\"}],\"histogram\":[{\"marker\":{\"pattern\":{\"fillmode\":\"overlay\",\"size\":10,\"solidity\":0.2}},\"type\":\"histogram\"}],\"mesh3d\":[{\"colorbar\":{\"outlinewidth\":0,\"ticks\":\"\"},\"type\":\"mesh3d\"}],\"parcoords\":[{\"line\":{\"colorbar\":{\"outlinewidth\":0,\"ticks\":\"\"}},\"type\":\"parcoords\"}],\"pie\":[{\"automargin\":true,\"type\":\"pie\"}],\"scatter3d\":[{\"line\":{\"colorbar\":{\"outlinewidth\":0,\"ticks\":\"\"}},\"marker\":{\"colorbar\":{\"outlinewidth\":0,\"ticks\":\"\"}},\"type\":\"scatter3d\"}],\"scattercarpet\":[{\"marker\":{\"colorbar\":{\"outlinewidth\":0,\"ticks\":\"\"}},\"type\":\"scattercarpet\"}],\"scattergeo\":[{\"marker\":{\"colorbar\":{\"outlinewidth\":0,\"ticks\":\"\"}},\"type\":\"scattergeo\"}],\"scattergl\":[{\"marker\":{\"colorbar\":{\"outlinewidth\":0,\"ticks\":\"\"}},\"type\":\"scattergl\"}],\"scattermapbox\":[{\"marker\":{\"colorbar\":{\"outlinewidth\":0,\"ticks\":\"\"}},\"type\":\"scattermapbox\"}],\"scatterpolargl\":[{\"marker\":{\"colorbar\":{\"outlinewidth\":0,\"ticks\":\"\"}},\"type\":\"scatterpolargl\"}],\"scatterpolar\":[{\"marker\":{\"colorbar\":{\"outlinewidth\":0,\"ticks\":\"\"}},\"type\":\"scatterpolar\"}],\"scatter\":[{\"fillpattern\":{\"fillmode\":\"overlay\",\"size\":10,\"solidity\":0.2},\"type\":\"scatter\"}],\"scatterternary\":[{\"marker\":{\"colorbar\":{\"outlinewidth\":0,\"ticks\":\"\"}},\"type\":\"scatterternary\"}],\"surface\":[{\"colorbar\":{\"outlinewidth\":0,\"ticks\":\"\"},\"colorscale\":[[0.0,\"#0d0887\"],[0.1111111111111111,\"#46039f\"],[0.2222222222222222,\"#7201a8\"],[0.3333333333333333,\"#9c179e\"],[0.4444444444444444,\"#bd3786\"],[0.5555555555555556,\"#d8576b\"],[0.6666666666666666,\"#ed7953\"],[0.7777777777777778,\"#fb9f3a\"],[0.8888888888888888,\"#fdca26\"],[1.0,\"#f0f921\"]],\"type\":\"surface\"}],\"table\":[{\"cells\":{\"fill\":{\"color\":\"#EBF0F8\"},\"line\":{\"color\":\"white\"}},\"header\":{\"fill\":{\"color\":\"#C8D4E3\"},\"line\":{\"color\":\"white\"}},\"type\":\"table\"}]},\"layout\":{\"annotationdefaults\":{\"arrowcolor\":\"#2a3f5f\",\"arrowhead\":0,\"arrowwidth\":1},\"autotypenumbers\":\"strict\",\"coloraxis\":{\"colorbar\":{\"outlinewidth\":0,\"ticks\":\"\"}},\"colorscale\":{\"diverging\":[[0,\"#8e0152\"],[0.1,\"#c51b7d\"],[0.2,\"#de77ae\"],[0.3,\"#f1b6da\"],[0.4,\"#fde0ef\"],[0.5,\"#f7f7f7\"],[0.6,\"#e6f5d0\"],[0.7,\"#b8e186\"],[0.8,\"#7fbc41\"],[0.9,\"#4d9221\"],[1,\"#276419\"]],\"sequential\":[[0.0,\"#0d0887\"],[0.1111111111111111,\"#46039f\"],[0.2222222222222222,\"#7201a8\"],[0.3333333333333333,\"#9c179e\"],[0.4444444444444444,\"#bd3786\"],[0.5555555555555556,\"#d8576b\"],[0.6666666666666666,\"#ed7953\"],[0.7777777777777778,\"#fb9f3a\"],[0.8888888888888888,\"#fdca26\"],[1.0,\"#f0f921\"]],\"sequentialminus\":[[0.0,\"#0d0887\"],[0.1111111111111111,\"#46039f\"],[0.2222222222222222,\"#7201a8\"],[0.3333333333333333,\"#9c179e\"],[0.4444444444444444,\"#bd3786\"],[0.5555555555555556,\"#d8576b\"],[0.6666666666666666,\"#ed7953\"],[0.7777777777777778,\"#fb9f3a\"],[0.8888888888888888,\"#fdca26\"],[1.0,\"#f0f921\"]]},\"colorway\":[\"#636efa\",\"#EF553B\",\"#00cc96\",\"#ab63fa\",\"#FFA15A\",\"#19d3f3\",\"#FF6692\",\"#B6E880\",\"#FF97FF\",\"#FECB52\"],\"font\":{\"color\":\"#2a3f5f\"},\"geo\":{\"bgcolor\":\"white\",\"lakecolor\":\"white\",\"landcolor\":\"#E5ECF6\",\"showlakes\":true,\"showland\":true,\"subunitcolor\":\"white\"},\"hoverlabel\":{\"align\":\"left\"},\"hovermode\":\"closest\",\"mapbox\":{\"style\":\"light\"},\"paper_bgcolor\":\"white\",\"plot_bgcolor\":\"#E5ECF6\",\"polar\":{\"angularaxis\":{\"gridcolor\":\"white\",\"linecolor\":\"white\",\"ticks\":\"\"},\"bgcolor\":\"#E5ECF6\",\"radialaxis\":{\"gridcolor\":\"white\",\"linecolor\":\"white\",\"ticks\":\"\"}},\"scene\":{\"xaxis\":{\"backgroundcolor\":\"#E5ECF6\",\"gridcolor\":\"white\",\"gridwidth\":2,\"linecolor\":\"white\",\"showbackground\":true,\"ticks\":\"\",\"zerolinecolor\":\"white\"},\"yaxis\":{\"backgroundcolor\":\"#E5ECF6\",\"gridcolor\":\"white\",\"gridwidth\":2,\"linecolor\":\"white\",\"showbackground\":true,\"ticks\":\"\",\"zerolinecolor\":\"white\"},\"zaxis\":{\"backgroundcolor\":\"#E5ECF6\",\"gridcolor\":\"white\",\"gridwidth\":2,\"linecolor\":\"white\",\"showbackground\":true,\"ticks\":\"\",\"zerolinecolor\":\"white\"}},\"shapedefaults\":{\"line\":{\"color\":\"#2a3f5f\"}},\"ternary\":{\"aaxis\":{\"gridcolor\":\"white\",\"linecolor\":\"white\",\"ticks\":\"\"},\"baxis\":{\"gridcolor\":\"white\",\"linecolor\":\"white\",\"ticks\":\"\"},\"bgcolor\":\"#E5ECF6\",\"caxis\":{\"gridcolor\":\"white\",\"linecolor\":\"white\",\"ticks\":\"\"}},\"title\":{\"x\":0.05},\"xaxis\":{\"automargin\":true,\"gridcolor\":\"white\",\"linecolor\":\"white\",\"ticks\":\"\",\"title\":{\"standoff\":15},\"zerolinecolor\":\"white\",\"zerolinewidth\":2},\"yaxis\":{\"automargin\":true,\"gridcolor\":\"white\",\"linecolor\":\"white\",\"ticks\":\"\",\"title\":{\"standoff\":15},\"zerolinecolor\":\"white\",\"zerolinewidth\":2}}},\"title\":{\"font\":{\"color\":\"#4D5663\"}},\"xaxis\":{\"gridcolor\":\"#E1E5ED\",\"showgrid\":true,\"tickfont\":{\"color\":\"#4D5663\"},\"title\":{\"font\":{\"color\":\"#4D5663\"},\"text\":\"\"},\"zerolinecolor\":\"#E1E5ED\"},\"yaxis\":{\"gridcolor\":\"#E1E5ED\",\"showgrid\":true,\"tickfont\":{\"color\":\"#4D5663\"},\"title\":{\"font\":{\"color\":\"#4D5663\"},\"text\":\"\"},\"zerolinecolor\":\"#E1E5ED\"}},                        {\"showLink\": true, \"linkText\": \"Export to plot.ly\", \"plotlyServerURL\": \"https://plot.ly\", \"responsive\": true}                    ).then(function(){\n",
       "                            \n",
       "var gd = document.getElementById('5778f2c9-cb8f-4bd8-bc62-24e903053c6e');\n",
       "var x = new MutationObserver(function (mutations, observer) {{\n",
       "        var display = window.getComputedStyle(gd).display;\n",
       "        if (!display || display === 'none') {{\n",
       "            console.log([gd, 'removed!']);\n",
       "            Plotly.purge(gd);\n",
       "            observer.disconnect();\n",
       "        }}\n",
       "}});\n",
       "\n",
       "// Listen for the removal of the full notebook cells\n",
       "var notebookContainer = gd.closest('#notebook-container');\n",
       "if (notebookContainer) {{\n",
       "    x.observe(notebookContainer, {childList: true});\n",
       "}}\n",
       "\n",
       "// Listen for the clearing of the current output cell\n",
       "var outputEl = gd.closest('.output');\n",
       "if (outputEl) {{\n",
       "    x.observe(outputEl, {childList: true});\n",
       "}}\n",
       "\n",
       "                        })                };                });            </script>        </div>"
      ]
     },
     "metadata": {},
     "output_type": "display_data"
    }
   ],
   "source": [
    "df.iplot(kind='bubble',x='A',y='B',size='C')"
   ]
  },
  {
   "cell_type": "code",
   "execution_count": 32,
   "id": "a5d6e986-a015-40fc-bcd0-3b6ddd2e95b0",
   "metadata": {
    "tags": []
   },
   "outputs": [
    {
     "data": {
      "application/vnd.plotly.v1+json": {
       "config": {
        "linkText": "Export to plot.ly",
        "plotlyServerURL": "https://plot.ly",
        "showLink": true
       },
       "data": [
        {
         "histfunc": "count",
         "histnorm": "",
         "marker": {
          "color": "rgba(255, 153, 51, 1.0)",
          "line": {
           "color": "#4D5663",
           "width": 1.3
          }
         },
         "name": "A",
         "nbinsx": 10,
         "opacity": 0.8,
         "orientation": "v",
         "type": "histogram",
         "x": [
          -1.689013611401692,
          -0.2620555553672706,
          -1.0905182782420468,
          -0.27552541933586294,
          0.9184354042241115,
          -0.5621818322927444,
          0.1940834769484241,
          -1.2428318810669599,
          1.1565639609098832,
          -0.7159038857835119,
          -1.4930413374875058,
          0.05438291025550391,
          -0.42353875642862443,
          -0.5348416964848348,
          -1.4155827777983954,
          -0.1849577018100514,
          0.7491800969806963,
          -1.0437095654351864,
          -1.1873612124573099,
          -0.7729780915256113,
          0.9496379884482529,
          0.9255701492107496,
          -0.501638433247438,
          -1.1783151959061486,
          -0.8955494409662109,
          1.4698531828563592,
          -1.1436323277550169,
          -1.7681377258450857,
          -0.2565917868314139,
          -0.39606902930789667,
          -0.5941801172680143,
          -0.4788818069438909,
          0.2506288071928819,
          -1.6237488851824275,
          -1.0305842506615535,
          -1.6275540773586008,
          -1.700152886003429,
          -0.372411772027708,
          0.9175915407031102,
          -1.4151591931408238,
          -0.8121806290435302,
          0.06861836826158521,
          -1.6119352099044117,
          -0.7596089449242701,
          -1.943278264794546,
          1.8498176061630773,
          1.175550561682719,
          0.4993858708120641,
          1.247799436365957,
          1.2207392162025483,
          1.5089596071403208,
          -0.6366671612876112,
          0.10731865339405362,
          2.054173334575546,
          0.005711412872327427,
          0.09639871400344464,
          -1.2573488641393633,
          0.5995204980870332,
          0.12312168661167397,
          -0.36020080076376304,
          0.26368325877658566,
          -2.1504215841781438,
          0.5649251993445709,
          -1.547372941339943,
          0.22834474433727533,
          0.806551393045147,
          0.14802656555688293,
          1.5938912289226514,
          -0.07223755226793076,
          -0.9816586144376963,
          -0.6525509152377631,
          -1.8197923548170925,
          -1.726313926184962,
          0.40558752810909987,
          -0.9084548194948895,
          0.7573284474309724,
          0.3202305886007857,
          1.0110403955293228,
          0.7641247132803324,
          -1.0494931766153843,
          0.4549331298008269,
          0.23567629090555364,
          -1.5990946993192952,
          1.1568983286804944,
          -0.5826571879288767,
          1.6841430138604359,
          2.025672191666682,
          -0.12564981184520735,
          0.16693373358090086,
          -0.2288882405142681,
          0.10422741050875683,
          0.6687521083134625,
          -0.43084762285217537,
          -1.051257481300054,
          -0.17197941465855776,
          0.7711145058102191,
          0.27938985909743863,
          -0.9022124330703055,
          0.20086585914909533,
          -0.17090597809922398
         ],
         "xaxis": "x",
         "yaxis": "y"
        },
        {
         "line": {
          "color": "rgba(128, 128, 128, 1.0)",
          "dash": "solid",
          "shape": "linear",
          "width": 1.3
         },
         "marker": {
          "size": 2,
          "symbol": "circle"
         },
         "mode": "markers",
         "name": "A",
         "text": "",
         "type": "scatter",
         "x": [
          0.9502773190107969,
          0.272559636190263,
          -1.303101825309437,
          -0.09381558184786237,
          -0.7425319895675278,
          2.273858846399452,
          -0.0076088480932280725,
          1.055256682315736,
          0.48371263591801833,
          -1.2271224720190237,
          -0.1795973735439339,
          1.7263100690006208,
          -0.5999960394304096,
          0.6577097297404475,
          0.2013858793488651,
          0.21087228502570896,
          2.166890962505779,
          -0.7176365037245853,
          0.40286527063326677,
          0.908533645024215,
          -0.21050101484298916,
          -1.825832553714384,
          2.0975043715115915,
          0.3834142416861074,
          -1.7508999820502174,
          -0.1513665375010751,
          -1.671745096865534,
          -0.4022728913515091,
          -1.3676303716071965,
          -0.35084114074231604,
          1.3034917709001963,
          0.5515404381214328,
          2.3164422906696904,
          -0.20870242422817226,
          -1.7702561255131923,
          0.0205654950325439,
          -0.0703189491446735,
          1.3272322978976714,
          0.9185597202151164,
          0.3649069447133627,
          0.7513993430019263,
          0.4831934190904803,
          1.0069628917541271,
          -1.6616820260241512,
          -0.7108490077174401,
          -0.4959114783685054,
          0.6996972950770952,
          -1.5773772007368279,
          -1.150553485913242,
          1.0910272074641403,
          1.7003194924547553,
          0.8245785854839354,
          0.499761576040795,
          -1.4716913520129344,
          -1.2960912976668753,
          -0.10553209291936262,
          -1.851992109143555,
          -2.8675554445649953,
          -0.5578028633591723,
          0.3165737069580277,
          -0.9220963506515208,
          0.6337122906958443,
          0.30268560458542365,
          0.24543636395132995,
          -1.9019941545860948,
          -2.1487428642833186,
          -1.686182701548312,
          -0.774039594781683,
          2.2585904120016704,
          -0.8497090448368394,
          -1.3013139094581112,
          -0.6484716671551605,
          0.768852431511444,
          -1.9070800384087057,
          -0.032498105502017295,
          0.3205036547426345,
          1.1636215769870168,
          1.6842635415056044,
          0.01587583250461618,
          -1.0383160328028351,
          -0.625318310169787,
          0.2685185427535348,
          -0.42416251171391295,
          -2.717013022330864,
          -0.4259548580229847,
          -0.964332526482631,
          1.2982180675989476,
          0.6516125860532216,
          -0.17397116000633142,
          -0.665317923702325,
          -0.7246649245741666,
          -0.7641469483764428,
          -1.4694555427445888,
          0.7100508350291533,
          0.4903984699894906,
          1.144194691984651,
          -0.24328013883315086,
          0.6620100764590426,
          -0.7220685758723306,
          -1.184178736036595
         ],
         "xaxis": "x2",
         "y": [
          -1.689013611401692,
          -0.2620555553672706,
          -1.0905182782420468,
          -0.27552541933586294,
          0.9184354042241115,
          -0.5621818322927444,
          0.1940834769484241,
          -1.2428318810669599,
          1.1565639609098832,
          -0.7159038857835119,
          -1.4930413374875058,
          0.05438291025550391,
          -0.42353875642862443,
          -0.5348416964848348,
          -1.4155827777983954,
          -0.1849577018100514,
          0.7491800969806963,
          -1.0437095654351864,
          -1.1873612124573099,
          -0.7729780915256113,
          0.9496379884482529,
          0.9255701492107496,
          -0.501638433247438,
          -1.1783151959061486,
          -0.8955494409662109,
          1.4698531828563592,
          -1.1436323277550169,
          -1.7681377258450857,
          -0.2565917868314139,
          -0.39606902930789667,
          -0.5941801172680143,
          -0.4788818069438909,
          0.2506288071928819,
          -1.6237488851824275,
          -1.0305842506615535,
          -1.6275540773586008,
          -1.700152886003429,
          -0.372411772027708,
          0.9175915407031102,
          -1.4151591931408238,
          -0.8121806290435302,
          0.06861836826158521,
          -1.6119352099044117,
          -0.7596089449242701,
          -1.943278264794546,
          1.8498176061630773,
          1.175550561682719,
          0.4993858708120641,
          1.247799436365957,
          1.2207392162025483,
          1.5089596071403208,
          -0.6366671612876112,
          0.10731865339405362,
          2.054173334575546,
          0.005711412872327427,
          0.09639871400344464,
          -1.2573488641393633,
          0.5995204980870332,
          0.12312168661167397,
          -0.36020080076376304,
          0.26368325877658566,
          -2.1504215841781438,
          0.5649251993445709,
          -1.547372941339943,
          0.22834474433727533,
          0.806551393045147,
          0.14802656555688293,
          1.5938912289226514,
          -0.07223755226793076,
          -0.9816586144376963,
          -0.6525509152377631,
          -1.8197923548170925,
          -1.726313926184962,
          0.40558752810909987,
          -0.9084548194948895,
          0.7573284474309724,
          0.3202305886007857,
          1.0110403955293228,
          0.7641247132803324,
          -1.0494931766153843,
          0.4549331298008269,
          0.23567629090555364,
          -1.5990946993192952,
          1.1568983286804944,
          -0.5826571879288767,
          1.6841430138604359,
          2.025672191666682,
          -0.12564981184520735,
          0.16693373358090086,
          -0.2288882405142681,
          0.10422741050875683,
          0.6687521083134625,
          -0.43084762285217537,
          -1.051257481300054,
          -0.17197941465855776,
          0.7711145058102191,
          0.27938985909743863,
          -0.9022124330703055,
          0.20086585914909533,
          -0.17090597809922398
         ],
         "yaxis": "y2"
        },
        {
         "line": {
          "color": "rgba(128, 128, 128, 1.0)",
          "dash": "solid",
          "shape": "linear",
          "width": 1.3
         },
         "marker": {
          "size": 2,
          "symbol": "circle"
         },
         "mode": "markers",
         "name": "A",
         "text": "",
         "type": "scatter",
         "x": [
          1.0670596524816254,
          -0.30849062766826324,
          1.9944148697374593,
          0.14915773742989255,
          -0.22326632471896346,
          0.14783621212973516,
          -0.557136075262289,
          0.4208500801291917,
          1.038529240244335,
          -0.5836433583351291,
          0.02441495164410823,
          1.2089166064958705,
          -0.020760810922184812,
          -0.5648535667540748,
          -0.9011580899089295,
          0.08833366733331804,
          -0.993473639184813,
          -0.0962506946332271,
          1.1264755691841442,
          -0.3768311123048374,
          0.0898598689432183,
          1.2803105440393818,
          0.8623428880653546,
          -0.6574208122407675,
          -0.8355385250383953,
          -1.9974775867336272,
          0.8830106021213442,
          -0.36973487388376275,
          1.4659159144927045,
          0.42336041391720675,
          2.5603864620217016,
          -0.6880219400424132,
          -1.821088527601304,
          1.718673662801342,
          0.6721064326294207,
          -2.071482319795598,
          -0.0484920892275812,
          -1.2461394692985932,
          0.7489957022297827,
          0.5529629024974215,
          -2.03311310929843,
          0.01045803210099,
          0.1284306716366202,
          0.8308584521530431,
          -0.1522650587124568,
          -0.037680763710975465,
          -0.6666447203751162,
          -1.0467122466262393,
          0.0526620843553781,
          1.1938719912802396,
          0.4687287934924064,
          0.6190221887084402,
          -0.4393526339157279,
          -2.61364910718607,
          -0.06569086747521852,
          0.26259072784325516,
          -1.0217296508516522,
          0.3758143344672426,
          -0.9489799808200903,
          -0.27875655929918275,
          0.1637522499745189,
          -0.31929106361861104,
          -0.12488079300412282,
          -0.3982936196520458,
          -0.6112320236607485,
          -0.5953921004145888,
          -0.6028385860225983,
          -0.6664984937079161,
          0.6534124923453138,
          -0.26871990718477895,
          -0.6532024412579176,
          -1.328577102490758,
          0.5856460907762044,
          0.055458781298802065,
          0.004216611253562115,
          0.23359366955912206,
          1.342589059582487,
          -0.2656565659896192,
          -0.3355528217121,
          -0.6609428675991866,
          -0.6153565721218555,
          -1.2945403943127998,
          -0.24725946753637443,
          -0.4451124062824498,
          0.875178088562618,
          0.6811223647983086,
          -1.3874413592054038,
          -0.6818786973363528,
          1.4067044433323492,
          0.6642496916135224,
          -0.5795411917257935,
          -2.034417823679477,
          0.938049850338298,
          0.9025115753787057,
          -0.8921933940521692,
          -0.36056364335531543,
          0.5933685059440186,
          -0.8957891275190988,
          1.1663036979132806,
          0.018018137656288923
         ],
         "xaxis": "x3",
         "y": [
          -1.689013611401692,
          -0.2620555553672706,
          -1.0905182782420468,
          -0.27552541933586294,
          0.9184354042241115,
          -0.5621818322927444,
          0.1940834769484241,
          -1.2428318810669599,
          1.1565639609098832,
          -0.7159038857835119,
          -1.4930413374875058,
          0.05438291025550391,
          -0.42353875642862443,
          -0.5348416964848348,
          -1.4155827777983954,
          -0.1849577018100514,
          0.7491800969806963,
          -1.0437095654351864,
          -1.1873612124573099,
          -0.7729780915256113,
          0.9496379884482529,
          0.9255701492107496,
          -0.501638433247438,
          -1.1783151959061486,
          -0.8955494409662109,
          1.4698531828563592,
          -1.1436323277550169,
          -1.7681377258450857,
          -0.2565917868314139,
          -0.39606902930789667,
          -0.5941801172680143,
          -0.4788818069438909,
          0.2506288071928819,
          -1.6237488851824275,
          -1.0305842506615535,
          -1.6275540773586008,
          -1.700152886003429,
          -0.372411772027708,
          0.9175915407031102,
          -1.4151591931408238,
          -0.8121806290435302,
          0.06861836826158521,
          -1.6119352099044117,
          -0.7596089449242701,
          -1.943278264794546,
          1.8498176061630773,
          1.175550561682719,
          0.4993858708120641,
          1.247799436365957,
          1.2207392162025483,
          1.5089596071403208,
          -0.6366671612876112,
          0.10731865339405362,
          2.054173334575546,
          0.005711412872327427,
          0.09639871400344464,
          -1.2573488641393633,
          0.5995204980870332,
          0.12312168661167397,
          -0.36020080076376304,
          0.26368325877658566,
          -2.1504215841781438,
          0.5649251993445709,
          -1.547372941339943,
          0.22834474433727533,
          0.806551393045147,
          0.14802656555688293,
          1.5938912289226514,
          -0.07223755226793076,
          -0.9816586144376963,
          -0.6525509152377631,
          -1.8197923548170925,
          -1.726313926184962,
          0.40558752810909987,
          -0.9084548194948895,
          0.7573284474309724,
          0.3202305886007857,
          1.0110403955293228,
          0.7641247132803324,
          -1.0494931766153843,
          0.4549331298008269,
          0.23567629090555364,
          -1.5990946993192952,
          1.1568983286804944,
          -0.5826571879288767,
          1.6841430138604359,
          2.025672191666682,
          -0.12564981184520735,
          0.16693373358090086,
          -0.2288882405142681,
          0.10422741050875683,
          0.6687521083134625,
          -0.43084762285217537,
          -1.051257481300054,
          -0.17197941465855776,
          0.7711145058102191,
          0.27938985909743863,
          -0.9022124330703055,
          0.20086585914909533,
          -0.17090597809922398
         ],
         "yaxis": "y3"
        },
        {
         "line": {
          "color": "rgba(128, 128, 128, 1.0)",
          "dash": "solid",
          "shape": "linear",
          "width": 1.3
         },
         "marker": {
          "size": 2,
          "symbol": "circle"
         },
         "mode": "markers",
         "name": "A",
         "text": "",
         "type": "scatter",
         "x": [
          -1.8331680263704933,
          0.16594000677289453,
          0.9407809065584676,
          0.45351362519107635,
          -0.7122960862246221,
          -1.1540846477446114,
          0.03882816503439271,
          -1.0121067904883196,
          -0.28980739261944954,
          0.04406142266687603,
          -0.974027584882389,
          -0.10987384530309902,
          -0.045560084586197376,
          -0.9161595766624676,
          -0.8393392112726112,
          -1.5526025414070426,
          0.477086072684738,
          -0.13027939016404358,
          0.1216393414286856,
          0.4639576762788007,
          -0.27275894412400953,
          -1.7616005373770647,
          0.8249095855118894,
          -0.5328398516316064,
          0.9928394375801604,
          -0.0002649893921787394,
          0.4245643110011101,
          0.7237784712300664,
          -0.4184962851856109,
          1.5033391755793761,
          -0.3908071554514109,
          0.14614947750287421,
          0.3954647572143869,
          -0.17947229175245927,
          0.9967270248663036,
          -0.07617501330146617,
          -0.4148635485704284,
          -1.3130633196993866,
          2.1398755769366233,
          -0.7789329696823386,
          -0.4040872655362111,
          0.2816284513848978,
          -1.1829791338637683,
          0.22832289892780605,
          0.745714462830363,
          -1.3837989575532685,
          0.3998447518445543,
          -0.3959656178272657,
          -0.20920829279068978,
          0.862096596558899,
          -0.5130955804842601,
          0.6455975160658015,
          -0.8581979662946349,
          1.400223527351921,
          -1.4425909638877439,
          0.6829193577689148,
          0.026893903993907165,
          1.138675898260476,
          0.6237099249787496,
          -0.028900017807215423,
          -1.17730556557372,
          -0.6190312006454065,
          -0.5368543669796532,
          2.735585972707408,
          -1.1508342503961335,
          0.7652898887954792,
          -1.355544504661904,
          -0.11523929785241409,
          -0.9904843546323995,
          0.9763601918759133,
          -0.3228954974227774,
          0.3535850741902665,
          1.064897314034679,
          -1.005435771840754,
          1.9042468853240038,
          -0.5879586435665264,
          -1.225648227385583,
          -0.4376454864607781,
          -0.06807248171109306,
          -0.6381079440933566,
          0.3217214571432425,
          -1.2644767111128723,
          0.29979812840087583,
          -0.8614109908341414,
          -1.0087152282266134,
          0.35461193046226164,
          0.9030399087797852,
          -0.660933816552147,
          1.5170181504179212,
          -0.2420638618990673,
          0.5760363527720042,
          1.4433458260577132,
          1.394405932843069,
          -0.18557482070816925,
          -1.543226152308316,
          1.0028222362206056,
          1.705509565286719,
          0.04623972962883744,
          0.6327636786803752,
          -0.8773778151892596
         ],
         "xaxis": "x4",
         "y": [
          -1.689013611401692,
          -0.2620555553672706,
          -1.0905182782420468,
          -0.27552541933586294,
          0.9184354042241115,
          -0.5621818322927444,
          0.1940834769484241,
          -1.2428318810669599,
          1.1565639609098832,
          -0.7159038857835119,
          -1.4930413374875058,
          0.05438291025550391,
          -0.42353875642862443,
          -0.5348416964848348,
          -1.4155827777983954,
          -0.1849577018100514,
          0.7491800969806963,
          -1.0437095654351864,
          -1.1873612124573099,
          -0.7729780915256113,
          0.9496379884482529,
          0.9255701492107496,
          -0.501638433247438,
          -1.1783151959061486,
          -0.8955494409662109,
          1.4698531828563592,
          -1.1436323277550169,
          -1.7681377258450857,
          -0.2565917868314139,
          -0.39606902930789667,
          -0.5941801172680143,
          -0.4788818069438909,
          0.2506288071928819,
          -1.6237488851824275,
          -1.0305842506615535,
          -1.6275540773586008,
          -1.700152886003429,
          -0.372411772027708,
          0.9175915407031102,
          -1.4151591931408238,
          -0.8121806290435302,
          0.06861836826158521,
          -1.6119352099044117,
          -0.7596089449242701,
          -1.943278264794546,
          1.8498176061630773,
          1.175550561682719,
          0.4993858708120641,
          1.247799436365957,
          1.2207392162025483,
          1.5089596071403208,
          -0.6366671612876112,
          0.10731865339405362,
          2.054173334575546,
          0.005711412872327427,
          0.09639871400344464,
          -1.2573488641393633,
          0.5995204980870332,
          0.12312168661167397,
          -0.36020080076376304,
          0.26368325877658566,
          -2.1504215841781438,
          0.5649251993445709,
          -1.547372941339943,
          0.22834474433727533,
          0.806551393045147,
          0.14802656555688293,
          1.5938912289226514,
          -0.07223755226793076,
          -0.9816586144376963,
          -0.6525509152377631,
          -1.8197923548170925,
          -1.726313926184962,
          0.40558752810909987,
          -0.9084548194948895,
          0.7573284474309724,
          0.3202305886007857,
          1.0110403955293228,
          0.7641247132803324,
          -1.0494931766153843,
          0.4549331298008269,
          0.23567629090555364,
          -1.5990946993192952,
          1.1568983286804944,
          -0.5826571879288767,
          1.6841430138604359,
          2.025672191666682,
          -0.12564981184520735,
          0.16693373358090086,
          -0.2288882405142681,
          0.10422741050875683,
          0.6687521083134625,
          -0.43084762285217537,
          -1.051257481300054,
          -0.17197941465855776,
          0.7711145058102191,
          0.27938985909743863,
          -0.9022124330703055,
          0.20086585914909533,
          -0.17090597809922398
         ],
         "yaxis": "y4"
        },
        {
         "line": {
          "color": "rgba(128, 128, 128, 1.0)",
          "dash": "solid",
          "shape": "linear",
          "width": 1.3
         },
         "marker": {
          "size": 2,
          "symbol": "circle"
         },
         "mode": "markers",
         "name": "B",
         "text": "",
         "type": "scatter",
         "x": [
          -1.689013611401692,
          -0.2620555553672706,
          -1.0905182782420468,
          -0.27552541933586294,
          0.9184354042241115,
          -0.5621818322927444,
          0.1940834769484241,
          -1.2428318810669599,
          1.1565639609098832,
          -0.7159038857835119,
          -1.4930413374875058,
          0.05438291025550391,
          -0.42353875642862443,
          -0.5348416964848348,
          -1.4155827777983954,
          -0.1849577018100514,
          0.7491800969806963,
          -1.0437095654351864,
          -1.1873612124573099,
          -0.7729780915256113,
          0.9496379884482529,
          0.9255701492107496,
          -0.501638433247438,
          -1.1783151959061486,
          -0.8955494409662109,
          1.4698531828563592,
          -1.1436323277550169,
          -1.7681377258450857,
          -0.2565917868314139,
          -0.39606902930789667,
          -0.5941801172680143,
          -0.4788818069438909,
          0.2506288071928819,
          -1.6237488851824275,
          -1.0305842506615535,
          -1.6275540773586008,
          -1.700152886003429,
          -0.372411772027708,
          0.9175915407031102,
          -1.4151591931408238,
          -0.8121806290435302,
          0.06861836826158521,
          -1.6119352099044117,
          -0.7596089449242701,
          -1.943278264794546,
          1.8498176061630773,
          1.175550561682719,
          0.4993858708120641,
          1.247799436365957,
          1.2207392162025483,
          1.5089596071403208,
          -0.6366671612876112,
          0.10731865339405362,
          2.054173334575546,
          0.005711412872327427,
          0.09639871400344464,
          -1.2573488641393633,
          0.5995204980870332,
          0.12312168661167397,
          -0.36020080076376304,
          0.26368325877658566,
          -2.1504215841781438,
          0.5649251993445709,
          -1.547372941339943,
          0.22834474433727533,
          0.806551393045147,
          0.14802656555688293,
          1.5938912289226514,
          -0.07223755226793076,
          -0.9816586144376963,
          -0.6525509152377631,
          -1.8197923548170925,
          -1.726313926184962,
          0.40558752810909987,
          -0.9084548194948895,
          0.7573284474309724,
          0.3202305886007857,
          1.0110403955293228,
          0.7641247132803324,
          -1.0494931766153843,
          0.4549331298008269,
          0.23567629090555364,
          -1.5990946993192952,
          1.1568983286804944,
          -0.5826571879288767,
          1.6841430138604359,
          2.025672191666682,
          -0.12564981184520735,
          0.16693373358090086,
          -0.2288882405142681,
          0.10422741050875683,
          0.6687521083134625,
          -0.43084762285217537,
          -1.051257481300054,
          -0.17197941465855776,
          0.7711145058102191,
          0.27938985909743863,
          -0.9022124330703055,
          0.20086585914909533,
          -0.17090597809922398
         ],
         "xaxis": "x5",
         "y": [
          0.9502773190107969,
          0.272559636190263,
          -1.303101825309437,
          -0.09381558184786237,
          -0.7425319895675278,
          2.273858846399452,
          -0.0076088480932280725,
          1.055256682315736,
          0.48371263591801833,
          -1.2271224720190237,
          -0.1795973735439339,
          1.7263100690006208,
          -0.5999960394304096,
          0.6577097297404475,
          0.2013858793488651,
          0.21087228502570896,
          2.166890962505779,
          -0.7176365037245853,
          0.40286527063326677,
          0.908533645024215,
          -0.21050101484298916,
          -1.825832553714384,
          2.0975043715115915,
          0.3834142416861074,
          -1.7508999820502174,
          -0.1513665375010751,
          -1.671745096865534,
          -0.4022728913515091,
          -1.3676303716071965,
          -0.35084114074231604,
          1.3034917709001963,
          0.5515404381214328,
          2.3164422906696904,
          -0.20870242422817226,
          -1.7702561255131923,
          0.0205654950325439,
          -0.0703189491446735,
          1.3272322978976714,
          0.9185597202151164,
          0.3649069447133627,
          0.7513993430019263,
          0.4831934190904803,
          1.0069628917541271,
          -1.6616820260241512,
          -0.7108490077174401,
          -0.4959114783685054,
          0.6996972950770952,
          -1.5773772007368279,
          -1.150553485913242,
          1.0910272074641403,
          1.7003194924547553,
          0.8245785854839354,
          0.499761576040795,
          -1.4716913520129344,
          -1.2960912976668753,
          -0.10553209291936262,
          -1.851992109143555,
          -2.8675554445649953,
          -0.5578028633591723,
          0.3165737069580277,
          -0.9220963506515208,
          0.6337122906958443,
          0.30268560458542365,
          0.24543636395132995,
          -1.9019941545860948,
          -2.1487428642833186,
          -1.686182701548312,
          -0.774039594781683,
          2.2585904120016704,
          -0.8497090448368394,
          -1.3013139094581112,
          -0.6484716671551605,
          0.768852431511444,
          -1.9070800384087057,
          -0.032498105502017295,
          0.3205036547426345,
          1.1636215769870168,
          1.6842635415056044,
          0.01587583250461618,
          -1.0383160328028351,
          -0.625318310169787,
          0.2685185427535348,
          -0.42416251171391295,
          -2.717013022330864,
          -0.4259548580229847,
          -0.964332526482631,
          1.2982180675989476,
          0.6516125860532216,
          -0.17397116000633142,
          -0.665317923702325,
          -0.7246649245741666,
          -0.7641469483764428,
          -1.4694555427445888,
          0.7100508350291533,
          0.4903984699894906,
          1.144194691984651,
          -0.24328013883315086,
          0.6620100764590426,
          -0.7220685758723306,
          -1.184178736036595
         ],
         "yaxis": "y5"
        },
        {
         "histfunc": "count",
         "histnorm": "",
         "marker": {
          "color": "rgba(55, 128, 191, 1.0)",
          "line": {
           "color": "#4D5663",
           "width": 1.3
          }
         },
         "name": "B",
         "nbinsx": 10,
         "opacity": 0.8,
         "orientation": "v",
         "type": "histogram",
         "x": [
          0.9502773190107969,
          0.272559636190263,
          -1.303101825309437,
          -0.09381558184786237,
          -0.7425319895675278,
          2.273858846399452,
          -0.0076088480932280725,
          1.055256682315736,
          0.48371263591801833,
          -1.2271224720190237,
          -0.1795973735439339,
          1.7263100690006208,
          -0.5999960394304096,
          0.6577097297404475,
          0.2013858793488651,
          0.21087228502570896,
          2.166890962505779,
          -0.7176365037245853,
          0.40286527063326677,
          0.908533645024215,
          -0.21050101484298916,
          -1.825832553714384,
          2.0975043715115915,
          0.3834142416861074,
          -1.7508999820502174,
          -0.1513665375010751,
          -1.671745096865534,
          -0.4022728913515091,
          -1.3676303716071965,
          -0.35084114074231604,
          1.3034917709001963,
          0.5515404381214328,
          2.3164422906696904,
          -0.20870242422817226,
          -1.7702561255131923,
          0.0205654950325439,
          -0.0703189491446735,
          1.3272322978976714,
          0.9185597202151164,
          0.3649069447133627,
          0.7513993430019263,
          0.4831934190904803,
          1.0069628917541271,
          -1.6616820260241512,
          -0.7108490077174401,
          -0.4959114783685054,
          0.6996972950770952,
          -1.5773772007368279,
          -1.150553485913242,
          1.0910272074641403,
          1.7003194924547553,
          0.8245785854839354,
          0.499761576040795,
          -1.4716913520129344,
          -1.2960912976668753,
          -0.10553209291936262,
          -1.851992109143555,
          -2.8675554445649953,
          -0.5578028633591723,
          0.3165737069580277,
          -0.9220963506515208,
          0.6337122906958443,
          0.30268560458542365,
          0.24543636395132995,
          -1.9019941545860948,
          -2.1487428642833186,
          -1.686182701548312,
          -0.774039594781683,
          2.2585904120016704,
          -0.8497090448368394,
          -1.3013139094581112,
          -0.6484716671551605,
          0.768852431511444,
          -1.9070800384087057,
          -0.032498105502017295,
          0.3205036547426345,
          1.1636215769870168,
          1.6842635415056044,
          0.01587583250461618,
          -1.0383160328028351,
          -0.625318310169787,
          0.2685185427535348,
          -0.42416251171391295,
          -2.717013022330864,
          -0.4259548580229847,
          -0.964332526482631,
          1.2982180675989476,
          0.6516125860532216,
          -0.17397116000633142,
          -0.665317923702325,
          -0.7246649245741666,
          -0.7641469483764428,
          -1.4694555427445888,
          0.7100508350291533,
          0.4903984699894906,
          1.144194691984651,
          -0.24328013883315086,
          0.6620100764590426,
          -0.7220685758723306,
          -1.184178736036595
         ],
         "xaxis": "x6",
         "yaxis": "y6"
        },
        {
         "line": {
          "color": "rgba(128, 128, 128, 1.0)",
          "dash": "solid",
          "shape": "linear",
          "width": 1.3
         },
         "marker": {
          "size": 2,
          "symbol": "circle"
         },
         "mode": "markers",
         "name": "B",
         "text": "",
         "type": "scatter",
         "x": [
          1.0670596524816254,
          -0.30849062766826324,
          1.9944148697374593,
          0.14915773742989255,
          -0.22326632471896346,
          0.14783621212973516,
          -0.557136075262289,
          0.4208500801291917,
          1.038529240244335,
          -0.5836433583351291,
          0.02441495164410823,
          1.2089166064958705,
          -0.020760810922184812,
          -0.5648535667540748,
          -0.9011580899089295,
          0.08833366733331804,
          -0.993473639184813,
          -0.0962506946332271,
          1.1264755691841442,
          -0.3768311123048374,
          0.0898598689432183,
          1.2803105440393818,
          0.8623428880653546,
          -0.6574208122407675,
          -0.8355385250383953,
          -1.9974775867336272,
          0.8830106021213442,
          -0.36973487388376275,
          1.4659159144927045,
          0.42336041391720675,
          2.5603864620217016,
          -0.6880219400424132,
          -1.821088527601304,
          1.718673662801342,
          0.6721064326294207,
          -2.071482319795598,
          -0.0484920892275812,
          -1.2461394692985932,
          0.7489957022297827,
          0.5529629024974215,
          -2.03311310929843,
          0.01045803210099,
          0.1284306716366202,
          0.8308584521530431,
          -0.1522650587124568,
          -0.037680763710975465,
          -0.6666447203751162,
          -1.0467122466262393,
          0.0526620843553781,
          1.1938719912802396,
          0.4687287934924064,
          0.6190221887084402,
          -0.4393526339157279,
          -2.61364910718607,
          -0.06569086747521852,
          0.26259072784325516,
          -1.0217296508516522,
          0.3758143344672426,
          -0.9489799808200903,
          -0.27875655929918275,
          0.1637522499745189,
          -0.31929106361861104,
          -0.12488079300412282,
          -0.3982936196520458,
          -0.6112320236607485,
          -0.5953921004145888,
          -0.6028385860225983,
          -0.6664984937079161,
          0.6534124923453138,
          -0.26871990718477895,
          -0.6532024412579176,
          -1.328577102490758,
          0.5856460907762044,
          0.055458781298802065,
          0.004216611253562115,
          0.23359366955912206,
          1.342589059582487,
          -0.2656565659896192,
          -0.3355528217121,
          -0.6609428675991866,
          -0.6153565721218555,
          -1.2945403943127998,
          -0.24725946753637443,
          -0.4451124062824498,
          0.875178088562618,
          0.6811223647983086,
          -1.3874413592054038,
          -0.6818786973363528,
          1.4067044433323492,
          0.6642496916135224,
          -0.5795411917257935,
          -2.034417823679477,
          0.938049850338298,
          0.9025115753787057,
          -0.8921933940521692,
          -0.36056364335531543,
          0.5933685059440186,
          -0.8957891275190988,
          1.1663036979132806,
          0.018018137656288923
         ],
         "xaxis": "x7",
         "y": [
          0.9502773190107969,
          0.272559636190263,
          -1.303101825309437,
          -0.09381558184786237,
          -0.7425319895675278,
          2.273858846399452,
          -0.0076088480932280725,
          1.055256682315736,
          0.48371263591801833,
          -1.2271224720190237,
          -0.1795973735439339,
          1.7263100690006208,
          -0.5999960394304096,
          0.6577097297404475,
          0.2013858793488651,
          0.21087228502570896,
          2.166890962505779,
          -0.7176365037245853,
          0.40286527063326677,
          0.908533645024215,
          -0.21050101484298916,
          -1.825832553714384,
          2.0975043715115915,
          0.3834142416861074,
          -1.7508999820502174,
          -0.1513665375010751,
          -1.671745096865534,
          -0.4022728913515091,
          -1.3676303716071965,
          -0.35084114074231604,
          1.3034917709001963,
          0.5515404381214328,
          2.3164422906696904,
          -0.20870242422817226,
          -1.7702561255131923,
          0.0205654950325439,
          -0.0703189491446735,
          1.3272322978976714,
          0.9185597202151164,
          0.3649069447133627,
          0.7513993430019263,
          0.4831934190904803,
          1.0069628917541271,
          -1.6616820260241512,
          -0.7108490077174401,
          -0.4959114783685054,
          0.6996972950770952,
          -1.5773772007368279,
          -1.150553485913242,
          1.0910272074641403,
          1.7003194924547553,
          0.8245785854839354,
          0.499761576040795,
          -1.4716913520129344,
          -1.2960912976668753,
          -0.10553209291936262,
          -1.851992109143555,
          -2.8675554445649953,
          -0.5578028633591723,
          0.3165737069580277,
          -0.9220963506515208,
          0.6337122906958443,
          0.30268560458542365,
          0.24543636395132995,
          -1.9019941545860948,
          -2.1487428642833186,
          -1.686182701548312,
          -0.774039594781683,
          2.2585904120016704,
          -0.8497090448368394,
          -1.3013139094581112,
          -0.6484716671551605,
          0.768852431511444,
          -1.9070800384087057,
          -0.032498105502017295,
          0.3205036547426345,
          1.1636215769870168,
          1.6842635415056044,
          0.01587583250461618,
          -1.0383160328028351,
          -0.625318310169787,
          0.2685185427535348,
          -0.42416251171391295,
          -2.717013022330864,
          -0.4259548580229847,
          -0.964332526482631,
          1.2982180675989476,
          0.6516125860532216,
          -0.17397116000633142,
          -0.665317923702325,
          -0.7246649245741666,
          -0.7641469483764428,
          -1.4694555427445888,
          0.7100508350291533,
          0.4903984699894906,
          1.144194691984651,
          -0.24328013883315086,
          0.6620100764590426,
          -0.7220685758723306,
          -1.184178736036595
         ],
         "yaxis": "y7"
        },
        {
         "line": {
          "color": "rgba(128, 128, 128, 1.0)",
          "dash": "solid",
          "shape": "linear",
          "width": 1.3
         },
         "marker": {
          "size": 2,
          "symbol": "circle"
         },
         "mode": "markers",
         "name": "B",
         "text": "",
         "type": "scatter",
         "x": [
          -1.8331680263704933,
          0.16594000677289453,
          0.9407809065584676,
          0.45351362519107635,
          -0.7122960862246221,
          -1.1540846477446114,
          0.03882816503439271,
          -1.0121067904883196,
          -0.28980739261944954,
          0.04406142266687603,
          -0.974027584882389,
          -0.10987384530309902,
          -0.045560084586197376,
          -0.9161595766624676,
          -0.8393392112726112,
          -1.5526025414070426,
          0.477086072684738,
          -0.13027939016404358,
          0.1216393414286856,
          0.4639576762788007,
          -0.27275894412400953,
          -1.7616005373770647,
          0.8249095855118894,
          -0.5328398516316064,
          0.9928394375801604,
          -0.0002649893921787394,
          0.4245643110011101,
          0.7237784712300664,
          -0.4184962851856109,
          1.5033391755793761,
          -0.3908071554514109,
          0.14614947750287421,
          0.3954647572143869,
          -0.17947229175245927,
          0.9967270248663036,
          -0.07617501330146617,
          -0.4148635485704284,
          -1.3130633196993866,
          2.1398755769366233,
          -0.7789329696823386,
          -0.4040872655362111,
          0.2816284513848978,
          -1.1829791338637683,
          0.22832289892780605,
          0.745714462830363,
          -1.3837989575532685,
          0.3998447518445543,
          -0.3959656178272657,
          -0.20920829279068978,
          0.862096596558899,
          -0.5130955804842601,
          0.6455975160658015,
          -0.8581979662946349,
          1.400223527351921,
          -1.4425909638877439,
          0.6829193577689148,
          0.026893903993907165,
          1.138675898260476,
          0.6237099249787496,
          -0.028900017807215423,
          -1.17730556557372,
          -0.6190312006454065,
          -0.5368543669796532,
          2.735585972707408,
          -1.1508342503961335,
          0.7652898887954792,
          -1.355544504661904,
          -0.11523929785241409,
          -0.9904843546323995,
          0.9763601918759133,
          -0.3228954974227774,
          0.3535850741902665,
          1.064897314034679,
          -1.005435771840754,
          1.9042468853240038,
          -0.5879586435665264,
          -1.225648227385583,
          -0.4376454864607781,
          -0.06807248171109306,
          -0.6381079440933566,
          0.3217214571432425,
          -1.2644767111128723,
          0.29979812840087583,
          -0.8614109908341414,
          -1.0087152282266134,
          0.35461193046226164,
          0.9030399087797852,
          -0.660933816552147,
          1.5170181504179212,
          -0.2420638618990673,
          0.5760363527720042,
          1.4433458260577132,
          1.394405932843069,
          -0.18557482070816925,
          -1.543226152308316,
          1.0028222362206056,
          1.705509565286719,
          0.04623972962883744,
          0.6327636786803752,
          -0.8773778151892596
         ],
         "xaxis": "x8",
         "y": [
          0.9502773190107969,
          0.272559636190263,
          -1.303101825309437,
          -0.09381558184786237,
          -0.7425319895675278,
          2.273858846399452,
          -0.0076088480932280725,
          1.055256682315736,
          0.48371263591801833,
          -1.2271224720190237,
          -0.1795973735439339,
          1.7263100690006208,
          -0.5999960394304096,
          0.6577097297404475,
          0.2013858793488651,
          0.21087228502570896,
          2.166890962505779,
          -0.7176365037245853,
          0.40286527063326677,
          0.908533645024215,
          -0.21050101484298916,
          -1.825832553714384,
          2.0975043715115915,
          0.3834142416861074,
          -1.7508999820502174,
          -0.1513665375010751,
          -1.671745096865534,
          -0.4022728913515091,
          -1.3676303716071965,
          -0.35084114074231604,
          1.3034917709001963,
          0.5515404381214328,
          2.3164422906696904,
          -0.20870242422817226,
          -1.7702561255131923,
          0.0205654950325439,
          -0.0703189491446735,
          1.3272322978976714,
          0.9185597202151164,
          0.3649069447133627,
          0.7513993430019263,
          0.4831934190904803,
          1.0069628917541271,
          -1.6616820260241512,
          -0.7108490077174401,
          -0.4959114783685054,
          0.6996972950770952,
          -1.5773772007368279,
          -1.150553485913242,
          1.0910272074641403,
          1.7003194924547553,
          0.8245785854839354,
          0.499761576040795,
          -1.4716913520129344,
          -1.2960912976668753,
          -0.10553209291936262,
          -1.851992109143555,
          -2.8675554445649953,
          -0.5578028633591723,
          0.3165737069580277,
          -0.9220963506515208,
          0.6337122906958443,
          0.30268560458542365,
          0.24543636395132995,
          -1.9019941545860948,
          -2.1487428642833186,
          -1.686182701548312,
          -0.774039594781683,
          2.2585904120016704,
          -0.8497090448368394,
          -1.3013139094581112,
          -0.6484716671551605,
          0.768852431511444,
          -1.9070800384087057,
          -0.032498105502017295,
          0.3205036547426345,
          1.1636215769870168,
          1.6842635415056044,
          0.01587583250461618,
          -1.0383160328028351,
          -0.625318310169787,
          0.2685185427535348,
          -0.42416251171391295,
          -2.717013022330864,
          -0.4259548580229847,
          -0.964332526482631,
          1.2982180675989476,
          0.6516125860532216,
          -0.17397116000633142,
          -0.665317923702325,
          -0.7246649245741666,
          -0.7641469483764428,
          -1.4694555427445888,
          0.7100508350291533,
          0.4903984699894906,
          1.144194691984651,
          -0.24328013883315086,
          0.6620100764590426,
          -0.7220685758723306,
          -1.184178736036595
         ],
         "yaxis": "y8"
        },
        {
         "line": {
          "color": "rgba(128, 128, 128, 1.0)",
          "dash": "solid",
          "shape": "linear",
          "width": 1.3
         },
         "marker": {
          "size": 2,
          "symbol": "circle"
         },
         "mode": "markers",
         "name": "C",
         "text": "",
         "type": "scatter",
         "x": [
          -1.689013611401692,
          -0.2620555553672706,
          -1.0905182782420468,
          -0.27552541933586294,
          0.9184354042241115,
          -0.5621818322927444,
          0.1940834769484241,
          -1.2428318810669599,
          1.1565639609098832,
          -0.7159038857835119,
          -1.4930413374875058,
          0.05438291025550391,
          -0.42353875642862443,
          -0.5348416964848348,
          -1.4155827777983954,
          -0.1849577018100514,
          0.7491800969806963,
          -1.0437095654351864,
          -1.1873612124573099,
          -0.7729780915256113,
          0.9496379884482529,
          0.9255701492107496,
          -0.501638433247438,
          -1.1783151959061486,
          -0.8955494409662109,
          1.4698531828563592,
          -1.1436323277550169,
          -1.7681377258450857,
          -0.2565917868314139,
          -0.39606902930789667,
          -0.5941801172680143,
          -0.4788818069438909,
          0.2506288071928819,
          -1.6237488851824275,
          -1.0305842506615535,
          -1.6275540773586008,
          -1.700152886003429,
          -0.372411772027708,
          0.9175915407031102,
          -1.4151591931408238,
          -0.8121806290435302,
          0.06861836826158521,
          -1.6119352099044117,
          -0.7596089449242701,
          -1.943278264794546,
          1.8498176061630773,
          1.175550561682719,
          0.4993858708120641,
          1.247799436365957,
          1.2207392162025483,
          1.5089596071403208,
          -0.6366671612876112,
          0.10731865339405362,
          2.054173334575546,
          0.005711412872327427,
          0.09639871400344464,
          -1.2573488641393633,
          0.5995204980870332,
          0.12312168661167397,
          -0.36020080076376304,
          0.26368325877658566,
          -2.1504215841781438,
          0.5649251993445709,
          -1.547372941339943,
          0.22834474433727533,
          0.806551393045147,
          0.14802656555688293,
          1.5938912289226514,
          -0.07223755226793076,
          -0.9816586144376963,
          -0.6525509152377631,
          -1.8197923548170925,
          -1.726313926184962,
          0.40558752810909987,
          -0.9084548194948895,
          0.7573284474309724,
          0.3202305886007857,
          1.0110403955293228,
          0.7641247132803324,
          -1.0494931766153843,
          0.4549331298008269,
          0.23567629090555364,
          -1.5990946993192952,
          1.1568983286804944,
          -0.5826571879288767,
          1.6841430138604359,
          2.025672191666682,
          -0.12564981184520735,
          0.16693373358090086,
          -0.2288882405142681,
          0.10422741050875683,
          0.6687521083134625,
          -0.43084762285217537,
          -1.051257481300054,
          -0.17197941465855776,
          0.7711145058102191,
          0.27938985909743863,
          -0.9022124330703055,
          0.20086585914909533,
          -0.17090597809922398
         ],
         "xaxis": "x9",
         "y": [
          1.0670596524816254,
          -0.30849062766826324,
          1.9944148697374593,
          0.14915773742989255,
          -0.22326632471896346,
          0.14783621212973516,
          -0.557136075262289,
          0.4208500801291917,
          1.038529240244335,
          -0.5836433583351291,
          0.02441495164410823,
          1.2089166064958705,
          -0.020760810922184812,
          -0.5648535667540748,
          -0.9011580899089295,
          0.08833366733331804,
          -0.993473639184813,
          -0.0962506946332271,
          1.1264755691841442,
          -0.3768311123048374,
          0.0898598689432183,
          1.2803105440393818,
          0.8623428880653546,
          -0.6574208122407675,
          -0.8355385250383953,
          -1.9974775867336272,
          0.8830106021213442,
          -0.36973487388376275,
          1.4659159144927045,
          0.42336041391720675,
          2.5603864620217016,
          -0.6880219400424132,
          -1.821088527601304,
          1.718673662801342,
          0.6721064326294207,
          -2.071482319795598,
          -0.0484920892275812,
          -1.2461394692985932,
          0.7489957022297827,
          0.5529629024974215,
          -2.03311310929843,
          0.01045803210099,
          0.1284306716366202,
          0.8308584521530431,
          -0.1522650587124568,
          -0.037680763710975465,
          -0.6666447203751162,
          -1.0467122466262393,
          0.0526620843553781,
          1.1938719912802396,
          0.4687287934924064,
          0.6190221887084402,
          -0.4393526339157279,
          -2.61364910718607,
          -0.06569086747521852,
          0.26259072784325516,
          -1.0217296508516522,
          0.3758143344672426,
          -0.9489799808200903,
          -0.27875655929918275,
          0.1637522499745189,
          -0.31929106361861104,
          -0.12488079300412282,
          -0.3982936196520458,
          -0.6112320236607485,
          -0.5953921004145888,
          -0.6028385860225983,
          -0.6664984937079161,
          0.6534124923453138,
          -0.26871990718477895,
          -0.6532024412579176,
          -1.328577102490758,
          0.5856460907762044,
          0.055458781298802065,
          0.004216611253562115,
          0.23359366955912206,
          1.342589059582487,
          -0.2656565659896192,
          -0.3355528217121,
          -0.6609428675991866,
          -0.6153565721218555,
          -1.2945403943127998,
          -0.24725946753637443,
          -0.4451124062824498,
          0.875178088562618,
          0.6811223647983086,
          -1.3874413592054038,
          -0.6818786973363528,
          1.4067044433323492,
          0.6642496916135224,
          -0.5795411917257935,
          -2.034417823679477,
          0.938049850338298,
          0.9025115753787057,
          -0.8921933940521692,
          -0.36056364335531543,
          0.5933685059440186,
          -0.8957891275190988,
          1.1663036979132806,
          0.018018137656288923
         ],
         "yaxis": "y9"
        },
        {
         "line": {
          "color": "rgba(128, 128, 128, 1.0)",
          "dash": "solid",
          "shape": "linear",
          "width": 1.3
         },
         "marker": {
          "size": 2,
          "symbol": "circle"
         },
         "mode": "markers",
         "name": "C",
         "text": "",
         "type": "scatter",
         "x": [
          0.9502773190107969,
          0.272559636190263,
          -1.303101825309437,
          -0.09381558184786237,
          -0.7425319895675278,
          2.273858846399452,
          -0.0076088480932280725,
          1.055256682315736,
          0.48371263591801833,
          -1.2271224720190237,
          -0.1795973735439339,
          1.7263100690006208,
          -0.5999960394304096,
          0.6577097297404475,
          0.2013858793488651,
          0.21087228502570896,
          2.166890962505779,
          -0.7176365037245853,
          0.40286527063326677,
          0.908533645024215,
          -0.21050101484298916,
          -1.825832553714384,
          2.0975043715115915,
          0.3834142416861074,
          -1.7508999820502174,
          -0.1513665375010751,
          -1.671745096865534,
          -0.4022728913515091,
          -1.3676303716071965,
          -0.35084114074231604,
          1.3034917709001963,
          0.5515404381214328,
          2.3164422906696904,
          -0.20870242422817226,
          -1.7702561255131923,
          0.0205654950325439,
          -0.0703189491446735,
          1.3272322978976714,
          0.9185597202151164,
          0.3649069447133627,
          0.7513993430019263,
          0.4831934190904803,
          1.0069628917541271,
          -1.6616820260241512,
          -0.7108490077174401,
          -0.4959114783685054,
          0.6996972950770952,
          -1.5773772007368279,
          -1.150553485913242,
          1.0910272074641403,
          1.7003194924547553,
          0.8245785854839354,
          0.499761576040795,
          -1.4716913520129344,
          -1.2960912976668753,
          -0.10553209291936262,
          -1.851992109143555,
          -2.8675554445649953,
          -0.5578028633591723,
          0.3165737069580277,
          -0.9220963506515208,
          0.6337122906958443,
          0.30268560458542365,
          0.24543636395132995,
          -1.9019941545860948,
          -2.1487428642833186,
          -1.686182701548312,
          -0.774039594781683,
          2.2585904120016704,
          -0.8497090448368394,
          -1.3013139094581112,
          -0.6484716671551605,
          0.768852431511444,
          -1.9070800384087057,
          -0.032498105502017295,
          0.3205036547426345,
          1.1636215769870168,
          1.6842635415056044,
          0.01587583250461618,
          -1.0383160328028351,
          -0.625318310169787,
          0.2685185427535348,
          -0.42416251171391295,
          -2.717013022330864,
          -0.4259548580229847,
          -0.964332526482631,
          1.2982180675989476,
          0.6516125860532216,
          -0.17397116000633142,
          -0.665317923702325,
          -0.7246649245741666,
          -0.7641469483764428,
          -1.4694555427445888,
          0.7100508350291533,
          0.4903984699894906,
          1.144194691984651,
          -0.24328013883315086,
          0.6620100764590426,
          -0.7220685758723306,
          -1.184178736036595
         ],
         "xaxis": "x10",
         "y": [
          1.0670596524816254,
          -0.30849062766826324,
          1.9944148697374593,
          0.14915773742989255,
          -0.22326632471896346,
          0.14783621212973516,
          -0.557136075262289,
          0.4208500801291917,
          1.038529240244335,
          -0.5836433583351291,
          0.02441495164410823,
          1.2089166064958705,
          -0.020760810922184812,
          -0.5648535667540748,
          -0.9011580899089295,
          0.08833366733331804,
          -0.993473639184813,
          -0.0962506946332271,
          1.1264755691841442,
          -0.3768311123048374,
          0.0898598689432183,
          1.2803105440393818,
          0.8623428880653546,
          -0.6574208122407675,
          -0.8355385250383953,
          -1.9974775867336272,
          0.8830106021213442,
          -0.36973487388376275,
          1.4659159144927045,
          0.42336041391720675,
          2.5603864620217016,
          -0.6880219400424132,
          -1.821088527601304,
          1.718673662801342,
          0.6721064326294207,
          -2.071482319795598,
          -0.0484920892275812,
          -1.2461394692985932,
          0.7489957022297827,
          0.5529629024974215,
          -2.03311310929843,
          0.01045803210099,
          0.1284306716366202,
          0.8308584521530431,
          -0.1522650587124568,
          -0.037680763710975465,
          -0.6666447203751162,
          -1.0467122466262393,
          0.0526620843553781,
          1.1938719912802396,
          0.4687287934924064,
          0.6190221887084402,
          -0.4393526339157279,
          -2.61364910718607,
          -0.06569086747521852,
          0.26259072784325516,
          -1.0217296508516522,
          0.3758143344672426,
          -0.9489799808200903,
          -0.27875655929918275,
          0.1637522499745189,
          -0.31929106361861104,
          -0.12488079300412282,
          -0.3982936196520458,
          -0.6112320236607485,
          -0.5953921004145888,
          -0.6028385860225983,
          -0.6664984937079161,
          0.6534124923453138,
          -0.26871990718477895,
          -0.6532024412579176,
          -1.328577102490758,
          0.5856460907762044,
          0.055458781298802065,
          0.004216611253562115,
          0.23359366955912206,
          1.342589059582487,
          -0.2656565659896192,
          -0.3355528217121,
          -0.6609428675991866,
          -0.6153565721218555,
          -1.2945403943127998,
          -0.24725946753637443,
          -0.4451124062824498,
          0.875178088562618,
          0.6811223647983086,
          -1.3874413592054038,
          -0.6818786973363528,
          1.4067044433323492,
          0.6642496916135224,
          -0.5795411917257935,
          -2.034417823679477,
          0.938049850338298,
          0.9025115753787057,
          -0.8921933940521692,
          -0.36056364335531543,
          0.5933685059440186,
          -0.8957891275190988,
          1.1663036979132806,
          0.018018137656288923
         ],
         "yaxis": "y10"
        },
        {
         "histfunc": "count",
         "histnorm": "",
         "marker": {
          "color": "rgba(50, 171, 96, 1.0)",
          "line": {
           "color": "#4D5663",
           "width": 1.3
          }
         },
         "name": "C",
         "nbinsx": 10,
         "opacity": 0.8,
         "orientation": "v",
         "type": "histogram",
         "x": [
          1.0670596524816254,
          -0.30849062766826324,
          1.9944148697374593,
          0.14915773742989255,
          -0.22326632471896346,
          0.14783621212973516,
          -0.557136075262289,
          0.4208500801291917,
          1.038529240244335,
          -0.5836433583351291,
          0.02441495164410823,
          1.2089166064958705,
          -0.020760810922184812,
          -0.5648535667540748,
          -0.9011580899089295,
          0.08833366733331804,
          -0.993473639184813,
          -0.0962506946332271,
          1.1264755691841442,
          -0.3768311123048374,
          0.0898598689432183,
          1.2803105440393818,
          0.8623428880653546,
          -0.6574208122407675,
          -0.8355385250383953,
          -1.9974775867336272,
          0.8830106021213442,
          -0.36973487388376275,
          1.4659159144927045,
          0.42336041391720675,
          2.5603864620217016,
          -0.6880219400424132,
          -1.821088527601304,
          1.718673662801342,
          0.6721064326294207,
          -2.071482319795598,
          -0.0484920892275812,
          -1.2461394692985932,
          0.7489957022297827,
          0.5529629024974215,
          -2.03311310929843,
          0.01045803210099,
          0.1284306716366202,
          0.8308584521530431,
          -0.1522650587124568,
          -0.037680763710975465,
          -0.6666447203751162,
          -1.0467122466262393,
          0.0526620843553781,
          1.1938719912802396,
          0.4687287934924064,
          0.6190221887084402,
          -0.4393526339157279,
          -2.61364910718607,
          -0.06569086747521852,
          0.26259072784325516,
          -1.0217296508516522,
          0.3758143344672426,
          -0.9489799808200903,
          -0.27875655929918275,
          0.1637522499745189,
          -0.31929106361861104,
          -0.12488079300412282,
          -0.3982936196520458,
          -0.6112320236607485,
          -0.5953921004145888,
          -0.6028385860225983,
          -0.6664984937079161,
          0.6534124923453138,
          -0.26871990718477895,
          -0.6532024412579176,
          -1.328577102490758,
          0.5856460907762044,
          0.055458781298802065,
          0.004216611253562115,
          0.23359366955912206,
          1.342589059582487,
          -0.2656565659896192,
          -0.3355528217121,
          -0.6609428675991866,
          -0.6153565721218555,
          -1.2945403943127998,
          -0.24725946753637443,
          -0.4451124062824498,
          0.875178088562618,
          0.6811223647983086,
          -1.3874413592054038,
          -0.6818786973363528,
          1.4067044433323492,
          0.6642496916135224,
          -0.5795411917257935,
          -2.034417823679477,
          0.938049850338298,
          0.9025115753787057,
          -0.8921933940521692,
          -0.36056364335531543,
          0.5933685059440186,
          -0.8957891275190988,
          1.1663036979132806,
          0.018018137656288923
         ],
         "xaxis": "x11",
         "yaxis": "y11"
        },
        {
         "line": {
          "color": "rgba(128, 128, 128, 1.0)",
          "dash": "solid",
          "shape": "linear",
          "width": 1.3
         },
         "marker": {
          "size": 2,
          "symbol": "circle"
         },
         "mode": "markers",
         "name": "C",
         "text": "",
         "type": "scatter",
         "x": [
          -1.8331680263704933,
          0.16594000677289453,
          0.9407809065584676,
          0.45351362519107635,
          -0.7122960862246221,
          -1.1540846477446114,
          0.03882816503439271,
          -1.0121067904883196,
          -0.28980739261944954,
          0.04406142266687603,
          -0.974027584882389,
          -0.10987384530309902,
          -0.045560084586197376,
          -0.9161595766624676,
          -0.8393392112726112,
          -1.5526025414070426,
          0.477086072684738,
          -0.13027939016404358,
          0.1216393414286856,
          0.4639576762788007,
          -0.27275894412400953,
          -1.7616005373770647,
          0.8249095855118894,
          -0.5328398516316064,
          0.9928394375801604,
          -0.0002649893921787394,
          0.4245643110011101,
          0.7237784712300664,
          -0.4184962851856109,
          1.5033391755793761,
          -0.3908071554514109,
          0.14614947750287421,
          0.3954647572143869,
          -0.17947229175245927,
          0.9967270248663036,
          -0.07617501330146617,
          -0.4148635485704284,
          -1.3130633196993866,
          2.1398755769366233,
          -0.7789329696823386,
          -0.4040872655362111,
          0.2816284513848978,
          -1.1829791338637683,
          0.22832289892780605,
          0.745714462830363,
          -1.3837989575532685,
          0.3998447518445543,
          -0.3959656178272657,
          -0.20920829279068978,
          0.862096596558899,
          -0.5130955804842601,
          0.6455975160658015,
          -0.8581979662946349,
          1.400223527351921,
          -1.4425909638877439,
          0.6829193577689148,
          0.026893903993907165,
          1.138675898260476,
          0.6237099249787496,
          -0.028900017807215423,
          -1.17730556557372,
          -0.6190312006454065,
          -0.5368543669796532,
          2.735585972707408,
          -1.1508342503961335,
          0.7652898887954792,
          -1.355544504661904,
          -0.11523929785241409,
          -0.9904843546323995,
          0.9763601918759133,
          -0.3228954974227774,
          0.3535850741902665,
          1.064897314034679,
          -1.005435771840754,
          1.9042468853240038,
          -0.5879586435665264,
          -1.225648227385583,
          -0.4376454864607781,
          -0.06807248171109306,
          -0.6381079440933566,
          0.3217214571432425,
          -1.2644767111128723,
          0.29979812840087583,
          -0.8614109908341414,
          -1.0087152282266134,
          0.35461193046226164,
          0.9030399087797852,
          -0.660933816552147,
          1.5170181504179212,
          -0.2420638618990673,
          0.5760363527720042,
          1.4433458260577132,
          1.394405932843069,
          -0.18557482070816925,
          -1.543226152308316,
          1.0028222362206056,
          1.705509565286719,
          0.04623972962883744,
          0.6327636786803752,
          -0.8773778151892596
         ],
         "xaxis": "x12",
         "y": [
          1.0670596524816254,
          -0.30849062766826324,
          1.9944148697374593,
          0.14915773742989255,
          -0.22326632471896346,
          0.14783621212973516,
          -0.557136075262289,
          0.4208500801291917,
          1.038529240244335,
          -0.5836433583351291,
          0.02441495164410823,
          1.2089166064958705,
          -0.020760810922184812,
          -0.5648535667540748,
          -0.9011580899089295,
          0.08833366733331804,
          -0.993473639184813,
          -0.0962506946332271,
          1.1264755691841442,
          -0.3768311123048374,
          0.0898598689432183,
          1.2803105440393818,
          0.8623428880653546,
          -0.6574208122407675,
          -0.8355385250383953,
          -1.9974775867336272,
          0.8830106021213442,
          -0.36973487388376275,
          1.4659159144927045,
          0.42336041391720675,
          2.5603864620217016,
          -0.6880219400424132,
          -1.821088527601304,
          1.718673662801342,
          0.6721064326294207,
          -2.071482319795598,
          -0.0484920892275812,
          -1.2461394692985932,
          0.7489957022297827,
          0.5529629024974215,
          -2.03311310929843,
          0.01045803210099,
          0.1284306716366202,
          0.8308584521530431,
          -0.1522650587124568,
          -0.037680763710975465,
          -0.6666447203751162,
          -1.0467122466262393,
          0.0526620843553781,
          1.1938719912802396,
          0.4687287934924064,
          0.6190221887084402,
          -0.4393526339157279,
          -2.61364910718607,
          -0.06569086747521852,
          0.26259072784325516,
          -1.0217296508516522,
          0.3758143344672426,
          -0.9489799808200903,
          -0.27875655929918275,
          0.1637522499745189,
          -0.31929106361861104,
          -0.12488079300412282,
          -0.3982936196520458,
          -0.6112320236607485,
          -0.5953921004145888,
          -0.6028385860225983,
          -0.6664984937079161,
          0.6534124923453138,
          -0.26871990718477895,
          -0.6532024412579176,
          -1.328577102490758,
          0.5856460907762044,
          0.055458781298802065,
          0.004216611253562115,
          0.23359366955912206,
          1.342589059582487,
          -0.2656565659896192,
          -0.3355528217121,
          -0.6609428675991866,
          -0.6153565721218555,
          -1.2945403943127998,
          -0.24725946753637443,
          -0.4451124062824498,
          0.875178088562618,
          0.6811223647983086,
          -1.3874413592054038,
          -0.6818786973363528,
          1.4067044433323492,
          0.6642496916135224,
          -0.5795411917257935,
          -2.034417823679477,
          0.938049850338298,
          0.9025115753787057,
          -0.8921933940521692,
          -0.36056364335531543,
          0.5933685059440186,
          -0.8957891275190988,
          1.1663036979132806,
          0.018018137656288923
         ],
         "yaxis": "y12"
        },
        {
         "line": {
          "color": "rgba(128, 128, 128, 1.0)",
          "dash": "solid",
          "shape": "linear",
          "width": 1.3
         },
         "marker": {
          "size": 2,
          "symbol": "circle"
         },
         "mode": "markers",
         "name": "D",
         "text": "",
         "type": "scatter",
         "x": [
          -1.689013611401692,
          -0.2620555553672706,
          -1.0905182782420468,
          -0.27552541933586294,
          0.9184354042241115,
          -0.5621818322927444,
          0.1940834769484241,
          -1.2428318810669599,
          1.1565639609098832,
          -0.7159038857835119,
          -1.4930413374875058,
          0.05438291025550391,
          -0.42353875642862443,
          -0.5348416964848348,
          -1.4155827777983954,
          -0.1849577018100514,
          0.7491800969806963,
          -1.0437095654351864,
          -1.1873612124573099,
          -0.7729780915256113,
          0.9496379884482529,
          0.9255701492107496,
          -0.501638433247438,
          -1.1783151959061486,
          -0.8955494409662109,
          1.4698531828563592,
          -1.1436323277550169,
          -1.7681377258450857,
          -0.2565917868314139,
          -0.39606902930789667,
          -0.5941801172680143,
          -0.4788818069438909,
          0.2506288071928819,
          -1.6237488851824275,
          -1.0305842506615535,
          -1.6275540773586008,
          -1.700152886003429,
          -0.372411772027708,
          0.9175915407031102,
          -1.4151591931408238,
          -0.8121806290435302,
          0.06861836826158521,
          -1.6119352099044117,
          -0.7596089449242701,
          -1.943278264794546,
          1.8498176061630773,
          1.175550561682719,
          0.4993858708120641,
          1.247799436365957,
          1.2207392162025483,
          1.5089596071403208,
          -0.6366671612876112,
          0.10731865339405362,
          2.054173334575546,
          0.005711412872327427,
          0.09639871400344464,
          -1.2573488641393633,
          0.5995204980870332,
          0.12312168661167397,
          -0.36020080076376304,
          0.26368325877658566,
          -2.1504215841781438,
          0.5649251993445709,
          -1.547372941339943,
          0.22834474433727533,
          0.806551393045147,
          0.14802656555688293,
          1.5938912289226514,
          -0.07223755226793076,
          -0.9816586144376963,
          -0.6525509152377631,
          -1.8197923548170925,
          -1.726313926184962,
          0.40558752810909987,
          -0.9084548194948895,
          0.7573284474309724,
          0.3202305886007857,
          1.0110403955293228,
          0.7641247132803324,
          -1.0494931766153843,
          0.4549331298008269,
          0.23567629090555364,
          -1.5990946993192952,
          1.1568983286804944,
          -0.5826571879288767,
          1.6841430138604359,
          2.025672191666682,
          -0.12564981184520735,
          0.16693373358090086,
          -0.2288882405142681,
          0.10422741050875683,
          0.6687521083134625,
          -0.43084762285217537,
          -1.051257481300054,
          -0.17197941465855776,
          0.7711145058102191,
          0.27938985909743863,
          -0.9022124330703055,
          0.20086585914909533,
          -0.17090597809922398
         ],
         "xaxis": "x13",
         "y": [
          -1.8331680263704933,
          0.16594000677289453,
          0.9407809065584676,
          0.45351362519107635,
          -0.7122960862246221,
          -1.1540846477446114,
          0.03882816503439271,
          -1.0121067904883196,
          -0.28980739261944954,
          0.04406142266687603,
          -0.974027584882389,
          -0.10987384530309902,
          -0.045560084586197376,
          -0.9161595766624676,
          -0.8393392112726112,
          -1.5526025414070426,
          0.477086072684738,
          -0.13027939016404358,
          0.1216393414286856,
          0.4639576762788007,
          -0.27275894412400953,
          -1.7616005373770647,
          0.8249095855118894,
          -0.5328398516316064,
          0.9928394375801604,
          -0.0002649893921787394,
          0.4245643110011101,
          0.7237784712300664,
          -0.4184962851856109,
          1.5033391755793761,
          -0.3908071554514109,
          0.14614947750287421,
          0.3954647572143869,
          -0.17947229175245927,
          0.9967270248663036,
          -0.07617501330146617,
          -0.4148635485704284,
          -1.3130633196993866,
          2.1398755769366233,
          -0.7789329696823386,
          -0.4040872655362111,
          0.2816284513848978,
          -1.1829791338637683,
          0.22832289892780605,
          0.745714462830363,
          -1.3837989575532685,
          0.3998447518445543,
          -0.3959656178272657,
          -0.20920829279068978,
          0.862096596558899,
          -0.5130955804842601,
          0.6455975160658015,
          -0.8581979662946349,
          1.400223527351921,
          -1.4425909638877439,
          0.6829193577689148,
          0.026893903993907165,
          1.138675898260476,
          0.6237099249787496,
          -0.028900017807215423,
          -1.17730556557372,
          -0.6190312006454065,
          -0.5368543669796532,
          2.735585972707408,
          -1.1508342503961335,
          0.7652898887954792,
          -1.355544504661904,
          -0.11523929785241409,
          -0.9904843546323995,
          0.9763601918759133,
          -0.3228954974227774,
          0.3535850741902665,
          1.064897314034679,
          -1.005435771840754,
          1.9042468853240038,
          -0.5879586435665264,
          -1.225648227385583,
          -0.4376454864607781,
          -0.06807248171109306,
          -0.6381079440933566,
          0.3217214571432425,
          -1.2644767111128723,
          0.29979812840087583,
          -0.8614109908341414,
          -1.0087152282266134,
          0.35461193046226164,
          0.9030399087797852,
          -0.660933816552147,
          1.5170181504179212,
          -0.2420638618990673,
          0.5760363527720042,
          1.4433458260577132,
          1.394405932843069,
          -0.18557482070816925,
          -1.543226152308316,
          1.0028222362206056,
          1.705509565286719,
          0.04623972962883744,
          0.6327636786803752,
          -0.8773778151892596
         ],
         "yaxis": "y13"
        },
        {
         "line": {
          "color": "rgba(128, 128, 128, 1.0)",
          "dash": "solid",
          "shape": "linear",
          "width": 1.3
         },
         "marker": {
          "size": 2,
          "symbol": "circle"
         },
         "mode": "markers",
         "name": "D",
         "text": "",
         "type": "scatter",
         "x": [
          0.9502773190107969,
          0.272559636190263,
          -1.303101825309437,
          -0.09381558184786237,
          -0.7425319895675278,
          2.273858846399452,
          -0.0076088480932280725,
          1.055256682315736,
          0.48371263591801833,
          -1.2271224720190237,
          -0.1795973735439339,
          1.7263100690006208,
          -0.5999960394304096,
          0.6577097297404475,
          0.2013858793488651,
          0.21087228502570896,
          2.166890962505779,
          -0.7176365037245853,
          0.40286527063326677,
          0.908533645024215,
          -0.21050101484298916,
          -1.825832553714384,
          2.0975043715115915,
          0.3834142416861074,
          -1.7508999820502174,
          -0.1513665375010751,
          -1.671745096865534,
          -0.4022728913515091,
          -1.3676303716071965,
          -0.35084114074231604,
          1.3034917709001963,
          0.5515404381214328,
          2.3164422906696904,
          -0.20870242422817226,
          -1.7702561255131923,
          0.0205654950325439,
          -0.0703189491446735,
          1.3272322978976714,
          0.9185597202151164,
          0.3649069447133627,
          0.7513993430019263,
          0.4831934190904803,
          1.0069628917541271,
          -1.6616820260241512,
          -0.7108490077174401,
          -0.4959114783685054,
          0.6996972950770952,
          -1.5773772007368279,
          -1.150553485913242,
          1.0910272074641403,
          1.7003194924547553,
          0.8245785854839354,
          0.499761576040795,
          -1.4716913520129344,
          -1.2960912976668753,
          -0.10553209291936262,
          -1.851992109143555,
          -2.8675554445649953,
          -0.5578028633591723,
          0.3165737069580277,
          -0.9220963506515208,
          0.6337122906958443,
          0.30268560458542365,
          0.24543636395132995,
          -1.9019941545860948,
          -2.1487428642833186,
          -1.686182701548312,
          -0.774039594781683,
          2.2585904120016704,
          -0.8497090448368394,
          -1.3013139094581112,
          -0.6484716671551605,
          0.768852431511444,
          -1.9070800384087057,
          -0.032498105502017295,
          0.3205036547426345,
          1.1636215769870168,
          1.6842635415056044,
          0.01587583250461618,
          -1.0383160328028351,
          -0.625318310169787,
          0.2685185427535348,
          -0.42416251171391295,
          -2.717013022330864,
          -0.4259548580229847,
          -0.964332526482631,
          1.2982180675989476,
          0.6516125860532216,
          -0.17397116000633142,
          -0.665317923702325,
          -0.7246649245741666,
          -0.7641469483764428,
          -1.4694555427445888,
          0.7100508350291533,
          0.4903984699894906,
          1.144194691984651,
          -0.24328013883315086,
          0.6620100764590426,
          -0.7220685758723306,
          -1.184178736036595
         ],
         "xaxis": "x14",
         "y": [
          -1.8331680263704933,
          0.16594000677289453,
          0.9407809065584676,
          0.45351362519107635,
          -0.7122960862246221,
          -1.1540846477446114,
          0.03882816503439271,
          -1.0121067904883196,
          -0.28980739261944954,
          0.04406142266687603,
          -0.974027584882389,
          -0.10987384530309902,
          -0.045560084586197376,
          -0.9161595766624676,
          -0.8393392112726112,
          -1.5526025414070426,
          0.477086072684738,
          -0.13027939016404358,
          0.1216393414286856,
          0.4639576762788007,
          -0.27275894412400953,
          -1.7616005373770647,
          0.8249095855118894,
          -0.5328398516316064,
          0.9928394375801604,
          -0.0002649893921787394,
          0.4245643110011101,
          0.7237784712300664,
          -0.4184962851856109,
          1.5033391755793761,
          -0.3908071554514109,
          0.14614947750287421,
          0.3954647572143869,
          -0.17947229175245927,
          0.9967270248663036,
          -0.07617501330146617,
          -0.4148635485704284,
          -1.3130633196993866,
          2.1398755769366233,
          -0.7789329696823386,
          -0.4040872655362111,
          0.2816284513848978,
          -1.1829791338637683,
          0.22832289892780605,
          0.745714462830363,
          -1.3837989575532685,
          0.3998447518445543,
          -0.3959656178272657,
          -0.20920829279068978,
          0.862096596558899,
          -0.5130955804842601,
          0.6455975160658015,
          -0.8581979662946349,
          1.400223527351921,
          -1.4425909638877439,
          0.6829193577689148,
          0.026893903993907165,
          1.138675898260476,
          0.6237099249787496,
          -0.028900017807215423,
          -1.17730556557372,
          -0.6190312006454065,
          -0.5368543669796532,
          2.735585972707408,
          -1.1508342503961335,
          0.7652898887954792,
          -1.355544504661904,
          -0.11523929785241409,
          -0.9904843546323995,
          0.9763601918759133,
          -0.3228954974227774,
          0.3535850741902665,
          1.064897314034679,
          -1.005435771840754,
          1.9042468853240038,
          -0.5879586435665264,
          -1.225648227385583,
          -0.4376454864607781,
          -0.06807248171109306,
          -0.6381079440933566,
          0.3217214571432425,
          -1.2644767111128723,
          0.29979812840087583,
          -0.8614109908341414,
          -1.0087152282266134,
          0.35461193046226164,
          0.9030399087797852,
          -0.660933816552147,
          1.5170181504179212,
          -0.2420638618990673,
          0.5760363527720042,
          1.4433458260577132,
          1.394405932843069,
          -0.18557482070816925,
          -1.543226152308316,
          1.0028222362206056,
          1.705509565286719,
          0.04623972962883744,
          0.6327636786803752,
          -0.8773778151892596
         ],
         "yaxis": "y14"
        },
        {
         "line": {
          "color": "rgba(128, 128, 128, 1.0)",
          "dash": "solid",
          "shape": "linear",
          "width": 1.3
         },
         "marker": {
          "size": 2,
          "symbol": "circle"
         },
         "mode": "markers",
         "name": "D",
         "text": "",
         "type": "scatter",
         "x": [
          1.0670596524816254,
          -0.30849062766826324,
          1.9944148697374593,
          0.14915773742989255,
          -0.22326632471896346,
          0.14783621212973516,
          -0.557136075262289,
          0.4208500801291917,
          1.038529240244335,
          -0.5836433583351291,
          0.02441495164410823,
          1.2089166064958705,
          -0.020760810922184812,
          -0.5648535667540748,
          -0.9011580899089295,
          0.08833366733331804,
          -0.993473639184813,
          -0.0962506946332271,
          1.1264755691841442,
          -0.3768311123048374,
          0.0898598689432183,
          1.2803105440393818,
          0.8623428880653546,
          -0.6574208122407675,
          -0.8355385250383953,
          -1.9974775867336272,
          0.8830106021213442,
          -0.36973487388376275,
          1.4659159144927045,
          0.42336041391720675,
          2.5603864620217016,
          -0.6880219400424132,
          -1.821088527601304,
          1.718673662801342,
          0.6721064326294207,
          -2.071482319795598,
          -0.0484920892275812,
          -1.2461394692985932,
          0.7489957022297827,
          0.5529629024974215,
          -2.03311310929843,
          0.01045803210099,
          0.1284306716366202,
          0.8308584521530431,
          -0.1522650587124568,
          -0.037680763710975465,
          -0.6666447203751162,
          -1.0467122466262393,
          0.0526620843553781,
          1.1938719912802396,
          0.4687287934924064,
          0.6190221887084402,
          -0.4393526339157279,
          -2.61364910718607,
          -0.06569086747521852,
          0.26259072784325516,
          -1.0217296508516522,
          0.3758143344672426,
          -0.9489799808200903,
          -0.27875655929918275,
          0.1637522499745189,
          -0.31929106361861104,
          -0.12488079300412282,
          -0.3982936196520458,
          -0.6112320236607485,
          -0.5953921004145888,
          -0.6028385860225983,
          -0.6664984937079161,
          0.6534124923453138,
          -0.26871990718477895,
          -0.6532024412579176,
          -1.328577102490758,
          0.5856460907762044,
          0.055458781298802065,
          0.004216611253562115,
          0.23359366955912206,
          1.342589059582487,
          -0.2656565659896192,
          -0.3355528217121,
          -0.6609428675991866,
          -0.6153565721218555,
          -1.2945403943127998,
          -0.24725946753637443,
          -0.4451124062824498,
          0.875178088562618,
          0.6811223647983086,
          -1.3874413592054038,
          -0.6818786973363528,
          1.4067044433323492,
          0.6642496916135224,
          -0.5795411917257935,
          -2.034417823679477,
          0.938049850338298,
          0.9025115753787057,
          -0.8921933940521692,
          -0.36056364335531543,
          0.5933685059440186,
          -0.8957891275190988,
          1.1663036979132806,
          0.018018137656288923
         ],
         "xaxis": "x15",
         "y": [
          -1.8331680263704933,
          0.16594000677289453,
          0.9407809065584676,
          0.45351362519107635,
          -0.7122960862246221,
          -1.1540846477446114,
          0.03882816503439271,
          -1.0121067904883196,
          -0.28980739261944954,
          0.04406142266687603,
          -0.974027584882389,
          -0.10987384530309902,
          -0.045560084586197376,
          -0.9161595766624676,
          -0.8393392112726112,
          -1.5526025414070426,
          0.477086072684738,
          -0.13027939016404358,
          0.1216393414286856,
          0.4639576762788007,
          -0.27275894412400953,
          -1.7616005373770647,
          0.8249095855118894,
          -0.5328398516316064,
          0.9928394375801604,
          -0.0002649893921787394,
          0.4245643110011101,
          0.7237784712300664,
          -0.4184962851856109,
          1.5033391755793761,
          -0.3908071554514109,
          0.14614947750287421,
          0.3954647572143869,
          -0.17947229175245927,
          0.9967270248663036,
          -0.07617501330146617,
          -0.4148635485704284,
          -1.3130633196993866,
          2.1398755769366233,
          -0.7789329696823386,
          -0.4040872655362111,
          0.2816284513848978,
          -1.1829791338637683,
          0.22832289892780605,
          0.745714462830363,
          -1.3837989575532685,
          0.3998447518445543,
          -0.3959656178272657,
          -0.20920829279068978,
          0.862096596558899,
          -0.5130955804842601,
          0.6455975160658015,
          -0.8581979662946349,
          1.400223527351921,
          -1.4425909638877439,
          0.6829193577689148,
          0.026893903993907165,
          1.138675898260476,
          0.6237099249787496,
          -0.028900017807215423,
          -1.17730556557372,
          -0.6190312006454065,
          -0.5368543669796532,
          2.735585972707408,
          -1.1508342503961335,
          0.7652898887954792,
          -1.355544504661904,
          -0.11523929785241409,
          -0.9904843546323995,
          0.9763601918759133,
          -0.3228954974227774,
          0.3535850741902665,
          1.064897314034679,
          -1.005435771840754,
          1.9042468853240038,
          -0.5879586435665264,
          -1.225648227385583,
          -0.4376454864607781,
          -0.06807248171109306,
          -0.6381079440933566,
          0.3217214571432425,
          -1.2644767111128723,
          0.29979812840087583,
          -0.8614109908341414,
          -1.0087152282266134,
          0.35461193046226164,
          0.9030399087797852,
          -0.660933816552147,
          1.5170181504179212,
          -0.2420638618990673,
          0.5760363527720042,
          1.4433458260577132,
          1.394405932843069,
          -0.18557482070816925,
          -1.543226152308316,
          1.0028222362206056,
          1.705509565286719,
          0.04623972962883744,
          0.6327636786803752,
          -0.8773778151892596
         ],
         "yaxis": "y15"
        },
        {
         "histfunc": "count",
         "histnorm": "",
         "marker": {
          "color": "rgba(128, 0, 128, 1.0)",
          "line": {
           "color": "#4D5663",
           "width": 1.3
          }
         },
         "name": "D",
         "nbinsx": 10,
         "opacity": 0.8,
         "orientation": "v",
         "type": "histogram",
         "x": [
          -1.8331680263704933,
          0.16594000677289453,
          0.9407809065584676,
          0.45351362519107635,
          -0.7122960862246221,
          -1.1540846477446114,
          0.03882816503439271,
          -1.0121067904883196,
          -0.28980739261944954,
          0.04406142266687603,
          -0.974027584882389,
          -0.10987384530309902,
          -0.045560084586197376,
          -0.9161595766624676,
          -0.8393392112726112,
          -1.5526025414070426,
          0.477086072684738,
          -0.13027939016404358,
          0.1216393414286856,
          0.4639576762788007,
          -0.27275894412400953,
          -1.7616005373770647,
          0.8249095855118894,
          -0.5328398516316064,
          0.9928394375801604,
          -0.0002649893921787394,
          0.4245643110011101,
          0.7237784712300664,
          -0.4184962851856109,
          1.5033391755793761,
          -0.3908071554514109,
          0.14614947750287421,
          0.3954647572143869,
          -0.17947229175245927,
          0.9967270248663036,
          -0.07617501330146617,
          -0.4148635485704284,
          -1.3130633196993866,
          2.1398755769366233,
          -0.7789329696823386,
          -0.4040872655362111,
          0.2816284513848978,
          -1.1829791338637683,
          0.22832289892780605,
          0.745714462830363,
          -1.3837989575532685,
          0.3998447518445543,
          -0.3959656178272657,
          -0.20920829279068978,
          0.862096596558899,
          -0.5130955804842601,
          0.6455975160658015,
          -0.8581979662946349,
          1.400223527351921,
          -1.4425909638877439,
          0.6829193577689148,
          0.026893903993907165,
          1.138675898260476,
          0.6237099249787496,
          -0.028900017807215423,
          -1.17730556557372,
          -0.6190312006454065,
          -0.5368543669796532,
          2.735585972707408,
          -1.1508342503961335,
          0.7652898887954792,
          -1.355544504661904,
          -0.11523929785241409,
          -0.9904843546323995,
          0.9763601918759133,
          -0.3228954974227774,
          0.3535850741902665,
          1.064897314034679,
          -1.005435771840754,
          1.9042468853240038,
          -0.5879586435665264,
          -1.225648227385583,
          -0.4376454864607781,
          -0.06807248171109306,
          -0.6381079440933566,
          0.3217214571432425,
          -1.2644767111128723,
          0.29979812840087583,
          -0.8614109908341414,
          -1.0087152282266134,
          0.35461193046226164,
          0.9030399087797852,
          -0.660933816552147,
          1.5170181504179212,
          -0.2420638618990673,
          0.5760363527720042,
          1.4433458260577132,
          1.394405932843069,
          -0.18557482070816925,
          -1.543226152308316,
          1.0028222362206056,
          1.705509565286719,
          0.04623972962883744,
          0.6327636786803752,
          -0.8773778151892596
         ],
         "xaxis": "x16",
         "yaxis": "y16"
        }
       ],
       "layout": {
        "autosize": true,
        "bargap": 0.02,
        "legend": {
         "bgcolor": "#F5F6F9",
         "font": {
          "color": "#4D5663"
         }
        },
        "paper_bgcolor": "#F5F6F9",
        "plot_bgcolor": "#F5F6F9",
        "showlegend": false,
        "template": {
         "data": {
          "bar": [
           {
            "error_x": {
             "color": "#2a3f5f"
            },
            "error_y": {
             "color": "#2a3f5f"
            },
            "marker": {
             "line": {
              "color": "#E5ECF6",
              "width": 0.5
             },
             "pattern": {
              "fillmode": "overlay",
              "size": 10,
              "solidity": 0.2
             }
            },
            "type": "bar"
           }
          ],
          "barpolar": [
           {
            "marker": {
             "line": {
              "color": "#E5ECF6",
              "width": 0.5
             },
             "pattern": {
              "fillmode": "overlay",
              "size": 10,
              "solidity": 0.2
             }
            },
            "type": "barpolar"
           }
          ],
          "carpet": [
           {
            "aaxis": {
             "endlinecolor": "#2a3f5f",
             "gridcolor": "white",
             "linecolor": "white",
             "minorgridcolor": "white",
             "startlinecolor": "#2a3f5f"
            },
            "baxis": {
             "endlinecolor": "#2a3f5f",
             "gridcolor": "white",
             "linecolor": "white",
             "minorgridcolor": "white",
             "startlinecolor": "#2a3f5f"
            },
            "type": "carpet"
           }
          ],
          "choropleth": [
           {
            "colorbar": {
             "outlinewidth": 0,
             "ticks": ""
            },
            "type": "choropleth"
           }
          ],
          "contour": [
           {
            "colorbar": {
             "outlinewidth": 0,
             "ticks": ""
            },
            "colorscale": [
             [
              0,
              "#0d0887"
             ],
             [
              0.1111111111111111,
              "#46039f"
             ],
             [
              0.2222222222222222,
              "#7201a8"
             ],
             [
              0.3333333333333333,
              "#9c179e"
             ],
             [
              0.4444444444444444,
              "#bd3786"
             ],
             [
              0.5555555555555556,
              "#d8576b"
             ],
             [
              0.6666666666666666,
              "#ed7953"
             ],
             [
              0.7777777777777778,
              "#fb9f3a"
             ],
             [
              0.8888888888888888,
              "#fdca26"
             ],
             [
              1,
              "#f0f921"
             ]
            ],
            "type": "contour"
           }
          ],
          "contourcarpet": [
           {
            "colorbar": {
             "outlinewidth": 0,
             "ticks": ""
            },
            "type": "contourcarpet"
           }
          ],
          "heatmap": [
           {
            "colorbar": {
             "outlinewidth": 0,
             "ticks": ""
            },
            "colorscale": [
             [
              0,
              "#0d0887"
             ],
             [
              0.1111111111111111,
              "#46039f"
             ],
             [
              0.2222222222222222,
              "#7201a8"
             ],
             [
              0.3333333333333333,
              "#9c179e"
             ],
             [
              0.4444444444444444,
              "#bd3786"
             ],
             [
              0.5555555555555556,
              "#d8576b"
             ],
             [
              0.6666666666666666,
              "#ed7953"
             ],
             [
              0.7777777777777778,
              "#fb9f3a"
             ],
             [
              0.8888888888888888,
              "#fdca26"
             ],
             [
              1,
              "#f0f921"
             ]
            ],
            "type": "heatmap"
           }
          ],
          "heatmapgl": [
           {
            "colorbar": {
             "outlinewidth": 0,
             "ticks": ""
            },
            "colorscale": [
             [
              0,
              "#0d0887"
             ],
             [
              0.1111111111111111,
              "#46039f"
             ],
             [
              0.2222222222222222,
              "#7201a8"
             ],
             [
              0.3333333333333333,
              "#9c179e"
             ],
             [
              0.4444444444444444,
              "#bd3786"
             ],
             [
              0.5555555555555556,
              "#d8576b"
             ],
             [
              0.6666666666666666,
              "#ed7953"
             ],
             [
              0.7777777777777778,
              "#fb9f3a"
             ],
             [
              0.8888888888888888,
              "#fdca26"
             ],
             [
              1,
              "#f0f921"
             ]
            ],
            "type": "heatmapgl"
           }
          ],
          "histogram": [
           {
            "marker": {
             "pattern": {
              "fillmode": "overlay",
              "size": 10,
              "solidity": 0.2
             }
            },
            "type": "histogram"
           }
          ],
          "histogram2d": [
           {
            "colorbar": {
             "outlinewidth": 0,
             "ticks": ""
            },
            "colorscale": [
             [
              0,
              "#0d0887"
             ],
             [
              0.1111111111111111,
              "#46039f"
             ],
             [
              0.2222222222222222,
              "#7201a8"
             ],
             [
              0.3333333333333333,
              "#9c179e"
             ],
             [
              0.4444444444444444,
              "#bd3786"
             ],
             [
              0.5555555555555556,
              "#d8576b"
             ],
             [
              0.6666666666666666,
              "#ed7953"
             ],
             [
              0.7777777777777778,
              "#fb9f3a"
             ],
             [
              0.8888888888888888,
              "#fdca26"
             ],
             [
              1,
              "#f0f921"
             ]
            ],
            "type": "histogram2d"
           }
          ],
          "histogram2dcontour": [
           {
            "colorbar": {
             "outlinewidth": 0,
             "ticks": ""
            },
            "colorscale": [
             [
              0,
              "#0d0887"
             ],
             [
              0.1111111111111111,
              "#46039f"
             ],
             [
              0.2222222222222222,
              "#7201a8"
             ],
             [
              0.3333333333333333,
              "#9c179e"
             ],
             [
              0.4444444444444444,
              "#bd3786"
             ],
             [
              0.5555555555555556,
              "#d8576b"
             ],
             [
              0.6666666666666666,
              "#ed7953"
             ],
             [
              0.7777777777777778,
              "#fb9f3a"
             ],
             [
              0.8888888888888888,
              "#fdca26"
             ],
             [
              1,
              "#f0f921"
             ]
            ],
            "type": "histogram2dcontour"
           }
          ],
          "mesh3d": [
           {
            "colorbar": {
             "outlinewidth": 0,
             "ticks": ""
            },
            "type": "mesh3d"
           }
          ],
          "parcoords": [
           {
            "line": {
             "colorbar": {
              "outlinewidth": 0,
              "ticks": ""
             }
            },
            "type": "parcoords"
           }
          ],
          "pie": [
           {
            "automargin": true,
            "type": "pie"
           }
          ],
          "scatter": [
           {
            "fillpattern": {
             "fillmode": "overlay",
             "size": 10,
             "solidity": 0.2
            },
            "type": "scatter"
           }
          ],
          "scatter3d": [
           {
            "line": {
             "colorbar": {
              "outlinewidth": 0,
              "ticks": ""
             }
            },
            "marker": {
             "colorbar": {
              "outlinewidth": 0,
              "ticks": ""
             }
            },
            "type": "scatter3d"
           }
          ],
          "scattercarpet": [
           {
            "marker": {
             "colorbar": {
              "outlinewidth": 0,
              "ticks": ""
             }
            },
            "type": "scattercarpet"
           }
          ],
          "scattergeo": [
           {
            "marker": {
             "colorbar": {
              "outlinewidth": 0,
              "ticks": ""
             }
            },
            "type": "scattergeo"
           }
          ],
          "scattergl": [
           {
            "marker": {
             "colorbar": {
              "outlinewidth": 0,
              "ticks": ""
             }
            },
            "type": "scattergl"
           }
          ],
          "scattermapbox": [
           {
            "marker": {
             "colorbar": {
              "outlinewidth": 0,
              "ticks": ""
             }
            },
            "type": "scattermapbox"
           }
          ],
          "scatterpolar": [
           {
            "marker": {
             "colorbar": {
              "outlinewidth": 0,
              "ticks": ""
             }
            },
            "type": "scatterpolar"
           }
          ],
          "scatterpolargl": [
           {
            "marker": {
             "colorbar": {
              "outlinewidth": 0,
              "ticks": ""
             }
            },
            "type": "scatterpolargl"
           }
          ],
          "scatterternary": [
           {
            "marker": {
             "colorbar": {
              "outlinewidth": 0,
              "ticks": ""
             }
            },
            "type": "scatterternary"
           }
          ],
          "surface": [
           {
            "colorbar": {
             "outlinewidth": 0,
             "ticks": ""
            },
            "colorscale": [
             [
              0,
              "#0d0887"
             ],
             [
              0.1111111111111111,
              "#46039f"
             ],
             [
              0.2222222222222222,
              "#7201a8"
             ],
             [
              0.3333333333333333,
              "#9c179e"
             ],
             [
              0.4444444444444444,
              "#bd3786"
             ],
             [
              0.5555555555555556,
              "#d8576b"
             ],
             [
              0.6666666666666666,
              "#ed7953"
             ],
             [
              0.7777777777777778,
              "#fb9f3a"
             ],
             [
              0.8888888888888888,
              "#fdca26"
             ],
             [
              1,
              "#f0f921"
             ]
            ],
            "type": "surface"
           }
          ],
          "table": [
           {
            "cells": {
             "fill": {
              "color": "#EBF0F8"
             },
             "line": {
              "color": "white"
             }
            },
            "header": {
             "fill": {
              "color": "#C8D4E3"
             },
             "line": {
              "color": "white"
             }
            },
            "type": "table"
           }
          ]
         },
         "layout": {
          "annotationdefaults": {
           "arrowcolor": "#2a3f5f",
           "arrowhead": 0,
           "arrowwidth": 1
          },
          "autotypenumbers": "strict",
          "coloraxis": {
           "colorbar": {
            "outlinewidth": 0,
            "ticks": ""
           }
          },
          "colorscale": {
           "diverging": [
            [
             0,
             "#8e0152"
            ],
            [
             0.1,
             "#c51b7d"
            ],
            [
             0.2,
             "#de77ae"
            ],
            [
             0.3,
             "#f1b6da"
            ],
            [
             0.4,
             "#fde0ef"
            ],
            [
             0.5,
             "#f7f7f7"
            ],
            [
             0.6,
             "#e6f5d0"
            ],
            [
             0.7,
             "#b8e186"
            ],
            [
             0.8,
             "#7fbc41"
            ],
            [
             0.9,
             "#4d9221"
            ],
            [
             1,
             "#276419"
            ]
           ],
           "sequential": [
            [
             0,
             "#0d0887"
            ],
            [
             0.1111111111111111,
             "#46039f"
            ],
            [
             0.2222222222222222,
             "#7201a8"
            ],
            [
             0.3333333333333333,
             "#9c179e"
            ],
            [
             0.4444444444444444,
             "#bd3786"
            ],
            [
             0.5555555555555556,
             "#d8576b"
            ],
            [
             0.6666666666666666,
             "#ed7953"
            ],
            [
             0.7777777777777778,
             "#fb9f3a"
            ],
            [
             0.8888888888888888,
             "#fdca26"
            ],
            [
             1,
             "#f0f921"
            ]
           ],
           "sequentialminus": [
            [
             0,
             "#0d0887"
            ],
            [
             0.1111111111111111,
             "#46039f"
            ],
            [
             0.2222222222222222,
             "#7201a8"
            ],
            [
             0.3333333333333333,
             "#9c179e"
            ],
            [
             0.4444444444444444,
             "#bd3786"
            ],
            [
             0.5555555555555556,
             "#d8576b"
            ],
            [
             0.6666666666666666,
             "#ed7953"
            ],
            [
             0.7777777777777778,
             "#fb9f3a"
            ],
            [
             0.8888888888888888,
             "#fdca26"
            ],
            [
             1,
             "#f0f921"
            ]
           ]
          },
          "colorway": [
           "#636efa",
           "#EF553B",
           "#00cc96",
           "#ab63fa",
           "#FFA15A",
           "#19d3f3",
           "#FF6692",
           "#B6E880",
           "#FF97FF",
           "#FECB52"
          ],
          "font": {
           "color": "#2a3f5f"
          },
          "geo": {
           "bgcolor": "white",
           "lakecolor": "white",
           "landcolor": "#E5ECF6",
           "showlakes": true,
           "showland": true,
           "subunitcolor": "white"
          },
          "hoverlabel": {
           "align": "left"
          },
          "hovermode": "closest",
          "mapbox": {
           "style": "light"
          },
          "paper_bgcolor": "white",
          "plot_bgcolor": "#E5ECF6",
          "polar": {
           "angularaxis": {
            "gridcolor": "white",
            "linecolor": "white",
            "ticks": ""
           },
           "bgcolor": "#E5ECF6",
           "radialaxis": {
            "gridcolor": "white",
            "linecolor": "white",
            "ticks": ""
           }
          },
          "scene": {
           "xaxis": {
            "backgroundcolor": "#E5ECF6",
            "gridcolor": "white",
            "gridwidth": 2,
            "linecolor": "white",
            "showbackground": true,
            "ticks": "",
            "zerolinecolor": "white"
           },
           "yaxis": {
            "backgroundcolor": "#E5ECF6",
            "gridcolor": "white",
            "gridwidth": 2,
            "linecolor": "white",
            "showbackground": true,
            "ticks": "",
            "zerolinecolor": "white"
           },
           "zaxis": {
            "backgroundcolor": "#E5ECF6",
            "gridcolor": "white",
            "gridwidth": 2,
            "linecolor": "white",
            "showbackground": true,
            "ticks": "",
            "zerolinecolor": "white"
           }
          },
          "shapedefaults": {
           "line": {
            "color": "#2a3f5f"
           }
          },
          "ternary": {
           "aaxis": {
            "gridcolor": "white",
            "linecolor": "white",
            "ticks": ""
           },
           "baxis": {
            "gridcolor": "white",
            "linecolor": "white",
            "ticks": ""
           },
           "bgcolor": "#E5ECF6",
           "caxis": {
            "gridcolor": "white",
            "linecolor": "white",
            "ticks": ""
           }
          },
          "title": {
           "x": 0.05
          },
          "xaxis": {
           "automargin": true,
           "gridcolor": "white",
           "linecolor": "white",
           "ticks": "",
           "title": {
            "standoff": 15
           },
           "zerolinecolor": "white",
           "zerolinewidth": 2
          },
          "yaxis": {
           "automargin": true,
           "gridcolor": "white",
           "linecolor": "white",
           "ticks": "",
           "title": {
            "standoff": 15
           },
           "zerolinecolor": "white",
           "zerolinewidth": 2
          }
         }
        },
        "title": {
         "font": {
          "color": "#4D5663"
         }
        },
        "xaxis": {
         "anchor": "y",
         "autorange": true,
         "domain": [
          0,
          0.2125
         ],
         "gridcolor": "#E1E5ED",
         "range": [
          -2.5,
          2.5
         ],
         "showgrid": false,
         "tickfont": {
          "color": "#4D5663"
         },
         "title": {
          "font": {
           "color": "#4D5663"
          },
          "text": ""
         },
         "type": "linear",
         "zerolinecolor": "#E1E5ED"
        },
        "xaxis10": {
         "anchor": "y10",
         "autorange": true,
         "domain": [
          0.2625,
          0.475
         ],
         "gridcolor": "#E1E5ED",
         "range": [
          -3.4215906508199425,
          2.8704774969246376
         ],
         "showgrid": false,
         "tickfont": {
          "color": "#4D5663"
         },
         "title": {
          "font": {
           "color": "#4D5663"
          },
          "text": ""
         },
         "type": "linear",
         "zerolinecolor": "#E1E5ED"
        },
        "xaxis11": {
         "anchor": "y11",
         "autorange": true,
         "domain": [
          0.525,
          0.7375
         ],
         "gridcolor": "#E1E5ED",
         "range": [
          -3,
          3
         ],
         "showgrid": false,
         "tickfont": {
          "color": "#4D5663"
         },
         "title": {
          "font": {
           "color": "#4D5663"
          },
          "text": ""
         },
         "type": "linear",
         "zerolinecolor": "#E1E5ED"
        },
        "xaxis12": {
         "anchor": "y12",
         "autorange": true,
         "domain": [
          0.7875,
          1
         ],
         "gridcolor": "#E1E5ED",
         "range": [
          -2.3214495985252785,
          3.2238675448621934
         ],
         "showgrid": false,
         "tickfont": {
          "color": "#4D5663"
         },
         "title": {
          "font": {
           "color": "#4D5663"
          },
          "text": ""
         },
         "type": "linear",
         "zerolinecolor": "#E1E5ED"
        },
        "xaxis13": {
         "anchor": "y13",
         "autorange": true,
         "domain": [
          0,
          0.2125
         ],
         "gridcolor": "#E1E5ED",
         "range": [
          -2.5997839743653657,
          2.503535724762768
         ],
         "showgrid": false,
         "tickfont": {
          "color": "#4D5663"
         },
         "title": {
          "font": {
           "color": "#4D5663"
          },
          "text": ""
         },
         "type": "linear",
         "zerolinecolor": "#E1E5ED"
        },
        "xaxis14": {
         "anchor": "y14",
         "autorange": true,
         "domain": [
          0.2625,
          0.475
         ],
         "gridcolor": "#E1E5ED",
         "range": [
          -3.4215906508199425,
          2.8704774969246376
         ],
         "showgrid": false,
         "tickfont": {
          "color": "#4D5663"
         },
         "title": {
          "font": {
           "color": "#4D5663"
          },
          "text": ""
         },
         "type": "linear",
         "zerolinecolor": "#E1E5ED"
        },
        "xaxis15": {
         "anchor": "y15",
         "autorange": true,
         "domain": [
          0.525,
          0.7375
         ],
         "gridcolor": "#E1E5ED",
         "range": [
          -3.1666196156939574,
          3.113356970529589
         ],
         "showgrid": false,
         "tickfont": {
          "color": "#4D5663"
         },
         "title": {
          "font": {
           "color": "#4D5663"
          },
          "text": ""
         },
         "type": "linear",
         "zerolinecolor": "#E1E5ED"
        },
        "xaxis16": {
         "anchor": "y16",
         "autorange": true,
         "domain": [
          0.7875,
          1
         ],
         "gridcolor": "#E1E5ED",
         "range": [
          -2,
          3
         ],
         "showgrid": false,
         "tickfont": {
          "color": "#4D5663"
         },
         "title": {
          "font": {
           "color": "#4D5663"
          },
          "text": ""
         },
         "type": "linear",
         "zerolinecolor": "#E1E5ED"
        },
        "xaxis2": {
         "anchor": "y2",
         "autorange": true,
         "domain": [
          0.2625,
          0.475
         ],
         "gridcolor": "#E1E5ED",
         "range": [
          -3.4215906508199425,
          2.8704774969246376
         ],
         "showgrid": false,
         "tickfont": {
          "color": "#4D5663"
         },
         "title": {
          "font": {
           "color": "#4D5663"
          },
          "text": ""
         },
         "type": "linear",
         "zerolinecolor": "#E1E5ED"
        },
        "xaxis3": {
         "anchor": "y3",
         "autorange": true,
         "domain": [
          0.525,
          0.7375
         ],
         "gridcolor": "#E1E5ED",
         "range": [
          -3.1666196156939574,
          3.113356970529589
         ],
         "showgrid": false,
         "tickfont": {
          "color": "#4D5663"
         },
         "title": {
          "font": {
           "color": "#4D5663"
          },
          "text": ""
         },
         "type": "linear",
         "zerolinecolor": "#E1E5ED"
        },
        "xaxis4": {
         "anchor": "y4",
         "autorange": true,
         "domain": [
          0.7875,
          1
         ],
         "gridcolor": "#E1E5ED",
         "range": [
          -2.3214495985252785,
          3.2238675448621934
         ],
         "showgrid": false,
         "tickfont": {
          "color": "#4D5663"
         },
         "title": {
          "font": {
           "color": "#4D5663"
          },
          "text": ""
         },
         "type": "linear",
         "zerolinecolor": "#E1E5ED"
        },
        "xaxis5": {
         "anchor": "y5",
         "autorange": true,
         "domain": [
          0,
          0.2125
         ],
         "gridcolor": "#E1E5ED",
         "range": [
          -2.5997839743653657,
          2.503535724762768
         ],
         "showgrid": false,
         "tickfont": {
          "color": "#4D5663"
         },
         "title": {
          "font": {
           "color": "#4D5663"
          },
          "text": ""
         },
         "type": "linear",
         "zerolinecolor": "#E1E5ED"
        },
        "xaxis6": {
         "anchor": "y6",
         "autorange": true,
         "domain": [
          0.2625,
          0.475
         ],
         "gridcolor": "#E1E5ED",
         "range": [
          -3,
          3
         ],
         "showgrid": false,
         "tickfont": {
          "color": "#4D5663"
         },
         "title": {
          "font": {
           "color": "#4D5663"
          },
          "text": ""
         },
         "type": "linear",
         "zerolinecolor": "#E1E5ED"
        },
        "xaxis7": {
         "anchor": "y7",
         "autorange": true,
         "domain": [
          0.525,
          0.7375
         ],
         "gridcolor": "#E1E5ED",
         "range": [
          -3.1666196156939574,
          3.113356970529589
         ],
         "showgrid": false,
         "tickfont": {
          "color": "#4D5663"
         },
         "title": {
          "font": {
           "color": "#4D5663"
          },
          "text": ""
         },
         "type": "linear",
         "zerolinecolor": "#E1E5ED"
        },
        "xaxis8": {
         "anchor": "y8",
         "autorange": true,
         "domain": [
          0.7875,
          1
         ],
         "gridcolor": "#E1E5ED",
         "range": [
          -2.3214495985252785,
          3.2238675448621934
         ],
         "showgrid": false,
         "tickfont": {
          "color": "#4D5663"
         },
         "title": {
          "font": {
           "color": "#4D5663"
          },
          "text": ""
         },
         "type": "linear",
         "zerolinecolor": "#E1E5ED"
        },
        "xaxis9": {
         "anchor": "y9",
         "autorange": true,
         "domain": [
          0,
          0.2125
         ],
         "gridcolor": "#E1E5ED",
         "range": [
          -2.5997839743653657,
          2.503535724762768
         ],
         "showgrid": false,
         "tickfont": {
          "color": "#4D5663"
         },
         "title": {
          "font": {
           "color": "#4D5663"
          },
          "text": ""
         },
         "type": "linear",
         "zerolinecolor": "#E1E5ED"
        },
        "yaxis": {
         "anchor": "x",
         "autorange": true,
         "domain": [
          0.8025,
          1
         ],
         "gridcolor": "#E1E5ED",
         "range": [
          0,
          21.05263157894737
         ],
         "showgrid": false,
         "tickfont": {
          "color": "#4D5663"
         },
         "title": {
          "font": {
           "color": "#4D5663"
          },
          "text": ""
         },
         "zerolinecolor": "#E1E5ED"
        },
        "yaxis10": {
         "anchor": "x10",
         "autorange": true,
         "domain": [
          0.2675,
          0.465
         ],
         "gridcolor": "#E1E5ED",
         "range": [
          -3.564561010701751,
          3.5112983655373826
         ],
         "showgrid": false,
         "tickfont": {
          "color": "#4D5663"
         },
         "title": {
          "font": {
           "color": "#4D5663"
          },
          "text": ""
         },
         "type": "linear",
         "zerolinecolor": "#E1E5ED"
        },
        "yaxis11": {
         "anchor": "x11",
         "autorange": true,
         "domain": [
          0.2675,
          0.465
         ],
         "gridcolor": "#E1E5ED",
         "range": [
          0,
          44.21052631578947
         ],
         "showgrid": false,
         "tickfont": {
          "color": "#4D5663"
         },
         "title": {
          "font": {
           "color": "#4D5663"
          },
          "text": ""
         },
         "zerolinecolor": "#E1E5ED"
        },
        "yaxis12": {
         "anchor": "x12",
         "autorange": true,
         "domain": [
          0.2675,
          0.465
         ],
         "gridcolor": "#E1E5ED",
         "range": [
          -3.564561010701751,
          3.5112983655373826
         ],
         "showgrid": false,
         "tickfont": {
          "color": "#4D5663"
         },
         "title": {
          "font": {
           "color": "#4D5663"
          },
          "text": ""
         },
         "type": "linear",
         "zerolinecolor": "#E1E5ED"
        },
        "yaxis13": {
         "anchor": "x13",
         "autorange": true,
         "domain": [
          0,
          0.1975
         ],
         "gridcolor": "#E1E5ED",
         "range": [
          -2.6728380487053527,
          3.575255995042267
         ],
         "showgrid": false,
         "tickfont": {
          "color": "#4D5663"
         },
         "title": {
          "font": {
           "color": "#4D5663"
          },
          "text": ""
         },
         "type": "linear",
         "zerolinecolor": "#E1E5ED"
        },
        "yaxis14": {
         "anchor": "x14",
         "autorange": true,
         "domain": [
          0,
          0.1975
         ],
         "gridcolor": "#E1E5ED",
         "range": [
          -2.6728380487053527,
          3.575255995042267
         ],
         "showgrid": false,
         "tickfont": {
          "color": "#4D5663"
         },
         "title": {
          "font": {
           "color": "#4D5663"
          },
          "text": ""
         },
         "type": "linear",
         "zerolinecolor": "#E1E5ED"
        },
        "yaxis15": {
         "anchor": "x15",
         "autorange": true,
         "domain": [
          0,
          0.1975
         ],
         "gridcolor": "#E1E5ED",
         "range": [
          -2.6728380487053527,
          3.575255995042267
         ],
         "showgrid": false,
         "tickfont": {
          "color": "#4D5663"
         },
         "title": {
          "font": {
           "color": "#4D5663"
          },
          "text": ""
         },
         "type": "linear",
         "zerolinecolor": "#E1E5ED"
        },
        "yaxis16": {
         "anchor": "x16",
         "autorange": true,
         "domain": [
          0,
          0.1975
         ],
         "gridcolor": "#E1E5ED",
         "range": [
          0,
          22.105263157894736
         ],
         "showgrid": false,
         "tickfont": {
          "color": "#4D5663"
         },
         "title": {
          "font": {
           "color": "#4D5663"
          },
          "text": ""
         },
         "zerolinecolor": "#E1E5ED"
        },
        "yaxis2": {
         "anchor": "x2",
         "autorange": true,
         "domain": [
          0.8025,
          1
         ],
         "gridcolor": "#E1E5ED",
         "range": [
          -2.9231645049069668,
          2.826916255304369
         ],
         "showgrid": false,
         "tickfont": {
          "color": "#4D5663"
         },
         "title": {
          "font": {
           "color": "#4D5663"
          },
          "text": ""
         },
         "type": "linear",
         "zerolinecolor": "#E1E5ED"
        },
        "yaxis3": {
         "anchor": "x3",
         "autorange": true,
         "domain": [
          0.8025,
          1
         ],
         "gridcolor": "#E1E5ED",
         "range": [
          -2.9231645049069668,
          2.826916255304369
         ],
         "showgrid": false,
         "tickfont": {
          "color": "#4D5663"
         },
         "title": {
          "font": {
           "color": "#4D5663"
          },
          "text": ""
         },
         "type": "linear",
         "zerolinecolor": "#E1E5ED"
        },
        "yaxis4": {
         "anchor": "x4",
         "autorange": true,
         "domain": [
          0.8025,
          1
         ],
         "gridcolor": "#E1E5ED",
         "range": [
          -2.9231645049069668,
          2.826916255304369
         ],
         "showgrid": false,
         "tickfont": {
          "color": "#4D5663"
         },
         "title": {
          "font": {
           "color": "#4D5663"
          },
          "text": ""
         },
         "type": "linear",
         "zerolinecolor": "#E1E5ED"
        },
        "yaxis5": {
         "anchor": "x5",
         "autorange": true,
         "domain": [
          0.535,
          0.7325
         ],
         "gridcolor": "#E1E5ED",
         "range": [
          -3.8202982481842955,
          3.2691850942889906
         ],
         "showgrid": false,
         "tickfont": {
          "color": "#4D5663"
         },
         "title": {
          "font": {
           "color": "#4D5663"
          },
          "text": ""
         },
         "type": "linear",
         "zerolinecolor": "#E1E5ED"
        },
        "yaxis6": {
         "anchor": "x6",
         "autorange": true,
         "domain": [
          0.535,
          0.7325
         ],
         "gridcolor": "#E1E5ED",
         "range": [
          0,
          32.631578947368425
         ],
         "showgrid": false,
         "tickfont": {
          "color": "#4D5663"
         },
         "title": {
          "font": {
           "color": "#4D5663"
          },
          "text": ""
         },
         "zerolinecolor": "#E1E5ED"
        },
        "yaxis7": {
         "anchor": "x7",
         "autorange": true,
         "domain": [
          0.535,
          0.7325
         ],
         "gridcolor": "#E1E5ED",
         "range": [
          -3.8202982481842955,
          3.2691850942889906
         ],
         "showgrid": false,
         "tickfont": {
          "color": "#4D5663"
         },
         "title": {
          "font": {
           "color": "#4D5663"
          },
          "text": ""
         },
         "type": "linear",
         "zerolinecolor": "#E1E5ED"
        },
        "yaxis8": {
         "anchor": "x8",
         "autorange": true,
         "domain": [
          0.535,
          0.7325
         ],
         "gridcolor": "#E1E5ED",
         "range": [
          -3.8202982481842955,
          3.2691850942889906
         ],
         "showgrid": false,
         "tickfont": {
          "color": "#4D5663"
         },
         "title": {
          "font": {
           "color": "#4D5663"
          },
          "text": ""
         },
         "type": "linear",
         "zerolinecolor": "#E1E5ED"
        },
        "yaxis9": {
         "anchor": "x9",
         "autorange": true,
         "domain": [
          0.2675,
          0.465
         ],
         "gridcolor": "#E1E5ED",
         "range": [
          -3.564561010701751,
          3.5112983655373826
         ],
         "showgrid": false,
         "tickfont": {
          "color": "#4D5663"
         },
         "title": {
          "font": {
           "color": "#4D5663"
          },
          "text": ""
         },
         "type": "linear",
         "zerolinecolor": "#E1E5ED"
        }
       }
      },
      "image/png": "[encoded data removed]",
      "text/html": [
       "<div>                            <div id=\"f9203b2b-c1b4-4870-b5f6-239904800bc6\" class=\"plotly-graph-div\" style=\"height:525px; width:100%;\"></div>            <script type=\"text/javascript\">                require([\"plotly\"], function(Plotly) {                    window.PLOTLYENV=window.PLOTLYENV || {};\n",
       "                    window.PLOTLYENV.BASE_URL='https://plot.ly';                                    if (document.getElementById(\"f9203b2b-c1b4-4870-b5f6-239904800bc6\")) {                    Plotly.newPlot(                        \"f9203b2b-c1b4-4870-b5f6-239904800bc6\",                        [{\"histfunc\":\"count\",\"histnorm\":\"\",\"marker\":{\"color\":\"rgba(255, 153, 51, 1.0)\",\"line\":{\"color\":\"#4D5663\",\"width\":1.3}},\"name\":\"A\",\"nbinsx\":10,\"opacity\":0.8,\"orientation\":\"v\",\"x\":[-1.689013611401692,-0.2620555553672706,-1.0905182782420468,-0.27552541933586294,0.9184354042241115,-0.5621818322927444,0.1940834769484241,-1.2428318810669599,1.1565639609098832,-0.7159038857835119,-1.4930413374875058,0.05438291025550391,-0.42353875642862443,-0.5348416964848348,-1.4155827777983954,-0.1849577018100514,0.7491800969806963,-1.0437095654351864,-1.1873612124573099,-0.7729780915256113,0.9496379884482529,0.9255701492107496,-0.501638433247438,-1.1783151959061486,-0.8955494409662109,1.4698531828563592,-1.1436323277550169,-1.7681377258450857,-0.2565917868314139,-0.39606902930789667,-0.5941801172680143,-0.4788818069438909,0.2506288071928819,-1.6237488851824275,-1.0305842506615535,-1.6275540773586008,-1.700152886003429,-0.372411772027708,0.9175915407031102,-1.4151591931408238,-0.8121806290435302,0.06861836826158521,-1.6119352099044117,-0.7596089449242701,-1.943278264794546,1.8498176061630773,1.175550561682719,0.4993858708120641,1.247799436365957,1.2207392162025483,1.5089596071403208,-0.6366671612876112,0.10731865339405362,2.054173334575546,0.005711412872327427,0.09639871400344464,-1.2573488641393633,0.5995204980870332,0.12312168661167397,-0.36020080076376304,0.26368325877658566,-2.1504215841781438,0.5649251993445709,-1.547372941339943,0.22834474433727533,0.806551393045147,0.14802656555688293,1.5938912289226514,-0.07223755226793076,-0.9816586144376963,-0.6525509152377631,-1.8197923548170925,-1.726313926184962,0.40558752810909987,-0.9084548194948895,0.7573284474309724,0.3202305886007857,1.0110403955293228,0.7641247132803324,-1.0494931766153843,0.4549331298008269,0.23567629090555364,-1.5990946993192952,1.1568983286804944,-0.5826571879288767,1.6841430138604359,2.025672191666682,-0.12564981184520735,0.16693373358090086,-0.2288882405142681,0.10422741050875683,0.6687521083134625,-0.43084762285217537,-1.051257481300054,-0.17197941465855776,0.7711145058102191,0.27938985909743863,-0.9022124330703055,0.20086585914909533,-0.17090597809922398],\"xaxis\":\"x\",\"yaxis\":\"y\",\"type\":\"histogram\"},{\"line\":{\"color\":\"rgba(128, 128, 128, 1.0)\",\"dash\":\"solid\",\"shape\":\"linear\",\"width\":1.3},\"marker\":{\"size\":2,\"symbol\":\"circle\"},\"mode\":\"markers\",\"name\":\"A\",\"text\":\"\",\"x\":[0.9502773190107969,0.272559636190263,-1.303101825309437,-0.09381558184786237,-0.7425319895675278,2.273858846399452,-0.0076088480932280725,1.055256682315736,0.48371263591801833,-1.2271224720190237,-0.1795973735439339,1.7263100690006208,-0.5999960394304096,0.6577097297404475,0.2013858793488651,0.21087228502570896,2.166890962505779,-0.7176365037245853,0.40286527063326677,0.908533645024215,-0.21050101484298916,-1.825832553714384,2.0975043715115915,0.3834142416861074,-1.7508999820502174,-0.1513665375010751,-1.671745096865534,-0.4022728913515091,-1.3676303716071965,-0.35084114074231604,1.3034917709001963,0.5515404381214328,2.3164422906696904,-0.20870242422817226,-1.7702561255131923,0.0205654950325439,-0.0703189491446735,1.3272322978976714,0.9185597202151164,0.3649069447133627,0.7513993430019263,0.4831934190904803,1.0069628917541271,-1.6616820260241512,-0.7108490077174401,-0.4959114783685054,0.6996972950770952,-1.5773772007368279,-1.150553485913242,1.0910272074641403,1.7003194924547553,0.8245785854839354,0.499761576040795,-1.4716913520129344,-1.2960912976668753,-0.10553209291936262,-1.851992109143555,-2.8675554445649953,-0.5578028633591723,0.3165737069580277,-0.9220963506515208,0.6337122906958443,0.30268560458542365,0.24543636395132995,-1.9019941545860948,-2.1487428642833186,-1.686182701548312,-0.774039594781683,2.2585904120016704,-0.8497090448368394,-1.3013139094581112,-0.6484716671551605,0.768852431511444,-1.9070800384087057,-0.032498105502017295,0.3205036547426345,1.1636215769870168,1.6842635415056044,0.01587583250461618,-1.0383160328028351,-0.625318310169787,0.2685185427535348,-0.42416251171391295,-2.717013022330864,-0.4259548580229847,-0.964332526482631,1.2982180675989476,0.6516125860532216,-0.17397116000633142,-0.665317923702325,-0.7246649245741666,-0.7641469483764428,-1.4694555427445888,0.7100508350291533,0.4903984699894906,1.144194691984651,-0.24328013883315086,0.6620100764590426,-0.7220685758723306,-1.184178736036595],\"xaxis\":\"x2\",\"y\":[-1.689013611401692,-0.2620555553672706,-1.0905182782420468,-0.27552541933586294,0.9184354042241115,-0.5621818322927444,0.1940834769484241,-1.2428318810669599,1.1565639609098832,-0.7159038857835119,-1.4930413374875058,0.05438291025550391,-0.42353875642862443,-0.5348416964848348,-1.4155827777983954,-0.1849577018100514,0.7491800969806963,-1.0437095654351864,-1.1873612124573099,-0.7729780915256113,0.9496379884482529,0.9255701492107496,-0.501638433247438,-1.1783151959061486,-0.8955494409662109,1.4698531828563592,-1.1436323277550169,-1.7681377258450857,-0.2565917868314139,-0.39606902930789667,-0.5941801172680143,-0.4788818069438909,0.2506288071928819,-1.6237488851824275,-1.0305842506615535,-1.6275540773586008,-1.700152886003429,-0.372411772027708,0.9175915407031102,-1.4151591931408238,-0.8121806290435302,0.06861836826158521,-1.6119352099044117,-0.7596089449242701,-1.943278264794546,1.8498176061630773,1.175550561682719,0.4993858708120641,1.247799436365957,1.2207392162025483,1.5089596071403208,-0.6366671612876112,0.10731865339405362,2.054173334575546,0.005711412872327427,0.09639871400344464,-1.2573488641393633,0.5995204980870332,0.12312168661167397,-0.36020080076376304,0.26368325877658566,-2.1504215841781438,0.5649251993445709,-1.547372941339943,0.22834474433727533,0.806551393045147,0.14802656555688293,1.5938912289226514,-0.07223755226793076,-0.9816586144376963,-0.6525509152377631,-1.8197923548170925,-1.726313926184962,0.40558752810909987,-0.9084548194948895,0.7573284474309724,0.3202305886007857,1.0110403955293228,0.7641247132803324,-1.0494931766153843,0.4549331298008269,0.23567629090555364,-1.5990946993192952,1.1568983286804944,-0.5826571879288767,1.6841430138604359,2.025672191666682,-0.12564981184520735,0.16693373358090086,-0.2288882405142681,0.10422741050875683,0.6687521083134625,-0.43084762285217537,-1.051257481300054,-0.17197941465855776,0.7711145058102191,0.27938985909743863,-0.9022124330703055,0.20086585914909533,-0.17090597809922398],\"yaxis\":\"y2\",\"type\":\"scatter\"},{\"line\":{\"color\":\"rgba(128, 128, 128, 1.0)\",\"dash\":\"solid\",\"shape\":\"linear\",\"width\":1.3},\"marker\":{\"size\":2,\"symbol\":\"circle\"},\"mode\":\"markers\",\"name\":\"A\",\"text\":\"\",\"x\":[1.0670596524816254,-0.30849062766826324,1.9944148697374593,0.14915773742989255,-0.22326632471896346,0.14783621212973516,-0.557136075262289,0.4208500801291917,1.038529240244335,-0.5836433583351291,0.02441495164410823,1.2089166064958705,-0.020760810922184812,-0.5648535667540748,-0.9011580899089295,0.08833366733331804,-0.993473639184813,-0.0962506946332271,1.1264755691841442,-0.3768311123048374,0.0898598689432183,1.2803105440393818,0.8623428880653546,-0.6574208122407675,-0.8355385250383953,-1.9974775867336272,0.8830106021213442,-0.36973487388376275,1.4659159144927045,0.42336041391720675,2.5603864620217016,-0.6880219400424132,-1.821088527601304,1.718673662801342,0.6721064326294207,-2.071482319795598,-0.0484920892275812,-1.2461394692985932,0.7489957022297827,0.5529629024974215,-2.03311310929843,0.01045803210099,0.1284306716366202,0.8308584521530431,-0.1522650587124568,-0.037680763710975465,-0.6666447203751162,-1.0467122466262393,0.0526620843553781,1.1938719912802396,0.4687287934924064,0.6190221887084402,-0.4393526339157279,-2.61364910718607,-0.06569086747521852,0.26259072784325516,-1.0217296508516522,0.3758143344672426,-0.9489799808200903,-0.27875655929918275,0.1637522499745189,-0.31929106361861104,-0.12488079300412282,-0.3982936196520458,-0.6112320236607485,-0.5953921004145888,-0.6028385860225983,-0.6664984937079161,0.6534124923453138,-0.26871990718477895,-0.6532024412579176,-1.328577102490758,0.5856460907762044,0.055458781298802065,0.004216611253562115,0.23359366955912206,1.342589059582487,-0.2656565659896192,-0.3355528217121,-0.6609428675991866,-0.6153565721218555,-1.2945403943127998,-0.24725946753637443,-0.4451124062824498,0.875178088562618,0.6811223647983086,-1.3874413592054038,-0.6818786973363528,1.4067044433323492,0.6642496916135224,-0.5795411917257935,-2.034417823679477,0.938049850338298,0.9025115753787057,-0.8921933940521692,-0.36056364335531543,0.5933685059440186,-0.8957891275190988,1.1663036979132806,0.018018137656288923],\"xaxis\":\"x3\",\"y\":[-1.689013611401692,-0.2620555553672706,-1.0905182782420468,-0.27552541933586294,0.9184354042241115,-0.5621818322927444,0.1940834769484241,-1.2428318810669599,1.1565639609098832,-0.7159038857835119,-1.4930413374875058,0.05438291025550391,-0.42353875642862443,-0.5348416964848348,-1.4155827777983954,-0.1849577018100514,0.7491800969806963,-1.0437095654351864,-1.1873612124573099,-0.7729780915256113,0.9496379884482529,0.9255701492107496,-0.501638433247438,-1.1783151959061486,-0.8955494409662109,1.4698531828563592,-1.1436323277550169,-1.7681377258450857,-0.2565917868314139,-0.39606902930789667,-0.5941801172680143,-0.4788818069438909,0.2506288071928819,-1.6237488851824275,-1.0305842506615535,-1.6275540773586008,-1.700152886003429,-0.372411772027708,0.9175915407031102,-1.4151591931408238,-0.8121806290435302,0.06861836826158521,-1.6119352099044117,-0.7596089449242701,-1.943278264794546,1.8498176061630773,1.175550561682719,0.4993858708120641,1.247799436365957,1.2207392162025483,1.5089596071403208,-0.6366671612876112,0.10731865339405362,2.054173334575546,0.005711412872327427,0.09639871400344464,-1.2573488641393633,0.5995204980870332,0.12312168661167397,-0.36020080076376304,0.26368325877658566,-2.1504215841781438,0.5649251993445709,-1.547372941339943,0.22834474433727533,0.806551393045147,0.14802656555688293,1.5938912289226514,-0.07223755226793076,-0.9816586144376963,-0.6525509152377631,-1.8197923548170925,-1.726313926184962,0.40558752810909987,-0.9084548194948895,0.7573284474309724,0.3202305886007857,1.0110403955293228,0.7641247132803324,-1.0494931766153843,0.4549331298008269,0.23567629090555364,-1.5990946993192952,1.1568983286804944,-0.5826571879288767,1.6841430138604359,2.025672191666682,-0.12564981184520735,0.16693373358090086,-0.2288882405142681,0.10422741050875683,0.6687521083134625,-0.43084762285217537,-1.051257481300054,-0.17197941465855776,0.7711145058102191,0.27938985909743863,-0.9022124330703055,0.20086585914909533,-0.17090597809922398],\"yaxis\":\"y3\",\"type\":\"scatter\"},{\"line\":{\"color\":\"rgba(128, 128, 128, 1.0)\",\"dash\":\"solid\",\"shape\":\"linear\",\"width\":1.3},\"marker\":{\"size\":2,\"symbol\":\"circle\"},\"mode\":\"markers\",\"name\":\"A\",\"text\":\"\",\"x\":[-1.8331680263704933,0.16594000677289453,0.9407809065584676,0.45351362519107635,-0.7122960862246221,-1.1540846477446114,0.03882816503439271,-1.0121067904883196,-0.28980739261944954,0.04406142266687603,-0.974027584882389,-0.10987384530309902,-0.045560084586197376,-0.9161595766624676,-0.8393392112726112,-1.5526025414070426,0.477086072684738,-0.13027939016404358,0.1216393414286856,0.4639576762788007,-0.27275894412400953,-1.7616005373770647,0.8249095855118894,-0.5328398516316064,0.9928394375801604,-0.0002649893921787394,0.4245643110011101,0.7237784712300664,-0.4184962851856109,1.5033391755793761,-0.3908071554514109,0.14614947750287421,0.3954647572143869,-0.17947229175245927,0.9967270248663036,-0.07617501330146617,-0.4148635485704284,-1.3130633196993866,2.1398755769366233,-0.7789329696823386,-0.4040872655362111,0.2816284513848978,-1.1829791338637683,0.22832289892780605,0.745714462830363,-1.3837989575532685,0.3998447518445543,-0.3959656178272657,-0.20920829279068978,0.862096596558899,-0.5130955804842601,0.6455975160658015,-0.8581979662946349,1.400223527351921,-1.4425909638877439,0.6829193577689148,0.026893903993907165,1.138675898260476,0.6237099249787496,-0.028900017807215423,-1.17730556557372,-0.6190312006454065,-0.5368543669796532,2.735585972707408,-1.1508342503961335,0.7652898887954792,-1.355544504661904,-0.11523929785241409,-0.9904843546323995,0.9763601918759133,-0.3228954974227774,0.3535850741902665,1.064897314034679,-1.005435771840754,1.9042468853240038,-0.5879586435665264,-1.225648227385583,-0.4376454864607781,-0.06807248171109306,-0.6381079440933566,0.3217214571432425,-1.2644767111128723,0.29979812840087583,-0.8614109908341414,-1.0087152282266134,0.35461193046226164,0.9030399087797852,-0.660933816552147,1.5170181504179212,-0.2420638618990673,0.5760363527720042,1.4433458260577132,1.394405932843069,-0.18557482070816925,-1.543226152308316,1.0028222362206056,1.705509565286719,0.04623972962883744,0.6327636786803752,-0.8773778151892596],\"xaxis\":\"x4\",\"y\":[-1.689013611401692,-0.2620555553672706,-1.0905182782420468,-0.27552541933586294,0.9184354042241115,-0.5621818322927444,0.1940834769484241,-1.2428318810669599,1.1565639609098832,-0.7159038857835119,-1.4930413374875058,0.05438291025550391,-0.42353875642862443,-0.5348416964848348,-1.4155827777983954,-0.1849577018100514,0.7491800969806963,-1.0437095654351864,-1.1873612124573099,-0.7729780915256113,0.9496379884482529,0.9255701492107496,-0.501638433247438,-1.1783151959061486,-0.8955494409662109,1.4698531828563592,-1.1436323277550169,-1.7681377258450857,-0.2565917868314139,-0.39606902930789667,-0.5941801172680143,-0.4788818069438909,0.2506288071928819,-1.6237488851824275,-1.0305842506615535,-1.6275540773586008,-1.700152886003429,-0.372411772027708,0.9175915407031102,-1.4151591931408238,-0.8121806290435302,0.06861836826158521,-1.6119352099044117,-0.7596089449242701,-1.943278264794546,1.8498176061630773,1.175550561682719,0.4993858708120641,1.247799436365957,1.2207392162025483,1.5089596071403208,-0.6366671612876112,0.10731865339405362,2.054173334575546,0.005711412872327427,0.09639871400344464,-1.2573488641393633,0.5995204980870332,0.12312168661167397,-0.36020080076376304,0.26368325877658566,-2.1504215841781438,0.5649251993445709,-1.547372941339943,0.22834474433727533,0.806551393045147,0.14802656555688293,1.5938912289226514,-0.07223755226793076,-0.9816586144376963,-0.6525509152377631,-1.8197923548170925,-1.726313926184962,0.40558752810909987,-0.9084548194948895,0.7573284474309724,0.3202305886007857,1.0110403955293228,0.7641247132803324,-1.0494931766153843,0.4549331298008269,0.23567629090555364,-1.5990946993192952,1.1568983286804944,-0.5826571879288767,1.6841430138604359,2.025672191666682,-0.12564981184520735,0.16693373358090086,-0.2288882405142681,0.10422741050875683,0.6687521083134625,-0.43084762285217537,-1.051257481300054,-0.17197941465855776,0.7711145058102191,0.27938985909743863,-0.9022124330703055,0.20086585914909533,-0.17090597809922398],\"yaxis\":\"y4\",\"type\":\"scatter\"},{\"line\":{\"color\":\"rgba(128, 128, 128, 1.0)\",\"dash\":\"solid\",\"shape\":\"linear\",\"width\":1.3},\"marker\":{\"size\":2,\"symbol\":\"circle\"},\"mode\":\"markers\",\"name\":\"B\",\"text\":\"\",\"x\":[-1.689013611401692,-0.2620555553672706,-1.0905182782420468,-0.27552541933586294,0.9184354042241115,-0.5621818322927444,0.1940834769484241,-1.2428318810669599,1.1565639609098832,-0.7159038857835119,-1.4930413374875058,0.05438291025550391,-0.42353875642862443,-0.5348416964848348,-1.4155827777983954,-0.1849577018100514,0.7491800969806963,-1.0437095654351864,-1.1873612124573099,-0.7729780915256113,0.9496379884482529,0.9255701492107496,-0.501638433247438,-1.1783151959061486,-0.8955494409662109,1.4698531828563592,-1.1436323277550169,-1.7681377258450857,-0.2565917868314139,-0.39606902930789667,-0.5941801172680143,-0.4788818069438909,0.2506288071928819,-1.6237488851824275,-1.0305842506615535,-1.6275540773586008,-1.700152886003429,-0.372411772027708,0.9175915407031102,-1.4151591931408238,-0.8121806290435302,0.06861836826158521,-1.6119352099044117,-0.7596089449242701,-1.943278264794546,1.8498176061630773,1.175550561682719,0.4993858708120641,1.247799436365957,1.2207392162025483,1.5089596071403208,-0.6366671612876112,0.10731865339405362,2.054173334575546,0.005711412872327427,0.09639871400344464,-1.2573488641393633,0.5995204980870332,0.12312168661167397,-0.36020080076376304,0.26368325877658566,-2.1504215841781438,0.5649251993445709,-1.547372941339943,0.22834474433727533,0.806551393045147,0.14802656555688293,1.5938912289226514,-0.07223755226793076,-0.9816586144376963,-0.6525509152377631,-1.8197923548170925,-1.726313926184962,0.40558752810909987,-0.9084548194948895,0.7573284474309724,0.3202305886007857,1.0110403955293228,0.7641247132803324,-1.0494931766153843,0.4549331298008269,0.23567629090555364,-1.5990946993192952,1.1568983286804944,-0.5826571879288767,1.6841430138604359,2.025672191666682,-0.12564981184520735,0.16693373358090086,-0.2288882405142681,0.10422741050875683,0.6687521083134625,-0.43084762285217537,-1.051257481300054,-0.17197941465855776,0.7711145058102191,0.27938985909743863,-0.9022124330703055,0.20086585914909533,-0.17090597809922398],\"xaxis\":\"x5\",\"y\":[0.9502773190107969,0.272559636190263,-1.303101825309437,-0.09381558184786237,-0.7425319895675278,2.273858846399452,-0.0076088480932280725,1.055256682315736,0.48371263591801833,-1.2271224720190237,-0.1795973735439339,1.7263100690006208,-0.5999960394304096,0.6577097297404475,0.2013858793488651,0.21087228502570896,2.166890962505779,-0.7176365037245853,0.40286527063326677,0.908533645024215,-0.21050101484298916,-1.825832553714384,2.0975043715115915,0.3834142416861074,-1.7508999820502174,-0.1513665375010751,-1.671745096865534,-0.4022728913515091,-1.3676303716071965,-0.35084114074231604,1.3034917709001963,0.5515404381214328,2.3164422906696904,-0.20870242422817226,-1.7702561255131923,0.0205654950325439,-0.0703189491446735,1.3272322978976714,0.9185597202151164,0.3649069447133627,0.7513993430019263,0.4831934190904803,1.0069628917541271,-1.6616820260241512,-0.7108490077174401,-0.4959114783685054,0.6996972950770952,-1.5773772007368279,-1.150553485913242,1.0910272074641403,1.7003194924547553,0.8245785854839354,0.499761576040795,-1.4716913520129344,-1.2960912976668753,-0.10553209291936262,-1.851992109143555,-2.8675554445649953,-0.5578028633591723,0.3165737069580277,-0.9220963506515208,0.6337122906958443,0.30268560458542365,0.24543636395132995,-1.9019941545860948,-2.1487428642833186,-1.686182701548312,-0.774039594781683,2.2585904120016704,-0.8497090448368394,-1.3013139094581112,-0.6484716671551605,0.768852431511444,-1.9070800384087057,-0.032498105502017295,0.3205036547426345,1.1636215769870168,1.6842635415056044,0.01587583250461618,-1.0383160328028351,-0.625318310169787,0.2685185427535348,-0.42416251171391295,-2.717013022330864,-0.4259548580229847,-0.964332526482631,1.2982180675989476,0.6516125860532216,-0.17397116000633142,-0.665317923702325,-0.7246649245741666,-0.7641469483764428,-1.4694555427445888,0.7100508350291533,0.4903984699894906,1.144194691984651,-0.24328013883315086,0.6620100764590426,-0.7220685758723306,-1.184178736036595],\"yaxis\":\"y5\",\"type\":\"scatter\"},{\"histfunc\":\"count\",\"histnorm\":\"\",\"marker\":{\"color\":\"rgba(55, 128, 191, 1.0)\",\"line\":{\"color\":\"#4D5663\",\"width\":1.3}},\"name\":\"B\",\"nbinsx\":10,\"opacity\":0.8,\"orientation\":\"v\",\"x\":[0.9502773190107969,0.272559636190263,-1.303101825309437,-0.09381558184786237,-0.7425319895675278,2.273858846399452,-0.0076088480932280725,1.055256682315736,0.48371263591801833,-1.2271224720190237,-0.1795973735439339,1.7263100690006208,-0.5999960394304096,0.6577097297404475,0.2013858793488651,0.21087228502570896,2.166890962505779,-0.7176365037245853,0.40286527063326677,0.908533645024215,-0.21050101484298916,-1.825832553714384,2.0975043715115915,0.3834142416861074,-1.7508999820502174,-0.1513665375010751,-1.671745096865534,-0.4022728913515091,-1.3676303716071965,-0.35084114074231604,1.3034917709001963,0.5515404381214328,2.3164422906696904,-0.20870242422817226,-1.7702561255131923,0.0205654950325439,-0.0703189491446735,1.3272322978976714,0.9185597202151164,0.3649069447133627,0.7513993430019263,0.4831934190904803,1.0069628917541271,-1.6616820260241512,-0.7108490077174401,-0.4959114783685054,0.6996972950770952,-1.5773772007368279,-1.150553485913242,1.0910272074641403,1.7003194924547553,0.8245785854839354,0.499761576040795,-1.4716913520129344,-1.2960912976668753,-0.10553209291936262,-1.851992109143555,-2.8675554445649953,-0.5578028633591723,0.3165737069580277,-0.9220963506515208,0.6337122906958443,0.30268560458542365,0.24543636395132995,-1.9019941545860948,-2.1487428642833186,-1.686182701548312,-0.774039594781683,2.2585904120016704,-0.8497090448368394,-1.3013139094581112,-0.6484716671551605,0.768852431511444,-1.9070800384087057,-0.032498105502017295,0.3205036547426345,1.1636215769870168,1.6842635415056044,0.01587583250461618,-1.0383160328028351,-0.625318310169787,0.2685185427535348,-0.42416251171391295,-2.717013022330864,-0.4259548580229847,-0.964332526482631,1.2982180675989476,0.6516125860532216,-0.17397116000633142,-0.665317923702325,-0.7246649245741666,-0.7641469483764428,-1.4694555427445888,0.7100508350291533,0.4903984699894906,1.144194691984651,-0.24328013883315086,0.6620100764590426,-0.7220685758723306,-1.184178736036595],\"xaxis\":\"x6\",\"yaxis\":\"y6\",\"type\":\"histogram\"},{\"line\":{\"color\":\"rgba(128, 128, 128, 1.0)\",\"dash\":\"solid\",\"shape\":\"linear\",\"width\":1.3},\"marker\":{\"size\":2,\"symbol\":\"circle\"},\"mode\":\"markers\",\"name\":\"B\",\"text\":\"\",\"x\":[1.0670596524816254,-0.30849062766826324,1.9944148697374593,0.14915773742989255,-0.22326632471896346,0.14783621212973516,-0.557136075262289,0.4208500801291917,1.038529240244335,-0.5836433583351291,0.02441495164410823,1.2089166064958705,-0.020760810922184812,-0.5648535667540748,-0.9011580899089295,0.08833366733331804,-0.993473639184813,-0.0962506946332271,1.1264755691841442,-0.3768311123048374,0.0898598689432183,1.2803105440393818,0.8623428880653546,-0.6574208122407675,-0.8355385250383953,-1.9974775867336272,0.8830106021213442,-0.36973487388376275,1.4659159144927045,0.42336041391720675,2.5603864620217016,-0.6880219400424132,-1.821088527601304,1.718673662801342,0.6721064326294207,-2.071482319795598,-0.0484920892275812,-1.2461394692985932,0.7489957022297827,0.5529629024974215,-2.03311310929843,0.01045803210099,0.1284306716366202,0.8308584521530431,-0.1522650587124568,-0.037680763710975465,-0.6666447203751162,-1.0467122466262393,0.0526620843553781,1.1938719912802396,0.4687287934924064,0.6190221887084402,-0.4393526339157279,-2.61364910718607,-0.06569086747521852,0.26259072784325516,-1.0217296508516522,0.3758143344672426,-0.9489799808200903,-0.27875655929918275,0.1637522499745189,-0.31929106361861104,-0.12488079300412282,-0.3982936196520458,-0.6112320236607485,-0.5953921004145888,-0.6028385860225983,-0.6664984937079161,0.6534124923453138,-0.26871990718477895,-0.6532024412579176,-1.328577102490758,0.5856460907762044,0.055458781298802065,0.004216611253562115,0.23359366955912206,1.342589059582487,-0.2656565659896192,-0.3355528217121,-0.6609428675991866,-0.6153565721218555,-1.2945403943127998,-0.24725946753637443,-0.4451124062824498,0.875178088562618,0.6811223647983086,-1.3874413592054038,-0.6818786973363528,1.4067044433323492,0.6642496916135224,-0.5795411917257935,-2.034417823679477,0.938049850338298,0.9025115753787057,-0.8921933940521692,-0.36056364335531543,0.5933685059440186,-0.8957891275190988,1.1663036979132806,0.018018137656288923],\"xaxis\":\"x7\",\"y\":[0.9502773190107969,0.272559636190263,-1.303101825309437,-0.09381558184786237,-0.7425319895675278,2.273858846399452,-0.0076088480932280725,1.055256682315736,0.48371263591801833,-1.2271224720190237,-0.1795973735439339,1.7263100690006208,-0.5999960394304096,0.6577097297404475,0.2013858793488651,0.21087228502570896,2.166890962505779,-0.7176365037245853,0.40286527063326677,0.908533645024215,-0.21050101484298916,-1.825832553714384,2.0975043715115915,0.3834142416861074,-1.7508999820502174,-0.1513665375010751,-1.671745096865534,-0.4022728913515091,-1.3676303716071965,-0.35084114074231604,1.3034917709001963,0.5515404381214328,2.3164422906696904,-0.20870242422817226,-1.7702561255131923,0.0205654950325439,-0.0703189491446735,1.3272322978976714,0.9185597202151164,0.3649069447133627,0.7513993430019263,0.4831934190904803,1.0069628917541271,-1.6616820260241512,-0.7108490077174401,-0.4959114783685054,0.6996972950770952,-1.5773772007368279,-1.150553485913242,1.0910272074641403,1.7003194924547553,0.8245785854839354,0.499761576040795,-1.4716913520129344,-1.2960912976668753,-0.10553209291936262,-1.851992109143555,-2.8675554445649953,-0.5578028633591723,0.3165737069580277,-0.9220963506515208,0.6337122906958443,0.30268560458542365,0.24543636395132995,-1.9019941545860948,-2.1487428642833186,-1.686182701548312,-0.774039594781683,2.2585904120016704,-0.8497090448368394,-1.3013139094581112,-0.6484716671551605,0.768852431511444,-1.9070800384087057,-0.032498105502017295,0.3205036547426345,1.1636215769870168,1.6842635415056044,0.01587583250461618,-1.0383160328028351,-0.625318310169787,0.2685185427535348,-0.42416251171391295,-2.717013022330864,-0.4259548580229847,-0.964332526482631,1.2982180675989476,0.6516125860532216,-0.17397116000633142,-0.665317923702325,-0.7246649245741666,-0.7641469483764428,-1.4694555427445888,0.7100508350291533,0.4903984699894906,1.144194691984651,-0.24328013883315086,0.6620100764590426,-0.7220685758723306,-1.184178736036595],\"yaxis\":\"y7\",\"type\":\"scatter\"},{\"line\":{\"color\":\"rgba(128, 128, 128, 1.0)\",\"dash\":\"solid\",\"shape\":\"linear\",\"width\":1.3},\"marker\":{\"size\":2,\"symbol\":\"circle\"},\"mode\":\"markers\",\"name\":\"B\",\"text\":\"\",\"x\":[-1.8331680263704933,0.16594000677289453,0.9407809065584676,0.45351362519107635,-0.7122960862246221,-1.1540846477446114,0.03882816503439271,-1.0121067904883196,-0.28980739261944954,0.04406142266687603,-0.974027584882389,-0.10987384530309902,-0.045560084586197376,-0.9161595766624676,-0.8393392112726112,-1.5526025414070426,0.477086072684738,-0.13027939016404358,0.1216393414286856,0.4639576762788007,-0.27275894412400953,-1.7616005373770647,0.8249095855118894,-0.5328398516316064,0.9928394375801604,-0.0002649893921787394,0.4245643110011101,0.7237784712300664,-0.4184962851856109,1.5033391755793761,-0.3908071554514109,0.14614947750287421,0.3954647572143869,-0.17947229175245927,0.9967270248663036,-0.07617501330146617,-0.4148635485704284,-1.3130633196993866,2.1398755769366233,-0.7789329696823386,-0.4040872655362111,0.2816284513848978,-1.1829791338637683,0.22832289892780605,0.745714462830363,-1.3837989575532685,0.3998447518445543,-0.3959656178272657,-0.20920829279068978,0.862096596558899,-0.5130955804842601,0.6455975160658015,-0.8581979662946349,1.400223527351921,-1.4425909638877439,0.6829193577689148,0.026893903993907165,1.138675898260476,0.6237099249787496,-0.028900017807215423,-1.17730556557372,-0.6190312006454065,-0.5368543669796532,2.735585972707408,-1.1508342503961335,0.7652898887954792,-1.355544504661904,-0.11523929785241409,-0.9904843546323995,0.9763601918759133,-0.3228954974227774,0.3535850741902665,1.064897314034679,-1.005435771840754,1.9042468853240038,-0.5879586435665264,-1.225648227385583,-0.4376454864607781,-0.06807248171109306,-0.6381079440933566,0.3217214571432425,-1.2644767111128723,0.29979812840087583,-0.8614109908341414,-1.0087152282266134,0.35461193046226164,0.9030399087797852,-0.660933816552147,1.5170181504179212,-0.2420638618990673,0.5760363527720042,1.4433458260577132,1.394405932843069,-0.18557482070816925,-1.543226152308316,1.0028222362206056,1.705509565286719,0.04623972962883744,0.6327636786803752,-0.8773778151892596],\"xaxis\":\"x8\",\"y\":[0.9502773190107969,0.272559636190263,-1.303101825309437,-0.09381558184786237,-0.7425319895675278,2.273858846399452,-0.0076088480932280725,1.055256682315736,0.48371263591801833,-1.2271224720190237,-0.1795973735439339,1.7263100690006208,-0.5999960394304096,0.6577097297404475,0.2013858793488651,0.21087228502570896,2.166890962505779,-0.7176365037245853,0.40286527063326677,0.908533645024215,-0.21050101484298916,-1.825832553714384,2.0975043715115915,0.3834142416861074,-1.7508999820502174,-0.1513665375010751,-1.671745096865534,-0.4022728913515091,-1.3676303716071965,-0.35084114074231604,1.3034917709001963,0.5515404381214328,2.3164422906696904,-0.20870242422817226,-1.7702561255131923,0.0205654950325439,-0.0703189491446735,1.3272322978976714,0.9185597202151164,0.3649069447133627,0.7513993430019263,0.4831934190904803,1.0069628917541271,-1.6616820260241512,-0.7108490077174401,-0.4959114783685054,0.6996972950770952,-1.5773772007368279,-1.150553485913242,1.0910272074641403,1.7003194924547553,0.8245785854839354,0.499761576040795,-1.4716913520129344,-1.2960912976668753,-0.10553209291936262,-1.851992109143555,-2.8675554445649953,-0.5578028633591723,0.3165737069580277,-0.9220963506515208,0.6337122906958443,0.30268560458542365,0.24543636395132995,-1.9019941545860948,-2.1487428642833186,-1.686182701548312,-0.774039594781683,2.2585904120016704,-0.8497090448368394,-1.3013139094581112,-0.6484716671551605,0.768852431511444,-1.9070800384087057,-0.032498105502017295,0.3205036547426345,1.1636215769870168,1.6842635415056044,0.01587583250461618,-1.0383160328028351,-0.625318310169787,0.2685185427535348,-0.42416251171391295,-2.717013022330864,-0.4259548580229847,-0.964332526482631,1.2982180675989476,0.6516125860532216,-0.17397116000633142,-0.665317923702325,-0.7246649245741666,-0.7641469483764428,-1.4694555427445888,0.7100508350291533,0.4903984699894906,1.144194691984651,-0.24328013883315086,0.6620100764590426,-0.7220685758723306,-1.184178736036595],\"yaxis\":\"y8\",\"type\":\"scatter\"},{\"line\":{\"color\":\"rgba(128, 128, 128, 1.0)\",\"dash\":\"solid\",\"shape\":\"linear\",\"width\":1.3},\"marker\":{\"size\":2,\"symbol\":\"circle\"},\"mode\":\"markers\",\"name\":\"C\",\"text\":\"\",\"x\":[-1.689013611401692,-0.2620555553672706,-1.0905182782420468,-0.27552541933586294,0.9184354042241115,-0.5621818322927444,0.1940834769484241,-1.2428318810669599,1.1565639609098832,-0.7159038857835119,-1.4930413374875058,0.05438291025550391,-0.42353875642862443,-0.5348416964848348,-1.4155827777983954,-0.1849577018100514,0.7491800969806963,-1.0437095654351864,-1.1873612124573099,-0.7729780915256113,0.9496379884482529,0.9255701492107496,-0.501638433247438,-1.1783151959061486,-0.8955494409662109,1.4698531828563592,-1.1436323277550169,-1.7681377258450857,-0.2565917868314139,-0.39606902930789667,-0.5941801172680143,-0.4788818069438909,0.2506288071928819,-1.6237488851824275,-1.0305842506615535,-1.6275540773586008,-1.700152886003429,-0.372411772027708,0.9175915407031102,-1.4151591931408238,-0.8121806290435302,0.06861836826158521,-1.6119352099044117,-0.7596089449242701,-1.943278264794546,1.8498176061630773,1.175550561682719,0.4993858708120641,1.247799436365957,1.2207392162025483,1.5089596071403208,-0.6366671612876112,0.10731865339405362,2.054173334575546,0.005711412872327427,0.09639871400344464,-1.2573488641393633,0.5995204980870332,0.12312168661167397,-0.36020080076376304,0.26368325877658566,-2.1504215841781438,0.5649251993445709,-1.547372941339943,0.22834474433727533,0.806551393045147,0.14802656555688293,1.5938912289226514,-0.07223755226793076,-0.9816586144376963,-0.6525509152377631,-1.8197923548170925,-1.726313926184962,0.40558752810909987,-0.9084548194948895,0.7573284474309724,0.3202305886007857,1.0110403955293228,0.7641247132803324,-1.0494931766153843,0.4549331298008269,0.23567629090555364,-1.5990946993192952,1.1568983286804944,-0.5826571879288767,1.6841430138604359,2.025672191666682,-0.12564981184520735,0.16693373358090086,-0.2288882405142681,0.10422741050875683,0.6687521083134625,-0.43084762285217537,-1.051257481300054,-0.17197941465855776,0.7711145058102191,0.27938985909743863,-0.9022124330703055,0.20086585914909533,-0.17090597809922398],\"xaxis\":\"x9\",\"y\":[1.0670596524816254,-0.30849062766826324,1.9944148697374593,0.14915773742989255,-0.22326632471896346,0.14783621212973516,-0.557136075262289,0.4208500801291917,1.038529240244335,-0.5836433583351291,0.02441495164410823,1.2089166064958705,-0.020760810922184812,-0.5648535667540748,-0.9011580899089295,0.08833366733331804,-0.993473639184813,-0.0962506946332271,1.1264755691841442,-0.3768311123048374,0.0898598689432183,1.2803105440393818,0.8623428880653546,-0.6574208122407675,-0.8355385250383953,-1.9974775867336272,0.8830106021213442,-0.36973487388376275,1.4659159144927045,0.42336041391720675,2.5603864620217016,-0.6880219400424132,-1.821088527601304,1.718673662801342,0.6721064326294207,-2.071482319795598,-0.0484920892275812,-1.2461394692985932,0.7489957022297827,0.5529629024974215,-2.03311310929843,0.01045803210099,0.1284306716366202,0.8308584521530431,-0.1522650587124568,-0.037680763710975465,-0.6666447203751162,-1.0467122466262393,0.0526620843553781,1.1938719912802396,0.4687287934924064,0.6190221887084402,-0.4393526339157279,-2.61364910718607,-0.06569086747521852,0.26259072784325516,-1.0217296508516522,0.3758143344672426,-0.9489799808200903,-0.27875655929918275,0.1637522499745189,-0.31929106361861104,-0.12488079300412282,-0.3982936196520458,-0.6112320236607485,-0.5953921004145888,-0.6028385860225983,-0.6664984937079161,0.6534124923453138,-0.26871990718477895,-0.6532024412579176,-1.328577102490758,0.5856460907762044,0.055458781298802065,0.004216611253562115,0.23359366955912206,1.342589059582487,-0.2656565659896192,-0.3355528217121,-0.6609428675991866,-0.6153565721218555,-1.2945403943127998,-0.24725946753637443,-0.4451124062824498,0.875178088562618,0.6811223647983086,-1.3874413592054038,-0.6818786973363528,1.4067044433323492,0.6642496916135224,-0.5795411917257935,-2.034417823679477,0.938049850338298,0.9025115753787057,-0.8921933940521692,-0.36056364335531543,0.5933685059440186,-0.8957891275190988,1.1663036979132806,0.018018137656288923],\"yaxis\":\"y9\",\"type\":\"scatter\"},{\"line\":{\"color\":\"rgba(128, 128, 128, 1.0)\",\"dash\":\"solid\",\"shape\":\"linear\",\"width\":1.3},\"marker\":{\"size\":2,\"symbol\":\"circle\"},\"mode\":\"markers\",\"name\":\"C\",\"text\":\"\",\"x\":[0.9502773190107969,0.272559636190263,-1.303101825309437,-0.09381558184786237,-0.7425319895675278,2.273858846399452,-0.0076088480932280725,1.055256682315736,0.48371263591801833,-1.2271224720190237,-0.1795973735439339,1.7263100690006208,-0.5999960394304096,0.6577097297404475,0.2013858793488651,0.21087228502570896,2.166890962505779,-0.7176365037245853,0.40286527063326677,0.908533645024215,-0.21050101484298916,-1.825832553714384,2.0975043715115915,0.3834142416861074,-1.7508999820502174,-0.1513665375010751,-1.671745096865534,-0.4022728913515091,-1.3676303716071965,-0.35084114074231604,1.3034917709001963,0.5515404381214328,2.3164422906696904,-0.20870242422817226,-1.7702561255131923,0.0205654950325439,-0.0703189491446735,1.3272322978976714,0.9185597202151164,0.3649069447133627,0.7513993430019263,0.4831934190904803,1.0069628917541271,-1.6616820260241512,-0.7108490077174401,-0.4959114783685054,0.6996972950770952,-1.5773772007368279,-1.150553485913242,1.0910272074641403,1.7003194924547553,0.8245785854839354,0.499761576040795,-1.4716913520129344,-1.2960912976668753,-0.10553209291936262,-1.851992109143555,-2.8675554445649953,-0.5578028633591723,0.3165737069580277,-0.9220963506515208,0.6337122906958443,0.30268560458542365,0.24543636395132995,-1.9019941545860948,-2.1487428642833186,-1.686182701548312,-0.774039594781683,2.2585904120016704,-0.8497090448368394,-1.3013139094581112,-0.6484716671551605,0.768852431511444,-1.9070800384087057,-0.032498105502017295,0.3205036547426345,1.1636215769870168,1.6842635415056044,0.01587583250461618,-1.0383160328028351,-0.625318310169787,0.2685185427535348,-0.42416251171391295,-2.717013022330864,-0.4259548580229847,-0.964332526482631,1.2982180675989476,0.6516125860532216,-0.17397116000633142,-0.665317923702325,-0.7246649245741666,-0.7641469483764428,-1.4694555427445888,0.7100508350291533,0.4903984699894906,1.144194691984651,-0.24328013883315086,0.6620100764590426,-0.7220685758723306,-1.184178736036595],\"xaxis\":\"x10\",\"y\":[1.0670596524816254,-0.30849062766826324,1.9944148697374593,0.14915773742989255,-0.22326632471896346,0.14783621212973516,-0.557136075262289,0.4208500801291917,1.038529240244335,-0.5836433583351291,0.02441495164410823,1.2089166064958705,-0.020760810922184812,-0.5648535667540748,-0.9011580899089295,0.08833366733331804,-0.993473639184813,-0.0962506946332271,1.1264755691841442,-0.3768311123048374,0.0898598689432183,1.2803105440393818,0.8623428880653546,-0.6574208122407675,-0.8355385250383953,-1.9974775867336272,0.8830106021213442,-0.36973487388376275,1.4659159144927045,0.42336041391720675,2.5603864620217016,-0.6880219400424132,-1.821088527601304,1.718673662801342,0.6721064326294207,-2.071482319795598,-0.0484920892275812,-1.2461394692985932,0.7489957022297827,0.5529629024974215,-2.03311310929843,0.01045803210099,0.1284306716366202,0.8308584521530431,-0.1522650587124568,-0.037680763710975465,-0.6666447203751162,-1.0467122466262393,0.0526620843553781,1.1938719912802396,0.4687287934924064,0.6190221887084402,-0.4393526339157279,-2.61364910718607,-0.06569086747521852,0.26259072784325516,-1.0217296508516522,0.3758143344672426,-0.9489799808200903,-0.27875655929918275,0.1637522499745189,-0.31929106361861104,-0.12488079300412282,-0.3982936196520458,-0.6112320236607485,-0.5953921004145888,-0.6028385860225983,-0.6664984937079161,0.6534124923453138,-0.26871990718477895,-0.6532024412579176,-1.328577102490758,0.5856460907762044,0.055458781298802065,0.004216611253562115,0.23359366955912206,1.342589059582487,-0.2656565659896192,-0.3355528217121,-0.6609428675991866,-0.6153565721218555,-1.2945403943127998,-0.24725946753637443,-0.4451124062824498,0.875178088562618,0.6811223647983086,-1.3874413592054038,-0.6818786973363528,1.4067044433323492,0.6642496916135224,-0.5795411917257935,-2.034417823679477,0.938049850338298,0.9025115753787057,-0.8921933940521692,-0.36056364335531543,0.5933685059440186,-0.8957891275190988,1.1663036979132806,0.018018137656288923],\"yaxis\":\"y10\",\"type\":\"scatter\"},{\"histfunc\":\"count\",\"histnorm\":\"\",\"marker\":{\"color\":\"rgba(50, 171, 96, 1.0)\",\"line\":{\"color\":\"#4D5663\",\"width\":1.3}},\"name\":\"C\",\"nbinsx\":10,\"opacity\":0.8,\"orientation\":\"v\",\"x\":[1.0670596524816254,-0.30849062766826324,1.9944148697374593,0.14915773742989255,-0.22326632471896346,0.14783621212973516,-0.557136075262289,0.4208500801291917,1.038529240244335,-0.5836433583351291,0.02441495164410823,1.2089166064958705,-0.020760810922184812,-0.5648535667540748,-0.9011580899089295,0.08833366733331804,-0.993473639184813,-0.0962506946332271,1.1264755691841442,-0.3768311123048374,0.0898598689432183,1.2803105440393818,0.8623428880653546,-0.6574208122407675,-0.8355385250383953,-1.9974775867336272,0.8830106021213442,-0.36973487388376275,1.4659159144927045,0.42336041391720675,2.5603864620217016,-0.6880219400424132,-1.821088527601304,1.718673662801342,0.6721064326294207,-2.071482319795598,-0.0484920892275812,-1.2461394692985932,0.7489957022297827,0.5529629024974215,-2.03311310929843,0.01045803210099,0.1284306716366202,0.8308584521530431,-0.1522650587124568,-0.037680763710975465,-0.6666447203751162,-1.0467122466262393,0.0526620843553781,1.1938719912802396,0.4687287934924064,0.6190221887084402,-0.4393526339157279,-2.61364910718607,-0.06569086747521852,0.26259072784325516,-1.0217296508516522,0.3758143344672426,-0.9489799808200903,-0.27875655929918275,0.1637522499745189,-0.31929106361861104,-0.12488079300412282,-0.3982936196520458,-0.6112320236607485,-0.5953921004145888,-0.6028385860225983,-0.6664984937079161,0.6534124923453138,-0.26871990718477895,-0.6532024412579176,-1.328577102490758,0.5856460907762044,0.055458781298802065,0.004216611253562115,0.23359366955912206,1.342589059582487,-0.2656565659896192,-0.3355528217121,-0.6609428675991866,-0.6153565721218555,-1.2945403943127998,-0.24725946753637443,-0.4451124062824498,0.875178088562618,0.6811223647983086,-1.3874413592054038,-0.6818786973363528,1.4067044433323492,0.6642496916135224,-0.5795411917257935,-2.034417823679477,0.938049850338298,0.9025115753787057,-0.8921933940521692,-0.36056364335531543,0.5933685059440186,-0.8957891275190988,1.1663036979132806,0.018018137656288923],\"xaxis\":\"x11\",\"yaxis\":\"y11\",\"type\":\"histogram\"},{\"line\":{\"color\":\"rgba(128, 128, 128, 1.0)\",\"dash\":\"solid\",\"shape\":\"linear\",\"width\":1.3},\"marker\":{\"size\":2,\"symbol\":\"circle\"},\"mode\":\"markers\",\"name\":\"C\",\"text\":\"\",\"x\":[-1.8331680263704933,0.16594000677289453,0.9407809065584676,0.45351362519107635,-0.7122960862246221,-1.1540846477446114,0.03882816503439271,-1.0121067904883196,-0.28980739261944954,0.04406142266687603,-0.974027584882389,-0.10987384530309902,-0.045560084586197376,-0.9161595766624676,-0.8393392112726112,-1.5526025414070426,0.477086072684738,-0.13027939016404358,0.1216393414286856,0.4639576762788007,-0.27275894412400953,-1.7616005373770647,0.8249095855118894,-0.5328398516316064,0.9928394375801604,-0.0002649893921787394,0.4245643110011101,0.7237784712300664,-0.4184962851856109,1.5033391755793761,-0.3908071554514109,0.14614947750287421,0.3954647572143869,-0.17947229175245927,0.9967270248663036,-0.07617501330146617,-0.4148635485704284,-1.3130633196993866,2.1398755769366233,-0.7789329696823386,-0.4040872655362111,0.2816284513848978,-1.1829791338637683,0.22832289892780605,0.745714462830363,-1.3837989575532685,0.3998447518445543,-0.3959656178272657,-0.20920829279068978,0.862096596558899,-0.5130955804842601,0.6455975160658015,-0.8581979662946349,1.400223527351921,-1.4425909638877439,0.6829193577689148,0.026893903993907165,1.138675898260476,0.6237099249787496,-0.028900017807215423,-1.17730556557372,-0.6190312006454065,-0.5368543669796532,2.735585972707408,-1.1508342503961335,0.7652898887954792,-1.355544504661904,-0.11523929785241409,-0.9904843546323995,0.9763601918759133,-0.3228954974227774,0.3535850741902665,1.064897314034679,-1.005435771840754,1.9042468853240038,-0.5879586435665264,-1.225648227385583,-0.4376454864607781,-0.06807248171109306,-0.6381079440933566,0.3217214571432425,-1.2644767111128723,0.29979812840087583,-0.8614109908341414,-1.0087152282266134,0.35461193046226164,0.9030399087797852,-0.660933816552147,1.5170181504179212,-0.2420638618990673,0.5760363527720042,1.4433458260577132,1.394405932843069,-0.18557482070816925,-1.543226152308316,1.0028222362206056,1.705509565286719,0.04623972962883744,0.6327636786803752,-0.8773778151892596],\"xaxis\":\"x12\",\"y\":[1.0670596524816254,-0.30849062766826324,1.9944148697374593,0.14915773742989255,-0.22326632471896346,0.14783621212973516,-0.557136075262289,0.4208500801291917,1.038529240244335,-0.5836433583351291,0.02441495164410823,1.2089166064958705,-0.020760810922184812,-0.5648535667540748,-0.9011580899089295,0.08833366733331804,-0.993473639184813,-0.0962506946332271,1.1264755691841442,-0.3768311123048374,0.0898598689432183,1.2803105440393818,0.8623428880653546,-0.6574208122407675,-0.8355385250383953,-1.9974775867336272,0.8830106021213442,-0.36973487388376275,1.4659159144927045,0.42336041391720675,2.5603864620217016,-0.6880219400424132,-1.821088527601304,1.718673662801342,0.6721064326294207,-2.071482319795598,-0.0484920892275812,-1.2461394692985932,0.7489957022297827,0.5529629024974215,-2.03311310929843,0.01045803210099,0.1284306716366202,0.8308584521530431,-0.1522650587124568,-0.037680763710975465,-0.6666447203751162,-1.0467122466262393,0.0526620843553781,1.1938719912802396,0.4687287934924064,0.6190221887084402,-0.4393526339157279,-2.61364910718607,-0.06569086747521852,0.26259072784325516,-1.0217296508516522,0.3758143344672426,-0.9489799808200903,-0.27875655929918275,0.1637522499745189,-0.31929106361861104,-0.12488079300412282,-0.3982936196520458,-0.6112320236607485,-0.5953921004145888,-0.6028385860225983,-0.6664984937079161,0.6534124923453138,-0.26871990718477895,-0.6532024412579176,-1.328577102490758,0.5856460907762044,0.055458781298802065,0.004216611253562115,0.23359366955912206,1.342589059582487,-0.2656565659896192,-0.3355528217121,-0.6609428675991866,-0.6153565721218555,-1.2945403943127998,-0.24725946753637443,-0.4451124062824498,0.875178088562618,0.6811223647983086,-1.3874413592054038,-0.6818786973363528,1.4067044433323492,0.6642496916135224,-0.5795411917257935,-2.034417823679477,0.938049850338298,0.9025115753787057,-0.8921933940521692,-0.36056364335531543,0.5933685059440186,-0.8957891275190988,1.1663036979132806,0.018018137656288923],\"yaxis\":\"y12\",\"type\":\"scatter\"},{\"line\":{\"color\":\"rgba(128, 128, 128, 1.0)\",\"dash\":\"solid\",\"shape\":\"linear\",\"width\":1.3},\"marker\":{\"size\":2,\"symbol\":\"circle\"},\"mode\":\"markers\",\"name\":\"D\",\"text\":\"\",\"x\":[-1.689013611401692,-0.2620555553672706,-1.0905182782420468,-0.27552541933586294,0.9184354042241115,-0.5621818322927444,0.1940834769484241,-1.2428318810669599,1.1565639609098832,-0.7159038857835119,-1.4930413374875058,0.05438291025550391,-0.42353875642862443,-0.5348416964848348,-1.4155827777983954,-0.1849577018100514,0.7491800969806963,-1.0437095654351864,-1.1873612124573099,-0.7729780915256113,0.9496379884482529,0.9255701492107496,-0.501638433247438,-1.1783151959061486,-0.8955494409662109,1.4698531828563592,-1.1436323277550169,-1.7681377258450857,-0.2565917868314139,-0.39606902930789667,-0.5941801172680143,-0.4788818069438909,0.2506288071928819,-1.6237488851824275,-1.0305842506615535,-1.6275540773586008,-1.700152886003429,-0.372411772027708,0.9175915407031102,-1.4151591931408238,-0.8121806290435302,0.06861836826158521,-1.6119352099044117,-0.7596089449242701,-1.943278264794546,1.8498176061630773,1.175550561682719,0.4993858708120641,1.247799436365957,1.2207392162025483,1.5089596071403208,-0.6366671612876112,0.10731865339405362,2.054173334575546,0.005711412872327427,0.09639871400344464,-1.2573488641393633,0.5995204980870332,0.12312168661167397,-0.36020080076376304,0.26368325877658566,-2.1504215841781438,0.5649251993445709,-1.547372941339943,0.22834474433727533,0.806551393045147,0.14802656555688293,1.5938912289226514,-0.07223755226793076,-0.9816586144376963,-0.6525509152377631,-1.8197923548170925,-1.726313926184962,0.40558752810909987,-0.9084548194948895,0.7573284474309724,0.3202305886007857,1.0110403955293228,0.7641247132803324,-1.0494931766153843,0.4549331298008269,0.23567629090555364,-1.5990946993192952,1.1568983286804944,-0.5826571879288767,1.6841430138604359,2.025672191666682,-0.12564981184520735,0.16693373358090086,-0.2288882405142681,0.10422741050875683,0.6687521083134625,-0.43084762285217537,-1.051257481300054,-0.17197941465855776,0.7711145058102191,0.27938985909743863,-0.9022124330703055,0.20086585914909533,-0.17090597809922398],\"xaxis\":\"x13\",\"y\":[-1.8331680263704933,0.16594000677289453,0.9407809065584676,0.45351362519107635,-0.7122960862246221,-1.1540846477446114,0.03882816503439271,-1.0121067904883196,-0.28980739261944954,0.04406142266687603,-0.974027584882389,-0.10987384530309902,-0.045560084586197376,-0.9161595766624676,-0.8393392112726112,-1.5526025414070426,0.477086072684738,-0.13027939016404358,0.1216393414286856,0.4639576762788007,-0.27275894412400953,-1.7616005373770647,0.8249095855118894,-0.5328398516316064,0.9928394375801604,-0.0002649893921787394,0.4245643110011101,0.7237784712300664,-0.4184962851856109,1.5033391755793761,-0.3908071554514109,0.14614947750287421,0.3954647572143869,-0.17947229175245927,0.9967270248663036,-0.07617501330146617,-0.4148635485704284,-1.3130633196993866,2.1398755769366233,-0.7789329696823386,-0.4040872655362111,0.2816284513848978,-1.1829791338637683,0.22832289892780605,0.745714462830363,-1.3837989575532685,0.3998447518445543,-0.3959656178272657,-0.20920829279068978,0.862096596558899,-0.5130955804842601,0.6455975160658015,-0.8581979662946349,1.400223527351921,-1.4425909638877439,0.6829193577689148,0.026893903993907165,1.138675898260476,0.6237099249787496,-0.028900017807215423,-1.17730556557372,-0.6190312006454065,-0.5368543669796532,2.735585972707408,-1.1508342503961335,0.7652898887954792,-1.355544504661904,-0.11523929785241409,-0.9904843546323995,0.9763601918759133,-0.3228954974227774,0.3535850741902665,1.064897314034679,-1.005435771840754,1.9042468853240038,-0.5879586435665264,-1.225648227385583,-0.4376454864607781,-0.06807248171109306,-0.6381079440933566,0.3217214571432425,-1.2644767111128723,0.29979812840087583,-0.8614109908341414,-1.0087152282266134,0.35461193046226164,0.9030399087797852,-0.660933816552147,1.5170181504179212,-0.2420638618990673,0.5760363527720042,1.4433458260577132,1.394405932843069,-0.18557482070816925,-1.543226152308316,1.0028222362206056,1.705509565286719,0.04623972962883744,0.6327636786803752,-0.8773778151892596],\"yaxis\":\"y13\",\"type\":\"scatter\"},{\"line\":{\"color\":\"rgba(128, 128, 128, 1.0)\",\"dash\":\"solid\",\"shape\":\"linear\",\"width\":1.3},\"marker\":{\"size\":2,\"symbol\":\"circle\"},\"mode\":\"markers\",\"name\":\"D\",\"text\":\"\",\"x\":[0.9502773190107969,0.272559636190263,-1.303101825309437,-0.09381558184786237,-0.7425319895675278,2.273858846399452,-0.0076088480932280725,1.055256682315736,0.48371263591801833,-1.2271224720190237,-0.1795973735439339,1.7263100690006208,-0.5999960394304096,0.6577097297404475,0.2013858793488651,0.21087228502570896,2.166890962505779,-0.7176365037245853,0.40286527063326677,0.908533645024215,-0.21050101484298916,-1.825832553714384,2.0975043715115915,0.3834142416861074,-1.7508999820502174,-0.1513665375010751,-1.671745096865534,-0.4022728913515091,-1.3676303716071965,-0.35084114074231604,1.3034917709001963,0.5515404381214328,2.3164422906696904,-0.20870242422817226,-1.7702561255131923,0.0205654950325439,-0.0703189491446735,1.3272322978976714,0.9185597202151164,0.3649069447133627,0.7513993430019263,0.4831934190904803,1.0069628917541271,-1.6616820260241512,-0.7108490077174401,-0.4959114783685054,0.6996972950770952,-1.5773772007368279,-1.150553485913242,1.0910272074641403,1.7003194924547553,0.8245785854839354,0.499761576040795,-1.4716913520129344,-1.2960912976668753,-0.10553209291936262,-1.851992109143555,-2.8675554445649953,-0.5578028633591723,0.3165737069580277,-0.9220963506515208,0.6337122906958443,0.30268560458542365,0.24543636395132995,-1.9019941545860948,-2.1487428642833186,-1.686182701548312,-0.774039594781683,2.2585904120016704,-0.8497090448368394,-1.3013139094581112,-0.6484716671551605,0.768852431511444,-1.9070800384087057,-0.032498105502017295,0.3205036547426345,1.1636215769870168,1.6842635415056044,0.01587583250461618,-1.0383160328028351,-0.625318310169787,0.2685185427535348,-0.42416251171391295,-2.717013022330864,-0.4259548580229847,-0.964332526482631,1.2982180675989476,0.6516125860532216,-0.17397116000633142,-0.665317923702325,-0.7246649245741666,-0.7641469483764428,-1.4694555427445888,0.7100508350291533,0.4903984699894906,1.144194691984651,-0.24328013883315086,0.6620100764590426,-0.7220685758723306,-1.184178736036595],\"xaxis\":\"x14\",\"y\":[-1.8331680263704933,0.16594000677289453,0.9407809065584676,0.45351362519107635,-0.7122960862246221,-1.1540846477446114,0.03882816503439271,-1.0121067904883196,-0.28980739261944954,0.04406142266687603,-0.974027584882389,-0.10987384530309902,-0.045560084586197376,-0.9161595766624676,-0.8393392112726112,-1.5526025414070426,0.477086072684738,-0.13027939016404358,0.1216393414286856,0.4639576762788007,-0.27275894412400953,-1.7616005373770647,0.8249095855118894,-0.5328398516316064,0.9928394375801604,-0.0002649893921787394,0.4245643110011101,0.7237784712300664,-0.4184962851856109,1.5033391755793761,-0.3908071554514109,0.14614947750287421,0.3954647572143869,-0.17947229175245927,0.9967270248663036,-0.07617501330146617,-0.4148635485704284,-1.3130633196993866,2.1398755769366233,-0.7789329696823386,-0.4040872655362111,0.2816284513848978,-1.1829791338637683,0.22832289892780605,0.745714462830363,-1.3837989575532685,0.3998447518445543,-0.3959656178272657,-0.20920829279068978,0.862096596558899,-0.5130955804842601,0.6455975160658015,-0.8581979662946349,1.400223527351921,-1.4425909638877439,0.6829193577689148,0.026893903993907165,1.138675898260476,0.6237099249787496,-0.028900017807215423,-1.17730556557372,-0.6190312006454065,-0.5368543669796532,2.735585972707408,-1.1508342503961335,0.7652898887954792,-1.355544504661904,-0.11523929785241409,-0.9904843546323995,0.9763601918759133,-0.3228954974227774,0.3535850741902665,1.064897314034679,-1.005435771840754,1.9042468853240038,-0.5879586435665264,-1.225648227385583,-0.4376454864607781,-0.06807248171109306,-0.6381079440933566,0.3217214571432425,-1.2644767111128723,0.29979812840087583,-0.8614109908341414,-1.0087152282266134,0.35461193046226164,0.9030399087797852,-0.660933816552147,1.5170181504179212,-0.2420638618990673,0.5760363527720042,1.4433458260577132,1.394405932843069,-0.18557482070816925,-1.543226152308316,1.0028222362206056,1.705509565286719,0.04623972962883744,0.6327636786803752,-0.8773778151892596],\"yaxis\":\"y14\",\"type\":\"scatter\"},{\"line\":{\"color\":\"rgba(128, 128, 128, 1.0)\",\"dash\":\"solid\",\"shape\":\"linear\",\"width\":1.3},\"marker\":{\"size\":2,\"symbol\":\"circle\"},\"mode\":\"markers\",\"name\":\"D\",\"text\":\"\",\"x\":[1.0670596524816254,-0.30849062766826324,1.9944148697374593,0.14915773742989255,-0.22326632471896346,0.14783621212973516,-0.557136075262289,0.4208500801291917,1.038529240244335,-0.5836433583351291,0.02441495164410823,1.2089166064958705,-0.020760810922184812,-0.5648535667540748,-0.9011580899089295,0.08833366733331804,-0.993473639184813,-0.0962506946332271,1.1264755691841442,-0.3768311123048374,0.0898598689432183,1.2803105440393818,0.8623428880653546,-0.6574208122407675,-0.8355385250383953,-1.9974775867336272,0.8830106021213442,-0.36973487388376275,1.4659159144927045,0.42336041391720675,2.5603864620217016,-0.6880219400424132,-1.821088527601304,1.718673662801342,0.6721064326294207,-2.071482319795598,-0.0484920892275812,-1.2461394692985932,0.7489957022297827,0.5529629024974215,-2.03311310929843,0.01045803210099,0.1284306716366202,0.8308584521530431,-0.1522650587124568,-0.037680763710975465,-0.6666447203751162,-1.0467122466262393,0.0526620843553781,1.1938719912802396,0.4687287934924064,0.6190221887084402,-0.4393526339157279,-2.61364910718607,-0.06569086747521852,0.26259072784325516,-1.0217296508516522,0.3758143344672426,-0.9489799808200903,-0.27875655929918275,0.1637522499745189,-0.31929106361861104,-0.12488079300412282,-0.3982936196520458,-0.6112320236607485,-0.5953921004145888,-0.6028385860225983,-0.6664984937079161,0.6534124923453138,-0.26871990718477895,-0.6532024412579176,-1.328577102490758,0.5856460907762044,0.055458781298802065,0.004216611253562115,0.23359366955912206,1.342589059582487,-0.2656565659896192,-0.3355528217121,-0.6609428675991866,-0.6153565721218555,-1.2945403943127998,-0.24725946753637443,-0.4451124062824498,0.875178088562618,0.6811223647983086,-1.3874413592054038,-0.6818786973363528,1.4067044433323492,0.6642496916135224,-0.5795411917257935,-2.034417823679477,0.938049850338298,0.9025115753787057,-0.8921933940521692,-0.36056364335531543,0.5933685059440186,-0.8957891275190988,1.1663036979132806,0.018018137656288923],\"xaxis\":\"x15\",\"y\":[-1.8331680263704933,0.16594000677289453,0.9407809065584676,0.45351362519107635,-0.7122960862246221,-1.1540846477446114,0.03882816503439271,-1.0121067904883196,-0.28980739261944954,0.04406142266687603,-0.974027584882389,-0.10987384530309902,-0.045560084586197376,-0.9161595766624676,-0.8393392112726112,-1.5526025414070426,0.477086072684738,-0.13027939016404358,0.1216393414286856,0.4639576762788007,-0.27275894412400953,-1.7616005373770647,0.8249095855118894,-0.5328398516316064,0.9928394375801604,-0.0002649893921787394,0.4245643110011101,0.7237784712300664,-0.4184962851856109,1.5033391755793761,-0.3908071554514109,0.14614947750287421,0.3954647572143869,-0.17947229175245927,0.9967270248663036,-0.07617501330146617,-0.4148635485704284,-1.3130633196993866,2.1398755769366233,-0.7789329696823386,-0.4040872655362111,0.2816284513848978,-1.1829791338637683,0.22832289892780605,0.745714462830363,-1.3837989575532685,0.3998447518445543,-0.3959656178272657,-0.20920829279068978,0.862096596558899,-0.5130955804842601,0.6455975160658015,-0.8581979662946349,1.400223527351921,-1.4425909638877439,0.6829193577689148,0.026893903993907165,1.138675898260476,0.6237099249787496,-0.028900017807215423,-1.17730556557372,-0.6190312006454065,-0.5368543669796532,2.735585972707408,-1.1508342503961335,0.7652898887954792,-1.355544504661904,-0.11523929785241409,-0.9904843546323995,0.9763601918759133,-0.3228954974227774,0.3535850741902665,1.064897314034679,-1.005435771840754,1.9042468853240038,-0.5879586435665264,-1.225648227385583,-0.4376454864607781,-0.06807248171109306,-0.6381079440933566,0.3217214571432425,-1.2644767111128723,0.29979812840087583,-0.8614109908341414,-1.0087152282266134,0.35461193046226164,0.9030399087797852,-0.660933816552147,1.5170181504179212,-0.2420638618990673,0.5760363527720042,1.4433458260577132,1.394405932843069,-0.18557482070816925,-1.543226152308316,1.0028222362206056,1.705509565286719,0.04623972962883744,0.6327636786803752,-0.8773778151892596],\"yaxis\":\"y15\",\"type\":\"scatter\"},{\"histfunc\":\"count\",\"histnorm\":\"\",\"marker\":{\"color\":\"rgba(128, 0, 128, 1.0)\",\"line\":{\"color\":\"#4D5663\",\"width\":1.3}},\"name\":\"D\",\"nbinsx\":10,\"opacity\":0.8,\"orientation\":\"v\",\"x\":[-1.8331680263704933,0.16594000677289453,0.9407809065584676,0.45351362519107635,-0.7122960862246221,-1.1540846477446114,0.03882816503439271,-1.0121067904883196,-0.28980739261944954,0.04406142266687603,-0.974027584882389,-0.10987384530309902,-0.045560084586197376,-0.9161595766624676,-0.8393392112726112,-1.5526025414070426,0.477086072684738,-0.13027939016404358,0.1216393414286856,0.4639576762788007,-0.27275894412400953,-1.7616005373770647,0.8249095855118894,-0.5328398516316064,0.9928394375801604,-0.0002649893921787394,0.4245643110011101,0.7237784712300664,-0.4184962851856109,1.5033391755793761,-0.3908071554514109,0.14614947750287421,0.3954647572143869,-0.17947229175245927,0.9967270248663036,-0.07617501330146617,-0.4148635485704284,-1.3130633196993866,2.1398755769366233,-0.7789329696823386,-0.4040872655362111,0.2816284513848978,-1.1829791338637683,0.22832289892780605,0.745714462830363,-1.3837989575532685,0.3998447518445543,-0.3959656178272657,-0.20920829279068978,0.862096596558899,-0.5130955804842601,0.6455975160658015,-0.8581979662946349,1.400223527351921,-1.4425909638877439,0.6829193577689148,0.026893903993907165,1.138675898260476,0.6237099249787496,-0.028900017807215423,-1.17730556557372,-0.6190312006454065,-0.5368543669796532,2.735585972707408,-1.1508342503961335,0.7652898887954792,-1.355544504661904,-0.11523929785241409,-0.9904843546323995,0.9763601918759133,-0.3228954974227774,0.3535850741902665,1.064897314034679,-1.005435771840754,1.9042468853240038,-0.5879586435665264,-1.225648227385583,-0.4376454864607781,-0.06807248171109306,-0.6381079440933566,0.3217214571432425,-1.2644767111128723,0.29979812840087583,-0.8614109908341414,-1.0087152282266134,0.35461193046226164,0.9030399087797852,-0.660933816552147,1.5170181504179212,-0.2420638618990673,0.5760363527720042,1.4433458260577132,1.394405932843069,-0.18557482070816925,-1.543226152308316,1.0028222362206056,1.705509565286719,0.04623972962883744,0.6327636786803752,-0.8773778151892596],\"xaxis\":\"x16\",\"yaxis\":\"y16\",\"type\":\"histogram\"}],                        {\"bargap\":0.02,\"legend\":{\"bgcolor\":\"#F5F6F9\",\"font\":{\"color\":\"#4D5663\"}},\"paper_bgcolor\":\"#F5F6F9\",\"plot_bgcolor\":\"#F5F6F9\",\"showlegend\":false,\"template\":{\"data\":{\"barpolar\":[{\"marker\":{\"line\":{\"color\":\"#E5ECF6\",\"width\":0.5},\"pattern\":{\"fillmode\":\"overlay\",\"size\":10,\"solidity\":0.2}},\"type\":\"barpolar\"}],\"bar\":[{\"error_x\":{\"color\":\"#2a3f5f\"},\"error_y\":{\"color\":\"#2a3f5f\"},\"marker\":{\"line\":{\"color\":\"#E5ECF6\",\"width\":0.5},\"pattern\":{\"fillmode\":\"overlay\",\"size\":10,\"solidity\":0.2}},\"type\":\"bar\"}],\"carpet\":[{\"aaxis\":{\"endlinecolor\":\"#2a3f5f\",\"gridcolor\":\"white\",\"linecolor\":\"white\",\"minorgridcolor\":\"white\",\"startlinecolor\":\"#2a3f5f\"},\"baxis\":{\"endlinecolor\":\"#2a3f5f\",\"gridcolor\":\"white\",\"linecolor\":\"white\",\"minorgridcolor\":\"white\",\"startlinecolor\":\"#2a3f5f\"},\"type\":\"carpet\"}],\"choropleth\":[{\"colorbar\":{\"outlinewidth\":0,\"ticks\":\"\"},\"type\":\"choropleth\"}],\"contourcarpet\":[{\"colorbar\":{\"outlinewidth\":0,\"ticks\":\"\"},\"type\":\"contourcarpet\"}],\"contour\":[{\"colorbar\":{\"outlinewidth\":0,\"ticks\":\"\"},\"colorscale\":[[0.0,\"#0d0887\"],[0.1111111111111111,\"#46039f\"],[0.2222222222222222,\"#7201a8\"],[0.3333333333333333,\"#9c179e\"],[0.4444444444444444,\"#bd3786\"],[0.5555555555555556,\"#d8576b\"],[0.6666666666666666,\"#ed7953\"],[0.7777777777777778,\"#fb9f3a\"],[0.8888888888888888,\"#fdca26\"],[1.0,\"#f0f921\"]],\"type\":\"contour\"}],\"heatmapgl\":[{\"colorbar\":{\"outlinewidth\":0,\"ticks\":\"\"},\"colorscale\":[[0.0,\"#0d0887\"],[0.1111111111111111,\"#46039f\"],[0.2222222222222222,\"#7201a8\"],[0.3333333333333333,\"#9c179e\"],[0.4444444444444444,\"#bd3786\"],[0.5555555555555556,\"#d8576b\"],[0.6666666666666666,\"#ed7953\"],[0.7777777777777778,\"#fb9f3a\"],[0.8888888888888888,\"#fdca26\"],[1.0,\"#f0f921\"]],\"type\":\"heatmapgl\"}],\"heatmap\":[{\"colorbar\":{\"outlinewidth\":0,\"ticks\":\"\"},\"colorscale\":[[0.0,\"#0d0887\"],[0.1111111111111111,\"#46039f\"],[0.2222222222222222,\"#7201a8\"],[0.3333333333333333,\"#9c179e\"],[0.4444444444444444,\"#bd3786\"],[0.5555555555555556,\"#d8576b\"],[0.6666666666666666,\"#ed7953\"],[0.7777777777777778,\"#fb9f3a\"],[0.8888888888888888,\"#fdca26\"],[1.0,\"#f0f921\"]],\"type\":\"heatmap\"}],\"histogram2dcontour\":[{\"colorbar\":{\"outlinewidth\":0,\"ticks\":\"\"},\"colorscale\":[[0.0,\"#0d0887\"],[0.1111111111111111,\"#46039f\"],[0.2222222222222222,\"#7201a8\"],[0.3333333333333333,\"#9c179e\"],[0.4444444444444444,\"#bd3786\"],[0.5555555555555556,\"#d8576b\"],[0.6666666666666666,\"#ed7953\"],[0.7777777777777778,\"#fb9f3a\"],[0.8888888888888888,\"#fdca26\"],[1.0,\"#f0f921\"]],\"type\":\"histogram2dcontour\"}],\"histogram2d\":[{\"colorbar\":{\"outlinewidth\":0,\"ticks\":\"\"},\"colorscale\":[[0.0,\"#0d0887\"],[0.1111111111111111,\"#46039f\"],[0.2222222222222222,\"#7201a8\"],[0.3333333333333333,\"#9c179e\"],[0.4444444444444444,\"#bd3786\"],[0.5555555555555556,\"#d8576b\"],[0.6666666666666666,\"#ed7953\"],[0.7777777777777778,\"#fb9f3a\"],[0.8888888888888888,\"#fdca26\"],[1.0,\"#f0f921\"]],\"type\":\"histogram2d\"}],\"histogram\":[{\"marker\":{\"pattern\":{\"fillmode\":\"overlay\",\"size\":10,\"solidity\":0.2}},\"type\":\"histogram\"}],\"mesh3d\":[{\"colorbar\":{\"outlinewidth\":0,\"ticks\":\"\"},\"type\":\"mesh3d\"}],\"parcoords\":[{\"line\":{\"colorbar\":{\"outlinewidth\":0,\"ticks\":\"\"}},\"type\":\"parcoords\"}],\"pie\":[{\"automargin\":true,\"type\":\"pie\"}],\"scatter3d\":[{\"line\":{\"colorbar\":{\"outlinewidth\":0,\"ticks\":\"\"}},\"marker\":{\"colorbar\":{\"outlinewidth\":0,\"ticks\":\"\"}},\"type\":\"scatter3d\"}],\"scattercarpet\":[{\"marker\":{\"colorbar\":{\"outlinewidth\":0,\"ticks\":\"\"}},\"type\":\"scattercarpet\"}],\"scattergeo\":[{\"marker\":{\"colorbar\":{\"outlinewidth\":0,\"ticks\":\"\"}},\"type\":\"scattergeo\"}],\"scattergl\":[{\"marker\":{\"colorbar\":{\"outlinewidth\":0,\"ticks\":\"\"}},\"type\":\"scattergl\"}],\"scattermapbox\":[{\"marker\":{\"colorbar\":{\"outlinewidth\":0,\"ticks\":\"\"}},\"type\":\"scattermapbox\"}],\"scatterpolargl\":[{\"marker\":{\"colorbar\":{\"outlinewidth\":0,\"ticks\":\"\"}},\"type\":\"scatterpolargl\"}],\"scatterpolar\":[{\"marker\":{\"colorbar\":{\"outlinewidth\":0,\"ticks\":\"\"}},\"type\":\"scatterpolar\"}],\"scatter\":[{\"fillpattern\":{\"fillmode\":\"overlay\",\"size\":10,\"solidity\":0.2},\"type\":\"scatter\"}],\"scatterternary\":[{\"marker\":{\"colorbar\":{\"outlinewidth\":0,\"ticks\":\"\"}},\"type\":\"scatterternary\"}],\"surface\":[{\"colorbar\":{\"outlinewidth\":0,\"ticks\":\"\"},\"colorscale\":[[0.0,\"#0d0887\"],[0.1111111111111111,\"#46039f\"],[0.2222222222222222,\"#7201a8\"],[0.3333333333333333,\"#9c179e\"],[0.4444444444444444,\"#bd3786\"],[0.5555555555555556,\"#d8576b\"],[0.6666666666666666,\"#ed7953\"],[0.7777777777777778,\"#fb9f3a\"],[0.8888888888888888,\"#fdca26\"],[1.0,\"#f0f921\"]],\"type\":\"surface\"}],\"table\":[{\"cells\":{\"fill\":{\"color\":\"#EBF0F8\"},\"line\":{\"color\":\"white\"}},\"header\":{\"fill\":{\"color\":\"#C8D4E3\"},\"line\":{\"color\":\"white\"}},\"type\":\"table\"}]},\"layout\":{\"annotationdefaults\":{\"arrowcolor\":\"#2a3f5f\",\"arrowhead\":0,\"arrowwidth\":1},\"autotypenumbers\":\"strict\",\"coloraxis\":{\"colorbar\":{\"outlinewidth\":0,\"ticks\":\"\"}},\"colorscale\":{\"diverging\":[[0,\"#8e0152\"],[0.1,\"#c51b7d\"],[0.2,\"#de77ae\"],[0.3,\"#f1b6da\"],[0.4,\"#fde0ef\"],[0.5,\"#f7f7f7\"],[0.6,\"#e6f5d0\"],[0.7,\"#b8e186\"],[0.8,\"#7fbc41\"],[0.9,\"#4d9221\"],[1,\"#276419\"]],\"sequential\":[[0.0,\"#0d0887\"],[0.1111111111111111,\"#46039f\"],[0.2222222222222222,\"#7201a8\"],[0.3333333333333333,\"#9c179e\"],[0.4444444444444444,\"#bd3786\"],[0.5555555555555556,\"#d8576b\"],[0.6666666666666666,\"#ed7953\"],[0.7777777777777778,\"#fb9f3a\"],[0.8888888888888888,\"#fdca26\"],[1.0,\"#f0f921\"]],\"sequentialminus\":[[0.0,\"#0d0887\"],[0.1111111111111111,\"#46039f\"],[0.2222222222222222,\"#7201a8\"],[0.3333333333333333,\"#9c179e\"],[0.4444444444444444,\"#bd3786\"],[0.5555555555555556,\"#d8576b\"],[0.6666666666666666,\"#ed7953\"],[0.7777777777777778,\"#fb9f3a\"],[0.8888888888888888,\"#fdca26\"],[1.0,\"#f0f921\"]]},\"colorway\":[\"#636efa\",\"#EF553B\",\"#00cc96\",\"#ab63fa\",\"#FFA15A\",\"#19d3f3\",\"#FF6692\",\"#B6E880\",\"#FF97FF\",\"#FECB52\"],\"font\":{\"color\":\"#2a3f5f\"},\"geo\":{\"bgcolor\":\"white\",\"lakecolor\":\"white\",\"landcolor\":\"#E5ECF6\",\"showlakes\":true,\"showland\":true,\"subunitcolor\":\"white\"},\"hoverlabel\":{\"align\":\"left\"},\"hovermode\":\"closest\",\"mapbox\":{\"style\":\"light\"},\"paper_bgcolor\":\"white\",\"plot_bgcolor\":\"#E5ECF6\",\"polar\":{\"angularaxis\":{\"gridcolor\":\"white\",\"linecolor\":\"white\",\"ticks\":\"\"},\"bgcolor\":\"#E5ECF6\",\"radialaxis\":{\"gridcolor\":\"white\",\"linecolor\":\"white\",\"ticks\":\"\"}},\"scene\":{\"xaxis\":{\"backgroundcolor\":\"#E5ECF6\",\"gridcolor\":\"white\",\"gridwidth\":2,\"linecolor\":\"white\",\"showbackground\":true,\"ticks\":\"\",\"zerolinecolor\":\"white\"},\"yaxis\":{\"backgroundcolor\":\"#E5ECF6\",\"gridcolor\":\"white\",\"gridwidth\":2,\"linecolor\":\"white\",\"showbackground\":true,\"ticks\":\"\",\"zerolinecolor\":\"white\"},\"zaxis\":{\"backgroundcolor\":\"#E5ECF6\",\"gridcolor\":\"white\",\"gridwidth\":2,\"linecolor\":\"white\",\"showbackground\":true,\"ticks\":\"\",\"zerolinecolor\":\"white\"}},\"shapedefaults\":{\"line\":{\"color\":\"#2a3f5f\"}},\"ternary\":{\"aaxis\":{\"gridcolor\":\"white\",\"linecolor\":\"white\",\"ticks\":\"\"},\"baxis\":{\"gridcolor\":\"white\",\"linecolor\":\"white\",\"ticks\":\"\"},\"bgcolor\":\"#E5ECF6\",\"caxis\":{\"gridcolor\":\"white\",\"linecolor\":\"white\",\"ticks\":\"\"}},\"title\":{\"x\":0.05},\"xaxis\":{\"automargin\":true,\"gridcolor\":\"white\",\"linecolor\":\"white\",\"ticks\":\"\",\"title\":{\"standoff\":15},\"zerolinecolor\":\"white\",\"zerolinewidth\":2},\"yaxis\":{\"automargin\":true,\"gridcolor\":\"white\",\"linecolor\":\"white\",\"ticks\":\"\",\"title\":{\"standoff\":15},\"zerolinecolor\":\"white\",\"zerolinewidth\":2}}},\"title\":{\"font\":{\"color\":\"#4D5663\"}},\"xaxis\":{\"anchor\":\"y\",\"domain\":[0.0,0.2125],\"gridcolor\":\"#E1E5ED\",\"showgrid\":false,\"tickfont\":{\"color\":\"#4D5663\"},\"title\":{\"font\":{\"color\":\"#4D5663\"},\"text\":\"\"},\"zerolinecolor\":\"#E1E5ED\"},\"yaxis\":{\"anchor\":\"x\",\"domain\":[0.8025,1.0],\"gridcolor\":\"#E1E5ED\",\"showgrid\":false,\"tickfont\":{\"color\":\"#4D5663\"},\"title\":{\"font\":{\"color\":\"#4D5663\"},\"text\":\"\"},\"zerolinecolor\":\"#E1E5ED\"},\"xaxis2\":{\"anchor\":\"y2\",\"domain\":[0.2625,0.475],\"gridcolor\":\"#E1E5ED\",\"showgrid\":false,\"tickfont\":{\"color\":\"#4D5663\"},\"title\":{\"font\":{\"color\":\"#4D5663\"},\"text\":\"\"},\"zerolinecolor\":\"#E1E5ED\"},\"yaxis2\":{\"anchor\":\"x2\",\"domain\":[0.8025,1.0],\"gridcolor\":\"#E1E5ED\",\"showgrid\":false,\"tickfont\":{\"color\":\"#4D5663\"},\"title\":{\"font\":{\"color\":\"#4D5663\"},\"text\":\"\"},\"zerolinecolor\":\"#E1E5ED\"},\"xaxis3\":{\"anchor\":\"y3\",\"domain\":[0.525,0.7375],\"gridcolor\":\"#E1E5ED\",\"showgrid\":false,\"tickfont\":{\"color\":\"#4D5663\"},\"title\":{\"font\":{\"color\":\"#4D5663\"},\"text\":\"\"},\"zerolinecolor\":\"#E1E5ED\"},\"yaxis3\":{\"anchor\":\"x3\",\"domain\":[0.8025,1.0],\"gridcolor\":\"#E1E5ED\",\"showgrid\":false,\"tickfont\":{\"color\":\"#4D5663\"},\"title\":{\"font\":{\"color\":\"#4D5663\"},\"text\":\"\"},\"zerolinecolor\":\"#E1E5ED\"},\"xaxis4\":{\"anchor\":\"y4\",\"domain\":[0.7875,1.0],\"gridcolor\":\"#E1E5ED\",\"showgrid\":false,\"tickfont\":{\"color\":\"#4D5663\"},\"title\":{\"font\":{\"color\":\"#4D5663\"},\"text\":\"\"},\"zerolinecolor\":\"#E1E5ED\"},\"yaxis4\":{\"anchor\":\"x4\",\"domain\":[0.8025,1.0],\"gridcolor\":\"#E1E5ED\",\"showgrid\":false,\"tickfont\":{\"color\":\"#4D5663\"},\"title\":{\"font\":{\"color\":\"#4D5663\"},\"text\":\"\"},\"zerolinecolor\":\"#E1E5ED\"},\"xaxis5\":{\"anchor\":\"y5\",\"domain\":[0.0,0.2125],\"gridcolor\":\"#E1E5ED\",\"showgrid\":false,\"tickfont\":{\"color\":\"#4D5663\"},\"title\":{\"font\":{\"color\":\"#4D5663\"},\"text\":\"\"},\"zerolinecolor\":\"#E1E5ED\"},\"yaxis5\":{\"anchor\":\"x5\",\"domain\":[0.535,0.7325],\"gridcolor\":\"#E1E5ED\",\"showgrid\":false,\"tickfont\":{\"color\":\"#4D5663\"},\"title\":{\"font\":{\"color\":\"#4D5663\"},\"text\":\"\"},\"zerolinecolor\":\"#E1E5ED\"},\"xaxis6\":{\"anchor\":\"y6\",\"domain\":[0.2625,0.475],\"gridcolor\":\"#E1E5ED\",\"showgrid\":false,\"tickfont\":{\"color\":\"#4D5663\"},\"title\":{\"font\":{\"color\":\"#4D5663\"},\"text\":\"\"},\"zerolinecolor\":\"#E1E5ED\"},\"yaxis6\":{\"anchor\":\"x6\",\"domain\":[0.535,0.7325],\"gridcolor\":\"#E1E5ED\",\"showgrid\":false,\"tickfont\":{\"color\":\"#4D5663\"},\"title\":{\"font\":{\"color\":\"#4D5663\"},\"text\":\"\"},\"zerolinecolor\":\"#E1E5ED\"},\"xaxis7\":{\"anchor\":\"y7\",\"domain\":[0.525,0.7375],\"gridcolor\":\"#E1E5ED\",\"showgrid\":false,\"tickfont\":{\"color\":\"#4D5663\"},\"title\":{\"font\":{\"color\":\"#4D5663\"},\"text\":\"\"},\"zerolinecolor\":\"#E1E5ED\"},\"yaxis7\":{\"anchor\":\"x7\",\"domain\":[0.535,0.7325],\"gridcolor\":\"#E1E5ED\",\"showgrid\":false,\"tickfont\":{\"color\":\"#4D5663\"},\"title\":{\"font\":{\"color\":\"#4D5663\"},\"text\":\"\"},\"zerolinecolor\":\"#E1E5ED\"},\"xaxis8\":{\"anchor\":\"y8\",\"domain\":[0.7875,1.0],\"gridcolor\":\"#E1E5ED\",\"showgrid\":false,\"tickfont\":{\"color\":\"#4D5663\"},\"title\":{\"font\":{\"color\":\"#4D5663\"},\"text\":\"\"},\"zerolinecolor\":\"#E1E5ED\"},\"yaxis8\":{\"anchor\":\"x8\",\"domain\":[0.535,0.7325],\"gridcolor\":\"#E1E5ED\",\"showgrid\":false,\"tickfont\":{\"color\":\"#4D5663\"},\"title\":{\"font\":{\"color\":\"#4D5663\"},\"text\":\"\"},\"zerolinecolor\":\"#E1E5ED\"},\"xaxis9\":{\"anchor\":\"y9\",\"domain\":[0.0,0.2125],\"gridcolor\":\"#E1E5ED\",\"showgrid\":false,\"tickfont\":{\"color\":\"#4D5663\"},\"title\":{\"font\":{\"color\":\"#4D5663\"},\"text\":\"\"},\"zerolinecolor\":\"#E1E5ED\"},\"yaxis9\":{\"anchor\":\"x9\",\"domain\":[0.2675,0.465],\"gridcolor\":\"#E1E5ED\",\"showgrid\":false,\"tickfont\":{\"color\":\"#4D5663\"},\"title\":{\"font\":{\"color\":\"#4D5663\"},\"text\":\"\"},\"zerolinecolor\":\"#E1E5ED\"},\"xaxis10\":{\"anchor\":\"y10\",\"domain\":[0.2625,0.475],\"gridcolor\":\"#E1E5ED\",\"showgrid\":false,\"tickfont\":{\"color\":\"#4D5663\"},\"title\":{\"font\":{\"color\":\"#4D5663\"},\"text\":\"\"},\"zerolinecolor\":\"#E1E5ED\"},\"yaxis10\":{\"anchor\":\"x10\",\"domain\":[0.2675,0.465],\"gridcolor\":\"#E1E5ED\",\"showgrid\":false,\"tickfont\":{\"color\":\"#4D5663\"},\"title\":{\"font\":{\"color\":\"#4D5663\"},\"text\":\"\"},\"zerolinecolor\":\"#E1E5ED\"},\"xaxis11\":{\"anchor\":\"y11\",\"domain\":[0.525,0.7375],\"gridcolor\":\"#E1E5ED\",\"showgrid\":false,\"tickfont\":{\"color\":\"#4D5663\"},\"title\":{\"font\":{\"color\":\"#4D5663\"},\"text\":\"\"},\"zerolinecolor\":\"#E1E5ED\"},\"yaxis11\":{\"anchor\":\"x11\",\"domain\":[0.2675,0.465],\"gridcolor\":\"#E1E5ED\",\"showgrid\":false,\"tickfont\":{\"color\":\"#4D5663\"},\"title\":{\"font\":{\"color\":\"#4D5663\"},\"text\":\"\"},\"zerolinecolor\":\"#E1E5ED\"},\"xaxis12\":{\"anchor\":\"y12\",\"domain\":[0.7875,1.0],\"gridcolor\":\"#E1E5ED\",\"showgrid\":false,\"tickfont\":{\"color\":\"#4D5663\"},\"title\":{\"font\":{\"color\":\"#4D5663\"},\"text\":\"\"},\"zerolinecolor\":\"#E1E5ED\"},\"yaxis12\":{\"anchor\":\"x12\",\"domain\":[0.2675,0.465],\"gridcolor\":\"#E1E5ED\",\"showgrid\":false,\"tickfont\":{\"color\":\"#4D5663\"},\"title\":{\"font\":{\"color\":\"#4D5663\"},\"text\":\"\"},\"zerolinecolor\":\"#E1E5ED\"},\"xaxis13\":{\"anchor\":\"y13\",\"domain\":[0.0,0.2125],\"gridcolor\":\"#E1E5ED\",\"showgrid\":false,\"tickfont\":{\"color\":\"#4D5663\"},\"title\":{\"font\":{\"color\":\"#4D5663\"},\"text\":\"\"},\"zerolinecolor\":\"#E1E5ED\"},\"yaxis13\":{\"anchor\":\"x13\",\"domain\":[0.0,0.1975],\"gridcolor\":\"#E1E5ED\",\"showgrid\":false,\"tickfont\":{\"color\":\"#4D5663\"},\"title\":{\"font\":{\"color\":\"#4D5663\"},\"text\":\"\"},\"zerolinecolor\":\"#E1E5ED\"},\"xaxis14\":{\"anchor\":\"y14\",\"domain\":[0.2625,0.475],\"gridcolor\":\"#E1E5ED\",\"showgrid\":false,\"tickfont\":{\"color\":\"#4D5663\"},\"title\":{\"font\":{\"color\":\"#4D5663\"},\"text\":\"\"},\"zerolinecolor\":\"#E1E5ED\"},\"yaxis14\":{\"anchor\":\"x14\",\"domain\":[0.0,0.1975],\"gridcolor\":\"#E1E5ED\",\"showgrid\":false,\"tickfont\":{\"color\":\"#4D5663\"},\"title\":{\"font\":{\"color\":\"#4D5663\"},\"text\":\"\"},\"zerolinecolor\":\"#E1E5ED\"},\"xaxis15\":{\"anchor\":\"y15\",\"domain\":[0.525,0.7375],\"gridcolor\":\"#E1E5ED\",\"showgrid\":false,\"tickfont\":{\"color\":\"#4D5663\"},\"title\":{\"font\":{\"color\":\"#4D5663\"},\"text\":\"\"},\"zerolinecolor\":\"#E1E5ED\"},\"yaxis15\":{\"anchor\":\"x15\",\"domain\":[0.0,0.1975],\"gridcolor\":\"#E1E5ED\",\"showgrid\":false,\"tickfont\":{\"color\":\"#4D5663\"},\"title\":{\"font\":{\"color\":\"#4D5663\"},\"text\":\"\"},\"zerolinecolor\":\"#E1E5ED\"},\"xaxis16\":{\"anchor\":\"y16\",\"domain\":[0.7875,1.0],\"gridcolor\":\"#E1E5ED\",\"showgrid\":false,\"tickfont\":{\"color\":\"#4D5663\"},\"title\":{\"font\":{\"color\":\"#4D5663\"},\"text\":\"\"},\"zerolinecolor\":\"#E1E5ED\"},\"yaxis16\":{\"anchor\":\"x16\",\"domain\":[0.0,0.1975],\"gridcolor\":\"#E1E5ED\",\"showgrid\":false,\"tickfont\":{\"color\":\"#4D5663\"},\"title\":{\"font\":{\"color\":\"#4D5663\"},\"text\":\"\"},\"zerolinecolor\":\"#E1E5ED\"}},                        {\"showLink\": true, \"linkText\": \"Export to plot.ly\", \"plotlyServerURL\": \"https://plot.ly\", \"responsive\": true}                    ).then(function(){\n",
       "                            \n",
       "var gd = document.getElementById('f9203b2b-c1b4-4870-b5f6-239904800bc6');\n",
       "var x = new MutationObserver(function (mutations, observer) {{\n",
       "        var display = window.getComputedStyle(gd).display;\n",
       "        if (!display || display === 'none') {{\n",
       "            console.log([gd, 'removed!']);\n",
       "            Plotly.purge(gd);\n",
       "            observer.disconnect();\n",
       "        }}\n",
       "}});\n",
       "\n",
       "// Listen for the removal of the full notebook cells\n",
       "var notebookContainer = gd.closest('#notebook-container');\n",
       "if (notebookContainer) {{\n",
       "    x.observe(notebookContainer, {childList: true});\n",
       "}}\n",
       "\n",
       "// Listen for the clearing of the current output cell\n",
       "var outputEl = gd.closest('.output');\n",
       "if (outputEl) {{\n",
       "    x.observe(outputEl, {childList: true});\n",
       "}}\n",
       "\n",
       "                        })                };                });            </script>        </div>"
      ]
     },
     "metadata": {},
     "output_type": "display_data"
    }
   ],
   "source": [
    "df.scatter_matrix()"
   ]
  }
 ],
 "metadata": {
  "kernelspec": {
   "display_name": "Python 3 (ipykernel)",
   "language": "python",
   "name": "python3"
  },
  "language_info": {
   "codemirror_mode": {
    "name": "ipython",
    "version": 3
   },
   "file_extension": ".py",
   "mimetype": "text/x-python",
   "name": "python",
   "nbconvert_exporter": "python",
   "pygments_lexer": "ipython3",
   "version": "3.11.4"
  }
 },
 "nbformat": 4,
 "nbformat_minor": 5
}
